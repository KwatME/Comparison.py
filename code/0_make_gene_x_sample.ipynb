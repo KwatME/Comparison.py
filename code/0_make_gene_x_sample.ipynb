{
 "cells": [
  {
   "cell_type": "code",
   "execution_count": null,
   "metadata": {
    "ExecuteTime": {
     "end_time": "2018-07-09T07:10:38.299421Z",
     "start_time": "2018-07-09T07:10:38.287916Z"
    }
   },
   "outputs": [],
   "source": [
    "%load_ext autoreload\n",
    "%autoreload 2"
   ]
  },
  {
   "cell_type": "code",
   "execution_count": null,
   "metadata": {
    "ExecuteTime": {
     "end_time": "2018-07-09T07:10:40.092195Z",
     "start_time": "2018-07-09T07:10:38.300973Z"
    }
   },
   "outputs": [],
   "source": [
    "from environment import *\n",
    "from setting import *"
   ]
  },
  {
   "cell_type": "code",
   "execution_count": null,
   "metadata": {},
   "outputs": [],
   "source": [
    "def get_sample_id_from_fastq_input(fastq_input):\n",
    "\n",
    "    if isinstance(fastq_input, str):\n",
    "\n",
    "        sample_id = fastq_input.split(sep=\"/\")[-1]\n",
    "\n",
    "    else:\n",
    "\n",
    "        sample_id = os.path.commonprefix(\n",
    "            (fastq_input[0].split(sep=\"/\")[-1], fastq_input[1].split(sep=\"/\")[-1])\n",
    "        )\n",
    "\n",
    "    return sample_id.strip(\"_.\")"
   ]
  },
  {
   "cell_type": "code",
   "execution_count": null,
   "metadata": {
    "ExecuteTime": {
     "end_time": "2018-07-09T07:10:42.984713Z",
     "start_time": "2018-07-09T07:10:40.165710Z"
    }
   },
   "outputs": [],
   "source": [
    "for fastq_input in FASTQ_INPUTS:\n",
    "\n",
    "    sample_id = get_sample_id_from_fastq_input(fastq_input)\n",
    "\n",
    "    ccal.count_transcripts_using_kallisto_quant(\n",
    "        fastq_input,\n",
    "        REFERENCE_CDNA_FASTA_FILE_PATH,\n",
    "        \"{}/{}\".format(PATH_DICT[\"kallisto_directory_path\"], sample_id),\n",
    "        n_job=N_JOB,\n",
    "    )"
   ]
  },
  {
   "cell_type": "code",
   "execution_count": null,
   "metadata": {},
   "outputs": [],
   "source": [
    "tpms = []\n",
    "\n",
    "for fastq_input in FASTQ_INPUTS:\n",
    "\n",
    "    sample_id = get_sample_id_from_fastq_input(fastq_input)\n",
    "\n",
    "    tpm = pd.read_table(\n",
    "        \"{}/{}/abundance.tsv\".format(PATH_DICT[\"kallisto_directory_path\"], sample_id),\n",
    "        index_col=0,\n",
    "    )[\"tpm\"]\n",
    "\n",
    "    tpm.name = sample_id\n",
    "\n",
    "    tpms.append(tpm)\n",
    "\n",
    "enst_x_sample = pd.concat(tpms, axis=1)\n",
    "\n",
    "assert not enst_x_sample.index.has_duplicates\n",
    "\n",
    "enst_x_sample.index.name = \"ENST\"\n",
    "\n",
    "assert not enst_x_sample.columns.has_duplicates\n",
    "\n",
    "enst_x_sample.columns.name = \"Sample\"\n",
    "\n",
    "enst_x_sample"
   ]
  },
  {
   "cell_type": "code",
   "execution_count": null,
   "metadata": {},
   "outputs": [],
   "source": [
    "if os.path.isfile(PATH_DICT[\"sample_id_sample_name_file_path\"]):\n",
    "\n",
    "    enst_x_sample.columns = enst_x_sample.columns.map(\n",
    "        pd.read_table(\n",
    "            PATH_DICT[\"sample_id_sample_name_file_path\"], index_col=0, squeeze=True\n",
    "        )\n",
    "    )\n",
    "\n",
    "enst_x_sample.to_csv(\"../output/enst_x_sample.tsv\", sep=\"\\t\")\n",
    "\n",
    "enst_x_sample"
   ]
  },
  {
   "cell_type": "code",
   "execution_count": null,
   "metadata": {
    "ExecuteTime": {
     "end_time": "2018-07-09T07:10:43.505155Z",
     "start_time": "2018-07-09T07:10:42.986606Z"
    }
   },
   "outputs": [],
   "source": [
    "gene_x_sample = enst_x_sample.copy()\n",
    "\n",
    "enst_gene_name = pd.read_table(PATH_DICT[\"enst_gene_name_file_path\"])\n",
    "\n",
    "gene_x_sample.index = enst_x_sample.index.map(\n",
    "    dict(\n",
    "        zip(\n",
    "            enst_gene_name[\"Transcript stable ID version\"],\n",
    "            enst_gene_name[\"Gene name\"].str.upper(),\n",
    "        )\n",
    "    )\n",
    ")\n",
    "\n",
    "gene_x_sample = gene_x_sample.loc[~gene_x_sample.index.isna()]\n",
    "\n",
    "gene_x_sample.sort_index(inplace=True)\n",
    "\n",
    "gene_x_sample.index.name = \"Gene\"\n",
    "\n",
    "gene_x_sample"
   ]
  },
  {
   "cell_type": "code",
   "execution_count": null,
   "metadata": {
    "ExecuteTime": {
     "end_time": "2018-07-09T07:10:43.505155Z",
     "start_time": "2018-07-09T07:10:42.986606Z"
    }
   },
   "outputs": [],
   "source": [
    "gene_x_sample__max = gene_x_sample.groupby(level=0).max()\n",
    "\n",
    "gene_x_sample__max"
   ]
  },
  {
   "cell_type": "code",
   "execution_count": null,
   "metadata": {},
   "outputs": [],
   "source": [
    "gene_x_sample__processed = ccal.read_and_process_feature_x_sample(\n",
    "    gene_x_sample__max,\n",
    "    nanize=0,\n",
    "    drop_na_axis=1,\n",
    "    # max_na=0,\n",
    "    min_n_not_na_unique_value=1,\n",
    "    log_base=\"2\",\n",
    "    plot=False,\n",
    ")\n",
    "\n",
    "gene_x_sample__processed.to_csv(PATH_DICT[\"gene_x_sample_file_path\"], sep=\"\\t\")\n",
    "\n",
    "column_values = tuple(\n",
    "    gene_x_sample__processed.iloc[:, i]\n",
    "    for i in range(gene_x_sample__processed.shape[1])\n",
    ")\n",
    "\n",
    "colors = ccal.plot.plot.style.COLOR_CATEGORICAL\n",
    "\n",
    "if len(colors) < len(column_values):\n",
    "\n",
    "    colors = tuple(ccal.make_random_color(\"hex\") for i in range(len(column_values)))\n",
    "\n",
    "ccal.plot_distributions(\n",
    "    column_values,\n",
    "    names=gene_x_sample__processed.columns,\n",
    "    colors=colors,\n",
    "    plot_rug=False,\n",
    "    title=\"Column Value Distribution\",\n",
    "    xaxis_title=\"Column Value\",\n",
    ")\n",
    "\n",
    "gene_x_sample__processed"
   ]
  }
 ],
 "metadata": {
  "kernelspec": {
   "display_name": "Python 3",
   "language": "python",
   "name": "python3"
  },
  "language_info": {
   "codemirror_mode": {
    "name": "ipython",
    "version": 3
   },
   "file_extension": ".py",
   "mimetype": "text/x-python",
   "name": "python",
   "nbconvert_exporter": "python",
   "pygments_lexer": "ipython3",
   "version": "3.6.6"
  }
 },
 "nbformat": 4,
 "nbformat_minor": 2
}
