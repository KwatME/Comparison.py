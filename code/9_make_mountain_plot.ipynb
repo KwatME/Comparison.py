{
 "cells": [
  {
   "cell_type": "code",
   "execution_count": null,
   "metadata": {},
   "outputs": [],
   "source": [
    "%load_ext autoreload\n",
    "%autoreload 2"
   ]
  },
  {
   "cell_type": "code",
   "execution_count": null,
   "metadata": {},
   "outputs": [],
   "source": [
    "from environment import *\n",
    "\n",
    "with open(\"setting.yaml\") as yaml_file:\n",
    "\n",
    "    SETTING = yaml.load(yaml_file)\n",
    "\n",
    "PATH = make_path_dict(SETTING)"
   ]
  },
  {
   "cell_type": "code",
   "execution_count": null,
   "metadata": {},
   "outputs": [],
   "source": [
    "gene_x_sample = pd.read_csv(PATH[\"gene_x_sample_file_path\"], sep=\"\\t\", index_col=0)\n",
    "\n",
    "target_x_sample = pd.read_csv(PATH[\"target_x_sample_file_path\"], sep=\"\\t\", index_col=0)\n",
    "\n",
    "gmt = ccal.read_gmts(PATH[\"gene_set_file_paths\"])"
   ]
  },
  {
   "cell_type": "code",
   "execution_count": null,
   "metadata": {},
   "outputs": [],
   "source": [
    "for target_name, target_values in target_x_sample.iterrows():\n",
    "\n",
    "    output_directory_path = \"../output/mountain_plot/{}\".format(target_name)\n",
    "\n",
    "    ccal.establish_path(output_directory_path, \"directory\")\n",
    "\n",
    "    score_moe_p_value_fdr = pd.read_csv(\n",
    "        \"{}/{}/all.tsv\".format(\n",
    "            PATH[\"differentially_expressed_gene_directory_path\"], target_name\n",
    "        ),\n",
    "        sep=\"\\t\",\n",
    "        index_col=0,\n",
    "    )\n",
    "\n",
    "    gene_score = score_moe_p_value_fdr[\"Score\"]\n",
    "\n",
    "    gene_score = (gene_score - gene_score.mean()) / gene_score.std()\n",
    "\n",
    "    for gene_set_name in SETTING[\"gene_set_to_peek\"]:\n",
    "\n",
    "        score = ccal.single_sample_gsea(\n",
    "            gene_score,\n",
    "            gmt.loc[gene_set_name],\n",
    "            statistic=\"auc\",\n",
    "            title=\"{}: {}\".format(target_name, gene_set_name),\n",
    "            gene_score_name=\"Gene Score\",\n",
    "            html_file_path=\"{}/{}.html\".format(output_directory_path, gene_set_name),\n",
    "        )"
   ]
  }
 ],
 "metadata": {
  "kernelspec": {
   "display_name": "Python 3",
   "language": "python",
   "name": "python3"
  },
  "language_info": {
   "codemirror_mode": {
    "name": "ipython",
    "version": 3
   },
   "file_extension": ".py",
   "mimetype": "text/x-python",
   "name": "python",
   "nbconvert_exporter": "python",
   "pygments_lexer": "ipython3",
   "version": "3.6.7"
  }
 },
 "nbformat": 4,
 "nbformat_minor": 2
}
