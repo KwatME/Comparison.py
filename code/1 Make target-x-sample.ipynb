{
 "cells": [
  {
   "cell_type": "code",
   "execution_count": null,
   "metadata": {},
   "outputs": [],
   "source": [
    "%load_ext autoreload\n",
    "\n",
    "%autoreload 2"
   ]
  },
  {
   "cell_type": "code",
   "execution_count": null,
   "metadata": {},
   "outputs": [],
   "source": [
    "from environment import *\n",
    "\n",
    "from setting import *"
   ]
  },
  {
   "cell_type": "code",
   "execution_count": null,
   "metadata": {},
   "outputs": [],
   "source": [
    "gene_x_sample = pd.read_table(\n",
    "    '../output/gene_x_sample__processed.tsv',\n",
    "    index_col=0,\n",
    ")"
   ]
  },
  {
   "cell_type": "code",
   "execution_count": null,
   "metadata": {},
   "outputs": [],
   "source": [
    "target_x_sample = pd.DataFrame(\n",
    "    columns=gene_x_sample.columns,\n",
    ")\n",
    "\n",
    "target_x_sample.index.name = 'Target'\n",
    "\n",
    "target_x_sample.columns.name = 'Sample'\n",
    "\n",
    "target_x_sample.loc['Control vs Treated'] = (0, ) * 3 + (1, ) * 3\n",
    "\n",
    "target_x_sample.to_csv(\n",
    "    '../output/target_x_sample.tsv',\n",
    "    sep='\\t'\n",
    ")\n",
    "\n",
    "target_x_sample"
   ]
  }
 ],
 "metadata": {
  "kernelspec": {
   "display_name": "Python 3",
   "language": "python",
   "name": "python3"
  },
  "language_info": {
   "codemirror_mode": {
    "name": "ipython",
    "version": 3
   },
   "file_extension": ".py",
   "mimetype": "text/x-python",
   "name": "python",
   "nbconvert_exporter": "python",
   "pygments_lexer": "ipython3",
   "version": "3.6.6"
  }
 },
 "nbformat": 4,
 "nbformat_minor": 2
}
