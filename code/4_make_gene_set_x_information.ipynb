{
 "cells": [
  {
   "cell_type": "code",
   "execution_count": null,
   "metadata": {},
   "outputs": [],
   "source": [
    "%load_ext autoreload\n",
    "%autoreload 2"
   ]
  },
  {
   "cell_type": "code",
   "execution_count": null,
   "metadata": {},
   "outputs": [],
   "source": [
    "from environment import *\n",
    "\n",
    "with open(\"setting.yaml\") as yaml_file:\n",
    "\n",
    "    SETTING = yaml.load(yaml_file)\n",
    "\n",
    "PATH = make_path_dict(SETTING)"
   ]
  },
  {
   "cell_type": "code",
   "execution_count": null,
   "metadata": {},
   "outputs": [],
   "source": [
    "gene_x_sample = pd.read_csv(PATH[\"gene_x_sample.tsv\"], sep=\"\\t\", index_col=0)\n",
    "\n",
    "gene_sets = ccal.read_gmts(SETTING[\"gene_set_file_paths\"])"
   ]
  },
  {
   "cell_type": "code",
   "execution_count": null,
   "metadata": {},
   "outputs": [],
   "source": [
    "gene_set_x_information = pd.DataFrame(index=gene_sets.index)\n",
    "\n",
    "gene_set_x_information[\"Size\"] = gene_sets.apply(\n",
    "    lambda gene_set_genes: gene_set_genes.dropna().size, axis=1\n",
    ")\n",
    "\n",
    "gene_set_x_information[\"N\"] = gene_sets.apply(\n",
    "    lambda gene_set_genes: sum(\n",
    "        gene_set_gene in gene_x_sample.index for gene_set_gene in gene_set_genes\n",
    "    ),\n",
    "    axis=1,\n",
    ")\n",
    "\n",
    "gene_set_x_information[\"Fraction\"] = (\n",
    "    gene_set_x_information[\"N\"] / gene_set_x_information[\"Size\"]\n",
    ")\n",
    "\n",
    "selected_gene_sets = ccal.select_series_indices(\n",
    "    gene_set_x_information[\"N\"],\n",
    "    \">\",\n",
    "    threshold=SETTING[\"gene_set_minimum_n\"],\n",
    "    title=dict(text=\"Gene Sets Ranked by the Number of Genes in the Data\"),\n",
    "    xaxis=dict(title=\"Rank\"),\n",
    "    yaxis=dict(title=\"N\"),\n",
    ") & ccal.select_series_indices(\n",
    "    gene_set_x_information[\"Fraction\"],\n",
    "    \">\",\n",
    "    threshold=SETTING[\"gene_set_minimum_fraction\"],\n",
    "    title=dict(text=\"Gene Sets Ranked by the Fraction of Genes in the Data\"),\n",
    "    xaxis=dict(title=\"Rank\"),\n",
    "    yaxis=dict(title=\"Fraction\"),\n",
    ")\n",
    "\n",
    "print(selected_gene_sets.size)\n",
    "\n",
    "gene_set_x_information.loc[selected_gene_sets, \"Good\"] = 1\n",
    "\n",
    "gene_set_x_information[\"Good\"].fillna(0, inplace=True)\n",
    "\n",
    "gene_set_x_information.to_csv(PATH[\"gene_set_x_information.tsv\"], sep=\"\\t\")\n",
    "\n",
    "gene_set_x_information.sort_values(\"Good\")"
   ]
  },
  {
   "cell_type": "code",
   "execution_count": null,
   "metadata": {},
   "outputs": [],
   "source": [
    "if SETTING[\"gene_sets_to_peek\"] is not None:\n",
    "\n",
    "    gene_set_x_information.reindex(SETTING[\"gene_sets_to_peek\"]).sort_values(\"Good\")"
   ]
  },
  {
   "cell_type": "code",
   "execution_count": null,
   "metadata": {},
   "outputs": [],
   "source": [
    "select = np.full(gene_set_x_information.index.size, False)\n",
    "\n",
    "select |= gene_set_x_information.index.str.lower().str.contains(\"metabol\")\n",
    "\n",
    "gene_set_x_information.loc[select].sort_values(\"Good\")"
   ]
  }
 ],
 "metadata": {
  "kernelspec": {
   "display_name": "Python 3",
   "language": "python",
   "name": "python3"
  },
  "language_info": {
   "codemirror_mode": {
    "name": "ipython",
    "version": 3
   },
   "file_extension": ".py",
   "mimetype": "text/x-python",
   "name": "python",
   "nbconvert_exporter": "python",
   "pygments_lexer": "ipython3",
   "version": "3.6.7"
  }
 },
 "nbformat": 4,
 "nbformat_minor": 2
}
