{
 "cells": [
  {
   "cell_type": "code",
   "execution_count": null,
   "metadata": {
    "ExecuteTime": {
     "end_time": "2018-07-10T08:51:32.206804Z",
     "start_time": "2018-07-10T08:51:32.189423Z"
    }
   },
   "outputs": [],
   "source": [
    "%load_ext autoreload\n",
    "\n",
    "%autoreload 2"
   ]
  },
  {
   "cell_type": "code",
   "execution_count": null,
   "metadata": {
    "ExecuteTime": {
     "end_time": "2018-07-10T08:51:35.021387Z",
     "start_time": "2018-07-10T08:51:32.209467Z"
    }
   },
   "outputs": [],
   "source": [
    "from environment import *\n",
    "\n",
    "from setting import *"
   ]
  },
  {
   "cell_type": "code",
   "execution_count": null,
   "metadata": {},
   "outputs": [],
   "source": [
    "target_x_sample = pd.read_table(\n",
    "    '../output/target_x_sample.tsv',\n",
    "    index_col=0,\n",
    ")"
   ]
  },
  {
   "cell_type": "code",
   "execution_count": null,
   "metadata": {},
   "outputs": [],
   "source": [
    "feature_dicts = {}\n",
    "\n",
    "gene_set_x_sample_directory_path = '../output/gene_set_x_sample'\n",
    "\n",
    "for gene_set_x_sample_file_name in os.listdir(gene_set_x_sample_directory_path):\n",
    "    \n",
    "    print(gene_set_x_sample_file_name)\n",
    "    \n",
    "    feature_dicts[gene_set_x_sample_file_name.split('.gene_set_x_sample.tsv')[0]] = {\n",
    "        'df': pd.read_table(\n",
    "            '{}/{}'.format(\n",
    "                gene_set_x_sample_directory_path,\n",
    "                gene_set_x_sample_file_name,\n",
    "            ),\n",
    "            index_col=0,\n",
    "        ),\n",
    "        'data_type': 'continuous',\n",
    "        'emphasis': 'high',\n",
    "    }"
   ]
  },
  {
   "cell_type": "code",
   "execution_count": null,
   "metadata": {
    "ExecuteTime": {
     "end_time": "2018-07-10T08:51:53.929074Z",
     "start_time": "2018-07-10T08:51:35.346894Z"
    }
   },
   "outputs": [],
   "source": [
    "ccal.make_match_panels(\n",
    "    target_x_sample,\n",
    "    feature_dicts,\n",
    "    drop_negative_target=True,\n",
    "    target_ascending=True,\n",
    "    n_job=N_JOB,\n",
    "    extreme_feature_threshold=EXTREME_FEATURE_THRESHOLD,\n",
    "    n_sampling=N_SAMPLING,\n",
    "    n_permutation=N_PERMUTATION,\n",
    "    target_type='binary',\n",
    "    plot_features_std_max=PLOT_FEATURES_STD_MAX,\n",
    "    directory_path='../output/find_differentially_expressed_gene_set',\n",
    "    overwrite=OVERWRITE,\n",
    ")"
   ]
  }
 ],
 "metadata": {
  "kernelspec": {
   "display_name": "Python 3",
   "language": "python",
   "name": "python3"
  },
  "language_info": {
   "codemirror_mode": {
    "name": "ipython",
    "version": 3
   },
   "file_extension": ".py",
   "mimetype": "text/x-python",
   "name": "python",
   "nbconvert_exporter": "python",
   "pygments_lexer": "ipython3",
   "version": "3.6.6"
  }
 },
 "nbformat": 4,
 "nbformat_minor": 2
}
