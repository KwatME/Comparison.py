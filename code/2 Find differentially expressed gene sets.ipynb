{
 "cells": [
  {
   "cell_type": "code",
   "execution_count": null,
   "metadata": {
    "ExecuteTime": {
     "end_time": "2018-07-10T08:51:32.206804Z",
     "start_time": "2018-07-10T08:51:32.189423Z"
    }
   },
   "outputs": [],
   "source": [
    "%load_ext autoreload\n",
    "%autoreload 2"
   ]
  },
  {
   "cell_type": "code",
   "execution_count": null,
   "metadata": {
    "ExecuteTime": {
     "end_time": "2018-07-10T08:51:35.021387Z",
     "start_time": "2018-07-10T08:51:32.209467Z"
    }
   },
   "outputs": [],
   "source": [
    "from environment import *\n",
    "from setting import *"
   ]
  },
  {
   "cell_type": "code",
   "execution_count": null,
   "metadata": {
    "ExecuteTime": {
     "end_time": "2018-07-10T08:51:35.196187Z",
     "start_time": "2018-07-10T08:51:35.025037Z"
    },
    "scrolled": true
   },
   "outputs": [],
   "source": [
    "gene_x_sample = pd.read_table(\n",
    "    '../output/max_tpm_log__gene_x_sample.tsv',\n",
    "    index_col=0,\n",
    ")"
   ]
  },
  {
   "cell_type": "code",
   "execution_count": null,
   "metadata": {
    "ExecuteTime": {
     "end_time": "2018-07-10T08:51:35.268562Z",
     "start_time": "2018-07-10T08:51:35.198937Z"
    }
   },
   "outputs": [],
   "source": [
    "target_x_sample = pd.read_table(\n",
    "    '../data/target_x_sample.tsv',\n",
    "    index_col=0,\n",
    ")\n",
    "\n",
    "target_x_sample"
   ]
  },
  {
   "cell_type": "code",
   "execution_count": null,
   "metadata": {},
   "outputs": [],
   "source": [
    "gene_set_directory_path = '../data/gene_set'\n",
    "\n",
    "gene_set_file_paths = tuple(os.path.join(\n",
    "    gene_set_directory_path,\n",
    "    gene_set_file_name,\n",
    ") for gene_set_file_name in os.listdir(gene_set_directory_path) if gene_set_file_name.endswith('.gmt'))\n",
    "\n",
    "gene_set_file_paths"
   ]
  },
  {
   "cell_type": "code",
   "execution_count": null,
   "metadata": {
    "ExecuteTime": {
     "end_time": "2018-07-10T08:51:35.344126Z",
     "start_time": "2018-07-10T08:51:35.310648Z"
    }
   },
   "outputs": [],
   "source": [
    "normalization_method = None\n",
    "\n",
    "statistic = 'auc'"
   ]
  },
  {
   "cell_type": "code",
   "execution_count": null,
   "metadata": {
    "ExecuteTime": {
     "end_time": "2018-07-10T08:51:53.929074Z",
     "start_time": "2018-07-10T08:51:35.346894Z"
    },
    "scrolled": false
   },
   "outputs": [],
   "source": [
    "for gene_set_file_path in gene_set_file_paths:\n",
    "\n",
    "    print(gene_set_file_path)\n",
    "\n",
    "    gene_sets = ccal.read_gmt(gene_set_file_path)\n",
    "\n",
    "    gene_set_file_name = os.path.split(gene_set_file_path)[1]\n",
    "\n",
    "    output_directory_path = '../output/gene_set/{}'.format(gene_set_file_name)\n",
    "\n",
    "    gene_set_x_sample_file_path = '{}/gene_set_x_sample.tsv'.format(output_directory_path)\n",
    "\n",
    "    if os.path.isfile(gene_set_x_sample_file_path):\n",
    "\n",
    "        gene_set_x_sample = pd.read_table(\n",
    "            gene_set_x_sample_file_path,\n",
    "            index_col=0,\n",
    "        )\n",
    "\n",
    "    else:\n",
    "\n",
    "        gene_set_x_sample = ccal.single_sample_gseas(\n",
    "            gene_x_sample.dropna(),\n",
    "            gene_sets,\n",
    "            normalization_method=normalization_method,\n",
    "            statistic=statistic,\n",
    "            file_path=gene_set_x_sample_file_path,\n",
    "        )\n",
    "\n",
    "    make_match_panels(\n",
    "        target_x_sample,\n",
    "        gene_set_x_sample,\n",
    "        N_JOB,\n",
    "        EXTREME_FEATURE_THRESHOLD,\n",
    "        N_SAMPLING,\n",
    "        N_PERMUTATION,\n",
    "        '({}) '.format(gene_set_file_name),\n",
    "        output_directory_path,\n",
    "        reset=True,\n",
    "    )"
   ]
  },
  {
   "cell_type": "code",
   "execution_count": null,
   "metadata": {
    "ExecuteTime": {
     "end_time": "2018-07-10T08:51:53.973102Z",
     "start_time": "2018-07-10T08:51:53.932279Z"
    }
   },
   "outputs": [],
   "source": [
    "gene_sets_to_peek_output_directory_path = '../output/gene_set/peek'\n",
    "\n",
    "ccal.establish_path(\n",
    "    gene_sets_to_peek_output_directory_path,\n",
    "    'directory',\n",
    ")"
   ]
  },
  {
   "cell_type": "code",
   "execution_count": null,
   "metadata": {
    "ExecuteTime": {
     "end_time": "2018-07-10T08:52:23.919705Z",
     "start_time": "2018-07-10T08:51:53.976117Z"
    },
    "scrolled": false
   },
   "outputs": [],
   "source": [
    "all_gene_sets = ccal.drop_df_slice(\n",
    "    ccal.read_gmts(gene_set_file_paths),\n",
    "    1,\n",
    "    min_n_not_na_unique_value=3,\n",
    ")\n",
    "\n",
    "all_gene_sets"
   ]
  },
  {
   "cell_type": "code",
   "execution_count": null,
   "metadata": {
    "ExecuteTime": {
     "end_time": "2018-07-10T08:52:24.979178Z",
     "start_time": "2018-07-10T08:52:23.921691Z"
    },
    "scrolled": false
   },
   "outputs": [],
   "source": [
    "gene_sets_to_peek = np.full(\n",
    "    all_gene_sets.shape[0],\n",
    "    False,\n",
    ")\n",
    "\n",
    "for gene_set in GENE_SETS_TO_PEEK:\n",
    "\n",
    "    gene_sets_to_peek |= all_gene_sets.index.str.lower() == gene_set.lower()\n",
    "\n",
    "for gene_set_keyword in GENE_SET_KEYWORDS_TO_PEEK:\n",
    "\n",
    "    gene_sets_to_peek |= all_gene_sets.index.str.lower().str.contains(gene_set_keyword)\n",
    "\n",
    "gene_sets_to_peek = all_gene_sets.loc[gene_sets_to_peek]\n",
    "\n",
    "all_genes_from_gene_sets_to_peek = gene_sets_to_peek.unstack().dropna().unique()\n",
    "\n",
    "all_genes_from_gene_sets_to_peek = pd.Series(\n",
    "    all_genes_from_gene_sets_to_peek,\n",
    "    name='All Genes from Gene Sets to Peek',\n",
    "    index=('Gene {}'.format(i) for i in range(all_genes_from_gene_sets_to_peek.size)),\n",
    ")\n",
    "\n",
    "gene_sets_to_peek = gene_sets_to_peek.append(all_genes_from_gene_sets_to_peek)\n",
    "\n",
    "gene_sets_to_peek"
   ]
  },
  {
   "cell_type": "code",
   "execution_count": null,
   "metadata": {
    "ExecuteTime": {
     "start_time": "2018-07-10T08:51:32.303Z"
    },
    "scrolled": false
   },
   "outputs": [],
   "source": [
    "gene_set_x_sample_file_path = '{}/gene_set_x_sample.tsv'.format(gene_sets_to_peek_output_directory_path)\n",
    "\n",
    "gene_set_x_sample = ccal.single_sample_gseas(\n",
    "    gene_x_sample.dropna(),\n",
    "    gene_sets_to_peek,\n",
    "    normalization_method=normalization_method,\n",
    "    statistic=statistic,\n",
    "    file_path=gene_set_x_sample_file_path,\n",
    ")\n",
    "\n",
    "make_match_panels(\n",
    "    target_x_sample,\n",
    "    gene_set_x_sample,\n",
    "    N_JOB,\n",
    "    None,\n",
    "    N_SAMPLING,\n",
    "    N_PERMUTATION,\n",
    "    '(gene sets to peek) ',\n",
    "    gene_sets_to_peek_output_directory_path,\n",
    "    reset=True,\n",
    ")"
   ]
  },
  {
   "cell_type": "code",
   "execution_count": null,
   "metadata": {
    "ExecuteTime": {
     "start_time": "2018-07-10T08:51:32.342Z"
    },
    "scrolled": false
   },
   "outputs": [],
   "source": [
    "for target_name, target in target_x_sample.iterrows():\n",
    "\n",
    "    target = target[target != -1]\n",
    "\n",
    "    print(target)\n",
    "\n",
    "    gene_set_score_p_value_fdr = ccal.gsea(\n",
    "        gene_x_sample[target.index].dropna(),\n",
    "        target,\n",
    "        gene_sets_to_peek,\n",
    "        method=ccal.compute_information_coefficient,\n",
    "        normalization_method=None,\n",
    "        statistic=statistic,\n",
    "        plot=True,\n",
    "        directory_path='{}/gsea/{}'.format(\n",
    "            gene_sets_to_peek_output_directory_path,\n",
    "            target_name,\n",
    "        ),\n",
    "    )\n",
    "\n",
    "    scores = gene_set_score_p_value_fdr['Score']\n",
    "\n",
    "    print('{}: N={} & mean={:.3f} & STD={:.3f}'.format(\n",
    "        target_name,\n",
    "        scores.shape[0],\n",
    "        scores.mean(),\n",
    "        scores.std(),\n",
    "    ))"
   ]
  }
 ],
 "metadata": {
  "kernelspec": {
   "display_name": "Python 3",
   "language": "python",
   "name": "python3"
  },
  "language_info": {
   "codemirror_mode": {
    "name": "ipython",
    "version": 3
   },
   "file_extension": ".py",
   "mimetype": "text/x-python",
   "name": "python",
   "nbconvert_exporter": "python",
   "pygments_lexer": "ipython3",
   "version": "3.6.5"
  }
 },
 "nbformat": 4,
 "nbformat_minor": 2
}
