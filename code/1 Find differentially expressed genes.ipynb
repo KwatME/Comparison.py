{
 "cells": [
  {
   "cell_type": "code",
   "execution_count": null,
   "metadata": {
    "ExecuteTime": {
     "end_time": "2018-05-20T01:24:36.062938Z",
     "start_time": "2018-05-20T01:24:36.049760Z"
    }
   },
   "outputs": [],
   "source": [
    "%load_ext autoreload\n",
    "%autoreload 2"
   ]
  },
  {
   "cell_type": "code",
   "execution_count": null,
   "metadata": {
    "ExecuteTime": {
     "end_time": "2018-05-20T01:24:37.747298Z",
     "start_time": "2018-05-20T01:24:36.064625Z"
    }
   },
   "outputs": [],
   "source": [
    "from environment import *\n",
    "from analysis import *"
   ]
  },
  {
   "cell_type": "code",
   "execution_count": null,
   "metadata": {
    "ExecuteTime": {
     "end_time": "2018-05-20T01:24:37.938710Z",
     "start_time": "2018-05-20T01:24:37.749321Z"
    },
    "scrolled": true
   },
   "outputs": [],
   "source": [
    "gene_x_sample = pd.read_table(\n",
    "    '../output/max_tpm_log__gene_x_sample.tsv',\n",
    "    index_col=0,\n",
    ")"
   ]
  },
  {
   "cell_type": "code",
   "execution_count": null,
   "metadata": {
    "ExecuteTime": {
     "end_time": "2018-05-20T01:24:37.967136Z",
     "start_time": "2018-05-20T01:24:37.940463Z"
    }
   },
   "outputs": [],
   "source": [
    "target_x_sample = pd.read_table(\n",
    "    '../data/target_x_sample.tsv',\n",
    "    index_col=0,\n",
    ")\n",
    "\n",
    "target_x_sample"
   ]
  },
  {
   "cell_type": "code",
   "execution_count": null,
   "metadata": {
    "ExecuteTime": {
     "end_time": "2018-05-20T01:26:50.782022Z",
     "start_time": "2018-05-20T01:24:37.968750Z"
    },
    "scrolled": true
   },
   "outputs": [],
   "source": [
    "make_match_panels(\n",
    "    target_x_sample,\n",
    "    gene_x_sample,\n",
    "    N_JOB,\n",
    "    EXTREME_FEATURE_THRESHOLD,\n",
    "    N_SAMPLING,\n",
    "    N_PERMUTATION,\n",
    "    '(all genes) ',\n",
    "    '../output/gene',\n",
    "    reset=True,\n",
    ")"
   ]
  },
  {
   "cell_type": "code",
   "execution_count": null,
   "metadata": {
    "ExecuteTime": {
     "end_time": "2018-05-20T01:26:51.332191Z",
     "start_time": "2018-05-20T01:26:50.784481Z"
    },
    "scrolled": true
   },
   "outputs": [],
   "source": [
    "genes_to_peek = gene_x_sample.index & set(GENES_TO_PEEK)\n",
    "\n",
    "if len(genes_to_peek):\n",
    "\n",
    "    make_match_panels(\n",
    "        target_x_sample,\n",
    "        gene_x_sample.loc[genes_to_peek],\n",
    "        N_JOB,\n",
    "        None,\n",
    "        N_SAMPLING,\n",
    "        N_PERMUTATION,\n",
    "        '(genes to peek) ',\n",
    "        '../output/gene/peek',\n",
    "        reset=True,\n",
    "    )"
   ]
  }
 ],
 "metadata": {
  "kernelspec": {
   "display_name": "Python 3",
   "language": "python",
   "name": "python3"
  },
  "language_info": {
   "codemirror_mode": {
    "name": "ipython",
    "version": 3
   },
   "file_extension": ".py",
   "mimetype": "text/x-python",
   "name": "python",
   "nbconvert_exporter": "python",
   "pygments_lexer": "ipython3",
   "version": "3.5.5"
  }
 },
 "nbformat": 4,
 "nbformat_minor": 2
}
