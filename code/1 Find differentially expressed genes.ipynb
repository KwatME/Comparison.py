{
 "cells": [
  {
   "cell_type": "code",
   "execution_count": null,
   "metadata": {
    "ExecuteTime": {
     "end_time": "2018-07-10T08:40:00.650547Z",
     "start_time": "2018-07-10T08:40:00.635853Z"
    }
   },
   "outputs": [],
   "source": [
    "%load_ext autoreload\n",
    "\n",
    "%autoreload 2"
   ]
  },
  {
   "cell_type": "code",
   "execution_count": null,
   "metadata": {
    "ExecuteTime": {
     "end_time": "2018-07-10T08:40:02.540703Z",
     "start_time": "2018-07-10T08:40:00.652198Z"
    }
   },
   "outputs": [],
   "source": [
    "from environment import *\n",
    "from setting import *"
   ]
  },
  {
   "cell_type": "code",
   "execution_count": null,
   "metadata": {
    "ExecuteTime": {
     "end_time": "2018-07-10T08:40:02.659677Z",
     "start_time": "2018-07-10T08:40:02.543406Z"
    }
   },
   "outputs": [],
   "source": [
    "gene_x_sample = pd.read_table(\n",
    "    '../output/max_tpm_log__gene_x_sample.tsv',\n",
    "    index_col=0,\n",
    ")"
   ]
  },
  {
   "cell_type": "code",
   "execution_count": null,
   "metadata": {
    "ExecuteTime": {
     "end_time": "2018-07-10T08:40:02.704898Z",
     "start_time": "2018-07-10T08:40:02.661760Z"
    }
   },
   "outputs": [],
   "source": [
    "target_x_sample = pd.read_table(\n",
    "    '../data/target_x_sample.tsv',\n",
    "    index_col=0,\n",
    ")\n",
    "\n",
    "target_x_sample"
   ]
  },
  {
   "cell_type": "code",
   "execution_count": null,
   "metadata": {
    "ExecuteTime": {
     "end_time": "2018-07-10T08:40:31.069282Z",
     "start_time": "2018-07-10T08:40:02.728783Z"
    },
    "scrolled": false
   },
   "outputs": [],
   "source": [
    "make_match_panels(\n",
    "    target_x_sample,\n",
    "    gene_x_sample,\n",
    "    N_JOB,\n",
    "    EXTREME_FEATURE_THRESHOLD,\n",
    "    N_SAMPLING,\n",
    "    N_PERMUTATION,\n",
    "    '(all genes) ',\n",
    "    '../output/gene',\n",
    "    reset=True,\n",
    ")"
   ]
  },
  {
   "cell_type": "code",
   "execution_count": null,
   "metadata": {
    "ExecuteTime": {
     "end_time": "2018-07-10T08:40:31.277944Z",
     "start_time": "2018-07-10T08:40:31.071569Z"
    },
    "scrolled": false
   },
   "outputs": [],
   "source": [
    "genes_to_peek = gene_x_sample.index & set(GENES_TO_PEEK)\n",
    "\n",
    "if len(genes_to_peek):\n",
    "\n",
    "    make_match_panels(\n",
    "        target_x_sample,\n",
    "        gene_x_sample.loc[genes_to_peek],\n",
    "        N_JOB,\n",
    "        None,\n",
    "        N_SAMPLING,\n",
    "        N_PERMUTATION,\n",
    "        '(genes to peek) ',\n",
    "        '../output/gene/peek',\n",
    "        reset=True,\n",
    "    )"
   ]
  }
 ],
 "metadata": {
  "kernelspec": {
   "display_name": "Python 3",
   "language": "python",
   "name": "python3"
  },
  "language_info": {
   "codemirror_mode": {
    "name": "ipython",
    "version": 3
   },
   "file_extension": ".py",
   "mimetype": "text/x-python",
   "name": "python",
   "nbconvert_exporter": "python",
   "pygments_lexer": "ipython3",
   "version": "3.6.5"
  }
 },
 "nbformat": 4,
 "nbformat_minor": 2
}
