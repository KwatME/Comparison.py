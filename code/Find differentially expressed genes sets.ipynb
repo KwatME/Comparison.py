{
 "cells": [
  {
   "cell_type": "code",
   "execution_count": null,
   "metadata": {
    "ExecuteTime": {
     "end_time": "2018-05-09T18:56:08.794894Z",
     "start_time": "2018-05-09T18:56:08.764343Z"
    }
   },
   "outputs": [],
   "source": [
    "%load_ext autoreload\n",
    "%autoreload 2"
   ]
  },
  {
   "cell_type": "code",
   "execution_count": null,
   "metadata": {
    "ExecuteTime": {
     "end_time": "2018-05-09T18:56:11.082018Z",
     "start_time": "2018-05-09T18:56:08.798397Z"
    }
   },
   "outputs": [],
   "source": [
    "from environment import *\n",
    "\n",
    "from parameters import *"
   ]
  },
  {
   "cell_type": "code",
   "execution_count": null,
   "metadata": {
    "ExecuteTime": {
     "end_time": "2018-05-09T18:56:11.299579Z",
     "start_time": "2018-05-09T18:56:11.085423Z"
    },
    "scrolled": false
   },
   "outputs": [],
   "source": [
    "gene_x_sample = pd.read_table(\n",
    "    '../data/m_gene_x_sample.tsv', index_col=0)\n",
    "\n",
    "gene_x_sample"
   ]
  },
  {
   "cell_type": "code",
   "execution_count": null,
   "metadata": {
    "ExecuteTime": {
     "end_time": "2018-05-09T18:56:11.370438Z",
     "start_time": "2018-05-09T18:56:11.302779Z"
    }
   },
   "outputs": [],
   "source": [
    "target_x_sample = pd.read_table('../data/target_x_sample.tsv', index_col=0)\n",
    "\n",
    "target_x_sample"
   ]
  },
  {
   "cell_type": "code",
   "execution_count": null,
   "metadata": {
    "ExecuteTime": {
     "end_time": "2018-05-09T18:56:46.156221Z",
     "start_time": "2018-05-09T18:56:11.374781Z"
    }
   },
   "outputs": [],
   "source": [
    "gene_set_directory_path = '../data/gene_set'\n",
    "\n",
    "for gene_set_file_name in os.listdir(gene_set_directory_path):\n",
    "\n",
    "    output_directory_path = '../output/gene_set/{}'.format(gene_set_file_name)\n",
    "\n",
    "    gene_set_x_sample_file_path = '{}/gene_set_x_sample.tsv'.format(\n",
    "        output_directory_path)\n",
    "\n",
    "    gene_sets = ccal.read_gmts(('{}/{}'.format(gene_set_directory_path,\n",
    "                                               gene_set_file_name), ))\n",
    "\n",
    "    if os.path.isfile(gene_set_x_sample_file_path):\n",
    "\n",
    "        gene_set_x_sample = pd.read_table(\n",
    "            gene_set_x_sample_file_path, index_col=0)\n",
    "\n",
    "    else:\n",
    "\n",
    "        gene_set_x_sample = ccal.single_sample_gseas(\n",
    "            gene_x_sample,\n",
    "            gene_sets,\n",
    "            normalization_method=GSEA_NORMALIZATION_METHOD,\n",
    "            statistic=GSEA_STATISTIC,\n",
    "            file_path=gene_set_x_sample_file_path)\n",
    "\n",
    "    to_peek = set(GENE_SETS_TO_PEEK)\n",
    "\n",
    "    for keyword in GENE_SET_KEYWORDS:\n",
    "\n",
    "        to_peek.update(gene_sets.index[gene_sets.index.str.lower()\n",
    "                                       .str.contains(keyword)])\n",
    "\n",
    "    make_match_panels(target_x_sample, gene_set_x_sample, N_JOB, 8, to_peek,\n",
    "                      '({}) '.format(gene_set_file_name),\n",
    "                      output_directory_path)"
   ]
  },
  {
   "cell_type": "code",
   "execution_count": null,
   "metadata": {
    "ExecuteTime": {
     "end_time": "2018-05-09T18:56:46.156221Z",
     "start_time": "2018-05-09T18:56:11.374781Z"
    },
    "scrolled": false
   },
   "outputs": [],
   "source": [
    "# method='ic',\n",
    "# normalization_method=None,\n",
    "# statistic='auc',\n",
    "\n",
    "#     gene_set_score_p_value_fdr = gsea(\n",
    "#         gene_x_sample,\n",
    "#         phenotypes,\n",
    "#         gene_sets.iloc[:1, :],\n",
    "#         method=method,\n",
    "#         plot=True)"
   ]
  }
 ],
 "metadata": {
  "kernelspec": {
   "display_name": "Python 3",
   "language": "python",
   "name": "python3"
  },
  "language_info": {
   "codemirror_mode": {
    "name": "ipython",
    "version": 3
   },
   "file_extension": ".py",
   "mimetype": "text/x-python",
   "name": "python",
   "nbconvert_exporter": "python",
   "pygments_lexer": "ipython3",
   "version": "3.6.5"
  }
 },
 "nbformat": 4,
 "nbformat_minor": 2
}
