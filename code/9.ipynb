{
 "cells": [
  {
   "cell_type": "code",
   "execution_count": null,
   "metadata": {
    "execution": {
     "iopub.execute_input": "2021-05-28T04:46:38.870672Z",
     "iopub.status.busy": "2021-05-28T04:46:38.870030Z",
     "iopub.status.idle": "2021-05-28T04:46:38.882609Z",
     "shell.execute_reply": "2021-05-28T04:46:38.883043Z"
    },
    "tags": []
   },
   "outputs": [],
   "source": [
    "%load_ext autoreload\n",
    "%autoreload 2"
   ]
  },
  {
   "cell_type": "code",
   "execution_count": null,
   "metadata": {
    "execution": {
     "iopub.execute_input": "2021-05-28T04:46:38.886454Z",
     "iopub.status.busy": "2021-05-28T04:46:38.885866Z",
     "iopub.status.idle": "2021-05-28T04:46:39.587221Z",
     "shell.execute_reply": "2021-05-28T04:46:39.587593Z"
    },
    "tags": []
   },
   "outputs": [],
   "source": [
    "from __init__ import *"
   ]
  },
  {
   "cell_type": "code",
   "execution_count": null,
   "metadata": {
    "execution": {
     "iopub.execute_input": "2021-05-28T04:46:39.591077Z",
     "iopub.status.busy": "2021-05-28T04:46:39.590487Z",
     "iopub.status.idle": "2021-05-28T04:46:39.703870Z",
     "shell.execute_reply": "2021-05-28T04:46:39.704299Z"
    },
    "tags": []
   },
   "outputs": [],
   "source": [
    "cxs = pd.read_csv(\"../output/comparison_x_sample.tsv\", sep=\"\\t\", index_col=0)\n",
    "\n",
    "sxs = pd.read_csv(\"../output/set_x_sample.tsv\", sep=\"\\t\", index_col=0)"
   ]
  },
  {
   "cell_type": "code",
   "execution_count": null,
   "metadata": {
    "execution": {
     "iopub.execute_input": "2021-05-28T04:46:39.707722Z",
     "iopub.status.busy": "2021-05-28T04:46:39.707124Z",
     "iopub.status.idle": "2021-05-28T04:46:39.729530Z",
     "shell.execute_reply": "2021-05-28T04:46:39.730012Z"
    },
    "tags": []
   },
   "outputs": [],
   "source": [
    "t = \"Summary\"\n",
    "\n",
    "nts_ = {\n",
    "    \"Peek\": S[\"peek_set_\"],\n",
    "}"
   ]
  },
  {
   "cell_type": "code",
   "execution_count": null,
   "metadata": {
    "execution": {
     "iopub.execute_input": "2021-05-28T04:46:39.735684Z",
     "iopub.status.busy": "2021-05-28T04:46:39.735078Z",
     "iopub.status.idle": "2021-05-28T04:46:40.193522Z",
     "shell.execute_reply": "2021-05-28T04:46:40.193942Z"
    },
    "tags": []
   },
   "outputs": [],
   "source": [
    "for c, is_ in cxs.iterrows():\n",
    "\n",
    "    is_.dropna(inplace=True)\n",
    "\n",
    "    m = np.unique(is_, return_counts=True)[1].min()\n",
    "\n",
    "    f, s = kraft.information.get_ic, 2\n",
    "\n",
    "    if m < s:\n",
    "\n",
    "        continue\n",
    "\n",
    "    d = \"../output/summarize_set/{}/\".format(kraft.path.clean(c))\n",
    "\n",
    "    kraft.path.make(d)\n",
    "\n",
    "    d_ = []\n",
    "\n",
    "    for n, s_ in nts_.items():\n",
    "\n",
    "        d_.append(\n",
    "            {\n",
    "                \"name\": n,\n",
    "                \"m\": sxs.reindex(s_),\n",
    "                \"data_type\": \"continuous\",\n",
    "                \"statistic\": pd.read_csv(\n",
    "                    \"../output/compare_set/{}/{}/statistic.tsv\".format(\n",
    "                        kraft.path.clean(c), f.__name__\n",
    "                    ),\n",
    "                    sep=\"\\t\",\n",
    "                    index_col=0,\n",
    "                ),\n",
    "            }\n",
    "        )\n",
    "\n",
    "    kraft.function_heat_map.summarize(\n",
    "        is_,\n",
    "        d_,\n",
    "        v_data_type=\"binary\",\n",
    "        plot_std=S[\"plot_std\"],\n",
    "        title=t,\n",
    "        file_path=\"{}/{}.html\".format(d, kraft.path.clean(t)),\n",
    "    )"
   ]
  }
 ],
 "metadata": {
  "kernelspec": {
   "display_name": "Python 3",
   "language": "python",
   "name": "python3"
  },
  "language_info": {
   "codemirror_mode": {
    "name": "ipython",
    "version": 3
   },
   "file_extension": ".py",
   "mimetype": "text/x-python",
   "name": "python",
   "nbconvert_exporter": "python",
   "pygments_lexer": "ipython3",
   "version": "3.8.9"
  }
 },
 "nbformat": 4,
 "nbformat_minor": 4
}
