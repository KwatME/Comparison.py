{
 "cells": [
  {
   "cell_type": "code",
   "execution_count": null,
   "metadata": {
    "execution": {
     "iopub.execute_input": "2021-06-02T07:31:44.675491Z",
     "iopub.status.busy": "2021-06-02T07:31:44.674800Z",
     "iopub.status.idle": "2021-06-02T07:31:44.687333Z",
     "shell.execute_reply": "2021-06-02T07:31:44.687795Z"
    },
    "tags": []
   },
   "outputs": [],
   "source": [
    "%load_ext autoreload\n",
    "%autoreload 2"
   ]
  },
  {
   "cell_type": "code",
   "execution_count": null,
   "metadata": {
    "execution": {
     "iopub.execute_input": "2021-06-02T07:31:44.691272Z",
     "iopub.status.busy": "2021-06-02T07:31:44.690689Z",
     "iopub.status.idle": "2021-06-02T07:31:45.221139Z",
     "shell.execute_reply": "2021-06-02T07:31:45.221515Z"
    },
    "tags": []
   },
   "outputs": [],
   "source": [
    "from __init__ import *"
   ]
  },
  {
   "cell_type": "code",
   "execution_count": null,
   "metadata": {
    "execution": {
     "iopub.execute_input": "2021-06-02T07:31:45.225016Z",
     "iopub.status.busy": "2021-06-02T07:31:45.224466Z",
     "iopub.status.idle": "2021-06-02T07:31:45.277265Z",
     "shell.execute_reply": "2021-06-02T07:31:45.277653Z"
    },
    "tags": []
   },
   "outputs": [],
   "source": [
    "bi_co_sa = pd.read_csv(\"../output/01_comparison_sample.tsv\", \"\\t\", index_col=0)\n",
    "\n",
    "nu_fe_sa = pd.read_csv(\"../output/number_feature_sample.tsv\", \"\\t\", index_col=0)\n",
    "\n",
    "sc_se_sa = pd.read_csv(\"../output/score_set_sample.tsv\", \"\\t\", index_col=0)"
   ]
  },
  {
   "cell_type": "code",
   "execution_count": null,
   "metadata": {
    "execution": {
     "iopub.execute_input": "2021-06-02T07:31:45.280754Z",
     "iopub.status.busy": "2021-06-02T07:31:45.280181Z",
     "iopub.status.idle": "2021-06-02T07:31:45.297940Z",
     "shell.execute_reply": "2021-06-02T07:31:45.298308Z"
    },
    "tags": []
   },
   "outputs": [],
   "source": [
    "title = \"Summary\""
   ]
  },
  {
   "cell_type": "code",
   "execution_count": null,
   "metadata": {
    "execution": {
     "iopub.execute_input": "2021-06-02T07:31:45.302870Z",
     "iopub.status.busy": "2021-06-02T07:31:45.302354Z",
     "iopub.status.idle": "2021-06-02T07:31:46.036779Z",
     "shell.execute_reply": "2021-06-02T07:31:46.037207Z"
    },
    "tags": []
   },
   "outputs": [],
   "source": [
    "for (co, ta), bl_se_ in zip(bi_co_sa.iterrows(), SETTING[\"su_\"]):\n",
    "\n",
    "    ta.dropna(inplace=True)\n",
    "\n",
    "    fu = kraft.information.get_ic\n",
    "\n",
    "    pa = \"../output/summarize_set/{}/\".format(kraft.path.clean(co))\n",
    "\n",
    "    kraft.path.make(pa)\n",
    "\n",
    "    bu_ = []\n",
    "\n",
    "    for bl, se_ in bl_se_.items():\n",
    "\n",
    "        bu_.append(\n",
    "            {\n",
    "                \"name\": bl,\n",
    "                \"data\": pd.concat([nu_fe_sa, sc_se_sa]).reindex(se_),\n",
    "                \"type\": \"continuous\",\n",
    "                \"statistic\": read_statistic(kraft.path.clean(co), fu.__name__),\n",
    "            }\n",
    "        )\n",
    "\n",
    "    kraft.function_heat_map.summarize(\n",
    "        ta,\n",
    "        bu_,\n",
    "        ty=\"binary\",\n",
    "        st=SETTING[\"st\"],\n",
    "        title=title,\n",
    "        pa=\"{}{}.html\".format(pa, kraft.path.clean(title)),\n",
    "    )"
   ]
  }
 ],
 "metadata": {
  "kernelspec": {
   "display_name": "Python 3",
   "language": "python",
   "name": "python3"
  },
  "language_info": {
   "codemirror_mode": {
    "name": "ipython",
    "version": 3
   },
   "file_extension": ".py",
   "mimetype": "text/x-python",
   "name": "python",
   "nbconvert_exporter": "python",
   "pygments_lexer": "ipython3",
   "version": "3.8.9"
  }
 },
 "nbformat": 4,
 "nbformat_minor": 4
}
