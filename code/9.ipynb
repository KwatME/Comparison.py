{
 "cells": [
  {
   "cell_type": "code",
   "execution_count": null,
   "metadata": {
    "execution": {
     "iopub.execute_input": "2021-06-01T07:38:54.318313Z",
     "iopub.status.busy": "2021-06-01T07:38:54.317674Z",
     "iopub.status.idle": "2021-06-01T07:38:54.330249Z",
     "shell.execute_reply": "2021-06-01T07:38:54.330813Z"
    },
    "tags": []
   },
   "outputs": [],
   "source": [
    "%load_ext autoreload\n",
    "%autoreload 2"
   ]
  },
  {
   "cell_type": "code",
   "execution_count": null,
   "metadata": {
    "execution": {
     "iopub.execute_input": "2021-06-01T07:38:54.334318Z",
     "iopub.status.busy": "2021-06-01T07:38:54.333734Z",
     "iopub.status.idle": "2021-06-01T07:38:54.865763Z",
     "shell.execute_reply": "2021-06-01T07:38:54.866143Z"
    },
    "tags": []
   },
   "outputs": [],
   "source": [
    "from __init__ import *"
   ]
  },
  {
   "cell_type": "code",
   "execution_count": null,
   "metadata": {
    "execution": {
     "iopub.execute_input": "2021-06-01T07:38:54.869521Z",
     "iopub.status.busy": "2021-06-01T07:38:54.868942Z",
     "iopub.status.idle": "2021-06-01T07:38:54.896613Z",
     "shell.execute_reply": "2021-06-01T07:38:54.897100Z"
    },
    "tags": []
   },
   "outputs": [],
   "source": [
    "bi_co_sa = pd.read_csv(\"../output/01_comparison_sample.tsv\", \"\\t\", index_col=0)\n",
    "\n",
    "nu_se_sa = pd.read_csv(\"../output/number_set_sample.tsv\", \"\\t\", index_col=0)"
   ]
  },
  {
   "cell_type": "code",
   "execution_count": null,
   "metadata": {
    "execution": {
     "iopub.execute_input": "2021-06-01T07:38:54.900460Z",
     "iopub.status.busy": "2021-06-01T07:38:54.899895Z",
     "iopub.status.idle": "2021-06-01T07:38:54.918698Z",
     "shell.execute_reply": "2021-06-01T07:38:54.919310Z"
    },
    "tags": []
   },
   "outputs": [],
   "source": [
    "title = \"Summary\"\n",
    "\n",
    "bl_se_ = {\n",
    "    \"Peek\": SETTING[\"se_\"],\n",
    "}"
   ]
  },
  {
   "cell_type": "code",
   "execution_count": null,
   "metadata": {
    "execution": {
     "iopub.execute_input": "2021-06-01T07:38:54.925254Z",
     "iopub.status.busy": "2021-06-01T07:38:54.924664Z",
     "iopub.status.idle": "2021-06-01T07:38:55.365540Z",
     "shell.execute_reply": "2021-06-01T07:38:55.365968Z"
    },
    "tags": []
   },
   "outputs": [],
   "source": [
    "for co, ta in bi_co_sa.iterrows():\n",
    "\n",
    "    ta.dropna(inplace=True)\n",
    "\n",
    "    simi = np.unique(ta, return_counts=True)[1].min()\n",
    "\n",
    "    fu, sire = kraft.information.get_ic, 2\n",
    "\n",
    "    if simi < sire:\n",
    "\n",
    "        continue\n",
    "\n",
    "    pa = \"../output/summarize_set/{}/\".format(kraft.path.clean(co))\n",
    "\n",
    "    kraft.path.make(pa)\n",
    "\n",
    "    bu_ = []\n",
    "\n",
    "    for bl, se_ in bl_se_.items():\n",
    "\n",
    "        bu_.append(\n",
    "            {\n",
    "                \"name\": bl,\n",
    "                \"data\": nu_se_sa.reindex(se_),\n",
    "                \"type\": \"continuous\",\n",
    "                \"statistic\": pd.read_csv(\n",
    "                    \"../output/compare_set/{}/{}/statistic.tsv\".format(\n",
    "                        kraft.path.clean(co), fu.__name__\n",
    "                    ),\n",
    "                    \"\\t\",\n",
    "                    index_col=0,\n",
    "                ),\n",
    "            }\n",
    "        )\n",
    "\n",
    "    kraft.function_heat_map.summarize(\n",
    "        ta,\n",
    "        bu_,\n",
    "        ty=\"binary\",\n",
    "        st=SETTING[\"st\"],\n",
    "        title=title,\n",
    "        pa=\"{}{}.html\".format(pa, kraft.path.clean(title)),\n",
    "    )"
   ]
  }
 ],
 "metadata": {
  "kernelspec": {
   "display_name": "Python 3",
   "language": "python",
   "name": "python3"
  },
  "language_info": {
   "codemirror_mode": {
    "name": "ipython",
    "version": 3
   },
   "file_extension": ".py",
   "mimetype": "text/x-python",
   "name": "python",
   "nbconvert_exporter": "python",
   "pygments_lexer": "ipython3",
   "version": "3.8.9"
  }
 },
 "nbformat": 4,
 "nbformat_minor": 4
}
