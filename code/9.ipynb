{
 "cells": [
  {
   "cell_type": "code",
   "execution_count": null,
   "metadata": {
    "execution": {
     "iopub.execute_input": "2021-05-28T06:23:35.599657Z",
     "iopub.status.busy": "2021-05-28T06:23:35.599009Z",
     "iopub.status.idle": "2021-05-28T06:23:35.611573Z",
     "shell.execute_reply": "2021-05-28T06:23:35.612019Z"
    },
    "tags": []
   },
   "outputs": [],
   "source": [
    "%load_ext autoreload\n",
    "%autoreload 2"
   ]
  },
  {
   "cell_type": "code",
   "execution_count": null,
   "metadata": {
    "execution": {
     "iopub.execute_input": "2021-05-28T06:23:35.615545Z",
     "iopub.status.busy": "2021-05-28T06:23:35.614952Z",
     "iopub.status.idle": "2021-05-28T06:23:36.319797Z",
     "shell.execute_reply": "2021-05-28T06:23:36.320172Z"
    },
    "tags": []
   },
   "outputs": [],
   "source": [
    "from __init__ import *"
   ]
  },
  {
   "cell_type": "code",
   "execution_count": null,
   "metadata": {
    "execution": {
     "iopub.execute_input": "2021-05-28T06:23:36.323558Z",
     "iopub.status.busy": "2021-05-28T06:23:36.323027Z",
     "iopub.status.idle": "2021-05-28T06:23:36.431574Z",
     "shell.execute_reply": "2021-05-28T06:23:36.432024Z"
    },
    "tags": []
   },
   "outputs": [],
   "source": [
    "cxs = pd.read_csv(\"../output/comparison_x_sample.tsv\", sep=\"\\t\", index_col=0)\n",
    "\n",
    "sxs = pd.read_csv(\"../output/set_x_sample.tsv\", sep=\"\\t\", index_col=0)"
   ]
  },
  {
   "cell_type": "code",
   "execution_count": null,
   "metadata": {
    "execution": {
     "iopub.execute_input": "2021-05-28T06:23:36.435330Z",
     "iopub.status.busy": "2021-05-28T06:23:36.434738Z",
     "iopub.status.idle": "2021-05-28T06:23:36.458071Z",
     "shell.execute_reply": "2021-05-28T06:23:36.458493Z"
    },
    "tags": []
   },
   "outputs": [],
   "source": [
    "t = \"Summary\"\n",
    "\n",
    "nts_ = {\n",
    "    \"Peek\": S[\"peek_set_\"],\n",
    "}"
   ]
  },
  {
   "cell_type": "code",
   "execution_count": null,
   "metadata": {
    "execution": {
     "iopub.execute_input": "2021-05-28T06:23:36.464421Z",
     "iopub.status.busy": "2021-05-28T06:23:36.463835Z",
     "iopub.status.idle": "2021-05-28T06:23:36.917700Z",
     "shell.execute_reply": "2021-05-28T06:23:36.918116Z"
    },
    "tags": []
   },
   "outputs": [],
   "source": [
    "for c, is_ in cxs.iterrows():\n",
    "\n",
    "    is_.dropna(inplace=True)\n",
    "\n",
    "    m = np.unique(is_, return_counts=True)[1].min()\n",
    "\n",
    "    f, s = kraft.information.get_ic, 2\n",
    "\n",
    "    if m < s:\n",
    "\n",
    "        continue\n",
    "\n",
    "    d = \"../output/summarize_set/{}/\".format(kraft.path.clean(c))\n",
    "\n",
    "    kraft.path.make(d)\n",
    "\n",
    "    d_ = []\n",
    "\n",
    "    for n, s_ in nts_.items():\n",
    "\n",
    "        d_.append(\n",
    "            {\n",
    "                \"name\": n,\n",
    "                \"m\": sxs.reindex(s_),\n",
    "                \"data_type\": \"continuous\",\n",
    "                \"statistic\": pd.read_csv(\n",
    "                    \"../output/compare_set/{}/{}/statistic.tsv\".format(\n",
    "                        kraft.path.clean(c), f.__name__\n",
    "                    ),\n",
    "                    sep=\"\\t\",\n",
    "                    index_col=0,\n",
    "                ),\n",
    "            }\n",
    "        )\n",
    "\n",
    "    kraft.function_heat_map.summarize(\n",
    "        is_,\n",
    "        d_,\n",
    "        v_data_type=\"binary\",\n",
    "        plot_std=S[\"plot_std\"],\n",
    "        title=t,\n",
    "        file_path=\"{}/{}.html\".format(d, kraft.path.clean(t)),\n",
    "    )"
   ]
  }
 ],
 "metadata": {
  "kernelspec": {
   "display_name": "Python 3",
   "language": "python",
   "name": "python3"
  },
  "language_info": {
   "codemirror_mode": {
    "name": "ipython",
    "version": 3
   },
   "file_extension": ".py",
   "mimetype": "text/x-python",
   "name": "python",
   "nbconvert_exporter": "python",
   "pygments_lexer": "ipython3",
   "version": "3.8.9"
  }
 },
 "nbformat": 4,
 "nbformat_minor": 4
}
