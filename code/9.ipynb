{
 "cells": [
  {
   "cell_type": "code",
   "execution_count": null,
   "metadata": {
    "execution": {
     "iopub.execute_input": "2021-06-01T07:00:47.728113Z",
     "iopub.status.busy": "2021-06-01T07:00:47.727400Z",
     "iopub.status.idle": "2021-06-01T07:00:47.739548Z",
     "shell.execute_reply": "2021-06-01T07:00:47.739892Z"
    },
    "tags": []
   },
   "outputs": [],
   "source": [
    "%load_ext autoreload\n",
    "%autoreload 2"
   ]
  },
  {
   "cell_type": "code",
   "execution_count": null,
   "metadata": {
    "execution": {
     "iopub.execute_input": "2021-06-01T07:00:47.743181Z",
     "iopub.status.busy": "2021-06-01T07:00:47.742681Z",
     "iopub.status.idle": "2021-06-01T07:00:48.305154Z",
     "shell.execute_reply": "2021-06-01T07:00:48.305918Z"
    },
    "tags": []
   },
   "outputs": [],
   "source": [
    "from __init__ import *"
   ]
  },
  {
   "cell_type": "code",
   "execution_count": null,
   "metadata": {
    "execution": {
     "iopub.execute_input": "2021-06-01T07:00:48.309545Z",
     "iopub.status.busy": "2021-06-01T07:00:48.309025Z",
     "iopub.status.idle": "2021-06-01T07:00:48.338838Z",
     "shell.execute_reply": "2021-06-01T07:00:48.338337Z"
    },
    "tags": []
   },
   "outputs": [],
   "source": [
    "bi_co_sa = pd.read_csv(\"../output/01_comparison_sample.tsv\", \"\\t\", index_col=0)\n",
    "\n",
    "nu_se_sa = pd.read_csv(\"../output/number_set_sample.tsv\", \"\\t\", index_col=0)"
   ]
  },
  {
   "cell_type": "code",
   "execution_count": null,
   "metadata": {
    "execution": {
     "iopub.execute_input": "2021-06-01T07:00:48.342154Z",
     "iopub.status.busy": "2021-06-01T07:00:48.341546Z",
     "iopub.status.idle": "2021-06-01T07:00:48.360809Z",
     "shell.execute_reply": "2021-06-01T07:00:48.361339Z"
    },
    "tags": []
   },
   "outputs": [],
   "source": [
    "title = \"Summary\"\n",
    "\n",
    "bl_se_ = {\n",
    "    \"Peek\": SETTING[\"se_\"],\n",
    "}"
   ]
  },
  {
   "cell_type": "code",
   "execution_count": null,
   "metadata": {
    "execution": {
     "iopub.execute_input": "2021-06-01T07:00:48.367043Z",
     "iopub.status.busy": "2021-06-01T07:00:48.366457Z",
     "iopub.status.idle": "2021-06-01T07:00:48.832691Z",
     "shell.execute_reply": "2021-06-01T07:00:48.833251Z"
    },
    "tags": []
   },
   "outputs": [],
   "source": [
    "for co, ta in bi_co_sa.iterrows():\n",
    "\n",
    "    ta.dropna(inplace=True)\n",
    "\n",
    "    simi = np.unique(ta, return_counts=True)[1].min()\n",
    "\n",
    "    fu, sire = kraft.information.get_ic, 2\n",
    "\n",
    "    if simi < sire:\n",
    "\n",
    "        continue\n",
    "\n",
    "    pa = \"../output/summarize_set/{}/\".format(kraft.path.clean(co))\n",
    "\n",
    "    kraft.path.make(pa)\n",
    "\n",
    "    bu_ = []\n",
    "\n",
    "    for bl, se_ in bl_se_.items():\n",
    "\n",
    "        bu_.append(\n",
    "            {\n",
    "                \"name\": bl,\n",
    "                \"data\": nu_se_sa.reindex(se_),\n",
    "                \"type\": \"continuous\",\n",
    "                \"statistic\": pd.read_csv(\n",
    "                    \"../output/compare_set/{}/{}/statistic.tsv\".format(\n",
    "                        kraft.path.clean(co), fu.__name__\n",
    "                    ),\n",
    "                    \"\\t\",\n",
    "                    index_col=0,\n",
    "                ),\n",
    "            }\n",
    "        )\n",
    "\n",
    "    kraft.function_heat_map.summarize(\n",
    "        ta,\n",
    "        bu_,\n",
    "        ty=\"binary\",\n",
    "        st=SETTING[\"st\"],\n",
    "        title=title,\n",
    "        pa=\"{}{}.html\".format(pa, kraft.path.clean(title)),\n",
    "    )"
   ]
  }
 ],
 "metadata": {
  "kernelspec": {
   "display_name": "Python 3",
   "language": "python",
   "name": "python3"
  },
  "language_info": {
   "codemirror_mode": {
    "name": "ipython",
    "version": 3
   },
   "file_extension": ".py",
   "mimetype": "text/x-python",
   "name": "python",
   "nbconvert_exporter": "python",
   "pygments_lexer": "ipython3",
   "version": "3.8.9"
  }
 },
 "nbformat": 4,
 "nbformat_minor": 4
}
