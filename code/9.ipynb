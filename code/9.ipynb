{
 "cells": [
  {
   "cell_type": "code",
   "execution_count": null,
   "metadata": {
    "execution": {
     "iopub.execute_input": "2021-06-03T06:33:16.118365Z",
     "iopub.status.busy": "2021-06-03T06:33:16.117019Z",
     "iopub.status.idle": "2021-06-03T06:33:16.128260Z",
     "shell.execute_reply": "2021-06-03T06:33:16.128641Z"
    },
    "tags": []
   },
   "outputs": [],
   "source": [
    "%load_ext autoreload\n",
    "%autoreload 2"
   ]
  },
  {
   "cell_type": "code",
   "execution_count": null,
   "metadata": {
    "execution": {
     "iopub.execute_input": "2021-06-03T06:33:16.132171Z",
     "iopub.status.busy": "2021-06-03T06:33:16.131667Z",
     "iopub.status.idle": "2021-06-03T06:33:16.754391Z",
     "shell.execute_reply": "2021-06-03T06:33:16.754803Z"
    },
    "tags": []
   },
   "outputs": [],
   "source": [
    "from __init__ import *"
   ]
  },
  {
   "cell_type": "code",
   "execution_count": null,
   "metadata": {
    "execution": {
     "iopub.execute_input": "2021-06-03T06:33:16.758690Z",
     "iopub.status.busy": "2021-06-03T06:33:16.758045Z",
     "iopub.status.idle": "2021-06-03T06:33:16.842075Z",
     "shell.execute_reply": "2021-06-03T06:33:16.842506Z"
    },
    "tags": []
   },
   "outputs": [],
   "source": [
    "bi_co_sa = pd.read_csv(\"../output/01_comparison_sample.tsv\", \"\\t\", index_col=0)\n",
    "\n",
    "nu_fe_sa = pd.read_csv(\"../output/number_feature_sample.tsv\", \"\\t\", index_col=0)\n",
    "\n",
    "sc_se_sa = pd.read_csv(\"../output/score_set_sample.tsv\", \"\\t\", index_col=0)"
   ]
  },
  {
   "cell_type": "code",
   "execution_count": null,
   "metadata": {
    "execution": {
     "iopub.execute_input": "2021-06-03T06:33:16.845863Z",
     "iopub.status.busy": "2021-06-03T06:33:16.845273Z",
     "iopub.status.idle": "2021-06-03T06:33:16.864245Z",
     "shell.execute_reply": "2021-06-03T06:33:16.864683Z"
    },
    "tags": []
   },
   "outputs": [],
   "source": [
    "title = \"Summary\""
   ]
  },
  {
   "cell_type": "code",
   "execution_count": null,
   "metadata": {
    "execution": {
     "iopub.execute_input": "2021-06-03T06:33:16.870201Z",
     "iopub.status.busy": "2021-06-03T06:33:16.869602Z",
     "iopub.status.idle": "2021-06-03T06:33:17.584686Z",
     "shell.execute_reply": "2021-06-03T06:33:17.584220Z"
    },
    "tags": []
   },
   "outputs": [],
   "source": [
    "for (co, ta), bl_se_ in zip(bi_co_sa.iterrows(), SETTING[\"su_\"]):\n",
    "\n",
    "    ta.dropna(inplace=True)\n",
    "\n",
    "    fu = kraft.information.get_ic\n",
    "\n",
    "    pa = \"../output/summarize_set/{}/\".format(kraft.path.clean(co))\n",
    "\n",
    "    kraft.path.make(pa)\n",
    "\n",
    "    bu_ = []\n",
    "\n",
    "    for bl, se_ in bl_se_.items():\n",
    "\n",
    "        bu_.append(\n",
    "            {\n",
    "                \"name\": bl,\n",
    "                \"data\": pd.concat([nu_fe_sa, sc_se_sa]).reindex(se_),\n",
    "                \"type\": \"continuous\",\n",
    "                \"statistic\": read_statistic(kraft.path.clean(co), fu.__name__),\n",
    "            }\n",
    "        )\n",
    "\n",
    "    kraft.function_heat_map.summarize(\n",
    "        ta,\n",
    "        bu_,\n",
    "        ty=\"binary\",\n",
    "        st=SETTING[\"st\"],\n",
    "        title=title,\n",
    "        pa=\"{}{}.html\".format(pa, kraft.path.clean(title)),\n",
    "    )"
   ]
  }
 ],
 "metadata": {
  "kernelspec": {
   "display_name": "Python 3",
   "language": "python",
   "name": "python3"
  },
  "language_info": {
   "codemirror_mode": {
    "name": "ipython",
    "version": 3
   },
   "file_extension": ".py",
   "mimetype": "text/x-python",
   "name": "python",
   "nbconvert_exporter": "python",
   "pygments_lexer": "ipython3",
   "version": "3.8.9"
  }
 },
 "nbformat": 4,
 "nbformat_minor": 4
}
