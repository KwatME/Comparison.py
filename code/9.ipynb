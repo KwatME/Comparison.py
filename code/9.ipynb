{
 "cells": [
  {
   "cell_type": "code",
   "execution_count": null,
   "metadata": {
    "execution": {
     "iopub.execute_input": "2021-06-05T23:13:00.513964Z",
     "iopub.status.busy": "2021-06-05T23:13:00.513293Z",
     "iopub.status.idle": "2021-06-05T23:13:00.526291Z",
     "shell.execute_reply": "2021-06-05T23:13:00.526744Z"
    },
    "tags": []
   },
   "outputs": [],
   "source": [
    "%load_ext autoreload\n",
    "%autoreload 2"
   ]
  },
  {
   "cell_type": "code",
   "execution_count": null,
   "metadata": {
    "execution": {
     "iopub.execute_input": "2021-06-05T23:13:00.530214Z",
     "iopub.status.busy": "2021-06-05T23:13:00.529618Z",
     "iopub.status.idle": "2021-06-05T23:13:01.060076Z",
     "shell.execute_reply": "2021-06-05T23:13:01.060473Z"
    },
    "tags": []
   },
   "outputs": [],
   "source": [
    "from __init__ import *"
   ]
  },
  {
   "cell_type": "code",
   "execution_count": null,
   "metadata": {
    "execution": {
     "iopub.execute_input": "2021-06-05T23:13:01.063950Z",
     "iopub.status.busy": "2021-06-05T23:13:01.063390Z",
     "iopub.status.idle": "2021-06-05T23:13:01.112966Z",
     "shell.execute_reply": "2021-06-05T23:13:01.113358Z"
    },
    "tags": []
   },
   "outputs": [],
   "source": [
    "bi_co_sa = pd.read_csv(\"../output/01_comparison_sample.tsv\", \"\\t\", index_col=0)\n",
    "\n",
    "nu_fe_sa = pd.read_csv(\"../output/number_feature_sample.tsv\", \"\\t\", index_col=0)\n",
    "\n",
    "sc_se_sa = pd.read_csv(\"../output/score_set_sample.tsv\", \"\\t\", index_col=0)"
   ]
  },
  {
   "cell_type": "code",
   "execution_count": null,
   "metadata": {
    "execution": {
     "iopub.execute_input": "2021-06-05T23:13:01.116337Z",
     "iopub.status.busy": "2021-06-05T23:13:01.115792Z",
     "iopub.status.idle": "2021-06-05T23:13:01.132400Z",
     "shell.execute_reply": "2021-06-05T23:13:01.132747Z"
    },
    "tags": []
   },
   "outputs": [],
   "source": [
    "title = \"Summary\""
   ]
  },
  {
   "cell_type": "code",
   "execution_count": null,
   "metadata": {
    "execution": {
     "iopub.execute_input": "2021-06-05T23:13:01.137993Z",
     "iopub.status.busy": "2021-06-05T23:13:01.137388Z",
     "iopub.status.idle": "2021-06-05T23:13:01.483516Z",
     "shell.execute_reply": "2021-06-05T23:13:01.483110Z"
    },
    "tags": []
   },
   "outputs": [],
   "source": [
    "for (co, ta), bl_se_ in zip(bi_co_sa.iterrows(), SETTING[\"su_\"]):\n",
    "\n",
    "    ta.dropna(inplace=True)\n",
    "\n",
    "    fu = kraft.information.get_ic\n",
    "\n",
    "    pa = \"../output/summarize_set/{}/\".format(kraft.path.clean(co))\n",
    "\n",
    "    kraft.path.make(pa)\n",
    "\n",
    "    bu_ = []\n",
    "\n",
    "    for bl, se_ in bl_se_.items():\n",
    "\n",
    "        bu_.append(\n",
    "            {\n",
    "                \"name\": bl,\n",
    "                \"data\": pd.concat([nu_fe_sa, sc_se_sa]).reindex(se_),\n",
    "                \"type\": \"continuous\",\n",
    "                \"statistic\": read_statistic(kraft.path.clean(co), fu.__name__),\n",
    "            }\n",
    "        )\n",
    "\n",
    "    kraft.function_heat_map.summarize(\n",
    "        ta,\n",
    "        bu_,\n",
    "        ty=\"binary\",\n",
    "        st=SETTING[\"st\"],\n",
    "        title=title,\n",
    "        pa=\"{}{}.html\".format(pa, kraft.path.clean(title)),\n",
    "    )"
   ]
  }
 ],
 "metadata": {
  "kernelspec": {
   "display_name": "Python 3",
   "language": "python",
   "name": "python3"
  },
  "language_info": {
   "codemirror_mode": {
    "name": "ipython",
    "version": 3
   },
   "file_extension": ".py",
   "mimetype": "text/x-python",
   "name": "python",
   "nbconvert_exporter": "python",
   "pygments_lexer": "ipython3",
   "version": "3.8.9"
  }
 },
 "nbformat": 4,
 "nbformat_minor": 4
}
