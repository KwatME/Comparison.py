{
 "cells": [
  {
   "cell_type": "code",
   "execution_count": null,
   "metadata": {
    "execution": {
     "iopub.execute_input": "2021-06-05T23:12:55.473310Z",
     "iopub.status.busy": "2021-06-05T23:12:55.472588Z",
     "iopub.status.idle": "2021-06-05T23:12:55.485228Z",
     "shell.execute_reply": "2021-06-05T23:12:55.485668Z"
    },
    "tags": []
   },
   "outputs": [],
   "source": [
    "%load_ext autoreload\n",
    "%autoreload 2"
   ]
  },
  {
   "cell_type": "code",
   "execution_count": null,
   "metadata": {
    "execution": {
     "iopub.execute_input": "2021-06-05T23:12:55.489198Z",
     "iopub.status.busy": "2021-06-05T23:12:55.488596Z",
     "iopub.status.idle": "2021-06-05T23:12:56.012191Z",
     "shell.execute_reply": "2021-06-05T23:12:56.012573Z"
    },
    "tags": []
   },
   "outputs": [],
   "source": [
    "from __init__ import *"
   ]
  },
  {
   "cell_type": "code",
   "execution_count": null,
   "metadata": {
    "execution": {
     "iopub.execute_input": "2021-06-05T23:12:56.016055Z",
     "iopub.status.busy": "2021-06-05T23:12:56.015505Z",
     "iopub.status.idle": "2021-06-05T23:12:56.718709Z",
     "shell.execute_reply": "2021-06-05T23:12:56.719245Z"
    },
    "tags": []
   },
   "outputs": [],
   "source": [
    "nu_fe_sa = pd.read_csv(\"../output/number_feature_sample.tsv\", \"\\t\", index_col=0)\n",
    "\n",
    "bi_co_sa = pd.read_csv(\"../output/01_comparison_sample.tsv\", \"\\t\", index_col=0)\n",
    "\n",
    "se_fe_ = kraft.gmt.read(kraft.path.list(\"../input/set/\"))\n",
    "\n",
    "sc_se_sa = pd.read_csv(\"../output/score_set_sample.tsv\", \"\\t\", index_col=0)"
   ]
  },
  {
   "cell_type": "code",
   "execution_count": null,
   "metadata": {
    "execution": {
     "iopub.execute_input": "2021-06-05T23:12:56.725643Z",
     "iopub.status.busy": "2021-06-05T23:12:56.724936Z",
     "iopub.status.idle": "2021-06-05T23:12:57.319340Z",
     "shell.execute_reply": "2021-06-05T23:12:57.319738Z"
    },
    "tags": []
   },
   "outputs": [],
   "source": [
    "for co, ta in bi_co_sa.iterrows():\n",
    "\n",
    "    ta.dropna(inplace=True)\n",
    "\n",
    "    fu = kraft.information.get_ic\n",
    "\n",
    "    st = read_statistic(kraft.path.clean(co), fu.__name__)\n",
    "\n",
    "    pa = \"../output/expand_set/{}/\".format(kraft.path.clean(co))\n",
    "\n",
    "    kraft.path.make(pa)\n",
    "\n",
    "    for se in SETTING[\"se_\"]:\n",
    "\n",
    "        pa2 = \"{}{}/\".format(pa, kraft.path.clean(se))\n",
    "\n",
    "        kraft.path.make(pa2)\n",
    "\n",
    "        kraft.function_heat_map.make(\n",
    "            ta,\n",
    "            pd.concat(\n",
    "                [\n",
    "                    nu_fe_sa.loc[nu_fe_sa.index.intersection(se_fe_[se])],\n",
    "                    sc_se_sa.loc[[se]],\n",
    "                ]\n",
    "            ),\n",
    "            st,\n",
    "            n_pl=None,\n",
    "            tyta=\"binary\",\n",
    "            st=SETTING[\"st\"],\n",
    "            title=se,\n",
    "            pa=pa2,\n",
    "        )"
   ]
  }
 ],
 "metadata": {
  "kernelspec": {
   "display_name": "Python 3",
   "language": "python",
   "name": "python3"
  },
  "language_info": {
   "codemirror_mode": {
    "name": "ipython",
    "version": 3
   },
   "file_extension": ".py",
   "mimetype": "text/x-python",
   "name": "python",
   "nbconvert_exporter": "python",
   "pygments_lexer": "ipython3",
   "version": "3.8.9"
  }
 },
 "nbformat": 4,
 "nbformat_minor": 4
}
