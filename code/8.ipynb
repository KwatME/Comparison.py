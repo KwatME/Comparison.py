{
 "cells": [
  {
   "cell_type": "code",
   "execution_count": null,
   "metadata": {
    "execution": {
     "iopub.execute_input": "2021-06-03T06:33:07.508728Z",
     "iopub.status.busy": "2021-06-03T06:33:07.507994Z",
     "iopub.status.idle": "2021-06-03T06:33:07.521666Z",
     "shell.execute_reply": "2021-06-03T06:33:07.522425Z"
    },
    "tags": []
   },
   "outputs": [],
   "source": [
    "%load_ext autoreload\n",
    "%autoreload 2"
   ]
  },
  {
   "cell_type": "code",
   "execution_count": null,
   "metadata": {
    "execution": {
     "iopub.execute_input": "2021-06-03T06:33:07.526643Z",
     "iopub.status.busy": "2021-06-03T06:33:07.525982Z",
     "iopub.status.idle": "2021-06-03T06:33:08.155377Z",
     "shell.execute_reply": "2021-06-03T06:33:08.155808Z"
    },
    "tags": []
   },
   "outputs": [],
   "source": [
    "from __init__ import *"
   ]
  },
  {
   "cell_type": "code",
   "execution_count": null,
   "metadata": {
    "execution": {
     "iopub.execute_input": "2021-06-03T06:33:08.159666Z",
     "iopub.status.busy": "2021-06-03T06:33:08.159077Z",
     "iopub.status.idle": "2021-06-03T06:33:08.989817Z",
     "shell.execute_reply": "2021-06-03T06:33:08.990256Z"
    },
    "tags": []
   },
   "outputs": [],
   "source": [
    "nu_fe_sa = pd.read_csv(\"../output/number_feature_sample.tsv\", \"\\t\", index_col=0)\n",
    "\n",
    "bi_co_sa = pd.read_csv(\"../output/01_comparison_sample.tsv\", \"\\t\", index_col=0)\n",
    "\n",
    "se_fe_ = kraft.gmt.read(kraft.path.list(\"../input/set/\"))\n",
    "\n",
    "sc_se_sa = pd.read_csv(\"../output/score_set_sample.tsv\", \"\\t\", index_col=0)"
   ]
  },
  {
   "cell_type": "code",
   "execution_count": null,
   "metadata": {
    "execution": {
     "iopub.execute_input": "2021-06-03T06:33:08.995992Z",
     "iopub.status.busy": "2021-06-03T06:33:08.995137Z",
     "iopub.status.idle": "2021-06-03T06:33:13.058865Z",
     "shell.execute_reply": "2021-06-03T06:33:13.059648Z"
    },
    "tags": []
   },
   "outputs": [],
   "source": [
    "for co, ta in bi_co_sa.iterrows():\n",
    "\n",
    "    ta.dropna(inplace=True)\n",
    "\n",
    "    fu = kraft.information.get_ic\n",
    "\n",
    "    st = read_statistic(kraft.path.clean(co), fu.__name__)\n",
    "\n",
    "    pa = \"../output/expand_set/{}/\".format(kraft.path.clean(co))\n",
    "\n",
    "    kraft.path.make(pa)\n",
    "\n",
    "    for se in SETTING[\"se_\"]:\n",
    "\n",
    "        pa2 = \"{}{}/\".format(pa, kraft.path.clean(se))\n",
    "\n",
    "        kraft.path.make(pa2)\n",
    "\n",
    "        kraft.function_heat_map.make(\n",
    "            ta,\n",
    "            pd.concat(\n",
    "                [\n",
    "                    nu_fe_sa.loc[nu_fe_sa.index.intersection(se_fe_[se])],\n",
    "                    sc_se_sa.loc[[se]],\n",
    "                ]\n",
    "            ),\n",
    "            st,\n",
    "            n_pl=None,\n",
    "            tyta=\"binary\",\n",
    "            st=SETTING[\"st\"],\n",
    "            title=se,\n",
    "            pa=pa2,\n",
    "        )"
   ]
  }
 ],
 "metadata": {
  "kernelspec": {
   "display_name": "Python 3",
   "language": "python",
   "name": "python3"
  },
  "language_info": {
   "codemirror_mode": {
    "name": "ipython",
    "version": 3
   },
   "file_extension": ".py",
   "mimetype": "text/x-python",
   "name": "python",
   "nbconvert_exporter": "python",
   "pygments_lexer": "ipython3",
   "version": "3.8.9"
  }
 },
 "nbformat": 4,
 "nbformat_minor": 4
}
