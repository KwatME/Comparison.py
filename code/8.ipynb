{
 "cells": [
  {
   "cell_type": "code",
   "execution_count": null,
   "metadata": {
    "tags": []
   },
   "outputs": [],
   "source": [
    "%load_ext autoreload\n",
    "%autoreload 2"
   ]
  },
  {
   "cell_type": "code",
   "execution_count": null,
   "metadata": {
    "tags": []
   },
   "outputs": [],
   "source": [
    "from __init__ import *"
   ]
  },
  {
   "cell_type": "code",
   "execution_count": null,
   "metadata": {
    "tags": []
   },
   "outputs": [],
   "source": [
    "nu_fe_sa = pd.read_csv(\"../output/number_feature_sample.tsv\", \"\\t\", index_col=0)\n",
    "\n",
    "bi_co_sa = pd.read_csv(\"../output/01_comparison_sample.tsv\", \"\\t\", index_col=0)\n",
    "\n",
    "se_fe_ = kraft.gmt.read(kraft.path.list(\"../input/set/\"))\n",
    "\n",
    "nu_se_sa = pd.read_csv(\"../output/number_set_sample.tsv\", \"\\t\", index_col=0)"
   ]
  },
  {
   "cell_type": "code",
   "execution_count": null,
   "metadata": {
    "tags": []
   },
   "outputs": [],
   "source": [
    "for co, ta in bi_co_sa.iterrows():\n",
    "\n",
    "    ta.dropna(inplace=True)\n",
    "\n",
    "    misi = np.unique(ta, return_counts=True)[1].min()\n",
    "\n",
    "    fu, mire = kraft.information.get_ic, 2\n",
    "\n",
    "    if misi < mire:\n",
    "\n",
    "        continue\n",
    "\n",
    "    na = fu.__name__\n",
    "\n",
    "    te = \"../output/compare_{{}}/{}/{}/statistic.tsv\".format(kraft.path.clean(co), na)\n",
    "\n",
    "    fu = pd.concat(\n",
    "        (\n",
    "            pd.read_csv(\n",
    "                te.format(\"feature\"),\n",
    "                \"\\t\",\n",
    "                index_col=0,\n",
    "            ),\n",
    "            pd.read_csv(\n",
    "                te.format(\"set\"),\n",
    "                \"\\t\",\n",
    "                index_col=0,\n",
    "            ),\n",
    "        )\n",
    "    )\n",
    "\n",
    "    pa = \"../output/expand_set/{}/\".format(kraft.path.clean(co))\n",
    "\n",
    "    kraft.path.make(pa)\n",
    "\n",
    "    for se in SETTING[\"se_\"]:\n",
    "\n",
    "        pa2 = \"{}{}/\".format(pa, kraft.path.clean(se))\n",
    "\n",
    "        kraft.path.make(pa2)\n",
    "\n",
    "        kraft.function_heat_map.make(\n",
    "            ta,\n",
    "            pd.concat(\n",
    "                [\n",
    "                    nu_fe_sa.loc[nu_fe_sa.index.intersection(se_fe_[se])],\n",
    "                    nu_se_sa.loc[[se]],\n",
    "                ]\n",
    "            ),\n",
    "            fu,\n",
    "            n_pl=None,\n",
    "            tyta=\"binary\",\n",
    "            st=SETTING[\"st\"],\n",
    "            title=se,\n",
    "            pa=pa2,\n",
    "        )"
   ]
  }
 ],
 "metadata": {
  "kernelspec": {
   "display_name": "Python 3",
   "language": "python",
   "name": "python3"
  },
  "language_info": {
   "codemirror_mode": {
    "name": "ipython",
    "version": 3
   },
   "file_extension": ".py",
   "mimetype": "text/x-python",
   "name": "python",
   "nbconvert_exporter": "python",
   "pygments_lexer": "ipython3",
   "version": "3.8.9"
  }
 },
 "nbformat": 4,
 "nbformat_minor": 4
}
