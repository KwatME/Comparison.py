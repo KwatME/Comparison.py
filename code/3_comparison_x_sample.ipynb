{
 "cells": [
  {
   "cell_type": "code",
   "execution_count": null,
   "metadata": {
    "tags": []
   },
   "outputs": [],
   "source": [
    "%load_ext autoreload\n",
    "%autoreload 2"
   ]
  },
  {
   "cell_type": "code",
   "execution_count": null,
   "metadata": {
    "tags": []
   },
   "outputs": [],
   "source": [
    "from __init__ import *"
   ]
  },
  {
   "cell_type": "code",
   "execution_count": null,
   "metadata": {
    "tags": []
   },
   "outputs": [],
   "source": [
    "fxs = pd.read_csv(\"../input/feature_x_sample.tsv\", sep=\"\\t\", index_col=0)\n",
    "\n",
    "bfxs = pd.read_csv(\"../input/binary_feature_x_sample.tsv\", sep=\"\\t\", index_col=0)"
   ]
  },
  {
   "cell_type": "code",
   "execution_count": null,
   "metadata": {
    "tags": []
   },
   "outputs": [],
   "source": [
    "cxs = pd.DataFrame(columns=fxs.columns)\n",
    "\n",
    "for c in S[\"comparison_\"]:\n",
    "\n",
    "    if isinstance(c, str):\n",
    "\n",
    "        cxs.loc[c, :] = bfxs.loc[c, :]\n",
    "\n",
    "    else:\n",
    "\n",
    "        g0, g1 = c\n",
    "\n",
    "        c = \"{} vs {}\".format(\",\".join(g0), \",\".join(g1))\n",
    "\n",
    "        for f_, i in [[g0, 0], [g1, 1]]:\n",
    "\n",
    "            cxs.loc[c, bfxs.loc[f_].all()] = i\n",
    "\n",
    "cxs.index.name = \"Comparison\"\n",
    "\n",
    "cxs.to_csv(\"../output/comparison_x_sample.tsv\", sep=\"\\t\")\n",
    "\n",
    "cxs"
   ]
  }
 ],
 "metadata": {
  "kernelspec": {
   "display_name": "Python 3",
   "language": "python",
   "name": "python3"
  },
  "language_info": {
   "codemirror_mode": {
    "name": "ipython",
    "version": 3
   },
   "file_extension": ".py",
   "mimetype": "text/x-python",
   "name": "python",
   "nbconvert_exporter": "python",
   "pygments_lexer": "ipython3",
   "version": "3.8.9"
  }
 },
 "nbformat": 4,
 "nbformat_minor": 4
}
