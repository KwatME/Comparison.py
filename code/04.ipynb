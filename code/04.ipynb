{
 "cells": [
  {
   "cell_type": "code",
   "execution_count": null,
   "metadata": {},
   "outputs": [],
   "source": [
    "%load_ext autoreload\n",
    "%autoreload 2"
   ]
  },
  {
   "cell_type": "code",
   "execution_count": null,
   "metadata": {},
   "outputs": [],
   "source": [
    "from __init__ import *"
   ]
  },
  {
   "cell_type": "code",
   "execution_count": null,
   "metadata": {},
   "outputs": [],
   "source": [
    "feature_x_sample = pd.read_csv(\"../input/feature_x_sample.tsv\", sep=\"\\t\", index_col=0)\n",
    "\n",
    "comparison_x_sample = pd.read_csv(\n",
    "    \"../output/comparison_x_sample.tsv\", sep=\"\\t\", index_col=0\n",
    ")\n",
    "\n",
    "sets = kraft.gmt.read_many(kraft.path.list_(\"../input/set/\"))"
   ]
  },
  {
   "cell_type": "code",
   "execution_count": null,
   "metadata": {},
   "outputs": [],
   "source": [
    "set_x_information = pd.DataFrame(\n",
    "    data={\n",
    "        \"Selected\": False,\n",
    "        \"N\": tuple(len(features) for features in sets.values()),\n",
    "        \"n\": tuple(\n",
    "            sum(feature in feature_x_sample.index for feature in features)\n",
    "            for features in sets.values()\n",
    "        ),\n",
    "    },\n",
    "    index=sets,\n",
    ")\n",
    "\n",
    "set_x_information.loc[:, \".\"] = (\n",
    "    set_x_information.loc[:, \"n\"].to_numpy() / set_x_information.loc[:, \"N\"].to_numpy()\n",
    ")\n",
    "\n",
    "set_x_information"
   ]
  },
  {
   "cell_type": "code",
   "execution_count": null,
   "metadata": {},
   "outputs": [],
   "source": [
    "len(\n",
    "    set(\n",
    "        kraft.series.get_extreme_labels(\n",
    "            set_x_information.loc[:, \"n\"],\n",
    "            \">\",\n",
    "            low_and_high=(None, SETTING[\"set_n\"]),\n",
    "            plot=False,\n",
    "        )\n",
    "    ).intersection(\n",
    "        set(\n",
    "            kraft.series.get_extreme_labels(\n",
    "                set_x_information.loc[:, \".\"],\n",
    "                \">\",\n",
    "                low_and_high=(None, SETTING[\"set_.\"]),\n",
    "                plot=False,\n",
    "            )\n",
    "        )\n",
    "    )\n",
    ")"
   ]
  },
  {
   "cell_type": "code",
   "execution_count": null,
   "metadata": {},
   "outputs": [],
   "source": [
    "set_x_information.loc[\n",
    "    set(\n",
    "        kraft.series.get_extreme_labels(\n",
    "            set_x_information.loc[:, \"n\"],\n",
    "            \">\",\n",
    "            low_and_high=(None, SETTING[\"set_n\"]),\n",
    "            plot=False,\n",
    "        )\n",
    "    )\n",
    "    & set(\n",
    "        kraft.series.get_extreme_labels(\n",
    "            set_x_information.loc[:, \".\"],\n",
    "            \">\",\n",
    "            low_and_high=(None, SETTING[\"set_.\"]),\n",
    "            plot=False,\n",
    "        )\n",
    "    ),\n",
    "    \"Selected\",\n",
    "] = True"
   ]
  },
  {
   "cell_type": "code",
   "execution_count": null,
   "metadata": {},
   "outputs": [],
   "source": [
    "feature_pattern = \"YAP[0-9]*\"\n",
    "\n",
    "boundary_pattern = \"[\\s_]\"\n",
    "\n",
    "for set_ in sets:\n",
    "\n",
    "    if re.match(\n",
    "        r\"^{0}$|.*{1}{0}{1}.*|^{0}{1}.*|.*{1}{0}$\".format(\n",
    "            feature_pattern, boundary_pattern\n",
    "        ),\n",
    "        set_,\n",
    "    ):\n",
    "\n",
    "        print(set_)\n",
    "\n",
    "        set_x_information.loc[set_, \"Selected\"] = True"
   ]
  },
  {
   "cell_type": "code",
   "execution_count": null,
   "metadata": {},
   "outputs": [],
   "source": [
    "set_x_information.loc[SETTING[\"sets_to_peek\"], \"Selected\"] = True"
   ]
  },
  {
   "cell_type": "code",
   "execution_count": null,
   "metadata": {},
   "outputs": [],
   "source": [
    "set_x_information.loc[:, \"Selected\"].sum()"
   ]
  },
  {
   "cell_type": "code",
   "execution_count": null,
   "metadata": {},
   "outputs": [],
   "source": [
    "set_x_information.to_csv(\"../output/set_x_information.tsv\", sep=\"\\t\")\n",
    "\n",
    "set_x_information"
   ]
  },
  {
   "cell_type": "code",
   "execution_count": null,
   "metadata": {},
   "outputs": [],
   "source": [
    "set_x_information.reindex(SETTING[\"sets_to_peek\"])"
   ]
  }
 ],
 "metadata": {
  "kernelspec": {
   "display_name": "Python 3",
   "language": "python",
   "name": "python3"
  },
  "language_info": {
   "codemirror_mode": {
    "name": "ipython",
    "version": 3
   },
   "file_extension": ".py",
   "mimetype": "text/x-python",
   "name": "python",
   "nbconvert_exporter": "python",
   "pygments_lexer": "ipython3",
   "version": "3.7.8"
  }
 },
 "nbformat": 4,
 "nbformat_minor": 4
}
