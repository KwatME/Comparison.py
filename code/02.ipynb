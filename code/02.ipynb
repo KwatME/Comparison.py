{
 "cells": [
  {
   "cell_type": "code",
   "execution_count": null,
   "metadata": {},
   "outputs": [],
   "source": [
    "%load_ext autoreload\n",
    "%autoreload 2"
   ]
  },
  {
   "cell_type": "code",
   "execution_count": null,
   "metadata": {},
   "outputs": [],
   "source": [
    "from __init__ import *"
   ]
  },
  {
   "cell_type": "code",
   "execution_count": null,
   "metadata": {},
   "outputs": [],
   "source": [
    "gene_x_sample = pd.read_csv(\"../input/feature_x_sample.tsv\", sep=\"\\t\", index_col=0)"
   ]
  },
  {
   "cell_type": "code",
   "execution_count": null,
   "metadata": {},
   "outputs": [],
   "source": [
    "comparison_x_sample = (\n",
    "    pd.DataFrame(\n",
    "        {\n",
    "            comparison: groups.split()\n",
    "            for comparison, groups in SETTING[\"comparisons\"].items()\n",
    "        }\n",
    "    )\n",
    "    .replace(\"_\", np.nan)\n",
    "    .T\n",
    ")\n",
    "\n",
    "comparison_x_sample.columns = gene_x_sample.columns\n",
    "\n",
    "comparison_x_sample.to_csv(\"../output/comparison_x_sample.tsv\", sep=\"\\t\")\n",
    "\n",
    "comparison_x_sample"
   ]
  }
 ],
 "metadata": {
  "kernelspec": {
   "display_name": "Python 3",
   "language": "python",
   "name": "python3"
  },
  "language_info": {
   "codemirror_mode": {
    "name": "ipython",
    "version": 3
   },
   "file_extension": ".py",
   "mimetype": "text/x-python",
   "name": "python",
   "nbconvert_exporter": "python",
   "pygments_lexer": "ipython3",
   "version": "3.7.8"
  }
 },
 "nbformat": 4,
 "nbformat_minor": 4
}
