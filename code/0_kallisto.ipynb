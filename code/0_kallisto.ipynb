{
 "cells": [
  {
   "cell_type": "code",
   "execution_count": null,
   "metadata": {
    "ExecuteTime": {
     "end_time": "2018-07-09T07:10:38.299421Z",
     "start_time": "2018-07-09T07:10:38.287916Z"
    }
   },
   "outputs": [],
   "source": [
    "%load_ext autoreload\n",
    "%autoreload 2"
   ]
  },
  {
   "cell_type": "code",
   "execution_count": null,
   "metadata": {},
   "outputs": [],
   "source": [
    "from environment import *\n",
    "\n",
    "with open(\"setting.json\") as io:\n",
    "\n",
    "    SETTING = json.load(io)\n",
    "\n",
    "PATH = make_path_dict(SETTING)"
   ]
  },
  {
   "cell_type": "code",
   "execution_count": null,
   "metadata": {
    "ExecuteTime": {
     "end_time": "2018-07-09T07:10:42.984713Z",
     "start_time": "2018-07-09T07:10:40.165710Z"
    }
   },
   "outputs": [],
   "source": [
    "for sample_id, fastq_file_paths in SETTING[\"fastq_id_fastq_file_paths\"].items():\n",
    "\n",
    "    kraft.count_transcripts_using_kallisto_quant(\n",
    "        fastq_file_paths,\n",
    "        SETTING[\"reference_cdna_fasta_file_path\"],\n",
    "        os.path.join(PATH[\"kallisto/\"], sample_id),\n",
    "        n_job=SETTING[\"n_job\"],\n",
    "    )"
   ]
  }
 ],
 "metadata": {
  "@webio": {
   "lastCommId": null,
   "lastKernelId": null
  },
  "kernelspec": {
   "display_name": "Python 3",
   "language": "python",
   "name": "python3"
  },
  "language_info": {
   "codemirror_mode": {
    "name": "ipython",
    "version": 3
   },
   "file_extension": ".py",
   "mimetype": "text/x-python",
   "name": "python",
   "nbconvert_exporter": "python",
   "pygments_lexer": "ipython3",
   "version": "3.7.3"
  }
 },
 "nbformat": 4,
 "nbformat_minor": 2
}
