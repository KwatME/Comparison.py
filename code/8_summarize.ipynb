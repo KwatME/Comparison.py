{
 "cells": [
  {
   "cell_type": "code",
   "execution_count": null,
   "metadata": {},
   "outputs": [],
   "source": [
    "%load_ext autoreload\n",
    "%autoreload 2"
   ]
  },
  {
   "cell_type": "code",
   "execution_count": null,
   "metadata": {},
   "outputs": [],
   "source": [
    "from environment import *\n",
    "\n",
    "with open(\"setting.yaml\") as yaml_file:\n",
    "\n",
    "    SETTING = yaml.load(yaml_file)\n",
    "\n",
    "PATH = make_path_dict(SETTING)"
   ]
  },
  {
   "cell_type": "code",
   "execution_count": null,
   "metadata": {},
   "outputs": [],
   "source": [
    "target_x_sample = pd.read_csv(PATH[\"target_x_sample.tsv\"], sep=\"\\t\", index_col=0)\n",
    "\n",
    "gene_set_x_sample = pd.read_csv(PATH[\"gene_set_x_sample.tsv\"], sep=\"\\t\", index_col=0)"
   ]
  },
  {
   "cell_type": "code",
   "execution_count": null,
   "metadata": {},
   "outputs": [],
   "source": [
    "figure_name_data_name_indices = {\n",
    "    \"Figure 0\": {\n",
    "        \"Stemness and EMT Signatures\": [\n",
    "            \"Cancer Stem Cell\",\n",
    "            \"BENPORATH_ES_CORE_NINE\",\n",
    "            \"BENPORATH_ES_WITH_H3K27ME3\",\n",
    "            \"HOEBEKE_LYMPHOID_STEM_CELL_UP\",\n",
    "            \"IVANOVA_HEMATOPOIESIS_STEM_CELL_AND_PROGENITOR\",\n",
    "            \"MIKKELSEN_IPS_LCP_WITH_H3K4ME3\",\n",
    "            \"MIKKELSEN_IPS_WITH_HCP_H3K27ME3\",\n",
    "            \"GOTZMANN_EPITHELIAL_TO_MESENCHYMAL_TRANSITION_UP\",\n",
    "        ],\n",
    "        \"Oncogenic Signatures\": [\n",
    "            \"HALLMARK_NOTCH_SIGNALING\",\n",
    "            \"HALLMARK_TGF_BETA_SIGNALING\",\n",
    "            \"HALLMARK_E2F_TARGETS\",\n",
    "            \"HALLMARK_WNT_BETA_CATENIN_SIGNALING\",\n",
    "            \"BIOCARTA_WNT_PATHWAY\",\n",
    "            \"PRC2_EZH2_UP.V1_UP\",\n",
    "            \"E2F3_UP.V1_UP\",\n",
    "        ],\n",
    "    },\n",
    "    \"Figure 1\": {\n",
    "        \"NFkB Signatures\": [\n",
    "            \"HINATA_NFKB_TARGETS_KERATINOCYTE_UP\",\n",
    "            \"TIAN_TNF_SIGNALING_VIA_NFKB\",\n",
    "        ],\n",
    "        \"Differentiation Signatures\": [\n",
    "            \"RODRIGUES_THYROID_CARCINOMA_POORLY_DIFFERENTIATED_UP\",\n",
    "            \"MA_MYELOID_DIFFERENTIATION_UP\",\n",
    "            \"ADDYA_ERYTHROID_DIFFERENTIATION_BY_HEMIN\",\n",
    "        ],\n",
    "    },\n",
    "}"
   ]
  },
  {
   "cell_type": "code",
   "execution_count": null,
   "metadata": {},
   "outputs": [],
   "source": [
    "for target_name, target_values in target_x_sample.iterrows():\n",
    "\n",
    "    output_directory_path = \"{}/{}\".format(PATH[\"summary/\"], target_name)\n",
    "\n",
    "    ccal.establish_path(output_directory_path, \"directory\")\n",
    "\n",
    "    target_values = target_values[target_values != -1]\n",
    "\n",
    "    for figure_name, data_name_indices in figure_name_data_name_indices.items():\n",
    "\n",
    "        data_dicts = {}\n",
    "\n",
    "        score_moe_p_value_fdr_dicts = {}\n",
    "\n",
    "        for data_name, indices in data_name_indices.items():\n",
    "\n",
    "            data_dicts[data_name] = {\n",
    "                \"df\": gene_set_x_sample.loc[indices],\n",
    "                \"type\": \"continuous\",\n",
    "            }\n",
    "\n",
    "            score_moe_p_value_fdr_dicts[data_name] = pd.read_csv(\n",
    "                \"{}/{}/all.tsv\".format(\n",
    "                    PATH[\"differentially_expressed_gene_set/\"], target_name\n",
    "                ),\n",
    "                sep=\"\\t\",\n",
    "                index_col=0,\n",
    "            )\n",
    "\n",
    "        ccal.make_summary_match_panel(\n",
    "            target_values,\n",
    "            data_dicts,\n",
    "            score_moe_p_value_fdr_dicts,\n",
    "            target_type=\"binary\",\n",
    "            plot_std=SETTING[\"plot_std\"],\n",
    "            title=dict(text=\"{}<br>{}\".format(target_name, figure_name)),\n",
    "            xaxis_kwargs=dict(),\n",
    "            html_file_path=\"{}/{}.html\".format(output_directory_path, figure_name),\n",
    "        )"
   ]
  }
 ],
 "metadata": {
  "kernelspec": {
   "display_name": "Python 3",
   "language": "python",
   "name": "python3"
  },
  "language_info": {
   "codemirror_mode": {
    "name": "ipython",
    "version": 3
   },
   "file_extension": ".py",
   "mimetype": "text/x-python",
   "name": "python",
   "nbconvert_exporter": "python",
   "pygments_lexer": "ipython3",
   "version": "3.6.7"
  }
 },
 "nbformat": 4,
 "nbformat_minor": 2
}
