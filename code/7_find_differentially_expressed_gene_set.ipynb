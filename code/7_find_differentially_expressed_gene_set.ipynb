{
 "cells": [
  {
   "cell_type": "code",
   "execution_count": null,
   "metadata": {
    "ExecuteTime": {
     "end_time": "2018-07-10T08:51:32.206804Z",
     "start_time": "2018-07-10T08:51:32.189423Z"
    }
   },
   "outputs": [],
   "source": [
    "%load_ext autoreload\n",
    "%autoreload 2"
   ]
  },
  {
   "cell_type": "code",
   "execution_count": null,
   "metadata": {
    "ExecuteTime": {
     "end_time": "2018-07-10T08:51:35.021387Z",
     "start_time": "2018-07-10T08:51:32.209467Z"
    }
   },
   "outputs": [],
   "source": [
    "from environment import *\n",
    "\n",
    "with open(\"setting.yaml\") as yaml_file:\n",
    "\n",
    "    SETTING = yaml.load(yaml_file)\n",
    "\n",
    "PATH = make_path_dict(SETTING)"
   ]
  },
  {
   "cell_type": "code",
   "execution_count": null,
   "metadata": {},
   "outputs": [],
   "source": [
    "target_x_sample = pd.read_csv(PATH[\"target_x_sample.tsv\"], sep=\"\\t\", index_col=0)\n",
    "\n",
    "gene_set_x_sample = pd.read_csv(PATH[\"gene_set_x_sample.tsv\"], sep=\"\\t\", index_col=0)"
   ]
  },
  {
   "cell_type": "code",
   "execution_count": null,
   "metadata": {},
   "outputs": [],
   "source": [
    "make_match_panel_keyword_arguments = dict(\n",
    "    n_job=SETTING[\"n_job\"],\n",
    "    n_sampling=SETTING[\"n_sampling\"],\n",
    "    n_permutation=SETTING[\"n_permutation\"],\n",
    "    target_type=\"binary\",\n",
    "    plot_std=SETTING[\"plot_std\"],\n",
    ")\n",
    "\n",
    "for target_name, target_values in target_x_sample.iterrows():\n",
    "\n",
    "    output_directory_path = \"{}/{}\".format(\n",
    "        PATH[\"find_differentially_expressed_gene_set/\"], target_name\n",
    "    )\n",
    "\n",
    "    ccal.establish_path(output_directory_path, \"directory\")\n",
    "\n",
    "    target_values = target_values[target_values != -1]\n",
    "\n",
    "    file_path_prefix = \"{}/all\".format(output_directory_path)\n",
    "\n",
    "    ccal.make_match_panel(\n",
    "        target_values,\n",
    "        gene_set_x_sample,\n",
    "        n_extreme=SETTING[\"n_extreme\"],\n",
    "        title=\"All\",\n",
    "        file_path_prefix=file_path_prefix,\n",
    "        **make_match_panel_keyword_arguments,\n",
    "    )\n",
    "\n",
    "    score_moe_p_value_fdr = pd.read_csv(\n",
    "        \"{}.tsv\".format(file_path_prefix), sep=\"\\t\", index_col=0\n",
    "    )\n",
    "\n",
    "    for gene_set_file_path in SETTING[\"gene_set_file_paths\"]:\n",
    "\n",
    "        gene_set_name = gene_set_file_path.split(\"/\")[-1]\n",
    "\n",
    "        gmt = ccal.read_gmt(gene_set_file_path)\n",
    "\n",
    "        ccal.make_match_panel(\n",
    "            target_values,\n",
    "            gene_set_x_sample.reindex(index=gmt.index),\n",
    "            score_moe_p_value_fdr=score_moe_p_value_fdr,\n",
    "            n_extreme=SETTING[\"n_extreme\"],\n",
    "            title=gene_set_name,\n",
    "            file_path_prefix=\"{}/{}\".format(output_directory_path, gene_set_name),\n",
    "            **make_match_panel_keyword_arguments,\n",
    "        )\n",
    "\n",
    "    if SETTING[\"gene_sets_to_peek\"] is not None:\n",
    "\n",
    "        ccal.make_match_panel(\n",
    "            target_values,\n",
    "            gene_set_x_sample.reindex(index=SETTING[\"gene_sets_to_peek\"]),\n",
    "            score_moe_p_value_fdr=score_moe_p_value_fdr,\n",
    "            n_extreme=None,\n",
    "            title=\"Peek\",\n",
    "            file_path_prefix=\"{}/peek\".format(output_directory_path),\n",
    "            **make_match_panel_keyword_arguments,\n",
    "        )"
   ]
  }
 ],
 "metadata": {
  "kernelspec": {
   "display_name": "Python 3",
   "language": "python",
   "name": "python3"
  },
  "language_info": {
   "codemirror_mode": {
    "name": "ipython",
    "version": 3
   },
   "file_extension": ".py",
   "mimetype": "text/x-python",
   "name": "python",
   "nbconvert_exporter": "python",
   "pygments_lexer": "ipython3",
   "version": "3.6.7"
  }
 },
 "nbformat": 4,
 "nbformat_minor": 2
}
