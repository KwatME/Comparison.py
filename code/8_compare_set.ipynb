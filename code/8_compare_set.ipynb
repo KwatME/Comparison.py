{
 "cells": [
  {
   "cell_type": "code",
   "execution_count": null,
   "metadata": {
    "tags": []
   },
   "outputs": [],
   "source": [
    "%load_ext autoreload\n",
    "%autoreload 2"
   ]
  },
  {
   "cell_type": "code",
   "execution_count": null,
   "metadata": {
    "ExecuteTime": {
     "end_time": "2018-07-10T08:51:35.021387Z",
     "start_time": "2018-07-10T08:51:32.209467Z"
    },
    "tags": []
   },
   "outputs": [],
   "source": [
    "from __init__ import *"
   ]
  },
  {
   "cell_type": "code",
   "execution_count": null,
   "metadata": {},
   "outputs": [],
   "source": [
    "cxs = pd.read_csv(\"../output/comparison_x_sample.tsv\", sep=\"\\t\", index_col=0)\n",
    "\n",
    "sxs = pd.read_csv(\"../output/set_x_sample.tsv\", sep=\"\\t\", index_col=0)"
   ]
  },
  {
   "cell_type": "code",
   "execution_count": null,
   "metadata": {},
   "outputs": [],
   "source": [
    "ntstf_ = {}\n",
    "\n",
    "d = \"../input/set/\"\n",
    "\n",
    "for n in os.listdir(d):\n",
    "\n",
    "    ntstf_[n] = kraft.gmt.read(\"{}/{}\".format(d, n))"
   ]
  },
  {
   "cell_type": "code",
   "execution_count": null,
   "metadata": {},
   "outputs": [],
   "source": [
    "kwarg_ = {\n",
    "    \"v_data_type\": \"binary\",\n",
    "    \"plot_std\": S[\"plot_std\"],\n",
    "}\n",
    "\n",
    "for c, is_ in cxs.iterrows():\n",
    "\n",
    "    is_.dropna(inplace=True)\n",
    "\n",
    "    m = np.unique(is_, return_counts=True)[1].min()\n",
    "\n",
    "    for f, s in ((kraft.information.get_ic, 2),):\n",
    "\n",
    "        if m < s:\n",
    "\n",
    "            continue\n",
    "\n",
    "        d = \"../output/compare_set/{}/{}/\".format(c, f.__name__)\n",
    "\n",
    "        kraft.path.make(d)\n",
    "\n",
    "        s_ = kraft.function_heat_map.make(\n",
    "            is_,\n",
    "            sxs,\n",
    "            f,\n",
    "            n_job=S[\"n_job\"],\n",
    "            n_sample=S[\"n_sample\"],\n",
    "            n_shuffle=S[\"n_shuffle\"],\n",
    "            n_plot=S[\"n_extreme\"],\n",
    "            title=\"All ({})\".format(f.__name__),\n",
    "            directory_path=d,\n",
    "            **kwarg_,\n",
    "        )\n",
    "\n",
    "        if 0 < len(S[\"peek_set_\"]):\n",
    "\n",
    "            kraft.function_heat_map.make(\n",
    "                is_,\n",
    "                sxs.reindex(S[\"peek_set_\"]),\n",
    "                s_,\n",
    "                n_plot=None,\n",
    "                title=\"Peek ({})\".format(f.__name__),\n",
    "                **kwarg_,\n",
    "            )\n",
    "\n",
    "        for n, stf_ in ntstf_.items():\n",
    "\n",
    "            d2 = \"{}/{}/\".format(d, n)\n",
    "\n",
    "            kraft.path.make(d2)\n",
    "\n",
    "            cs_ = sxs.index.intersection(stf_)\n",
    "\n",
    "            if 0 < len(cs_):\n",
    "\n",
    "                kraft.function_heat_map.make(\n",
    "                    is_,\n",
    "                    sxs.loc[cs_, :],\n",
    "                    s_,\n",
    "                    n_plot=S[\"n_extreme\"],\n",
    "                    title=\"{} ({})\".format(n, f.__name__),\n",
    "                    directory_path=d_,\n",
    "                    **kwarg_,\n",
    "                )"
   ]
  }
 ],
 "metadata": {
  "kernelspec": {
   "display_name": "Python 3",
   "language": "python",
   "name": "python3"
  },
  "language_info": {
   "codemirror_mode": {
    "name": "ipython",
    "version": 3
   },
   "file_extension": ".py",
   "mimetype": "text/x-python",
   "name": "python",
   "nbconvert_exporter": "python",
   "pygments_lexer": "ipython3",
   "version": "3.8.9"
  }
 },
 "nbformat": 4,
 "nbformat_minor": 4
}
