{
 "cells": [
  {
   "cell_type": "code",
   "execution_count": null,
   "metadata": {
    "ExecuteTime": {
     "end_time": "2018-07-10T08:51:32.206804Z",
     "start_time": "2018-07-10T08:51:32.189423Z"
    }
   },
   "outputs": [],
   "source": [
    "%load_ext autoreload\n",
    "%autoreload 2"
   ]
  },
  {
   "cell_type": "code",
   "execution_count": null,
   "metadata": {
    "ExecuteTime": {
     "end_time": "2018-07-10T08:51:35.021387Z",
     "start_time": "2018-07-10T08:51:32.209467Z"
    }
   },
   "outputs": [],
   "source": [
    "from environment import *\n",
    "from setting import *"
   ]
  },
  {
   "cell_type": "code",
   "execution_count": null,
   "metadata": {},
   "outputs": [],
   "source": [
    "target_x_sample = pd.read_table(\n",
    "    PATH_DICT['target_x_sample_file_path'],\n",
    "    index_col=0,\n",
    ")\n",
    "\n",
    "gene_set_x_sample = pd.read_table(\n",
    "    PATH_DICT['gene_set_x_sample_file_path'],\n",
    "    index_col=0,\n",
    ")"
   ]
  },
  {
   "cell_type": "code",
   "execution_count": null,
   "metadata": {},
   "outputs": [],
   "source": [
    "make_match_panel_keyword_arguments = dict(\n",
    "    n_job=N_JOB,\n",
    "    target_ascending=TARGET_ASCENDING,\n",
    "    n_sampling=N_SAMPLING,\n",
    "    n_permutation=N_PERMUTATION,\n",
    "    target_type=TARGET_TYPE,\n",
    "    plot_std=PLOT_STD,\n",
    ")\n",
    "\n",
    "for target_name, target_values in target_x_sample.iterrows():\n",
    "    \n",
    "    output_directory_path = '{}/{}'.format(\n",
    "        PATH_DICT['differentially_expressed_gene_set_directory_path'],\n",
    "        target_name,\n",
    "    )\n",
    "    \n",
    "    ccal.establish_path(\n",
    "        output_directory_path,\n",
    "        'directory',\n",
    "    )\n",
    "    \n",
    "    target_values = target_values[target_values != -1]\n",
    "    \n",
    "    score_moe_p_value_fdr = ccal.make_match_panel(\n",
    "        target_values, \n",
    "        gene_set_x_sample,\n",
    "        extreme_feature_threshold=EXTREME_FEATURE_THRESHOLD,\n",
    "        title='All',\n",
    "        file_path_prefix='{}/all'.format(output_directory_path),\n",
    "        **make_match_panel_keyword_arguments,\n",
    "    )\n",
    "    \n",
    "    for gene_set_file_path in PATH_DICT['gene_set_file_paths']:\n",
    "        \n",
    "        gene_set_name = gene_set_file_path.split('/')[-1]\n",
    "        \n",
    "        gmt = ccal.read_gmt(gene_set_file_path)\n",
    "        \n",
    "        score_moe_p_value_fdr_ = ccal.make_match_panel(\n",
    "            target_values, \n",
    "            gene_set_x_sample.reindex(index=gmt.index),\n",
    "            score_moe_p_value_fdr=score_moe_p_value_fdr,\n",
    "            extreme_feature_threshold=EXTREME_FEATURE_THRESHOLD,\n",
    "            title=gene_set_name,\n",
    "            file_path_prefix='{}/{}'.format(\n",
    "                output_directory_path,\n",
    "                gene_set_name,\n",
    "            ),\n",
    "            **make_match_panel_keyword_arguments,\n",
    "        )\n",
    "        \n",
    "    score_moe_p_value_fdr_ = ccal.make_match_panel(\n",
    "        target_values, \n",
    "        gene_set_x_sample.reindex(index=GENE_SET_TO_PEEK),\n",
    "        score_moe_p_value_fdr=score_moe_p_value_fdr,\n",
    "        extreme_feature_threshold=None,\n",
    "        title='peek',\n",
    "        file_path_prefix='{}/peek'.format(output_directory_path),\n",
    "        **make_match_panel_keyword_arguments,\n",
    "    )"
   ]
  }
 ],
 "metadata": {
  "kernelspec": {
   "display_name": "Python 3",
   "language": "python",
   "name": "python3"
  },
  "language_info": {
   "codemirror_mode": {
    "name": "ipython",
    "version": 3
   },
   "file_extension": ".py",
   "mimetype": "text/x-python",
   "name": "python",
   "nbconvert_exporter": "python",
   "pygments_lexer": "ipython3",
   "version": "3.6.6"
  }
 },
 "nbformat": 4,
 "nbformat_minor": 2
}
