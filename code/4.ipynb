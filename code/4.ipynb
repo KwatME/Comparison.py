{
 "cells": [
  {
   "cell_type": "code",
   "execution_count": null,
   "metadata": {
    "execution": {
     "iopub.execute_input": "2021-05-28T06:04:40.464963Z",
     "iopub.status.busy": "2021-05-28T06:04:40.464192Z",
     "iopub.status.idle": "2021-05-28T06:04:40.479273Z",
     "shell.execute_reply": "2021-05-28T06:04:40.479717Z"
    },
    "tags": []
   },
   "outputs": [],
   "source": [
    "%load_ext autoreload\n",
    "%autoreload 2"
   ]
  },
  {
   "cell_type": "code",
   "execution_count": null,
   "metadata": {
    "execution": {
     "iopub.execute_input": "2021-05-28T06:04:40.483225Z",
     "iopub.status.busy": "2021-05-28T06:04:40.482620Z",
     "iopub.status.idle": "2021-05-28T06:04:41.181398Z",
     "shell.execute_reply": "2021-05-28T06:04:41.181794Z"
    },
    "tags": []
   },
   "outputs": [],
   "source": [
    "from __init__ import *"
   ]
  },
  {
   "cell_type": "code",
   "execution_count": null,
   "metadata": {
    "execution": {
     "iopub.execute_input": "2021-05-28T06:04:41.185319Z",
     "iopub.status.busy": "2021-05-28T06:04:41.184770Z",
     "iopub.status.idle": "2021-05-28T06:04:41.843024Z",
     "shell.execute_reply": "2021-05-28T06:04:41.843451Z"
    },
    "tags": []
   },
   "outputs": [],
   "source": [
    "fxs = pd.read_csv(\"../input/feature_x_sample.tsv\", sep=\"\\t\", index_col=0)\n",
    "\n",
    "cxs = pd.read_csv(\"../output/comparison_x_sample.tsv\", sep=\"\\t\", index_col=0)\n",
    "\n",
    "stf_ = kraft.gmt.read(kraft.path.list_directory(\"../input/set/\"))"
   ]
  },
  {
   "cell_type": "code",
   "execution_count": null,
   "metadata": {
    "execution": {
     "iopub.execute_input": "2021-05-28T06:04:41.847698Z",
     "iopub.status.busy": "2021-05-28T06:04:41.847112Z",
     "iopub.status.idle": "2021-05-28T06:04:43.517560Z",
     "shell.execute_reply": "2021-05-28T06:04:43.517931Z"
    },
    "tags": []
   },
   "outputs": [],
   "source": [
    "f__ = stf_.values()\n",
    "\n",
    "sxi = pd.DataFrame(\n",
    "    {\n",
    "        \"Selected\": False,\n",
    "        \"N\": [len(f_) for f_ in f__],\n",
    "        \"n\": [sum(f in fxs.index for f in f_) for f_ in f__],\n",
    "    },\n",
    "    index=stf_,\n",
    ")\n",
    "\n",
    "sxi.loc[:, \".\"] = sxi.loc[:, \"n\"] / sxi.loc[:, \"N\"]\n",
    "\n",
    "sxi"
   ]
  },
  {
   "cell_type": "code",
   "execution_count": null,
   "metadata": {
    "execution": {
     "iopub.execute_input": "2021-05-28T06:04:43.521533Z",
     "iopub.status.busy": "2021-05-28T06:04:43.521023Z",
     "iopub.status.idle": "2021-05-28T06:04:43.540848Z",
     "shell.execute_reply": "2021-05-28T06:04:43.541229Z"
    },
    "tags": []
   },
   "outputs": [],
   "source": [
    "sxi.loc[\n",
    "    kraft.array.check_is_extreme(\n",
    "        sxi.loc[:, \"n\"].to_numpy(),\n",
    "        \">\",\n",
    "        threshold_=[None, S[\"n_set\"]],\n",
    "    )\n",
    "    & kraft.array.check_is_extreme(\n",
    "        sxi.loc[:, \".\"].to_numpy(),\n",
    "        \">\",\n",
    "        threshold_=[None, S[\"._set\"]],\n",
    "    ),\n",
    "    \"Selected\",\n",
    "] = True"
   ]
  },
  {
   "cell_type": "code",
   "execution_count": null,
   "metadata": {
    "execution": {
     "iopub.execute_input": "2021-05-28T06:04:43.544479Z",
     "iopub.status.busy": "2021-05-28T06:04:43.543939Z",
     "iopub.status.idle": "2021-05-28T06:04:43.566179Z",
     "shell.execute_reply": "2021-05-28T06:04:43.566652Z"
    }
   },
   "outputs": [],
   "source": [
    "sxi.loc[S[\"peek_set_\"], \"Selected\"] = True"
   ]
  },
  {
   "cell_type": "code",
   "execution_count": null,
   "metadata": {
    "execution": {
     "iopub.execute_input": "2021-05-28T06:04:43.570027Z",
     "iopub.status.busy": "2021-05-28T06:04:43.569447Z",
     "iopub.status.idle": "2021-05-28T06:04:43.592288Z",
     "shell.execute_reply": "2021-05-28T06:04:43.592709Z"
    }
   },
   "outputs": [],
   "source": [
    "sxi.loc[:, \"Selected\"].sum()"
   ]
  },
  {
   "cell_type": "code",
   "execution_count": null,
   "metadata": {
    "execution": {
     "iopub.execute_input": "2021-05-28T06:04:43.595672Z",
     "iopub.status.busy": "2021-05-28T06:04:43.595083Z",
     "iopub.status.idle": "2021-05-28T06:04:43.693737Z",
     "shell.execute_reply": "2021-05-28T06:04:43.694140Z"
    }
   },
   "outputs": [],
   "source": [
    "sxi.to_csv(\"../output/set_x_information.tsv\", sep=\"\\t\")\n",
    "\n",
    "sxi"
   ]
  },
  {
   "cell_type": "code",
   "execution_count": null,
   "metadata": {
    "execution": {
     "iopub.execute_input": "2021-05-28T06:04:43.697301Z",
     "iopub.status.busy": "2021-05-28T06:04:43.696781Z",
     "iopub.status.idle": "2021-05-28T06:04:43.719007Z",
     "shell.execute_reply": "2021-05-28T06:04:43.719365Z"
    }
   },
   "outputs": [],
   "source": [
    "sxi.loc[S[\"peek_set_\"], :]"
   ]
  },
  {
   "cell_type": "code",
   "execution_count": null,
   "metadata": {
    "execution": {
     "iopub.execute_input": "2021-05-28T06:04:43.722284Z",
     "iopub.status.busy": "2021-05-28T06:04:43.721795Z",
     "iopub.status.idle": "2021-05-28T06:04:43.826427Z",
     "shell.execute_reply": "2021-05-28T06:04:43.826801Z"
    }
   },
   "outputs": [],
   "source": [
    "for s in stf_:\n",
    "\n",
    "    if re.match(\n",
    "        r\"^{0}$|.*{1}{0}{1}.*|^{0}{1}.*|.*{1}{0}$\".format(\"FATIGUE[0-9]*\", \"[\\s_]\"),\n",
    "        s,\n",
    "    ):\n",
    "\n",
    "        print(s)"
   ]
  }
 ],
 "metadata": {
  "kernelspec": {
   "display_name": "Python 3",
   "language": "python",
   "name": "python3"
  },
  "language_info": {
   "codemirror_mode": {
    "name": "ipython",
    "version": 3
   },
   "file_extension": ".py",
   "mimetype": "text/x-python",
   "name": "python",
   "nbconvert_exporter": "python",
   "pygments_lexer": "ipython3",
   "version": "3.8.9"
  }
 },
 "nbformat": 4,
 "nbformat_minor": 4
}
