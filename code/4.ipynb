{
 "cells": [
  {
   "cell_type": "code",
   "execution_count": null,
   "metadata": {
    "tags": []
   },
   "outputs": [],
   "source": [
    "%load_ext autoreload\n",
    "%autoreload 2"
   ]
  },
  {
   "cell_type": "code",
   "execution_count": null,
   "metadata": {
    "tags": []
   },
   "outputs": [],
   "source": [
    "from __init__ import *"
   ]
  },
  {
   "cell_type": "code",
   "execution_count": null,
   "metadata": {
    "tags": []
   },
   "outputs": [],
   "source": [
    "nu_fe_sa = pd.read_csv(\"../output/number_feature_sample.tsv\", sep=\"\\t\", index_col=0)\n",
    "\n",
    "bi_co_sa = pd.read_csv(\"../output/01_comparison_sample.tsv\", sep=\"\\t\", index_col=0)\n",
    "\n",
    "se_fe_ = kraft.gmt.read(kraft.path.list(\"../input/set/\"))"
   ]
  },
  {
   "cell_type": "code",
   "execution_count": null,
   "metadata": {
    "tags": []
   },
   "outputs": [],
   "source": [
    "fe__ = se_fe_.values()\n",
    "\n",
    "nu_se_in = pd.DataFrame(\n",
    "    {\n",
    "        \"Selected\": False,\n",
    "        \"N\": [len(fe_) for fe_ in fe__],\n",
    "        \"n\": [sum(fe in nu_fe_sa.index for fe in fe_) for fe_ in fe__],\n",
    "    },\n",
    "    se_fe_,\n",
    ")\n",
    "\n",
    "nu_se_in.loc[:, \".\"] = nu_se_in.loc[:, \"n\"] / nu_se_in.loc[:, \"N\"]\n",
    "\n",
    "nu_se_in"
   ]
  },
  {
   "cell_type": "code",
   "execution_count": null,
   "metadata": {
    "tags": []
   },
   "outputs": [],
   "source": [
    "nu_se_in.loc[\n",
    "    kraft.array.check_is_extreme(\n",
    "        nu_se_in.loc[:, \"n\"].values,\n",
    "        \">\",\n",
    "        th_=[None, SETTING[\"n_ge\"]],\n",
    "    )\n",
    "    & kraft.array.check_is_extreme(\n",
    "        nu_se_in.loc[:, \".\"].values,\n",
    "        \">\",\n",
    "        th_=[None, SETTING[\"._ge\"]],\n",
    "    ),\n",
    "    \"Selected\",\n",
    "] = True"
   ]
  },
  {
   "cell_type": "code",
   "execution_count": null,
   "metadata": {},
   "outputs": [],
   "source": [
    "nu_se_in.loc[SETTING[\"se_\"], \"Selected\"] = True"
   ]
  },
  {
   "cell_type": "code",
   "execution_count": null,
   "metadata": {},
   "outputs": [],
   "source": [
    "nu_se_in.loc[:, \"Selected\"].sum()"
   ]
  },
  {
   "cell_type": "code",
   "execution_count": null,
   "metadata": {},
   "outputs": [],
   "source": [
    "nu_se_in.to_csv(\"../output/number_set_information.tsv\", \"\\t\")\n",
    "\n",
    "nu_se_in"
   ]
  },
  {
   "cell_type": "code",
   "execution_count": null,
   "metadata": {},
   "outputs": [],
   "source": [
    "nu_se_in.loc[SETTING[\"se_\"], :]"
   ]
  },
  {
   "cell_type": "code",
   "execution_count": null,
   "metadata": {},
   "outputs": [],
   "source": [
    "for se in se_fe_:\n",
    "\n",
    "    if re.match(\n",
    "        r\"^{0}$|.*{1}{0}{1}.*|^{0}{1}.*|.*{1}{0}$\".format(\"FATIGUE[0-9]*\", \"[\\s_]\"),\n",
    "        se,\n",
    "    ):\n",
    "\n",
    "        print(se)"
   ]
  }
 ],
 "metadata": {
  "kernelspec": {
   "display_name": "Python 3",
   "language": "python",
   "name": "python3"
  },
  "language_info": {
   "codemirror_mode": {
    "name": "ipython",
    "version": 3
   },
   "file_extension": ".py",
   "mimetype": "text/x-python",
   "name": "python",
   "nbconvert_exporter": "python",
   "pygments_lexer": "ipython3",
   "version": "3.8.9"
  }
 },
 "nbformat": 4,
 "nbformat_minor": 4
}
