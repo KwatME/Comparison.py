{
 "cells": [
  {
   "cell_type": "code",
   "execution_count": 1,
   "metadata": {
    "execution": {
     "iopub.execute_input": "2021-06-03T07:48:30.134259Z",
     "iopub.status.busy": "2021-06-03T07:48:30.133518Z",
     "iopub.status.idle": "2021-06-03T07:48:30.146914Z",
     "shell.execute_reply": "2021-06-03T07:48:30.147347Z"
    },
    "tags": []
   },
   "outputs": [],
   "source": [
    "%load_ext autoreload\n",
    "%autoreload 2"
   ]
  },
  {
   "cell_type": "code",
   "execution_count": 2,
   "metadata": {
    "execution": {
     "iopub.execute_input": "2021-06-03T07:48:30.150936Z",
     "iopub.status.busy": "2021-06-03T07:48:30.150339Z",
     "iopub.status.idle": "2021-06-03T07:48:30.672655Z",
     "shell.execute_reply": "2021-06-03T07:48:30.673044Z"
    },
    "tags": []
   },
   "outputs": [],
   "source": [
    "from __init__ import *"
   ]
  },
  {
   "cell_type": "code",
   "execution_count": 3,
   "metadata": {
    "execution": {
     "iopub.execute_input": "2021-06-03T07:48:30.676498Z",
     "iopub.status.busy": "2021-06-03T07:48:30.675972Z",
     "iopub.status.idle": "2021-06-03T07:48:31.381346Z",
     "shell.execute_reply": "2021-06-03T07:48:31.382026Z"
    },
    "tags": []
   },
   "outputs": [],
   "source": [
    "nu_fe_sa = pd.read_csv(\"../output/number_feature_sample.tsv\", \"\\t\", index_col=0)\n",
    "\n",
    "bi_co_sa = pd.read_csv(\"../output/01_comparison_sample.tsv\", \"\\t\", index_col=0)\n",
    "\n",
    "se_fe_ = kraft.gmt.read(kraft.path.list(\"../input/set/\"))"
   ]
  },
  {
   "cell_type": "code",
   "execution_count": 4,
   "metadata": {
    "execution": {
     "iopub.execute_input": "2021-06-03T07:48:31.387313Z",
     "iopub.status.busy": "2021-06-03T07:48:31.386458Z",
     "iopub.status.idle": "2021-06-03T07:48:31.509354Z",
     "shell.execute_reply": "2021-06-03T07:48:31.509717Z"
    },
    "tags": []
   },
   "outputs": [
    {
     "name": "stdout",
     "output_type": "stream",
     "text": [
      "HP_APNEIC_EPISODES_PRECIPITATED_BY_ILLNESS_FATIGUE_STRESS\n",
      "HP_EXERCISE_INDUCED_MUSCLE_FATIGUE\n",
      "HP_FATIGUE\n",
      "HP_CHRONIC_FATIGUE\n"
     ]
    }
   ],
   "source": [
    "for se in se_fe_:\n",
    "\n",
    "    if re.match(\n",
    "        r\"^{0}$|.*{1}{0}{1}.*|^{0}{1}.*|.*{1}{0}$\".format(\"FATIGUE[0-9]*\", \"[\\s_]\"),\n",
    "        se,\n",
    "    ):\n",
    "\n",
    "        print(se)"
   ]
  },
  {
   "cell_type": "code",
   "execution_count": 5,
   "metadata": {
    "execution": {
     "iopub.execute_input": "2021-06-03T07:48:31.513412Z",
     "iopub.status.busy": "2021-06-03T07:48:31.512924Z",
     "iopub.status.idle": "2021-06-03T07:48:33.154036Z",
     "shell.execute_reply": "2021-06-03T07:48:33.154393Z"
    },
    "tags": []
   },
   "outputs": [
    {
     "data": {
      "text/html": [
       "<div>\n",
       "<style scoped>\n",
       "    .dataframe tbody tr th:only-of-type {\n",
       "        vertical-align: middle;\n",
       "    }\n",
       "\n",
       "    .dataframe tbody tr th {\n",
       "        vertical-align: top;\n",
       "    }\n",
       "\n",
       "    .dataframe thead th {\n",
       "        text-align: right;\n",
       "    }\n",
       "</style>\n",
       "<table border=\"1\" class=\"dataframe\">\n",
       "  <thead>\n",
       "    <tr style=\"text-align: right;\">\n",
       "      <th></th>\n",
       "      <th>Selected</th>\n",
       "      <th>N</th>\n",
       "      <th>n</th>\n",
       "      <th>.</th>\n",
       "    </tr>\n",
       "  </thead>\n",
       "  <tbody>\n",
       "    <tr>\n",
       "      <th>chr1p12</th>\n",
       "      <td>False</td>\n",
       "      <td>49</td>\n",
       "      <td>19</td>\n",
       "      <td>0.387755</td>\n",
       "    </tr>\n",
       "    <tr>\n",
       "      <th>chr1p13</th>\n",
       "      <td>False</td>\n",
       "      <td>205</td>\n",
       "      <td>124</td>\n",
       "      <td>0.604878</td>\n",
       "    </tr>\n",
       "    <tr>\n",
       "      <th>chr1p21</th>\n",
       "      <td>False</td>\n",
       "      <td>99</td>\n",
       "      <td>45</td>\n",
       "      <td>0.454545</td>\n",
       "    </tr>\n",
       "    <tr>\n",
       "      <th>chr1p22</th>\n",
       "      <td>False</td>\n",
       "      <td>129</td>\n",
       "      <td>79</td>\n",
       "      <td>0.612403</td>\n",
       "    </tr>\n",
       "    <tr>\n",
       "      <th>chr1p31</th>\n",
       "      <td>False</td>\n",
       "      <td>217</td>\n",
       "      <td>87</td>\n",
       "      <td>0.400922</td>\n",
       "    </tr>\n",
       "    <tr>\n",
       "      <th>...</th>\n",
       "      <td>...</td>\n",
       "      <td>...</td>\n",
       "      <td>...</td>\n",
       "      <td>...</td>\n",
       "    </tr>\n",
       "    <tr>\n",
       "      <th>IPA_HDAC8_DN</th>\n",
       "      <td>False</td>\n",
       "      <td>2</td>\n",
       "      <td>2</td>\n",
       "      <td>1.000000</td>\n",
       "    </tr>\n",
       "    <tr>\n",
       "      <th>IPA_HDAC10_UP</th>\n",
       "      <td>False</td>\n",
       "      <td>0</td>\n",
       "      <td>0</td>\n",
       "      <td>NaN</td>\n",
       "    </tr>\n",
       "    <tr>\n",
       "      <th>IPA_HDAC10_DN</th>\n",
       "      <td>False</td>\n",
       "      <td>1</td>\n",
       "      <td>1</td>\n",
       "      <td>1.000000</td>\n",
       "    </tr>\n",
       "    <tr>\n",
       "      <th>IPA_HIST2H4B_UP</th>\n",
       "      <td>False</td>\n",
       "      <td>3</td>\n",
       "      <td>2</td>\n",
       "      <td>0.666667</td>\n",
       "    </tr>\n",
       "    <tr>\n",
       "      <th>IPA_HIST2H4B_DN</th>\n",
       "      <td>False</td>\n",
       "      <td>2</td>\n",
       "      <td>1</td>\n",
       "      <td>0.500000</td>\n",
       "    </tr>\n",
       "  </tbody>\n",
       "</table>\n",
       "<p>33893 rows × 4 columns</p>\n",
       "</div>"
      ],
      "text/plain": [
       "                 Selected    N    n         .\n",
       "chr1p12             False   49   19  0.387755\n",
       "chr1p13             False  205  124  0.604878\n",
       "chr1p21             False   99   45  0.454545\n",
       "chr1p22             False  129   79  0.612403\n",
       "chr1p31             False  217   87  0.400922\n",
       "...                   ...  ...  ...       ...\n",
       "IPA_HDAC8_DN        False    2    2  1.000000\n",
       "IPA_HDAC10_UP       False    0    0       NaN\n",
       "IPA_HDAC10_DN       False    1    1  1.000000\n",
       "IPA_HIST2H4B_UP     False    3    2  0.666667\n",
       "IPA_HIST2H4B_DN     False    2    1  0.500000\n",
       "\n",
       "[33893 rows x 4 columns]"
      ]
     },
     "execution_count": 1,
     "metadata": {},
     "output_type": "execute_result"
    }
   ],
   "source": [
    "fe__ = se_fe_.values()\n",
    "\n",
    "st_se_in = pd.DataFrame(\n",
    "    {\n",
    "        \"Selected\": False,\n",
    "        \"N\": [len(fe_) for fe_ in fe__],\n",
    "        \"n\": [sum(fe in nu_fe_sa.index for fe in fe_) for fe_ in fe__],\n",
    "    },\n",
    "    se_fe_,\n",
    ")\n",
    "\n",
    "st_se_in.loc[:, \".\"] = st_se_in.loc[:, \"n\"] / st_se_in.loc[:, \"N\"]\n",
    "\n",
    "st_se_in"
   ]
  },
  {
   "cell_type": "code",
   "execution_count": 6,
   "metadata": {
    "execution": {
     "iopub.execute_input": "2021-06-03T07:48:33.158057Z",
     "iopub.status.busy": "2021-06-03T07:48:33.157521Z",
     "iopub.status.idle": "2021-06-03T07:48:33.174347Z",
     "shell.execute_reply": "2021-06-03T07:48:33.173936Z"
    },
    "tags": []
   },
   "outputs": [],
   "source": [
    "st_se_in.loc[\n",
    "    kraft.array.check_is_extreme(\n",
    "        st_se_in.loc[:, \"n\"].values,\n",
    "        \">\",\n",
    "        th_=[None, SETTING[\"n_ge\"]],\n",
    "    )\n",
    "    & kraft.array.check_is_extreme(\n",
    "        st_se_in.loc[:, \".\"].values,\n",
    "        \">\",\n",
    "        th_=[None, SETTING[\"._ge\"]],\n",
    "    ),\n",
    "    \"Selected\",\n",
    "] = True"
   ]
  },
  {
   "cell_type": "code",
   "execution_count": 7,
   "metadata": {
    "execution": {
     "iopub.execute_input": "2021-06-03T07:48:33.177757Z",
     "iopub.status.busy": "2021-06-03T07:48:33.177201Z",
     "iopub.status.idle": "2021-06-03T07:48:33.280294Z",
     "shell.execute_reply": "2021-06-03T07:48:33.280698Z"
    },
    "tags": []
   },
   "outputs": [
    {
     "name": "stdout",
     "output_type": "stream",
     "text": [
      "11003\n"
     ]
    },
    {
     "data": {
      "text/html": [
       "<div>\n",
       "<style scoped>\n",
       "    .dataframe tbody tr th:only-of-type {\n",
       "        vertical-align: middle;\n",
       "    }\n",
       "\n",
       "    .dataframe tbody tr th {\n",
       "        vertical-align: top;\n",
       "    }\n",
       "\n",
       "    .dataframe thead th {\n",
       "        text-align: right;\n",
       "    }\n",
       "</style>\n",
       "<table border=\"1\" class=\"dataframe\">\n",
       "  <thead>\n",
       "    <tr style=\"text-align: right;\">\n",
       "      <th></th>\n",
       "      <th>Selected</th>\n",
       "      <th>N</th>\n",
       "      <th>n</th>\n",
       "      <th>.</th>\n",
       "    </tr>\n",
       "  </thead>\n",
       "  <tbody>\n",
       "    <tr>\n",
       "      <th>chr1p12</th>\n",
       "      <td>False</td>\n",
       "      <td>49</td>\n",
       "      <td>19</td>\n",
       "      <td>0.387755</td>\n",
       "    </tr>\n",
       "    <tr>\n",
       "      <th>chr1p13</th>\n",
       "      <td>False</td>\n",
       "      <td>205</td>\n",
       "      <td>124</td>\n",
       "      <td>0.604878</td>\n",
       "    </tr>\n",
       "    <tr>\n",
       "      <th>chr1p21</th>\n",
       "      <td>False</td>\n",
       "      <td>99</td>\n",
       "      <td>45</td>\n",
       "      <td>0.454545</td>\n",
       "    </tr>\n",
       "    <tr>\n",
       "      <th>chr1p22</th>\n",
       "      <td>False</td>\n",
       "      <td>129</td>\n",
       "      <td>79</td>\n",
       "      <td>0.612403</td>\n",
       "    </tr>\n",
       "    <tr>\n",
       "      <th>chr1p31</th>\n",
       "      <td>False</td>\n",
       "      <td>217</td>\n",
       "      <td>87</td>\n",
       "      <td>0.400922</td>\n",
       "    </tr>\n",
       "    <tr>\n",
       "      <th>...</th>\n",
       "      <td>...</td>\n",
       "      <td>...</td>\n",
       "      <td>...</td>\n",
       "      <td>...</td>\n",
       "    </tr>\n",
       "    <tr>\n",
       "      <th>IPA_HDAC8_DN</th>\n",
       "      <td>False</td>\n",
       "      <td>2</td>\n",
       "      <td>2</td>\n",
       "      <td>1.000000</td>\n",
       "    </tr>\n",
       "    <tr>\n",
       "      <th>IPA_HDAC10_UP</th>\n",
       "      <td>False</td>\n",
       "      <td>0</td>\n",
       "      <td>0</td>\n",
       "      <td>NaN</td>\n",
       "    </tr>\n",
       "    <tr>\n",
       "      <th>IPA_HDAC10_DN</th>\n",
       "      <td>False</td>\n",
       "      <td>1</td>\n",
       "      <td>1</td>\n",
       "      <td>1.000000</td>\n",
       "    </tr>\n",
       "    <tr>\n",
       "      <th>IPA_HIST2H4B_UP</th>\n",
       "      <td>False</td>\n",
       "      <td>3</td>\n",
       "      <td>2</td>\n",
       "      <td>0.666667</td>\n",
       "    </tr>\n",
       "    <tr>\n",
       "      <th>IPA_HIST2H4B_DN</th>\n",
       "      <td>False</td>\n",
       "      <td>2</td>\n",
       "      <td>1</td>\n",
       "      <td>0.500000</td>\n",
       "    </tr>\n",
       "  </tbody>\n",
       "</table>\n",
       "<p>33893 rows × 4 columns</p>\n",
       "</div>"
      ],
      "text/plain": [
       "                 Selected    N    n         .\n",
       "chr1p12             False   49   19  0.387755\n",
       "chr1p13             False  205  124  0.604878\n",
       "chr1p21             False   99   45  0.454545\n",
       "chr1p22             False  129   79  0.612403\n",
       "chr1p31             False  217   87  0.400922\n",
       "...                   ...  ...  ...       ...\n",
       "IPA_HDAC8_DN        False    2    2  1.000000\n",
       "IPA_HDAC10_UP       False    0    0       NaN\n",
       "IPA_HDAC10_DN       False    1    1  1.000000\n",
       "IPA_HIST2H4B_UP     False    3    2  0.666667\n",
       "IPA_HIST2H4B_DN     False    2    1  0.500000\n",
       "\n",
       "[33893 rows x 4 columns]"
      ]
     },
     "execution_count": 1,
     "metadata": {},
     "output_type": "execute_result"
    }
   ],
   "source": [
    "st_se_in.loc[SETTING[\"se_\"], \"Selected\"] = True\n",
    "\n",
    "st_se_in.to_csv(\"../output/statistic_set_information.tsv\", \"\\t\")\n",
    "\n",
    "print(st_se_in.loc[:, \"Selected\"].sum())\n",
    "\n",
    "st_se_in"
   ]
  },
  {
   "cell_type": "code",
   "execution_count": 8,
   "metadata": {
    "execution": {
     "iopub.execute_input": "2021-06-03T07:48:33.283932Z",
     "iopub.status.busy": "2021-06-03T07:48:33.283448Z",
     "iopub.status.idle": "2021-06-03T07:48:33.302688Z",
     "shell.execute_reply": "2021-06-03T07:48:33.303053Z"
    },
    "tags": []
   },
   "outputs": [
    {
     "data": {
      "text/html": [
       "<div>\n",
       "<style scoped>\n",
       "    .dataframe tbody tr th:only-of-type {\n",
       "        vertical-align: middle;\n",
       "    }\n",
       "\n",
       "    .dataframe tbody tr th {\n",
       "        vertical-align: top;\n",
       "    }\n",
       "\n",
       "    .dataframe thead th {\n",
       "        text-align: right;\n",
       "    }\n",
       "</style>\n",
       "<table border=\"1\" class=\"dataframe\">\n",
       "  <thead>\n",
       "    <tr style=\"text-align: right;\">\n",
       "      <th></th>\n",
       "      <th>Selected</th>\n",
       "      <th>N</th>\n",
       "      <th>n</th>\n",
       "      <th>.</th>\n",
       "    </tr>\n",
       "  </thead>\n",
       "  <tbody>\n",
       "    <tr>\n",
       "      <th>HP_APNEIC_EPISODES_PRECIPITATED_BY_ILLNESS_FATIGUE_STRESS</th>\n",
       "      <td>True</td>\n",
       "      <td>12</td>\n",
       "      <td>9</td>\n",
       "      <td>0.750000</td>\n",
       "    </tr>\n",
       "    <tr>\n",
       "      <th>HP_FATIGUE</th>\n",
       "      <td>True</td>\n",
       "      <td>341</td>\n",
       "      <td>292</td>\n",
       "      <td>0.856305</td>\n",
       "    </tr>\n",
       "    <tr>\n",
       "      <th>HP_CHRONIC_FATIGUE</th>\n",
       "      <td>True</td>\n",
       "      <td>19</td>\n",
       "      <td>17</td>\n",
       "      <td>0.894737</td>\n",
       "    </tr>\n",
       "    <tr>\n",
       "      <th>CD4+ in Celiac Disease 1</th>\n",
       "      <td>True</td>\n",
       "      <td>318</td>\n",
       "      <td>219</td>\n",
       "      <td>0.688679</td>\n",
       "    </tr>\n",
       "    <tr>\n",
       "      <th>CD4+ in Celiac Disease 2</th>\n",
       "      <td>True</td>\n",
       "      <td>680</td>\n",
       "      <td>421</td>\n",
       "      <td>0.619118</td>\n",
       "    </tr>\n",
       "  </tbody>\n",
       "</table>\n",
       "</div>"
      ],
      "text/plain": [
       "                                                    Selected    N    n  \\\n",
       "HP_APNEIC_EPISODES_PRECIPITATED_BY_ILLNESS_FATI...      True   12    9   \n",
       "HP_FATIGUE                                              True  341  292   \n",
       "HP_CHRONIC_FATIGUE                                      True   19   17   \n",
       "CD4+ in Celiac Disease 1                                True  318  219   \n",
       "CD4+ in Celiac Disease 2                                True  680  421   \n",
       "\n",
       "                                                           .  \n",
       "HP_APNEIC_EPISODES_PRECIPITATED_BY_ILLNESS_FATI...  0.750000  \n",
       "HP_FATIGUE                                          0.856305  \n",
       "HP_CHRONIC_FATIGUE                                  0.894737  \n",
       "CD4+ in Celiac Disease 1                            0.688679  \n",
       "CD4+ in Celiac Disease 2                            0.619118  "
      ]
     },
     "execution_count": 1,
     "metadata": {},
     "output_type": "execute_result"
    }
   ],
   "source": [
    "st_se_in.loc[SETTING[\"se_\"], :]"
   ]
  }
 ],
 "metadata": {
  "kernelspec": {
   "display_name": "Python 3",
   "language": "python",
   "name": "python3"
  },
  "language_info": {
   "codemirror_mode": {
    "name": "ipython",
    "version": 3
   },
   "file_extension": ".py",
   "mimetype": "text/x-python",
   "name": "python",
   "nbconvert_exporter": "python",
   "pygments_lexer": "ipython3",
   "version": "3.8.9"
  }
 },
 "nbformat": 4,
 "nbformat_minor": 4
}
