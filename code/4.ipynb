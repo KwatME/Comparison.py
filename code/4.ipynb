{
 "cells": [
  {
   "cell_type": "code",
   "execution_count": null,
   "metadata": {
    "execution": {
     "iopub.execute_input": "2021-06-01T06:59:26.615823Z",
     "iopub.status.busy": "2021-06-01T06:59:26.615122Z",
     "iopub.status.idle": "2021-06-01T06:59:26.629884Z",
     "shell.execute_reply": "2021-06-01T06:59:26.629381Z"
    },
    "tags": []
   },
   "outputs": [],
   "source": [
    "%load_ext autoreload\n",
    "%autoreload 2"
   ]
  },
  {
   "cell_type": "code",
   "execution_count": null,
   "metadata": {
    "execution": {
     "iopub.execute_input": "2021-06-01T06:59:26.633164Z",
     "iopub.status.busy": "2021-06-01T06:59:26.632570Z",
     "iopub.status.idle": "2021-06-01T06:59:27.169569Z",
     "shell.execute_reply": "2021-06-01T06:59:27.169925Z"
    },
    "tags": []
   },
   "outputs": [],
   "source": [
    "from __init__ import *"
   ]
  },
  {
   "cell_type": "code",
   "execution_count": null,
   "metadata": {
    "execution": {
     "iopub.execute_input": "2021-06-01T06:59:27.173550Z",
     "iopub.status.busy": "2021-06-01T06:59:27.173020Z",
     "iopub.status.idle": "2021-06-01T06:59:27.943776Z",
     "shell.execute_reply": "2021-06-01T06:59:27.944390Z"
    },
    "tags": []
   },
   "outputs": [],
   "source": [
    "nu_fe_sa = pd.read_csv(\"../output/number_feature_sample.tsv\", \"\\t\", index_col=0)\n",
    "\n",
    "bi_co_sa = pd.read_csv(\"../output/01_comparison_sample.tsv\", \"\\t\", index_col=0)\n",
    "\n",
    "se_fe_ = kraft.gmt.read(kraft.path.list(\"../input/set/\"))"
   ]
  },
  {
   "cell_type": "code",
   "execution_count": null,
   "metadata": {
    "execution": {
     "iopub.execute_input": "2021-06-01T06:59:27.948899Z",
     "iopub.status.busy": "2021-06-01T06:59:27.948163Z",
     "iopub.status.idle": "2021-06-01T06:59:28.067401Z",
     "shell.execute_reply": "2021-06-01T06:59:28.067879Z"
    }
   },
   "outputs": [],
   "source": [
    "for se in se_fe_:\n",
    "\n",
    "    if re.match(\n",
    "        r\"^{0}$|.*{1}{0}{1}.*|^{0}{1}.*|.*{1}{0}$\".format(\"FATIGUE[0-9]*\", \"[\\s_]\"),\n",
    "        se,\n",
    "    ):\n",
    "\n",
    "        print(se)"
   ]
  },
  {
   "cell_type": "code",
   "execution_count": null,
   "metadata": {
    "execution": {
     "iopub.execute_input": "2021-06-01T06:59:28.072104Z",
     "iopub.status.busy": "2021-06-01T06:59:28.071513Z",
     "iopub.status.idle": "2021-06-01T06:59:29.737083Z",
     "shell.execute_reply": "2021-06-01T06:59:29.737454Z"
    },
    "tags": []
   },
   "outputs": [],
   "source": [
    "fe__ = se_fe_.values()\n",
    "\n",
    "nu_se_in = pd.DataFrame(\n",
    "    {\n",
    "        \"Selected\": False,\n",
    "        \"N\": [len(fe_) for fe_ in fe__],\n",
    "        \"n\": [sum(fe in nu_fe_sa.index for fe in fe_) for fe_ in fe__],\n",
    "    },\n",
    "    se_fe_,\n",
    ")\n",
    "\n",
    "nu_se_in.loc[:, \".\"] = nu_se_in.loc[:, \"n\"] / nu_se_in.loc[:, \"N\"]\n",
    "\n",
    "nu_se_in"
   ]
  },
  {
   "cell_type": "code",
   "execution_count": null,
   "metadata": {
    "execution": {
     "iopub.execute_input": "2021-06-01T06:59:29.740944Z",
     "iopub.status.busy": "2021-06-01T06:59:29.740431Z",
     "iopub.status.idle": "2021-06-01T06:59:29.758426Z",
     "shell.execute_reply": "2021-06-01T06:59:29.758019Z"
    },
    "tags": []
   },
   "outputs": [],
   "source": [
    "nu_se_in.loc[\n",
    "    kraft.array.check_is_extreme(\n",
    "        nu_se_in.loc[:, \"n\"].values,\n",
    "        \">\",\n",
    "        th_=[None, SETTING[\"n_ge\"]],\n",
    "    )\n",
    "    & kraft.array.check_is_extreme(\n",
    "        nu_se_in.loc[:, \".\"].values,\n",
    "        \">\",\n",
    "        th_=[None, SETTING[\"._ge\"]],\n",
    "    ),\n",
    "    \"Selected\",\n",
    "] = True"
   ]
  },
  {
   "cell_type": "code",
   "execution_count": null,
   "metadata": {
    "execution": {
     "iopub.execute_input": "2021-06-01T06:59:29.761755Z",
     "iopub.status.busy": "2021-06-01T06:59:29.761224Z",
     "iopub.status.idle": "2021-06-01T06:59:29.867571Z",
     "shell.execute_reply": "2021-06-01T06:59:29.868076Z"
    }
   },
   "outputs": [],
   "source": [
    "nu_se_in.loc[SETTING[\"se_\"], \"Selected\"] = True\n",
    "\n",
    "nu_se_in.to_csv(\"../output/number_set_information.tsv\", \"\\t\")\n",
    "\n",
    "print(nu_se_in.loc[:, \"Selected\"].sum())\n",
    "\n",
    "nu_se_in"
   ]
  },
  {
   "cell_type": "code",
   "execution_count": null,
   "metadata": {
    "execution": {
     "iopub.execute_input": "2021-06-01T06:59:29.871125Z",
     "iopub.status.busy": "2021-06-01T06:59:29.870639Z",
     "iopub.status.idle": "2021-06-01T06:59:29.891204Z",
     "shell.execute_reply": "2021-06-01T06:59:29.891562Z"
    }
   },
   "outputs": [],
   "source": [
    "nu_se_in.loc[SETTING[\"se_\"], :]"
   ]
  }
 ],
 "metadata": {
  "kernelspec": {
   "display_name": "Python 3",
   "language": "python",
   "name": "python3"
  },
  "language_info": {
   "codemirror_mode": {
    "name": "ipython",
    "version": 3
   },
   "file_extension": ".py",
   "mimetype": "text/x-python",
   "name": "python",
   "nbconvert_exporter": "python",
   "pygments_lexer": "ipython3",
   "version": "3.8.9"
  }
 },
 "nbformat": 4,
 "nbformat_minor": 4
}
