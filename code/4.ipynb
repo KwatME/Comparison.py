{
 "cells": [
  {
   "cell_type": "code",
   "execution_count": null,
   "metadata": {
    "execution": {
     "iopub.execute_input": "2021-06-03T06:31:04.904504Z",
     "iopub.status.busy": "2021-06-03T06:31:04.903836Z",
     "iopub.status.idle": "2021-06-03T06:31:04.916234Z",
     "shell.execute_reply": "2021-06-03T06:31:04.916674Z"
    },
    "tags": []
   },
   "outputs": [],
   "source": [
    "%load_ext autoreload\n",
    "%autoreload 2"
   ]
  },
  {
   "cell_type": "code",
   "execution_count": null,
   "metadata": {
    "execution": {
     "iopub.execute_input": "2021-06-03T06:31:04.920178Z",
     "iopub.status.busy": "2021-06-03T06:31:04.919584Z",
     "iopub.status.idle": "2021-06-03T06:31:05.495907Z",
     "shell.execute_reply": "2021-06-03T06:31:05.496309Z"
    },
    "tags": []
   },
   "outputs": [],
   "source": [
    "from __init__ import *"
   ]
  },
  {
   "cell_type": "code",
   "execution_count": null,
   "metadata": {
    "execution": {
     "iopub.execute_input": "2021-06-03T06:31:05.499909Z",
     "iopub.status.busy": "2021-06-03T06:31:05.499314Z",
     "iopub.status.idle": "2021-06-03T06:31:06.266086Z",
     "shell.execute_reply": "2021-06-03T06:31:06.266735Z"
    },
    "tags": []
   },
   "outputs": [],
   "source": [
    "nu_fe_sa = pd.read_csv(\"../output/number_feature_sample.tsv\", \"\\t\", index_col=0)\n",
    "\n",
    "bi_co_sa = pd.read_csv(\"../output/01_comparison_sample.tsv\", \"\\t\", index_col=0)\n",
    "\n",
    "se_fe_ = kraft.gmt.read(kraft.path.list(\"../input/set/\"))"
   ]
  },
  {
   "cell_type": "code",
   "execution_count": null,
   "metadata": {
    "execution": {
     "iopub.execute_input": "2021-06-03T06:31:06.271944Z",
     "iopub.status.busy": "2021-06-03T06:31:06.271065Z",
     "iopub.status.idle": "2021-06-03T06:31:06.399223Z",
     "shell.execute_reply": "2021-06-03T06:31:06.399579Z"
    },
    "tags": []
   },
   "outputs": [],
   "source": [
    "for se in se_fe_:\n",
    "\n",
    "    if re.match(\n",
    "        r\"^{0}$|.*{1}{0}{1}.*|^{0}{1}.*|.*{1}{0}$\".format(\"FATIGUE[0-9]*\", \"[\\s_]\"),\n",
    "        se,\n",
    "    ):\n",
    "\n",
    "        print(se)"
   ]
  },
  {
   "cell_type": "code",
   "execution_count": null,
   "metadata": {
    "execution": {
     "iopub.execute_input": "2021-06-03T06:31:06.404093Z",
     "iopub.status.busy": "2021-06-03T06:31:06.403490Z",
     "iopub.status.idle": "2021-06-03T06:31:08.257866Z",
     "shell.execute_reply": "2021-06-03T06:31:08.258389Z"
    },
    "tags": []
   },
   "outputs": [],
   "source": [
    "fe__ = se_fe_.values()\n",
    "\n",
    "st_se_in = pd.DataFrame(\n",
    "    {\n",
    "        \"Selected\": False,\n",
    "        \"N\": [len(fe_) for fe_ in fe__],\n",
    "        \"n\": [sum(fe in nu_fe_sa.index for fe in fe_) for fe_ in fe__],\n",
    "    },\n",
    "    se_fe_,\n",
    ")\n",
    "\n",
    "st_se_in.loc[:, \".\"] = st_se_in.loc[:, \"n\"] / st_se_in.loc[:, \"N\"]\n",
    "\n",
    "st_se_in"
   ]
  },
  {
   "cell_type": "code",
   "execution_count": null,
   "metadata": {
    "execution": {
     "iopub.execute_input": "2021-06-03T06:31:08.262185Z",
     "iopub.status.busy": "2021-06-03T06:31:08.261674Z",
     "iopub.status.idle": "2021-06-03T06:31:08.279074Z",
     "shell.execute_reply": "2021-06-03T06:31:08.279412Z"
    },
    "tags": []
   },
   "outputs": [],
   "source": [
    "st_se_in.loc[\n",
    "    kraft.array.check_is_extreme(\n",
    "        st_se_in.loc[:, \"n\"].values,\n",
    "        \">\",\n",
    "        th_=[None, SETTING[\"n_ge\"]],\n",
    "    )\n",
    "    & kraft.array.check_is_extreme(\n",
    "        st_se_in.loc[:, \".\"].values,\n",
    "        \">\",\n",
    "        th_=[None, SETTING[\"._ge\"]],\n",
    "    ),\n",
    "    \"Selected\",\n",
    "] = True"
   ]
  },
  {
   "cell_type": "code",
   "execution_count": null,
   "metadata": {
    "execution": {
     "iopub.execute_input": "2021-06-03T06:31:08.282737Z",
     "iopub.status.busy": "2021-06-03T06:31:08.282205Z",
     "iopub.status.idle": "2021-06-03T06:31:08.392047Z",
     "shell.execute_reply": "2021-06-03T06:31:08.392500Z"
    },
    "tags": []
   },
   "outputs": [],
   "source": [
    "st_se_in.loc[SETTING[\"se_\"], \"Selected\"] = True\n",
    "\n",
    "st_se_in.to_csv(\"../output/statistic_set_information.tsv\", \"\\t\")\n",
    "\n",
    "print(st_se_in.loc[:, \"Selected\"].sum())\n",
    "\n",
    "st_se_in"
   ]
  },
  {
   "cell_type": "code",
   "execution_count": null,
   "metadata": {
    "execution": {
     "iopub.execute_input": "2021-06-03T06:31:08.395516Z",
     "iopub.status.busy": "2021-06-03T06:31:08.395013Z",
     "iopub.status.idle": "2021-06-03T06:31:08.416545Z",
     "shell.execute_reply": "2021-06-03T06:31:08.416963Z"
    },
    "tags": []
   },
   "outputs": [],
   "source": [
    "st_se_in.loc[SETTING[\"se_\"], :]"
   ]
  }
 ],
 "metadata": {
  "kernelspec": {
   "display_name": "Python 3",
   "language": "python",
   "name": "python3"
  },
  "language_info": {
   "codemirror_mode": {
    "name": "ipython",
    "version": 3
   },
   "file_extension": ".py",
   "mimetype": "text/x-python",
   "name": "python",
   "nbconvert_exporter": "python",
   "pygments_lexer": "ipython3",
   "version": "3.8.9"
  }
 },
 "nbformat": 4,
 "nbformat_minor": 4
}
