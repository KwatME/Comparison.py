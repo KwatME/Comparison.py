{
 "cells": [
  {
   "cell_type": "code",
   "execution_count": null,
   "metadata": {
    "execution": {
     "iopub.execute_input": "2021-06-05T21:13:28.328641Z",
     "iopub.status.busy": "2021-06-05T21:13:28.327993Z",
     "iopub.status.idle": "2021-06-05T21:13:28.340789Z",
     "shell.execute_reply": "2021-06-05T21:13:28.341292Z"
    },
    "tags": []
   },
   "outputs": [],
   "source": [
    "%load_ext autoreload\n",
    "%autoreload 2"
   ]
  },
  {
   "cell_type": "code",
   "execution_count": null,
   "metadata": {
    "execution": {
     "iopub.execute_input": "2021-06-05T21:13:28.344697Z",
     "iopub.status.busy": "2021-06-05T21:13:28.344103Z",
     "iopub.status.idle": "2021-06-05T21:13:28.948379Z",
     "shell.execute_reply": "2021-06-05T21:13:28.948797Z"
    },
    "tags": []
   },
   "outputs": [],
   "source": [
    "from __init__ import *"
   ]
  },
  {
   "cell_type": "code",
   "execution_count": null,
   "metadata": {
    "execution": {
     "iopub.execute_input": "2021-06-05T21:13:28.952465Z",
     "iopub.status.busy": "2021-06-05T21:13:28.951869Z",
     "iopub.status.idle": "2021-06-05T21:13:29.754128Z",
     "shell.execute_reply": "2021-06-05T21:13:29.754807Z"
    },
    "tags": []
   },
   "outputs": [],
   "source": [
    "nu_fe_sa = pd.read_csv(\"../output/number_feature_sample.tsv\", \"\\t\", index_col=0)\n",
    "\n",
    "bi_co_sa = pd.read_csv(\"../output/01_comparison_sample.tsv\", \"\\t\", index_col=0)\n",
    "\n",
    "se_fe_ = kraft.gmt.read(kraft.path.list(\"../input/set/\"))"
   ]
  },
  {
   "cell_type": "code",
   "execution_count": null,
   "metadata": {
    "execution": {
     "iopub.execute_input": "2021-06-05T21:13:29.759986Z",
     "iopub.status.busy": "2021-06-05T21:13:29.759040Z",
     "iopub.status.idle": "2021-06-05T21:13:29.891812Z",
     "shell.execute_reply": "2021-06-05T21:13:29.892283Z"
    },
    "tags": []
   },
   "outputs": [],
   "source": [
    "for se in se_fe_:\n",
    "\n",
    "    if re.match(\n",
    "        r\"^{0}$|.*{1}{0}{1}.*|^{0}{1}.*|.*{1}{0}$\".format(\"FATIGUE[0-9]*\", \"[\\s_]\"),\n",
    "        se,\n",
    "    ):\n",
    "\n",
    "        print(se)"
   ]
  },
  {
   "cell_type": "code",
   "execution_count": null,
   "metadata": {
    "execution": {
     "iopub.execute_input": "2021-06-05T21:13:29.896550Z",
     "iopub.status.busy": "2021-06-05T21:13:29.895955Z",
     "iopub.status.idle": "2021-06-05T21:13:31.999060Z",
     "shell.execute_reply": "2021-06-05T21:13:31.999475Z"
    },
    "tags": []
   },
   "outputs": [],
   "source": [
    "fe__ = se_fe_.values()\n",
    "\n",
    "st_se_in = pd.DataFrame(\n",
    "    {\n",
    "        \"Selected\": False,\n",
    "        \"N\": [len(fe_) for fe_ in fe__],\n",
    "        \"n\": [sum(fe in nu_fe_sa.index for fe in fe_) for fe_ in fe__],\n",
    "    },\n",
    "    se_fe_,\n",
    ")\n",
    "\n",
    "st_se_in.loc[:, \".\"] = st_se_in.loc[:, \"n\"] / st_se_in.loc[:, \"N\"]\n",
    "\n",
    "st_se_in"
   ]
  },
  {
   "cell_type": "code",
   "execution_count": null,
   "metadata": {
    "execution": {
     "iopub.execute_input": "2021-06-05T21:13:32.003490Z",
     "iopub.status.busy": "2021-06-05T21:13:32.002777Z",
     "iopub.status.idle": "2021-06-05T21:13:32.023412Z",
     "shell.execute_reply": "2021-06-05T21:13:32.022962Z"
    },
    "tags": []
   },
   "outputs": [],
   "source": [
    "st_se_in.loc[\n",
    "    kraft.array.check_is_extreme(\n",
    "        st_se_in.loc[:, \"n\"].values,\n",
    "        \">\",\n",
    "        th_=[None, SETTING[\"n_ge\"]],\n",
    "    )\n",
    "    & kraft.array.check_is_extreme(\n",
    "        st_se_in.loc[:, \".\"].values,\n",
    "        \">\",\n",
    "        th_=[None, SETTING[\"._ge\"]],\n",
    "    ),\n",
    "    \"Selected\",\n",
    "] = True"
   ]
  },
  {
   "cell_type": "code",
   "execution_count": null,
   "metadata": {
    "execution": {
     "iopub.execute_input": "2021-06-05T21:13:32.027231Z",
     "iopub.status.busy": "2021-06-05T21:13:32.026638Z",
     "iopub.status.idle": "2021-06-05T21:13:32.145510Z",
     "shell.execute_reply": "2021-06-05T21:13:32.145924Z"
    },
    "tags": []
   },
   "outputs": [],
   "source": [
    "assert (1 / 2 < st_se_in.loc[SETTING[\"se_\"], \".\"]).all(), st_se_in.loc[\n",
    "    SETTING[\"se_\"], \".\"\n",
    "]\n",
    "\n",
    "st_se_in.loc[SETTING[\"se_\"], \"Selected\"] = True\n",
    "\n",
    "st_se_in.to_csv(\"../output/statistic_set_information.tsv\", \"\\t\")\n",
    "\n",
    "print(st_se_in.loc[:, \"Selected\"].sum())\n",
    "\n",
    "st_se_in"
   ]
  },
  {
   "cell_type": "code",
   "execution_count": null,
   "metadata": {
    "execution": {
     "iopub.execute_input": "2021-06-05T21:13:32.149105Z",
     "iopub.status.busy": "2021-06-05T21:13:32.148527Z",
     "iopub.status.idle": "2021-06-05T21:13:32.172963Z",
     "shell.execute_reply": "2021-06-05T21:13:32.173384Z"
    },
    "tags": []
   },
   "outputs": [],
   "source": [
    "st_se_in.loc[SETTING[\"se_\"], :].sort_values(\".\")"
   ]
  }
 ],
 "metadata": {
  "kernelspec": {
   "display_name": "Python 3",
   "language": "python",
   "name": "python3"
  },
  "language_info": {
   "codemirror_mode": {
    "name": "ipython",
    "version": 3
   },
   "file_extension": ".py",
   "mimetype": "text/x-python",
   "name": "python",
   "nbconvert_exporter": "python",
   "pygments_lexer": "ipython3",
   "version": "3.8.9"
  }
 },
 "nbformat": 4,
 "nbformat_minor": 4
}
