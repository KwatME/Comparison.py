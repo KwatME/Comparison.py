{
 "cells": [
  {
   "cell_type": "code",
   "execution_count": null,
   "metadata": {
    "execution": {
     "iopub.execute_input": "2021-06-01T07:36:17.860352Z",
     "iopub.status.busy": "2021-06-01T07:36:17.859716Z",
     "iopub.status.idle": "2021-06-01T07:36:17.872655Z",
     "shell.execute_reply": "2021-06-01T07:36:17.873098Z"
    },
    "tags": []
   },
   "outputs": [],
   "source": [
    "%load_ext autoreload\n",
    "%autoreload 2"
   ]
  },
  {
   "cell_type": "code",
   "execution_count": null,
   "metadata": {
    "execution": {
     "iopub.execute_input": "2021-06-01T07:36:17.876517Z",
     "iopub.status.busy": "2021-06-01T07:36:17.875932Z",
     "iopub.status.idle": "2021-06-01T07:36:18.413791Z",
     "shell.execute_reply": "2021-06-01T07:36:18.414181Z"
    },
    "tags": []
   },
   "outputs": [],
   "source": [
    "from __init__ import *"
   ]
  },
  {
   "cell_type": "code",
   "execution_count": null,
   "metadata": {
    "execution": {
     "iopub.execute_input": "2021-06-01T07:36:18.417691Z",
     "iopub.status.busy": "2021-06-01T07:36:18.417169Z",
     "iopub.status.idle": "2021-06-01T07:36:19.115414Z",
     "shell.execute_reply": "2021-06-01T07:36:19.115923Z"
    },
    "tags": []
   },
   "outputs": [],
   "source": [
    "nu_fe_sa = pd.read_csv(\"../output/number_feature_sample.tsv\", \"\\t\", index_col=0)\n",
    "\n",
    "bi_co_sa = pd.read_csv(\"../output/01_comparison_sample.tsv\", \"\\t\", index_col=0)\n",
    "\n",
    "se_fe_ = kraft.gmt.read(kraft.path.list(\"../input/set/\"))"
   ]
  },
  {
   "cell_type": "code",
   "execution_count": null,
   "metadata": {
    "execution": {
     "iopub.execute_input": "2021-06-01T07:36:19.120076Z",
     "iopub.status.busy": "2021-06-01T07:36:19.119364Z",
     "iopub.status.idle": "2021-06-01T07:36:19.237994Z",
     "shell.execute_reply": "2021-06-01T07:36:19.238418Z"
    }
   },
   "outputs": [],
   "source": [
    "for se in se_fe_:\n",
    "\n",
    "    if re.match(\n",
    "        r\"^{0}$|.*{1}{0}{1}.*|^{0}{1}.*|.*{1}{0}$\".format(\"FATIGUE[0-9]*\", \"[\\s_]\"),\n",
    "        se,\n",
    "    ):\n",
    "\n",
    "        print(se)"
   ]
  },
  {
   "cell_type": "code",
   "execution_count": null,
   "metadata": {
    "execution": {
     "iopub.execute_input": "2021-06-01T07:36:19.243296Z",
     "iopub.status.busy": "2021-06-01T07:36:19.242706Z",
     "iopub.status.idle": "2021-06-01T07:36:20.892515Z",
     "shell.execute_reply": "2021-06-01T07:36:20.893017Z"
    },
    "tags": []
   },
   "outputs": [],
   "source": [
    "fe__ = se_fe_.values()\n",
    "\n",
    "nu_se_in = pd.DataFrame(\n",
    "    {\n",
    "        \"Selected\": False,\n",
    "        \"N\": [len(fe_) for fe_ in fe__],\n",
    "        \"n\": [sum(fe in nu_fe_sa.index for fe in fe_) for fe_ in fe__],\n",
    "    },\n",
    "    se_fe_,\n",
    ")\n",
    "\n",
    "nu_se_in.loc[:, \".\"] = nu_se_in.loc[:, \"n\"] / nu_se_in.loc[:, \"N\"]\n",
    "\n",
    "nu_se_in"
   ]
  },
  {
   "cell_type": "code",
   "execution_count": null,
   "metadata": {
    "execution": {
     "iopub.execute_input": "2021-06-01T07:36:20.896464Z",
     "iopub.status.busy": "2021-06-01T07:36:20.895944Z",
     "iopub.status.idle": "2021-06-01T07:36:20.913974Z",
     "shell.execute_reply": "2021-06-01T07:36:20.913449Z"
    },
    "tags": []
   },
   "outputs": [],
   "source": [
    "nu_se_in.loc[\n",
    "    kraft.array.check_is_extreme(\n",
    "        nu_se_in.loc[:, \"n\"].values,\n",
    "        \">\",\n",
    "        th_=[None, SETTING[\"n_ge\"]],\n",
    "    )\n",
    "    & kraft.array.check_is_extreme(\n",
    "        nu_se_in.loc[:, \".\"].values,\n",
    "        \">\",\n",
    "        th_=[None, SETTING[\"._ge\"]],\n",
    "    ),\n",
    "    \"Selected\",\n",
    "] = True"
   ]
  },
  {
   "cell_type": "code",
   "execution_count": null,
   "metadata": {
    "execution": {
     "iopub.execute_input": "2021-06-01T07:36:20.917261Z",
     "iopub.status.busy": "2021-06-01T07:36:20.916688Z",
     "iopub.status.idle": "2021-06-01T07:36:21.022395Z",
     "shell.execute_reply": "2021-06-01T07:36:21.022760Z"
    }
   },
   "outputs": [],
   "source": [
    "nu_se_in.loc[SETTING[\"se_\"], \"Selected\"] = True\n",
    "\n",
    "nu_se_in.to_csv(\"../output/number_set_information.tsv\", \"\\t\")\n",
    "\n",
    "print(nu_se_in.loc[:, \"Selected\"].sum())\n",
    "\n",
    "nu_se_in"
   ]
  },
  {
   "cell_type": "code",
   "execution_count": null,
   "metadata": {
    "execution": {
     "iopub.execute_input": "2021-06-01T07:36:21.025710Z",
     "iopub.status.busy": "2021-06-01T07:36:21.025076Z",
     "iopub.status.idle": "2021-06-01T07:36:21.047230Z",
     "shell.execute_reply": "2021-06-01T07:36:21.047649Z"
    }
   },
   "outputs": [],
   "source": [
    "nu_se_in.loc[SETTING[\"se_\"], :]"
   ]
  }
 ],
 "metadata": {
  "kernelspec": {
   "display_name": "Python 3",
   "language": "python",
   "name": "python3"
  },
  "language_info": {
   "codemirror_mode": {
    "name": "ipython",
    "version": 3
   },
   "file_extension": ".py",
   "mimetype": "text/x-python",
   "name": "python",
   "nbconvert_exporter": "python",
   "pygments_lexer": "ipython3",
   "version": "3.8.9"
  }
 },
 "nbformat": 4,
 "nbformat_minor": 4
}
