{
 "cells": [
  {
   "cell_type": "code",
   "execution_count": null,
   "metadata": {
    "execution": {
     "iopub.execute_input": "2021-06-02T00:45:15.066833Z",
     "iopub.status.busy": "2021-06-02T00:45:15.066156Z",
     "iopub.status.idle": "2021-06-02T00:45:15.079089Z",
     "shell.execute_reply": "2021-06-02T00:45:15.079541Z"
    },
    "tags": []
   },
   "outputs": [],
   "source": [
    "%load_ext autoreload\n",
    "%autoreload 2"
   ]
  },
  {
   "cell_type": "code",
   "execution_count": null,
   "metadata": {
    "execution": {
     "iopub.execute_input": "2021-06-02T00:45:15.083030Z",
     "iopub.status.busy": "2021-06-02T00:45:15.082434Z",
     "iopub.status.idle": "2021-06-02T00:45:15.683710Z",
     "shell.execute_reply": "2021-06-02T00:45:15.684136Z"
    },
    "tags": []
   },
   "outputs": [],
   "source": [
    "from __init__ import *"
   ]
  },
  {
   "cell_type": "code",
   "execution_count": null,
   "metadata": {
    "execution": {
     "iopub.execute_input": "2021-06-02T00:45:15.688093Z",
     "iopub.status.busy": "2021-06-02T00:45:15.687509Z",
     "iopub.status.idle": "2021-06-02T00:45:16.470572Z",
     "shell.execute_reply": "2021-06-02T00:45:16.471335Z"
    },
    "tags": []
   },
   "outputs": [],
   "source": [
    "nu_fe_sa = pd.read_csv(\"../output/number_feature_sample.tsv\", \"\\t\", index_col=0)\n",
    "\n",
    "bi_co_sa = pd.read_csv(\"../output/01_comparison_sample.tsv\", \"\\t\", index_col=0)\n",
    "\n",
    "se_fe_ = kraft.gmt.read(kraft.path.list(\"../input/set/\"))"
   ]
  },
  {
   "cell_type": "code",
   "execution_count": null,
   "metadata": {
    "execution": {
     "iopub.execute_input": "2021-06-02T00:45:16.476089Z",
     "iopub.status.busy": "2021-06-02T00:45:16.475359Z",
     "iopub.status.idle": "2021-06-02T00:45:16.602527Z",
     "shell.execute_reply": "2021-06-02T00:45:16.602947Z"
    }
   },
   "outputs": [],
   "source": [
    "for se in se_fe_:\n",
    "\n",
    "    if re.match(\n",
    "        r\"^{0}$|.*{1}{0}{1}.*|^{0}{1}.*|.*{1}{0}$\".format(\"FATIGUE[0-9]*\", \"[\\s_]\"),\n",
    "        se,\n",
    "    ):\n",
    "\n",
    "        print(se)"
   ]
  },
  {
   "cell_type": "code",
   "execution_count": null,
   "metadata": {
    "execution": {
     "iopub.execute_input": "2021-06-02T00:45:16.607762Z",
     "iopub.status.busy": "2021-06-02T00:45:16.607172Z",
     "iopub.status.idle": "2021-06-02T00:45:18.524684Z",
     "shell.execute_reply": "2021-06-02T00:45:18.525100Z"
    },
    "tags": []
   },
   "outputs": [],
   "source": [
    "fe__ = se_fe_.values()\n",
    "\n",
    "nu_se_in = pd.DataFrame(\n",
    "    {\n",
    "        \"Selected\": False,\n",
    "        \"N\": [len(fe_) for fe_ in fe__],\n",
    "        \"n\": [sum(fe in nu_fe_sa.index for fe in fe_) for fe_ in fe__],\n",
    "    },\n",
    "    se_fe_,\n",
    ")\n",
    "\n",
    "nu_se_in.loc[:, \".\"] = nu_se_in.loc[:, \"n\"] / nu_se_in.loc[:, \"N\"]\n",
    "\n",
    "nu_se_in"
   ]
  },
  {
   "cell_type": "code",
   "execution_count": null,
   "metadata": {
    "execution": {
     "iopub.execute_input": "2021-06-02T00:45:18.529033Z",
     "iopub.status.busy": "2021-06-02T00:45:18.528427Z",
     "iopub.status.idle": "2021-06-02T00:45:18.548276Z",
     "shell.execute_reply": "2021-06-02T00:45:18.548698Z"
    },
    "tags": []
   },
   "outputs": [],
   "source": [
    "nu_se_in.loc[\n",
    "    kraft.array.check_is_extreme(\n",
    "        nu_se_in.loc[:, \"n\"].values,\n",
    "        \">\",\n",
    "        th_=[None, SETTING[\"n_ge\"]],\n",
    "    )\n",
    "    & kraft.array.check_is_extreme(\n",
    "        nu_se_in.loc[:, \".\"].values,\n",
    "        \">\",\n",
    "        th_=[None, SETTING[\"._ge\"]],\n",
    "    ),\n",
    "    \"Selected\",\n",
    "] = True"
   ]
  },
  {
   "cell_type": "code",
   "execution_count": null,
   "metadata": {
    "execution": {
     "iopub.execute_input": "2021-06-02T00:45:18.552349Z",
     "iopub.status.busy": "2021-06-02T00:45:18.551764Z",
     "iopub.status.idle": "2021-06-02T00:45:18.659616Z",
     "shell.execute_reply": "2021-06-02T00:45:18.659972Z"
    }
   },
   "outputs": [],
   "source": [
    "nu_se_in.loc[SETTING[\"se_\"], \"Selected\"] = True\n",
    "\n",
    "nu_se_in.to_csv(\"../output/number_set_information.tsv\", \"\\t\")\n",
    "\n",
    "print(nu_se_in.loc[:, \"Selected\"].sum())\n",
    "\n",
    "nu_se_in"
   ]
  },
  {
   "cell_type": "code",
   "execution_count": null,
   "metadata": {
    "execution": {
     "iopub.execute_input": "2021-06-02T00:45:18.663320Z",
     "iopub.status.busy": "2021-06-02T00:45:18.662777Z",
     "iopub.status.idle": "2021-06-02T00:45:18.683826Z",
     "shell.execute_reply": "2021-06-02T00:45:18.684198Z"
    }
   },
   "outputs": [],
   "source": [
    "nu_se_in.loc[SETTING[\"se_\"], :]"
   ]
  }
 ],
 "metadata": {
  "kernelspec": {
   "display_name": "Python 3",
   "language": "python",
   "name": "python3"
  },
  "language_info": {
   "codemirror_mode": {
    "name": "ipython",
    "version": 3
   },
   "file_extension": ".py",
   "mimetype": "text/x-python",
   "name": "python",
   "nbconvert_exporter": "python",
   "pygments_lexer": "ipython3",
   "version": "3.8.9"
  }
 },
 "nbformat": 4,
 "nbformat_minor": 4
}
