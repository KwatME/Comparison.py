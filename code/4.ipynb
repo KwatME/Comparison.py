{
 "cells": [
  {
   "cell_type": "code",
   "execution_count": null,
   "metadata": {
    "execution": {
     "iopub.execute_input": "2021-05-28T04:22:40.455014Z",
     "iopub.status.busy": "2021-05-28T04:22:40.454314Z",
     "iopub.status.idle": "2021-05-28T04:22:40.468129Z",
     "shell.execute_reply": "2021-05-28T04:22:40.467551Z"
    },
    "tags": []
   },
   "outputs": [],
   "source": [
    "%load_ext autoreload\n",
    "%autoreload 2"
   ]
  },
  {
   "cell_type": "code",
   "execution_count": null,
   "metadata": {
    "execution": {
     "iopub.execute_input": "2021-05-28T04:22:40.471614Z",
     "iopub.status.busy": "2021-05-28T04:22:40.471020Z",
     "iopub.status.idle": "2021-05-28T04:22:41.174046Z",
     "shell.execute_reply": "2021-05-28T04:22:41.174439Z"
    },
    "tags": []
   },
   "outputs": [],
   "source": [
    "from __init__ import *"
   ]
  },
  {
   "cell_type": "code",
   "execution_count": null,
   "metadata": {
    "execution": {
     "iopub.execute_input": "2021-05-28T04:22:41.177949Z",
     "iopub.status.busy": "2021-05-28T04:22:41.177361Z",
     "iopub.status.idle": "2021-05-28T04:22:41.845968Z",
     "shell.execute_reply": "2021-05-28T04:22:41.846348Z"
    },
    "tags": []
   },
   "outputs": [],
   "source": [
    "fxs = pd.read_csv(\"../input/feature_x_sample.tsv\", sep=\"\\t\", index_col=0)\n",
    "\n",
    "cxs = pd.read_csv(\"../output/comparison_x_sample.tsv\", sep=\"\\t\", index_col=0)\n",
    "\n",
    "stf_ = kraft.gmt.read(kraft.path.list_directory(\"../input/set/\"))"
   ]
  },
  {
   "cell_type": "code",
   "execution_count": null,
   "metadata": {
    "execution": {
     "iopub.execute_input": "2021-05-28T04:22:41.850410Z",
     "iopub.status.busy": "2021-05-28T04:22:41.849867Z",
     "iopub.status.idle": "2021-05-28T04:22:43.524555Z",
     "shell.execute_reply": "2021-05-28T04:22:43.524973Z"
    },
    "tags": []
   },
   "outputs": [],
   "source": [
    "f__ = stf_.values()\n",
    "\n",
    "sxi = pd.DataFrame(\n",
    "    {\n",
    "        \"Selected\": False,\n",
    "        \"N\": [len(f_) for f_ in f__],\n",
    "        \"n\": [sum(f in fxs.index for f in f_) for f_ in f__],\n",
    "    },\n",
    "    index=stf_,\n",
    ")\n",
    "\n",
    "sxi.loc[:, \".\"] = sxi.loc[:, \"n\"] / sxi.loc[:, \"N\"]\n",
    "\n",
    "sxi"
   ]
  },
  {
   "cell_type": "code",
   "execution_count": null,
   "metadata": {
    "execution": {
     "iopub.execute_input": "2021-05-28T04:22:43.528394Z",
     "iopub.status.busy": "2021-05-28T04:22:43.527888Z",
     "iopub.status.idle": "2021-05-28T04:22:43.548657Z",
     "shell.execute_reply": "2021-05-28T04:22:43.549028Z"
    },
    "tags": []
   },
   "outputs": [],
   "source": [
    "sxi.loc[\n",
    "    kraft.array.check_is_extreme(\n",
    "        sxi.loc[:, \"n\"].to_numpy(),\n",
    "        \">\",\n",
    "        threshold_=[None, S[\"n_set\"]],\n",
    "    )\n",
    "    & kraft.array.check_is_extreme(\n",
    "        sxi.loc[:, \".\"].to_numpy(),\n",
    "        \">\",\n",
    "        threshold_=[None, S[\"._set\"]],\n",
    "    ),\n",
    "    \"Selected\",\n",
    "] = True"
   ]
  },
  {
   "cell_type": "code",
   "execution_count": null,
   "metadata": {
    "execution": {
     "iopub.execute_input": "2021-05-28T04:22:43.552276Z",
     "iopub.status.busy": "2021-05-28T04:22:43.551716Z",
     "iopub.status.idle": "2021-05-28T04:22:43.576602Z",
     "shell.execute_reply": "2021-05-28T04:22:43.577020Z"
    }
   },
   "outputs": [],
   "source": [
    "sxi.loc[S[\"peek_set_\"], \"Selected\"] = True"
   ]
  },
  {
   "cell_type": "code",
   "execution_count": null,
   "metadata": {
    "execution": {
     "iopub.execute_input": "2021-05-28T04:22:43.580346Z",
     "iopub.status.busy": "2021-05-28T04:22:43.579762Z",
     "iopub.status.idle": "2021-05-28T04:22:43.603231Z",
     "shell.execute_reply": "2021-05-28T04:22:43.603713Z"
    }
   },
   "outputs": [],
   "source": [
    "sxi.loc[:, \"Selected\"].sum()"
   ]
  },
  {
   "cell_type": "code",
   "execution_count": null,
   "metadata": {
    "execution": {
     "iopub.execute_input": "2021-05-28T04:22:43.606729Z",
     "iopub.status.busy": "2021-05-28T04:22:43.606139Z",
     "iopub.status.idle": "2021-05-28T04:22:43.706089Z",
     "shell.execute_reply": "2021-05-28T04:22:43.706461Z"
    }
   },
   "outputs": [],
   "source": [
    "sxi.to_csv(\"../output/set_x_information.tsv\", sep=\"\\t\")\n",
    "\n",
    "sxi"
   ]
  },
  {
   "cell_type": "code",
   "execution_count": null,
   "metadata": {
    "execution": {
     "iopub.execute_input": "2021-05-28T04:22:43.709618Z",
     "iopub.status.busy": "2021-05-28T04:22:43.709110Z",
     "iopub.status.idle": "2021-05-28T04:22:43.732123Z",
     "shell.execute_reply": "2021-05-28T04:22:43.732488Z"
    }
   },
   "outputs": [],
   "source": [
    "sxi.loc[S[\"peek_set_\"], :]"
   ]
  },
  {
   "cell_type": "code",
   "execution_count": null,
   "metadata": {
    "execution": {
     "iopub.execute_input": "2021-05-28T04:22:43.735709Z",
     "iopub.status.busy": "2021-05-28T04:22:43.735212Z",
     "iopub.status.idle": "2021-05-28T04:22:43.839533Z",
     "shell.execute_reply": "2021-05-28T04:22:43.839952Z"
    }
   },
   "outputs": [],
   "source": [
    "for s in stf_:\n",
    "\n",
    "    if re.match(\n",
    "        r\"^{0}$|.*{1}{0}{1}.*|^{0}{1}.*|.*{1}{0}$\".format(\"FATIGUE[0-9]*\", \"[\\s_]\"),\n",
    "        s,\n",
    "    ):\n",
    "\n",
    "        print(s)"
   ]
  }
 ],
 "metadata": {
  "kernelspec": {
   "display_name": "Python 3",
   "language": "python",
   "name": "python3"
  },
  "language_info": {
   "codemirror_mode": {
    "name": "ipython",
    "version": 3
   },
   "file_extension": ".py",
   "mimetype": "text/x-python",
   "name": "python",
   "nbconvert_exporter": "python",
   "pygments_lexer": "ipython3",
   "version": "3.8.9"
  }
 },
 "nbformat": 4,
 "nbformat_minor": 4
}
