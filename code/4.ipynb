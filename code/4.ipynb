{
 "cells": [
  {
   "cell_type": "code",
   "execution_count": null,
   "metadata": {
    "execution": {
     "iopub.execute_input": "2021-06-05T22:56:18.320334Z",
     "iopub.status.busy": "2021-06-05T22:56:18.319693Z",
     "iopub.status.idle": "2021-06-05T22:56:18.333131Z",
     "shell.execute_reply": "2021-06-05T22:56:18.333536Z"
    },
    "tags": []
   },
   "outputs": [],
   "source": [
    "%load_ext autoreload\n",
    "%autoreload 2"
   ]
  },
  {
   "cell_type": "code",
   "execution_count": null,
   "metadata": {
    "execution": {
     "iopub.execute_input": "2021-06-05T22:56:18.337098Z",
     "iopub.status.busy": "2021-06-05T22:56:18.336515Z",
     "iopub.status.idle": "2021-06-05T22:56:18.865564Z",
     "shell.execute_reply": "2021-06-05T22:56:18.865951Z"
    },
    "tags": []
   },
   "outputs": [],
   "source": [
    "from __init__ import *"
   ]
  },
  {
   "cell_type": "code",
   "execution_count": null,
   "metadata": {
    "execution": {
     "iopub.execute_input": "2021-06-05T22:56:18.869527Z",
     "iopub.status.busy": "2021-06-05T22:56:18.868957Z",
     "iopub.status.idle": "2021-06-05T22:56:19.572939Z",
     "shell.execute_reply": "2021-06-05T22:56:19.573577Z"
    },
    "tags": []
   },
   "outputs": [],
   "source": [
    "nu_fe_sa = pd.read_csv(\"../output/number_feature_sample.tsv\", \"\\t\", index_col=0)\n",
    "\n",
    "bi_co_sa = pd.read_csv(\"../output/01_comparison_sample.tsv\", \"\\t\", index_col=0)\n",
    "\n",
    "se_fe_ = kraft.gmt.read(kraft.path.list(\"../input/set/\"))"
   ]
  },
  {
   "cell_type": "code",
   "execution_count": null,
   "metadata": {
    "execution": {
     "iopub.execute_input": "2021-06-05T22:56:19.578956Z",
     "iopub.status.busy": "2021-06-05T22:56:19.578116Z",
     "iopub.status.idle": "2021-06-05T22:56:19.705621Z",
     "shell.execute_reply": "2021-06-05T22:56:19.705175Z"
    },
    "tags": []
   },
   "outputs": [],
   "source": [
    "for se in se_fe_:\n",
    "\n",
    "    if re.match(\n",
    "        r\"^{0}$|.*{1}{0}{1}.*|^{0}{1}.*|.*{1}{0}$\".format(\"FATIGUE[0-9]*\", \"[\\s_]\"),\n",
    "        se,\n",
    "    ):\n",
    "\n",
    "        print(se)"
   ]
  },
  {
   "cell_type": "code",
   "execution_count": null,
   "metadata": {
    "execution": {
     "iopub.execute_input": "2021-06-05T22:56:19.709258Z",
     "iopub.status.busy": "2021-06-05T22:56:19.708754Z",
     "iopub.status.idle": "2021-06-05T22:56:21.323498Z",
     "shell.execute_reply": "2021-06-05T22:56:21.323912Z"
    },
    "tags": []
   },
   "outputs": [],
   "source": [
    "fe__ = se_fe_.values()\n",
    "\n",
    "st_se_in = pd.DataFrame(\n",
    "    {\n",
    "        \"Selected\": False,\n",
    "        \"N\": [len(fe_) for fe_ in fe__],\n",
    "        \"n\": [sum(fe in nu_fe_sa.index for fe in fe_) for fe_ in fe__],\n",
    "    },\n",
    "    se_fe_,\n",
    ")\n",
    "\n",
    "st_se_in.loc[:, \".\"] = st_se_in.loc[:, \"n\"] / st_se_in.loc[:, \"N\"]\n",
    "\n",
    "st_se_in"
   ]
  },
  {
   "cell_type": "code",
   "execution_count": null,
   "metadata": {
    "execution": {
     "iopub.execute_input": "2021-06-05T22:56:21.327770Z",
     "iopub.status.busy": "2021-06-05T22:56:21.327125Z",
     "iopub.status.idle": "2021-06-05T22:56:21.344542Z",
     "shell.execute_reply": "2021-06-05T22:56:21.344138Z"
    },
    "tags": []
   },
   "outputs": [],
   "source": [
    "st_se_in.loc[\n",
    "    kraft.array.check_is_extreme(\n",
    "        st_se_in.loc[:, \"n\"].values,\n",
    "        \">\",\n",
    "        th_=[None, SETTING[\"n_ge\"]],\n",
    "    )\n",
    "    & kraft.array.check_is_extreme(\n",
    "        st_se_in.loc[:, \".\"].values,\n",
    "        \">\",\n",
    "        th_=[None, SETTING[\"._ge\"]],\n",
    "    ),\n",
    "    \"Selected\",\n",
    "] = True"
   ]
  },
  {
   "cell_type": "code",
   "execution_count": null,
   "metadata": {
    "execution": {
     "iopub.execute_input": "2021-06-05T22:56:21.348392Z",
     "iopub.status.busy": "2021-06-05T22:56:21.347858Z",
     "iopub.status.idle": "2021-06-05T22:56:21.454514Z",
     "shell.execute_reply": "2021-06-05T22:56:21.454878Z"
    },
    "tags": []
   },
   "outputs": [],
   "source": [
    "assert (1 / 2 < st_se_in.loc[SETTING[\"se_\"], \".\"]).all(), st_se_in.loc[\n",
    "    SETTING[\"se_\"], \".\"\n",
    "]\n",
    "\n",
    "st_se_in.loc[SETTING[\"se_\"], \"Selected\"] = True\n",
    "\n",
    "st_se_in.to_csv(\"../output/statistic_set_information.tsv\", \"\\t\")\n",
    "\n",
    "print(st_se_in.loc[:, \"Selected\"].sum())\n",
    "\n",
    "st_se_in"
   ]
  },
  {
   "cell_type": "code",
   "execution_count": null,
   "metadata": {
    "execution": {
     "iopub.execute_input": "2021-06-05T22:56:21.457969Z",
     "iopub.status.busy": "2021-06-05T22:56:21.457472Z",
     "iopub.status.idle": "2021-06-05T22:56:21.477612Z",
     "shell.execute_reply": "2021-06-05T22:56:21.478037Z"
    },
    "tags": []
   },
   "outputs": [],
   "source": [
    "st_se_in.loc[SETTING[\"se_\"], :].sort_values(\".\")"
   ]
  }
 ],
 "metadata": {
  "kernelspec": {
   "display_name": "Python 3",
   "language": "python",
   "name": "python3"
  },
  "language_info": {
   "codemirror_mode": {
    "name": "ipython",
    "version": 3
   },
   "file_extension": ".py",
   "mimetype": "text/x-python",
   "name": "python",
   "nbconvert_exporter": "python",
   "pygments_lexer": "ipython3",
   "version": "3.8.9"
  }
 },
 "nbformat": 4,
 "nbformat_minor": 4
}
