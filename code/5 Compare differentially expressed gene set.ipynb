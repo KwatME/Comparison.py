{
 "cells": [
  {
   "cell_type": "code",
   "execution_count": null,
   "metadata": {},
   "outputs": [],
   "source": [
    "%load_ext autoreload\n",
    "\n",
    "%autoreload 2"
   ]
  },
  {
   "cell_type": "code",
   "execution_count": null,
   "metadata": {},
   "outputs": [],
   "source": [
    "from environment import *\n",
    "\n",
    "from setting import *"
   ]
  },
  {
   "cell_type": "code",
   "execution_count": null,
   "metadata": {},
   "outputs": [],
   "source": [
    "target_x_sample = pd.read_table(\n",
    "    '../output/target_x_sample.tsv',\n",
    "    index_col=0,\n",
    ")"
   ]
  },
  {
   "cell_type": "code",
   "execution_count": null,
   "metadata": {},
   "outputs": [],
   "source": [
    "find_differentially_expressed_gene_set_directory_path = '../output/find_differentially_expressed_gene_set'\n",
    "\n",
    "for target in target_x_sample.index:\n",
    "    \n",
    "    for file_name in os.listdir('{}/{}'.format(\n",
    "        find_differentially_expressed_gene_set_directory_path,\n",
    "        target,\n",
    "    )):\n",
    "        \n",
    "        if file_name.startswith('Gene Set to Peek') or not file_name.endswith('.tsv'):\n",
    "            \n",
    "            continue\n",
    "            \n",
    "        score = pd.read_table(\n",
    "            '{}/{}/{}'.format(\n",
    "                find_differentially_expressed_gene_set_directory_path,\n",
    "                target,\n",
    "                file_name,\n",
    "            ),\n",
    "            index_col=0,\n",
    "        )\n",
    "\n",
    "        xs = [np.log(1 / score['P-Value'])]\n",
    "\n",
    "        ys = [score['Score']]\n",
    "\n",
    "        names = [file_name]\n",
    "\n",
    "        texts = [score.index]\n",
    "            \n",
    "        is_to_peek = [gene_set in GENE_SET_TO_PEEK or any(gene_set_keyword.lower() in gene_set.lower() for gene_set_keyword in GENE_SET_KEYWORD_TO_PEEK) for gene_set in score.index]\n",
    "        \n",
    "        score_to_peek = score.loc[is_to_peek]\n",
    "        \n",
    "        xs.append(np.log(1 / score_to_peek['P-Value']))\n",
    "\n",
    "        ys.append(score_to_peek['Score'])\n",
    "\n",
    "        names.append('Gene Set to Peek')\n",
    "\n",
    "        texts.append(score_to_peek.index)\n",
    "        \n",
    "        output_directory_path = '../output/compare_differentially_expressed_gene_set/{}'.format(target)\n",
    "        \n",
    "        ccal.establish_path(\n",
    "            output_directory_path,\n",
    "            'directory'\n",
    "        )\n",
    "        \n",
    "        ccal.plot_points(\n",
    "            xs,\n",
    "            ys,\n",
    "            names=names,\n",
    "            texts=texts,\n",
    "            marker_sizes=(\n",
    "                2,\n",
    "                8,\n",
    "            ),\n",
    "            title='{}<br>{}'.format(\n",
    "                target,\n",
    "                file_name,\n",
    "            ),\n",
    "            xaxis_title='log(1/P-Value)',\n",
    "            yaxis_title='IC',\n",
    "            html_file_path='{}/{}'.format(\n",
    "                output_directory_path,\n",
    "                file_name,\n",
    "            ),\n",
    "        )"
   ]
  }
 ],
 "metadata": {
  "kernelspec": {
   "display_name": "Python 3",
   "language": "python",
   "name": "python3"
  },
  "language_info": {
   "codemirror_mode": {
    "name": "ipython",
    "version": 3
   },
   "file_extension": ".py",
   "mimetype": "text/x-python",
   "name": "python",
   "nbconvert_exporter": "python",
   "pygments_lexer": "ipython3",
   "version": "3.6.6"
  }
 },
 "nbformat": 4,
 "nbformat_minor": 2
}
