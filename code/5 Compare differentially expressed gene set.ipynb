{
 "cells": [
  {
   "cell_type": "code",
   "execution_count": null,
   "metadata": {},
   "outputs": [],
   "source": [
    "%load_ext autoreload\n",
    "\n",
    "%autoreload 2"
   ]
  },
  {
   "cell_type": "code",
   "execution_count": null,
   "metadata": {},
   "outputs": [],
   "source": [
    "from environment import *\n",
    "\n",
    "from setting import *"
   ]
  },
  {
   "cell_type": "code",
   "execution_count": null,
   "metadata": {},
   "outputs": [],
   "source": [
    "target_x_sample = pd.read_table(\n",
    "    '../output/target_x_sample.tsv',\n",
    "    index_col=0,\n",
    ")"
   ]
  },
  {
   "cell_type": "code",
   "execution_count": null,
   "metadata": {},
   "outputs": [],
   "source": [
    "group_gene_sets = {\n",
    "    'IPA_YAP1_UP': (\n",
    "        'IPA_YAP1_UP',\n",
    "    ),\n",
    "    'YAP.mt.Lung_SALE_Skin_PMEL.24_UP': (    \n",
    "        'YAP.mt.Lung_SALE_Skin_PMEL.24_UP',\n",
    "    ),\n",
    "    'YAP signature based on mechanism': (    \n",
    "        'YAP signature based on mechanism',\n",
    "    ),\n",
    "}"
   ]
  },
  {
   "cell_type": "code",
   "execution_count": null,
   "metadata": {},
   "outputs": [],
   "source": [
    "group_color = {\n",
    "    'IPA_YAP1_UP': '#4e40d8',\n",
    "    'YAP.mt.Lung_SALE_Skin_PMEL.24_UP': '#9017e6',\n",
    "    'YAP signature based on mechanism': '#20d9ba',\n",
    "}"
   ]
  },
  {
   "cell_type": "code",
   "execution_count": null,
   "metadata": {},
   "outputs": [],
   "source": [
    "for target in target_x_sample.index:\n",
    "    \n",
    "    find_differentially_expressed_gene_set_directory_path = '../output/find_differentially_expressed_gene_set/{}'.format(target)\n",
    "    \n",
    "    for file_name in os.listdir(find_differentially_expressed_gene_set_directory_path):\n",
    "        \n",
    "        if file_name in ('All Gene Sets.tsv', ):\n",
    "            \n",
    "            score = pd.read_table(\n",
    "                '{}/{}'.format(\n",
    "                    find_differentially_expressed_gene_set_directory_path,\n",
    "                    file_name,\n",
    "                ),\n",
    "                index_col=0,\n",
    "            )\n",
    "            \n",
    "            xs = [1 - score['P-Value']]\n",
    "            \n",
    "            ys = [score['Score']]\n",
    "            \n",
    "            names = [file_name]\n",
    "            \n",
    "            markers =[dict(\n",
    "                color='#d0d0d0',\n",
    "                size=3.2,\n",
    "            )]\n",
    "            \n",
    "            texts = [score.index]\n",
    "            \n",
    "            for group, gene_sets in group_gene_sets.items():\n",
    "                \n",
    "                is_to_peek = [gene_set in gene_sets for gene_set in score.index]\n",
    "                \n",
    "                score_to_peek = score.loc[is_to_peek]\n",
    "                \n",
    "                xs.append(1 - score_to_peek['P-Value'])\n",
    "                \n",
    "                ys.append(score_to_peek['Score'])\n",
    "                \n",
    "                names.append(group)\n",
    "                \n",
    "                texts.append(score_to_peek.index)\n",
    "                \n",
    "                markers.append(dict(\n",
    "                    color=group_color[group],\n",
    "                    size=12,\n",
    "                ))\n",
    "                \n",
    "            output_directory_path = '../output/compare_differentially_expressed_gene_set/{}'.format(target)\n",
    "            \n",
    "            ccal.establish_path(\n",
    "                output_directory_path,\n",
    "                'directory'\n",
    "            )\n",
    "            \n",
    "            ccal.plot_points(\n",
    "                xs,\n",
    "                ys,\n",
    "                names=names,\n",
    "                texts=texts,\n",
    "                markers=markers,\n",
    "                title='{}<br>{}'.format(\n",
    "                    target,\n",
    "                    file_name,\n",
    "                ),\n",
    "                xaxis_title='1 - P-Value',\n",
    "                yaxis_title='IC',\n",
    "                html_file_path='{}/{}'.format(\n",
    "                    output_directory_path,\n",
    "                    file_name,\n",
    "                ),\n",
    "            )"
   ]
  }
 ],
 "metadata": {
  "kernelspec": {
   "display_name": "Python 3",
   "language": "python",
   "name": "python3"
  },
  "language_info": {
   "codemirror_mode": {
    "name": "ipython",
    "version": 3
   },
   "file_extension": ".py",
   "mimetype": "text/x-python",
   "name": "python",
   "nbconvert_exporter": "python",
   "pygments_lexer": "ipython3",
   "version": "3.6.6"
  }
 },
 "nbformat": 4,
 "nbformat_minor": 2
}
