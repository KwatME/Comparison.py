{
 "cells": [
  {
   "cell_type": "code",
   "execution_count": null,
   "metadata": {},
   "outputs": [],
   "source": [
    "%load_ext autoreload\n",
    "%autoreload 2"
   ]
  },
  {
   "cell_type": "code",
   "execution_count": null,
   "metadata": {},
   "outputs": [],
   "source": [
    "from environment import *\n",
    "\n",
    "with open(\"setting.json\") as io:\n",
    "\n",
    "    SETTING = json.load(io)\n",
    "\n",
    "PATH = make_path_dict(SETTING)"
   ]
  },
  {
   "cell_type": "code",
   "execution_count": null,
   "metadata": {},
   "outputs": [],
   "source": [
    "gene_x_sample = pd.read_csv(PATH[\"gene_x_sample.processed.tsv\"], sep=\"\\t\", index_col=0)\n",
    "\n",
    "gene_sets = kraft.read_gmts(SETTING[\"gene_set_file_paths\"])\n",
    "\n",
    "gene_set_x_information = pd.read_csv(\n",
    "    PATH[\"gene_set_x_information.tsv\"], sep=\"\\t\", index_col=0\n",
    ")"
   ]
  },
  {
   "cell_type": "code",
   "execution_count": null,
   "metadata": {},
   "outputs": [],
   "source": [
    "gene_set_x_sample = kraft.single_sample_gseas(\n",
    "    gene_x_sample,\n",
    "    gene_sets.loc[\n",
    "        gene_set_x_information.index[gene_set_x_information[\"Good\"].astype(bool)]\n",
    "    ],\n",
    "    statistic=SETTING[\"gsea_statistic\"],\n",
    "    n_job=SETTING[\"n_job\"],\n",
    "    file_path=PATH[\"gene_set_x_sample.tsv\"],\n",
    ")\n",
    "\n",
    "kraft.summarize_feature_x_sample(gene_set_x_sample)\n",
    "\n",
    "gene_set_x_sample"
   ]
  }
 ],
 "metadata": {
  "kernelspec": {
   "display_name": "Python 3",
   "language": "python",
   "name": "python3"
  },
  "language_info": {
   "codemirror_mode": {
    "name": "ipython",
    "version": 3
   },
   "file_extension": ".py",
   "mimetype": "text/x-python",
   "name": "python",
   "nbconvert_exporter": "python",
   "pygments_lexer": "ipython3",
   "version": "3.7.8"
  }
 },
 "nbformat": 4,
 "nbformat_minor": 4
}
