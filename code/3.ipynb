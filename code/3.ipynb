{
 "cells": [
  {
   "cell_type": "code",
   "execution_count": null,
   "metadata": {
    "execution": {
     "iopub.execute_input": "2021-06-03T06:30:34.990830Z",
     "iopub.status.busy": "2021-06-03T06:30:34.990071Z",
     "iopub.status.idle": "2021-06-03T06:30:35.003702Z",
     "shell.execute_reply": "2021-06-03T06:30:35.004109Z"
    },
    "tags": []
   },
   "outputs": [],
   "source": [
    "%load_ext autoreload\n",
    "%autoreload 2"
   ]
  },
  {
   "cell_type": "code",
   "execution_count": null,
   "metadata": {
    "ExecuteTime": {
     "end_time": "2018-07-10T08:40:02.540703Z",
     "start_time": "2018-07-10T08:40:00.652198Z"
    },
    "execution": {
     "iopub.execute_input": "2021-06-03T06:30:35.007614Z",
     "iopub.status.busy": "2021-06-03T06:30:35.007015Z",
     "iopub.status.idle": "2021-06-03T06:30:35.533950Z",
     "shell.execute_reply": "2021-06-03T06:30:35.534340Z"
    },
    "tags": []
   },
   "outputs": [],
   "source": [
    "from __init__ import *"
   ]
  },
  {
   "cell_type": "code",
   "execution_count": null,
   "metadata": {
    "execution": {
     "iopub.execute_input": "2021-06-03T06:30:35.537786Z",
     "iopub.status.busy": "2021-06-03T06:30:35.537141Z",
     "iopub.status.idle": "2021-06-03T06:30:35.585132Z",
     "shell.execute_reply": "2021-06-03T06:30:35.585540Z"
    },
    "tags": []
   },
   "outputs": [],
   "source": [
    "nu_fe_sa = pd.read_csv(\"../output/number_feature_sample.tsv\", \"\\t\", index_col=0)\n",
    "\n",
    "bi_co_sa = pd.read_csv(\"../output/01_comparison_sample.tsv\", \"\\t\", index_col=0)"
   ]
  },
  {
   "cell_type": "code",
   "execution_count": null,
   "metadata": {
    "execution": {
     "iopub.execute_input": "2021-06-03T06:30:35.595326Z",
     "iopub.status.busy": "2021-06-03T06:30:35.594744Z",
     "iopub.status.idle": "2021-06-03T06:31:01.720324Z",
     "shell.execute_reply": "2021-06-03T06:31:01.720869Z"
    },
    "tags": []
   },
   "outputs": [],
   "source": [
    "ke = {\n",
    "    \"tyta\": \"binary\",\n",
    "    \"st\": SETTING[\"st\"],\n",
    "}\n",
    "\n",
    "for co, ta in bi_co_sa.iterrows():\n",
    "\n",
    "    ta.dropna(inplace=True)\n",
    "\n",
    "    for fu in [\n",
    "        get_log_ratio,\n",
    "        kraft.information.get_ic,\n",
    "    ]:\n",
    "\n",
    "        funa = fu.__name__\n",
    "\n",
    "        pa = \"../output/compare_feature/{}/{}/\".format(kraft.path.clean(co), funa)\n",
    "\n",
    "        kraft.path.make(pa)\n",
    "\n",
    "        st = kraft.function_heat_map.make(\n",
    "            ta,\n",
    "            nu_fe_sa,\n",
    "            fu,\n",
    "            n_jo=SETTING[\"n_jo\"],\n",
    "            n_sa=SETTING[\"n_sa\"],\n",
    "            n_sh=SETTING[\"n_sh\"],\n",
    "            n_pl=SETTING[\"n_ex\"],\n",
    "            title=\"All ({})\".format(funa),\n",
    "            pa=pa,\n",
    "            **ke,\n",
    "        )\n",
    "\n",
    "        if 0 < len(SETTING[\"fe_\"]):\n",
    "\n",
    "            kraft.function_heat_map.make(\n",
    "                ta,\n",
    "                nu_fe_sa.reindex(SETTING[\"fe_\"]),\n",
    "                st,\n",
    "                n_pl=None,\n",
    "                title=\"Peek ({})\".format(funa),\n",
    "                **ke,\n",
    "            )\n",
    "\n",
    "            plot_peek(st[\"Score\"], SETTING[\"fe_\"], pa)"
   ]
  }
 ],
 "metadata": {
  "kernelspec": {
   "display_name": "Python 3",
   "language": "python",
   "name": "python3"
  },
  "language_info": {
   "codemirror_mode": {
    "name": "ipython",
    "version": 3
   },
   "file_extension": ".py",
   "mimetype": "text/x-python",
   "name": "python",
   "nbconvert_exporter": "python",
   "pygments_lexer": "ipython3",
   "version": "3.8.9"
  }
 },
 "nbformat": 4,
 "nbformat_minor": 4
}
