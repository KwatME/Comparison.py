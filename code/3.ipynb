{
 "cells": [
  {
   "cell_type": "code",
   "execution_count": null,
   "metadata": {
    "execution": {
     "iopub.execute_input": "2021-06-01T07:27:30.255520Z",
     "iopub.status.busy": "2021-06-01T07:27:30.254755Z",
     "iopub.status.idle": "2021-06-01T07:27:30.269421Z",
     "shell.execute_reply": "2021-06-01T07:27:30.269924Z"
    },
    "tags": []
   },
   "outputs": [],
   "source": [
    "%load_ext autoreload\n",
    "%autoreload 2"
   ]
  },
  {
   "cell_type": "code",
   "execution_count": null,
   "metadata": {
    "ExecuteTime": {
     "end_time": "2018-07-10T08:40:02.540703Z",
     "start_time": "2018-07-10T08:40:00.652198Z"
    },
    "execution": {
     "iopub.execute_input": "2021-06-01T07:27:30.273510Z",
     "iopub.status.busy": "2021-06-01T07:27:30.272926Z",
     "iopub.status.idle": "2021-06-01T07:27:30.786171Z",
     "shell.execute_reply": "2021-06-01T07:27:30.786533Z"
    },
    "tags": []
   },
   "outputs": [],
   "source": [
    "from __init__ import *"
   ]
  },
  {
   "cell_type": "code",
   "execution_count": null,
   "metadata": {
    "execution": {
     "iopub.execute_input": "2021-06-01T07:27:30.790011Z",
     "iopub.status.busy": "2021-06-01T07:27:30.789509Z",
     "iopub.status.idle": "2021-06-01T07:27:30.833613Z",
     "shell.execute_reply": "2021-06-01T07:27:30.833989Z"
    },
    "tags": []
   },
   "outputs": [],
   "source": [
    "nu_fe_sa = pd.read_csv(\"../output/number_feature_sample.tsv\", \"\\t\", index_col=0)\n",
    "\n",
    "bi_co_sa = pd.read_csv(\"../output/01_comparison_sample.tsv\", \"\\t\", index_col=0)"
   ]
  },
  {
   "cell_type": "code",
   "execution_count": null,
   "metadata": {
    "execution": {
     "iopub.execute_input": "2021-06-01T07:27:30.839877Z",
     "iopub.status.busy": "2021-06-01T07:27:30.839332Z",
     "iopub.status.idle": "2021-06-01T07:36:14.641474Z",
     "shell.execute_reply": "2021-06-01T07:36:14.641909Z"
    },
    "tags": []
   },
   "outputs": [],
   "source": [
    "ke = {\n",
    "    \"tyta\": \"binary\",\n",
    "    \"st\": SETTING[\"st\"],\n",
    "}\n",
    "\n",
    "for co, ta in bi_co_sa.iterrows():\n",
    "\n",
    "    ta.dropna(inplace=True)\n",
    "\n",
    "    simi = np.unique(ta, return_counts=True)[1].min()\n",
    "\n",
    "    for fu, sire in [\n",
    "        [get_log_ratio, 1],\n",
    "        [kraft.information.get_ic, 2],\n",
    "    ]:\n",
    "\n",
    "        if simi < sire:\n",
    "\n",
    "            continue\n",
    "\n",
    "        funa = fu.__name__\n",
    "\n",
    "        pa = \"../output/compare_feature/{}/{}/\".format(kraft.path.clean(co), funa)\n",
    "\n",
    "        kraft.path.make(pa)\n",
    "\n",
    "        st = kraft.function_heat_map.make(\n",
    "            ta,\n",
    "            nu_fe_sa,\n",
    "            fu,\n",
    "            n_jo=SETTING[\"n_jo\"],\n",
    "            n_sa=SETTING[\"n_sa\"],\n",
    "            n_sh=SETTING[\"n_sh\"],\n",
    "            n_pl=SETTING[\"n_ex\"],\n",
    "            title=\"All ({})\".format(funa),\n",
    "            pa=pa,\n",
    "            **ke,\n",
    "        )\n",
    "\n",
    "        if 0 < len(SETTING[\"fe_\"]):\n",
    "\n",
    "            kraft.function_heat_map.make(\n",
    "                ta,\n",
    "                nu_fe_sa.reindex(SETTING[\"fe_\"]),\n",
    "                st,\n",
    "                n_pl=None,\n",
    "                title=\"Peek ({})\".format(funa),\n",
    "                **ke,\n",
    "            )\n",
    "\n",
    "            plot_peek(st[\"Score\"], SETTING[\"fe_\"], pa)"
   ]
  }
 ],
 "metadata": {
  "kernelspec": {
   "display_name": "Python 3",
   "language": "python",
   "name": "python3"
  },
  "language_info": {
   "codemirror_mode": {
    "name": "ipython",
    "version": 3
   },
   "file_extension": ".py",
   "mimetype": "text/x-python",
   "name": "python",
   "nbconvert_exporter": "python",
   "pygments_lexer": "ipython3",
   "version": "3.8.9"
  }
 },
 "nbformat": 4,
 "nbformat_minor": 4
}
