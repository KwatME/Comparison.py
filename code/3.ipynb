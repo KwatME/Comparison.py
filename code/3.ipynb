{
 "cells": [
  {
   "cell_type": "code",
   "execution_count": null,
   "metadata": {
    "tags": []
   },
   "outputs": [],
   "source": [
    "%load_ext autoreload\n",
    "%autoreload 2"
   ]
  },
  {
   "cell_type": "code",
   "execution_count": null,
   "metadata": {
    "ExecuteTime": {
     "end_time": "2018-07-10T08:40:02.540703Z",
     "start_time": "2018-07-10T08:40:00.652198Z"
    },
    "tags": []
   },
   "outputs": [],
   "source": [
    "from __init__ import *"
   ]
  },
  {
   "cell_type": "code",
   "execution_count": null,
   "metadata": {
    "tags": []
   },
   "outputs": [],
   "source": [
    "nu_fe_sa = pd.read_csv(\"../output/number_feature_sample.tsv\", \"\\t\", index_col=0)\n",
    "\n",
    "bi_co_sa = pd.read_csv(\"../output/01_comparison_sample.tsv\", \"\\t\", index_col=0)"
   ]
  },
  {
   "cell_type": "code",
   "execution_count": null,
   "metadata": {
    "tags": []
   },
   "outputs": [],
   "source": [
    "def get_log_ratio(v01, v):\n",
    "\n",
    "    v = kraft.array.log(kraft.array.shift(v, 1))\n",
    "\n",
    "    return v[v01 == 1].mean() - v[v01_ == 0].mean()"
   ]
  },
  {
   "cell_type": "code",
   "execution_count": null,
   "metadata": {
    "tags": []
   },
   "outputs": [],
   "source": [
    "ke = {\n",
    "    \"tyta\": \"binary\",\n",
    "    \"st\": SETTING[\"st\"],\n",
    "}\n",
    "\n",
    "for co, se in bi_co_sa.iterrows():\n",
    "\n",
    "    se.dropna(inplace=True)\n",
    "\n",
    "    simi = np.unique(se, return_counts=True)[1].min()\n",
    "\n",
    "    for fu, sire in [\n",
    "        # [get_log_ratio, 1],\n",
    "        [kraft.information.get_ic, 2],\n",
    "    ]:\n",
    "        if simi < sire:\n",
    "\n",
    "            continue\n",
    "\n",
    "        na = fu.__name__\n",
    "\n",
    "        pa = \"../output/compare_feature/{}/{}/\".format(kraft.path.clean(co), na)\n",
    "\n",
    "        kraft.path.make(pa)\n",
    "\n",
    "        fu = kraft.function_heat_map.make(\n",
    "            se,\n",
    "            nu_fe_sa,\n",
    "            fu,\n",
    "            n_jo=SETTING[\"n_jo\"],\n",
    "            n_sa=SETTING[\"n_sa\"],\n",
    "            n_sh=SETTING[\"n_sh\"],\n",
    "            n_pl=SETTING[\"n_ex\"],\n",
    "            title=\"All ({})\".format(na),\n",
    "            pa=pa,\n",
    "            **ke,\n",
    "        )\n",
    "\n",
    "        if 0 < len(SETTING[\"fe_\"]):\n",
    "\n",
    "            kraft.function_heat_map.make(\n",
    "                se,\n",
    "                nu_fe_sa.reindex(SETTING[\"fe_\"]),\n",
    "                fu,\n",
    "                n_pl=None,\n",
    "                title=\"Peek ({})\".format(na),\n",
    "                **ke,\n",
    "            )\n",
    "\n",
    "            plot_peek(fu[\"Score\"], SETTING[\"fe_\"], pa)"
   ]
  }
 ],
 "metadata": {
  "kernelspec": {
   "display_name": "Python 3",
   "language": "python",
   "name": "python3"
  },
  "language_info": {
   "codemirror_mode": {
    "name": "ipython",
    "version": 3
   },
   "file_extension": ".py",
   "mimetype": "text/x-python",
   "name": "python",
   "nbconvert_exporter": "python",
   "pygments_lexer": "ipython3",
   "version": "3.8.9"
  }
 },
 "nbformat": 4,
 "nbformat_minor": 4
}
