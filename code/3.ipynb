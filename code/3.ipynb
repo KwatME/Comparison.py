{
 "cells": [
  {
   "cell_type": "code",
   "execution_count": null,
   "metadata": {
    "execution": {
     "iopub.execute_input": "2021-05-28T05:55:33.765807Z",
     "iopub.status.busy": "2021-05-28T05:55:33.765130Z",
     "iopub.status.idle": "2021-05-28T05:55:33.777997Z",
     "shell.execute_reply": "2021-05-28T05:55:33.778420Z"
    },
    "tags": []
   },
   "outputs": [],
   "source": [
    "%load_ext autoreload\n",
    "%autoreload 2"
   ]
  },
  {
   "cell_type": "code",
   "execution_count": null,
   "metadata": {
    "ExecuteTime": {
     "end_time": "2018-07-10T08:40:02.540703Z",
     "start_time": "2018-07-10T08:40:00.652198Z"
    },
    "execution": {
     "iopub.execute_input": "2021-05-28T05:55:33.781922Z",
     "iopub.status.busy": "2021-05-28T05:55:33.781328Z",
     "iopub.status.idle": "2021-05-28T05:55:34.543652Z",
     "shell.execute_reply": "2021-05-28T05:55:34.544028Z"
    },
    "tags": []
   },
   "outputs": [],
   "source": [
    "from __init__ import *"
   ]
  },
  {
   "cell_type": "code",
   "execution_count": null,
   "metadata": {
    "execution": {
     "iopub.execute_input": "2021-05-28T05:55:34.547294Z",
     "iopub.status.busy": "2021-05-28T05:55:34.546645Z",
     "iopub.status.idle": "2021-05-28T05:55:34.635291Z",
     "shell.execute_reply": "2021-05-28T05:55:34.635776Z"
    },
    "tags": []
   },
   "outputs": [],
   "source": [
    "fxs = pd.read_csv(\"../input/feature_x_sample.tsv\", sep=\"\\t\", index_col=0)\n",
    "\n",
    "cxs = pd.read_csv(\"../output/comparison_x_sample.tsv\", sep=\"\\t\", index_col=0)"
   ]
  },
  {
   "cell_type": "code",
   "execution_count": null,
   "metadata": {
    "execution": {
     "iopub.execute_input": "2021-05-28T05:55:34.639464Z",
     "iopub.status.busy": "2021-05-28T05:55:34.638792Z",
     "iopub.status.idle": "2021-05-28T05:55:34.661480Z",
     "shell.execute_reply": "2021-05-28T05:55:34.661970Z"
    },
    "tags": []
   },
   "outputs": [],
   "source": [
    "def get_log_ratio(is_, v):\n",
    "\n",
    "    v = kraft.array.log(kraft.array.shift_minimum(v, 1))\n",
    "\n",
    "    return v[is_ == 1].mean() - v[is_ == 0].mean()"
   ]
  },
  {
   "cell_type": "code",
   "execution_count": null,
   "metadata": {
    "execution": {
     "iopub.execute_input": "2021-05-28T05:55:34.668315Z",
     "iopub.status.busy": "2021-05-28T05:55:34.667578Z",
     "iopub.status.idle": "2021-05-28T06:04:37.891156Z",
     "shell.execute_reply": "2021-05-28T06:04:37.891554Z"
    },
    "tags": []
   },
   "outputs": [],
   "source": [
    "k_ = {\n",
    "    \"v_data_type\": \"binary\",\n",
    "    \"plot_std\": S[\"plot_std\"],\n",
    "}\n",
    "\n",
    "for c, is_ in cxs.iterrows():\n",
    "\n",
    "    is_.dropna(inplace=True)\n",
    "\n",
    "    m = np.unique(is_, return_counts=True)[1].min()\n",
    "\n",
    "    for f, s in [\n",
    "        # [get_log_ratio, 1],\n",
    "        [kraft.information.get_ic, 2],\n",
    "    ]:\n",
    "\n",
    "        if m < s:\n",
    "\n",
    "            continue\n",
    "\n",
    "        d = \"../output/compare_feature/{}/{}/\".format(kraft.path.clean(c), f.__name__)\n",
    "\n",
    "        kraft.path.make(d)\n",
    "\n",
    "        ft = kraft.function_heat_map.make(\n",
    "            is_,\n",
    "            fxs,\n",
    "            f,\n",
    "            n_job=S[\"n_job\"],\n",
    "            n_sample=S[\"n_sample\"],\n",
    "            n_shuffle=S[\"n_shuffle\"],\n",
    "            n_plot=S[\"n_extreme\"],\n",
    "            title=\"All ({})\".format(f.__name__),\n",
    "            directory_path=d,\n",
    "            **k_,\n",
    "        )\n",
    "\n",
    "        if 0 < len(S[\"peek_feature_\"]):\n",
    "\n",
    "            kraft.function_heat_map.make(\n",
    "                is_,\n",
    "                fxs.reindex(S[\"peek_feature_\"]),\n",
    "                ft,\n",
    "                n_plot=None,\n",
    "                title=\"Peek ({})\".format(f.__name__),\n",
    "                **k_,\n",
    "            )\n",
    "\n",
    "            plot_peek(ft, S[\"peek_feature_\"], d)"
   ]
  }
 ],
 "metadata": {
  "kernelspec": {
   "display_name": "Python 3",
   "language": "python",
   "name": "python3"
  },
  "language_info": {
   "codemirror_mode": {
    "name": "ipython",
    "version": 3
   },
   "file_extension": ".py",
   "mimetype": "text/x-python",
   "name": "python",
   "nbconvert_exporter": "python",
   "pygments_lexer": "ipython3",
   "version": "3.8.9"
  }
 },
 "nbformat": 4,
 "nbformat_minor": 4
}
