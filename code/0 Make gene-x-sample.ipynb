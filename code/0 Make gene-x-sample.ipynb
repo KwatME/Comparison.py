{
 "cells": [
  {
   "cell_type": "code",
   "execution_count": null,
   "metadata": {
    "ExecuteTime": {
     "end_time": "2018-07-09T07:10:38.299421Z",
     "start_time": "2018-07-09T07:10:38.287916Z"
    }
   },
   "outputs": [],
   "source": [
    "%load_ext autoreload\n",
    "\n",
    "%autoreload 2"
   ]
  },
  {
   "cell_type": "code",
   "execution_count": null,
   "metadata": {
    "ExecuteTime": {
     "end_time": "2018-07-09T07:10:40.092195Z",
     "start_time": "2018-07-09T07:10:38.300973Z"
    }
   },
   "outputs": [],
   "source": [
    "from environment import *\n",
    "from setting import *"
   ]
  },
  {
   "cell_type": "markdown",
   "metadata": {},
   "source": [
    "## Run Kallisto to quantify transcripts and make transcript-x-sample and gene-x-sample"
   ]
  },
  {
   "cell_type": "code",
   "execution_count": null,
   "metadata": {
    "ExecuteTime": {
     "end_time": "2018-07-09T07:10:40.141300Z",
     "start_time": "2018-07-09T07:10:40.119944Z"
    }
   },
   "outputs": [],
   "source": [
    "# paired_fastq_gz_file_paths = tuple((\n",
    "#     '../data/{}_1.fq.gz'.format(sample_id),\n",
    "#     '../data/{}_2.fq.gz'.format(sample_id),\n",
    "# ) for sample_id in (\n",
    "#     'NC1',\n",
    "#     'NC2',\n",
    "#     'NC3',\n",
    "#     'NM1',\n",
    "#     'NM2',\n",
    "#     'NM3',\n",
    "#     'WC1',\n",
    "#     'WC2',\n",
    "#     'WC3',\n",
    "#     'WM1',\n",
    "#     'WM2',\n",
    "#     'WM3',\n",
    "# ))\n",
    "\n",
    "# for fastq_gz_file_paths in paired_fastq_gz_file_paths:\n",
    "\n",
    "#     for fastq_gz_file_path in fastq_gz_file_paths:\n",
    "\n",
    "#         assert os.path.isfile(fastq_gz_file_path), fastq_gz_file_path"
   ]
  },
  {
   "cell_type": "code",
   "execution_count": null,
   "metadata": {
    "ExecuteTime": {
     "end_time": "2018-07-09T07:10:40.163940Z",
     "start_time": "2018-07-09T07:10:40.143027Z"
    }
   },
   "outputs": [],
   "source": [
    "# cdna_fasta_gz_file_path = '../../../data/grch/Homo_sapiens.GRCh38.cdna.all.fa.gz'\n",
    "\n",
    "# assert os.path.isfile(cdna_fasta_gz_file_path), cdna_fasta_gz_file_path"
   ]
  },
  {
   "cell_type": "code",
   "execution_count": null,
   "metadata": {
    "ExecuteTime": {
     "end_time": "2018-07-09T07:10:42.984713Z",
     "start_time": "2018-07-09T07:10:40.165710Z"
    }
   },
   "outputs": [],
   "source": [
    "# ccal.establish_path(\n",
    "#     '../output/kallisto',\n",
    "#     'directory',\n",
    "# )\n",
    "\n",
    "# tpms = []\n",
    "\n",
    "# for paired_fastq_gz_file_path_0, paired_fastq_gz_file_path_1 in paired_fastq_gz_file_paths:\n",
    "\n",
    "#     sample_id = os.path.commonprefix((\n",
    "#         paired_fastq_gz_file_path_0.split(sep='/')[-1],\n",
    "#         paired_fastq_gz_file_path_1.split(sep='/')[-1],\n",
    "#     )).strip('_.')\n",
    "    \n",
    "#     print(sample_id)\n",
    "\n",
    "#     abundance_file_path = '../output/kallisto/{}/abundance.tsv'.format(sample_id)\n",
    "\n",
    "#     if not os.path.isfile(abundance_file_path):\n",
    "\n",
    "#         ccal.count_transcripts_using_kallisto_quant(\n",
    "#             (\n",
    "#                 paired_fastq_gz_file_path_0,\n",
    "#                 paired_fastq_gz_file_path_1,\n",
    "#             ),\n",
    "#             cdna_fasta_gz_file_path,\n",
    "#             '../output/kallisto/{}'.format(sample_id),\n",
    "#             n_job=a.N_JOB,\n",
    "#         )\n",
    "\n",
    "#     tpm = pd.read_table(\n",
    "#         abundance_file_path,\n",
    "#         index_col=0,\n",
    "#     )['tpm']\n",
    "    \n",
    "#     tpm.name = '{}_tpm'.format(sample_id)\n",
    "    \n",
    "#     tpms.append(tpm)\n",
    "    \n",
    "# enst_x_sample = pd.concat(\n",
    "#     tpms,\n",
    "#     axis=1,\n",
    "# )\n",
    "\n",
    "# enst_x_sample"
   ]
  },
  {
   "cell_type": "code",
   "execution_count": null,
   "metadata": {
    "ExecuteTime": {
     "end_time": "2018-07-09T07:10:43.505155Z",
     "start_time": "2018-07-09T07:10:42.986606Z"
    }
   },
   "outputs": [],
   "source": [
    "# gene_x_sample = enst_x_sample.copy()\n",
    "\n",
    "# enst = pd.read_table(\n",
    "#     '../../../data/enst.tsv',\n",
    "#     index_col=1,\n",
    "# )\n",
    "\n",
    "# enst_gene_name = enst['Gene name'].to_dict()\n",
    "\n",
    "# gene_x_sample.index = enst_x_sample.index.map(enst_gene_name.get)\n",
    "\n",
    "# print(gene_x_sample.shape)\n",
    "\n",
    "# gene_x_sample = gene_x_sample.loc[~gene_x_sample.index.isnull()]"
   ]
  },
  {
   "cell_type": "markdown",
   "metadata": {},
   "source": [
    "## Download gene-x-sample"
   ]
  },
  {
   "cell_type": "code",
   "execution_count": null,
   "metadata": {},
   "outputs": [],
   "source": [
    "gene_x_sample = ccal.download_and_parse_geo_data(\n",
    "    'GSE48766',\n",
    "    directory_path='../data'\n",
    ")['gene_x_sample']\n",
    "\n",
    "gene_x_sample.index = gene_x_sample.index.str.upper()"
   ]
  },
  {
   "cell_type": "markdown",
   "metadata": {},
   "source": [
    "## Keep only the maximum signal for duplicated genes and write gene-x-sample to a file"
   ]
  },
  {
   "cell_type": "code",
   "execution_count": null,
   "metadata": {
    "ExecuteTime": {
     "end_time": "2018-07-09T07:10:43.505155Z",
     "start_time": "2018-07-09T07:10:42.986606Z"
    }
   },
   "outputs": [],
   "source": [
    "print(gene_x_sample.shape)\n",
    "\n",
    "max_tpm__gene_x_sample = gene_x_sample.groupby(level=0).max()\n",
    "\n",
    "print(max_tpm__gene_x_sample.shape)\n",
    "\n",
    "max_tpm__gene_x_sample.sort_index(inplace=True)\n",
    "\n",
    "max_tpm__gene_x_sample.index.name = 'Gene'\n",
    "\n",
    "max_tpm__gene_x_sample.columns.name = 'Sample'\n",
    "\n",
    "max_tpm__gene_x_sample.to_csv(\n",
    "    '../output/max__gene_x_sample.tsv',\n",
    "    sep='\\t',\n",
    ")\n",
    "\n",
    "max_tpm__gene_x_sample"
   ]
  },
  {
   "cell_type": "markdown",
   "metadata": {},
   "source": [
    "## Process gene-x-sample, look at it, and write it to a file"
   ]
  },
  {
   "cell_type": "code",
   "execution_count": null,
   "metadata": {},
   "outputs": [],
   "source": [
    "processed__gene_x_sample = ccal.read_and_process_feature_x_sample(\n",
    "    max_tpm__gene_x_sample,\n",
    "    nanize=0,\n",
    "    log_base='2',\n",
    "    plot=True,\n",
    ")\n",
    "\n",
    "ccal.plot_distributions(\n",
    "    processed__gene_x_sample.columns,\n",
    "    tuple(processed__gene_x_sample[column] for column in processed__gene_x_sample.columns),\n",
    "    plot_rug=False,\n",
    "    title='Processed Value Distribution',\n",
    "    xaxis_title='Processed Value',\n",
    ")\n",
    "\n",
    "processed__gene_x_sample.to_csv(\n",
    "    '../output/processed__gene_x_sample.tsv',\n",
    "    sep='\\t',\n",
    ")\n",
    "\n",
    "processed__gene_x_sample"
   ]
  }
 ],
 "metadata": {
  "kernelspec": {
   "display_name": "Python 3",
   "language": "python",
   "name": "python3"
  },
  "language_info": {
   "codemirror_mode": {
    "name": "ipython",
    "version": 3
   },
   "file_extension": ".py",
   "mimetype": "text/x-python",
   "name": "python",
   "nbconvert_exporter": "python",
   "pygments_lexer": "ipython3",
   "version": "3.6.6"
  }
 },
 "nbformat": 4,
 "nbformat_minor": 2
}
