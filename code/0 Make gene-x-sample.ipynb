{
 "cells": [
  {
   "cell_type": "code",
   "execution_count": 3,
   "metadata": {
    "ExecuteTime": {
     "end_time": "2018-05-20T01:21:13.646991Z",
     "start_time": "2018-05-20T01:21:13.632926Z"
    }
   },
   "outputs": [
    {
     "name": "stdout",
     "output_type": "stream",
     "text": [
      "The autoreload extension is already loaded. To reload it, use:\n",
      "  %reload_ext autoreload\n"
     ]
    }
   ],
   "source": [
    "%load_ext autoreload\n",
    "\n",
    "%autoreload 2"
   ]
  },
  {
   "cell_type": "code",
   "execution_count": 4,
   "metadata": {
    "ExecuteTime": {
     "end_time": "2018-05-20T01:21:15.336109Z",
     "start_time": "2018-05-20T01:21:13.648904Z"
    }
   },
   "outputs": [
    {
     "ename": "ModuleNotFoundError",
     "evalue": "No module named 'ccal'",
     "output_type": "error",
     "traceback": [
      "\u001b[0;31m---------------------------------------------------------------------------\u001b[0m",
      "\u001b[0;31mModuleNotFoundError\u001b[0m                       Traceback (most recent call last)",
      "\u001b[0;32m<ipython-input-4-4540a4b7f7ba>\u001b[0m in \u001b[0;36m<module>\u001b[0;34m()\u001b[0m\n\u001b[0;32m----> 1\u001b[0;31m \u001b[0;32mfrom\u001b[0m \u001b[0menvironment\u001b[0m \u001b[0;32mimport\u001b[0m \u001b[0;34m*\u001b[0m\u001b[0;34m\u001b[0m\u001b[0m\n\u001b[0m",
      "\u001b[0;32m~/Jumis/github_ccal/find_differential_expression/code/environment.py\u001b[0m in \u001b[0;36m<module>\u001b[0;34m()\u001b[0m\n\u001b[1;32m      1\u001b[0m \u001b[0;32mimport\u001b[0m \u001b[0mos\u001b[0m\u001b[0;34m\u001b[0m\u001b[0m\n\u001b[1;32m      2\u001b[0m \u001b[0;34m\u001b[0m\u001b[0m\n\u001b[0;32m----> 3\u001b[0;31m \u001b[0;32mimport\u001b[0m \u001b[0mccal\u001b[0m\u001b[0;34m\u001b[0m\u001b[0m\n\u001b[0m\u001b[1;32m      4\u001b[0m \u001b[0;32mimport\u001b[0m \u001b[0mnumpy\u001b[0m \u001b[0;32mas\u001b[0m \u001b[0mnp\u001b[0m\u001b[0;34m\u001b[0m\u001b[0m\n\u001b[1;32m      5\u001b[0m \u001b[0;32mimport\u001b[0m \u001b[0mpandas\u001b[0m \u001b[0;32mas\u001b[0m \u001b[0mpd\u001b[0m\u001b[0;34m\u001b[0m\u001b[0m\n",
      "\u001b[0;31mModuleNotFoundError\u001b[0m: No module named 'ccal'"
     ]
    }
   ],
   "source": [
    "from environment import *"
   ]
  },
  {
   "cell_type": "code",
   "execution_count": null,
   "metadata": {
    "ExecuteTime": {
     "end_time": "2018-05-20T01:21:15.359818Z",
     "start_time": "2018-05-20T01:21:15.338788Z"
    }
   },
   "outputs": [],
   "source": [
    "paired_fastq_gz_file_paths = tuple((\n",
    "    '../data/{}_1.fq.gz'.format(sample_id),\n",
    "    '../data/{}_2.fq.gz'.format(sample_id),\n",
    ") for sample_id in (\n",
    "    'NC1',\n",
    "    'NC2',\n",
    "    'NC3',\n",
    "    'NM1',\n",
    "    'NM2',\n",
    "    'NM3',\n",
    "    'WC1',\n",
    "    'WC2',\n",
    "    'WC3',\n",
    "    'WM1',\n",
    "    'WM2',\n",
    "    'WM3',\n",
    "))"
   ]
  },
  {
   "cell_type": "code",
   "execution_count": null,
   "metadata": {
    "ExecuteTime": {
     "end_time": "2018-05-20T01:21:15.359818Z",
     "start_time": "2018-05-20T01:21:15.338788Z"
    }
   },
   "outputs": [],
   "source": [
    "for fastq_gz_file_paths in paired_fastq_gz_file_paths:\n",
    "\n",
    "    for fastq_gz_file_path in fastq_gz_file_paths:\n",
    "\n",
    "        assert os.path.isfile(fastq_gz_file_path), fastq_gz_file_path"
   ]
  },
  {
   "cell_type": "code",
   "execution_count": null,
   "metadata": {
    "ExecuteTime": {
     "end_time": "2018-05-20T01:21:15.381824Z",
     "start_time": "2018-05-20T01:21:15.361679Z"
    }
   },
   "outputs": [],
   "source": [
    "cdna_fasta_gz_file_path = '../../../data/grch/Homo_sapiens.GRCh38.cdna.all.fa.gz'\n",
    "\n",
    "assert os.path.isfile(cdna_fasta_gz_file_path), cdna_fasta_gz_file_path"
   ]
  },
  {
   "cell_type": "code",
   "execution_count": null,
   "metadata": {
    "ExecuteTime": {
     "start_time": "2018-05-20T01:21:13.633Z"
    },
    "scrolled": true
   },
   "outputs": [],
   "source": [
    "ccal.establish_path(\n",
    "    '../output/kallisto',\n",
    "    'directory',\n",
    ")\n",
    "\n",
    "tpms = []\n",
    "\n",
    "for paired_fastq_gz_file_path_0, paired_fastq_gz_file_path_1 in paired_fastq_gz_file_paths:\n",
    "\n",
    "    sample_id = os.path.commonprefix((\n",
    "        paired_fastq_gz_file_path_0.split(sep='/')[-1],\n",
    "        paired_fastq_gz_file_path_1.split(sep='/')[-1],\n",
    "    )).strip('_.')\n",
    "\n",
    "    print(sample_id)\n",
    "\n",
    "    abundance_file_path = '../output/kallisto/{}/abundance.tsv'.format(sample_id)\n",
    "\n",
    "    if not os.path.isfile(abundance_file_path):\n",
    "\n",
    "        ccal.count_transcripts_using_kallisto_quant(\n",
    "            (\n",
    "                paired_fastq_gz_file_path_0,\n",
    "                paired_fastq_gz_file_path_1,\n",
    "            ),\n",
    "            cdna_fasta_gz_file_path,\n",
    "            '../output/kallisto/{}'.format(sample_id),\n",
    "            n_job=1,\n",
    "        )\n",
    "\n",
    "    tpm = pd.read_table(\n",
    "        abundance_file_path,\n",
    "        index_col=0,\n",
    "    )['tpm']\n",
    "\n",
    "    tpm.name = '{}_tpm'.format(sample_id)\n",
    "\n",
    "    tpms.append(tpm)\n",
    "\n",
    "    _1d_array = tpm\n",
    "\n",
    "    _1d_array_without_0 = _1d_array[_1d_array != 0]\n",
    "\n",
    "    ccal.plot_distributions(\n",
    "        (\n",
    "            'Log(All)',\n",
    "            'Log(Without 0)',\n",
    "        ),\n",
    "        (\n",
    "            ccal.log_nd_array(_1d_array),\n",
    "            ccal.log_nd_array(_1d_array_without_0),\n",
    "        ),\n",
    "        plot_rug=False,\n",
    "        title='{} TPM'.format(sample_id),\n",
    "    )\n",
    "\n",
    "enst_x_sample = pd.concat(\n",
    "    tpms,\n",
    "    axis=1,\n",
    ")\n",
    "\n",
    "enst_x_sample"
   ]
  },
  {
   "cell_type": "code",
   "execution_count": null,
   "metadata": {
    "ExecuteTime": {
     "start_time": "2018-05-20T01:21:13.636Z"
    },
    "scrolled": true
   },
   "outputs": [],
   "source": [
    "enst = pd.read_table(\n",
    "    '../../../data/enst.tsv',\n",
    "    index_col=1,\n",
    ")\n",
    "\n",
    "enst_gene_name = enst['Gene name'].to_dict()\n",
    "\n",
    "enst"
   ]
  },
  {
   "cell_type": "code",
   "execution_count": null,
   "metadata": {
    "ExecuteTime": {
     "start_time": "2018-05-20T01:21:13.638Z"
    },
    "scrolled": true
   },
   "outputs": [],
   "source": [
    "gene_x_sample = enst_x_sample.copy()\n",
    "\n",
    "gene_x_sample.index = enst_x_sample.index.map(enst_gene_name.get)\n",
    "\n",
    "print(gene_x_sample.shape)\n",
    "\n",
    "gene_x_sample = gene_x_sample.loc[~gene_x_sample.index.isnull()]\n",
    "\n",
    "print(gene_x_sample.shape)\n",
    "\n",
    "max_tpm__gene_x_sample = gene_x_sample.groupby(level=0).max()\n",
    "\n",
    "print(max_tpm__gene_x_sample.shape)\n",
    "\n",
    "max_tpm__gene_x_sample = max_tpm__gene_x_sample.sort_index()\n",
    "\n",
    "max_tpm__gene_x_sample.index.name = None\n",
    "\n",
    "max_tpm__gene_x_sample.columns.name = None\n",
    "\n",
    "max_tpm__gene_x_sample.to_csv(\n",
    "    '../output/max_tpm__gene_x_sample.tsv',\n",
    "    sep='\\t',\n",
    ")\n",
    "\n",
    "max_tpm__gene_x_sample"
   ]
  },
  {
   "cell_type": "code",
   "execution_count": null,
   "metadata": {
    "ExecuteTime": {
     "start_time": "2018-05-20T01:21:13.639Z"
    },
    "scrolled": true
   },
   "outputs": [],
   "source": [
    "max_tpm_log__gene_x_sample = pd.DataFrame(ccal.log_nd_array(\n",
    "        max_tpm__gene_x_sample.values,\n",
    "        shift_as_necessary_to_achieve_min_before_logging='0<',\n",
    "        log_base='2',\n",
    "    ),\n",
    "    index=max_tpm__gene_x_sample.index,\n",
    "    columns=max_tpm__gene_x_sample.columns,\n",
    ")\n",
    "\n",
    "max_tpm_log__gene_x_sample.to_csv(\n",
    "    '../output/max_tpm_log__gene_x_sample.tsv',\n",
    "    sep='\\t',\n",
    ")\n",
    "\n",
    "if max_tpm_log__gene_x_sample.size < 1e6:\n",
    "\n",
    "    ccal.plot_heat_map(\n",
    "        max_tpm_log__gene_x_sample,\n",
    "        title='Log(Gene Maximum TPM)',\n",
    "        xaxis_title='Sample',\n",
    "        yaxis_title='Gene',\n",
    "    )\n",
    "\n",
    "max_tpm_log__gene_x_sample"
   ]
  }
 ],
 "metadata": {
  "kernelspec": {
   "display_name": "Python 3",
   "language": "python",
   "name": "python3"
  },
  "language_info": {
   "codemirror_mode": {
    "name": "ipython",
    "version": 3
   },
   "file_extension": ".py",
   "mimetype": "text/x-python",
   "name": "python",
   "nbconvert_exporter": "python",
   "pygments_lexer": "ipython3",
   "version": "3.6.5"
  }
 },
 "nbformat": 4,
 "nbformat_minor": 2
}
