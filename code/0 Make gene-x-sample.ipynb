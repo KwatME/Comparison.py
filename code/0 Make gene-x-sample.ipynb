{
 "cells": [
  {
   "cell_type": "code",
   "execution_count": null,
   "metadata": {
    "ExecuteTime": {
     "end_time": "2018-07-09T07:10:38.299421Z",
     "start_time": "2018-07-09T07:10:38.287916Z"
    }
   },
   "outputs": [],
   "source": [
    "%load_ext autoreload\n",
    "\n",
    "%autoreload 2"
   ]
  },
  {
   "cell_type": "code",
   "execution_count": null,
   "metadata": {
    "ExecuteTime": {
     "end_time": "2018-07-09T07:10:40.092195Z",
     "start_time": "2018-07-09T07:10:38.300973Z"
    }
   },
   "outputs": [],
   "source": [
    "from environment import *\n",
    "\n",
    "from setting import *"
   ]
  },
  {
   "cell_type": "code",
   "execution_count": null,
   "metadata": {
    "ExecuteTime": {
     "end_time": "2018-07-09T07:10:40.141300Z",
     "start_time": "2018-07-09T07:10:40.119944Z"
    }
   },
   "outputs": [],
   "source": [
    "fastqs = (\n",
    "    (\n",
    "        '../data/fastq/NC1_1.fq.gz',\n",
    "        '../data/fastq/NC1_2.fq.gz',\n",
    "    ),\n",
    "    (\n",
    "        '../data/fastq/NC2_1.fq.gz',\n",
    "        '../data/fastq/NC2_2.fq.gz',\n",
    "    ),\n",
    "    (\n",
    "        '../data/fastq/NC3_1.fq.gz',\n",
    "        '../data/fastq/NC3_2.fq.gz',\n",
    "    ),\n",
    "    (\n",
    "        '../data/fastq/NM1_1.fq.gz',\n",
    "        '../data/fastq/NM1_2.fq.gz',\n",
    "    ),\n",
    "    (\n",
    "        '../data/fastq/NM2_1.fq.gz',\n",
    "        '../data/fastq/NM2_2.fq.gz',\n",
    "    ),\n",
    "    (\n",
    "        '../data/fastq/NM3_1.fq.gz',\n",
    "        '../data/fastq/NM3_2.fq.gz',\n",
    "    ),\n",
    "    (\n",
    "        '../data/fastq/WC1_1.fq.gz',\n",
    "        '../data/fastq/WC1_2.fq.gz',\n",
    "    ),\n",
    "    (\n",
    "        '../data/fastq/WC2_1.fq.gz',\n",
    "        '../data/fastq/WC2_2.fq.gz',\n",
    "    ),\n",
    "    (\n",
    "        '../data/fastq/WC3_1.fq.gz',\n",
    "        '../data/fastq/WC3_2.fq.gz',\n",
    "    ),\n",
    "    (\n",
    "        '../data/fastq/WM1_1.fq.gz',\n",
    "        '../data/fastq/WM1_2.fq.gz',\n",
    "    ),\n",
    "    (\n",
    "        '../data/fastq/WM2_1.fq.gz',\n",
    "        '../data/fastq/WM2_2.fq.gz',\n",
    "    ),\n",
    "    (\n",
    "        '../data/fastq/WM3_1.fq.gz',\n",
    "        '../data/fastq/WM3_2.fq.gz',\n",
    "    ),\n",
    ")"
   ]
  },
  {
   "cell_type": "code",
   "execution_count": null,
   "metadata": {
    "ExecuteTime": {
     "end_time": "2018-07-09T07:10:42.984713Z",
     "start_time": "2018-07-09T07:10:40.165710Z"
    }
   },
   "outputs": [],
   "source": [
    "kallisto_output_directory_path = '../output/kallisto'\n",
    "\n",
    "ccal.establish_path(\n",
    "    kallisto_output_directory_path,\n",
    "    'directory',\n",
    ")"
   ]
  },
  {
   "cell_type": "code",
   "execution_count": null,
   "metadata": {
    "ExecuteTime": {
     "end_time": "2018-07-09T07:10:42.984713Z",
     "start_time": "2018-07-09T07:10:40.165710Z"
    }
   },
   "outputs": [],
   "source": [
    "tpms = []\n",
    "\n",
    "for fastq in fastqs:\n",
    "    \n",
    "    if isinstance(\n",
    "        fastq,\n",
    "        str,\n",
    "    ):\n",
    "        \n",
    "        sample_id = fastq.split(sep='/')[-1]\n",
    "    \n",
    "    else:\n",
    "\n",
    "        sample_id = os.path.commonprefix((\n",
    "            fastq[0].split(sep='/')[-1],\n",
    "            fastq[1].split(sep='/')[-1],\n",
    "        ))\n",
    "    \n",
    "    sample_id = sample_id.strip('_.')\n",
    "    \n",
    "    print(sample_id)\n",
    "\n",
    "    abundance_file_path = '{}/{}/abundance.tsv'.format(\n",
    "        kallisto_output_directory_path,\n",
    "        sample_id,\n",
    "    )\n",
    "\n",
    "    if not os.path.isfile(abundance_file_path):\n",
    "\n",
    "        ccal.count_transcripts_using_kallisto_quant(\n",
    "            fastq,\n",
    "            '../data/Homo_sapiens.GRCh38.cdna.all.fa.gz',\n",
    "            '{}/{}'.format(\n",
    "                kallisto_output_directory_path,\n",
    "                sample_id,\n",
    "            ),\n",
    "            n_job=N_JOB,\n",
    "        )\n",
    "\n",
    "    tpm = pd.read_table(\n",
    "        abundance_file_path,\n",
    "        index_col=0,\n",
    "    )['tpm']\n",
    "    \n",
    "    tpm.name = sample_id\n",
    "    \n",
    "    tpms.append(tpm)\n",
    "    \n",
    "enst_x_sample = pd.concat(\n",
    "    tpms,\n",
    "    axis=1,\n",
    ")\n",
    "\n",
    "enst_x_sample.index.name = 'ENST'\n",
    "\n",
    "enst_x_sample.columns.name = 'Sample'\n",
    "\n",
    "enst_x_sample"
   ]
  },
  {
   "cell_type": "code",
   "execution_count": null,
   "metadata": {},
   "outputs": [],
   "source": [
    "sample_id_sample_name_file_path = '../data/sample_id_sample_name.tsv'\n",
    "\n",
    "if os.path.isfile(sample_id_sample_name_file_path):\n",
    "    \n",
    "    id_name = pd.read_table(\n",
    "        sample_id_sample_name_file_path,\n",
    "        index_col=0,\n",
    "        squeeze=True,\n",
    "    )\n",
    "    \n",
    "    enst_x_sample.columns = enst_x_sample.columns.map(id_name.to_dict())\n",
    "\n",
    "enst_x_sample"
   ]
  },
  {
   "cell_type": "code",
   "execution_count": null,
   "metadata": {
    "ExecuteTime": {
     "end_time": "2018-07-09T07:10:43.505155Z",
     "start_time": "2018-07-09T07:10:42.986606Z"
    }
   },
   "outputs": [],
   "source": [
    "gene_x_sample = enst_x_sample.copy()\n",
    "\n",
    "enst = pd.read_table(\n",
    "    '../data/enst.tsv',\n",
    "    index_col=1,\n",
    ")\n",
    "\n",
    "gene_x_sample.index = enst_x_sample.index.map(enst['Gene name'].to_dict().get)\n",
    "\n",
    "gene_x_sample.index.name = 'Gene'\n",
    "\n",
    "gene_x_sample = gene_x_sample.loc[~gene_x_sample.index.isna()]\n",
    "\n",
    "gene_x_sample"
   ]
  },
  {
   "cell_type": "code",
   "execution_count": null,
   "metadata": {
    "ExecuteTime": {
     "end_time": "2018-07-09T07:10:43.505155Z",
     "start_time": "2018-07-09T07:10:42.986606Z"
    }
   },
   "outputs": [],
   "source": [
    "gene_x_sample__max = gene_x_sample.groupby(level=0).max()\n",
    "\n",
    "gene_x_sample__max.sort_index(inplace=True)\n",
    "\n",
    "gene_x_sample__max"
   ]
  },
  {
   "cell_type": "code",
   "execution_count": null,
   "metadata": {},
   "outputs": [],
   "source": [
    "gene_x_sample__processed = ccal.read_and_process_feature_x_sample(\n",
    "    gene_x_sample__max,\n",
    "    nanize=0,\n",
    "    drop_na_axis=1,\n",
    "    min_n_not_na_unique_value=1,\n",
    "    log_base='2',\n",
    "    plot=False,\n",
    ")\n",
    "\n",
    "columns = tuple(gene_x_sample__processed.iloc[:, i] for i in range(gene_x_sample__processed.shape[1]))\n",
    "\n",
    "ccal.plot_distributions(\n",
    "    columns,\n",
    "    names=gene_x_sample__processed.columns,\n",
    "    title='Column Value Distribution',\n",
    "    xaxis_title='Column Value',\n",
    ")\n",
    "\n",
    "gene_x_sample__processed.to_csv(\n",
    "    '../output/gene_x_sample__processed.tsv',\n",
    "    sep='\\t',\n",
    ")\n",
    "\n",
    "gene_x_sample__processed"
   ]
  }
 ],
 "metadata": {
  "kernelspec": {
   "display_name": "Python 3",
   "language": "python",
   "name": "python3"
  },
  "language_info": {
   "codemirror_mode": {
    "name": "ipython",
    "version": 3
   },
   "file_extension": ".py",
   "mimetype": "text/x-python",
   "name": "python",
   "nbconvert_exporter": "python",
   "pygments_lexer": "ipython3",
   "version": "3.6.6"
  }
 },
 "nbformat": 4,
 "nbformat_minor": 2
}
