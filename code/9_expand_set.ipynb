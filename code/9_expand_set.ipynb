{
 "cells": [
  {
   "cell_type": "code",
   "execution_count": null,
   "metadata": {
    "tags": []
   },
   "outputs": [],
   "source": [
    "%load_ext autoreload\n",
    "%autoreload 2"
   ]
  },
  {
   "cell_type": "code",
   "execution_count": null,
   "metadata": {
    "tags": []
   },
   "outputs": [],
   "source": [
    "from __init__ import *"
   ]
  },
  {
   "cell_type": "code",
   "execution_count": null,
   "metadata": {
    "tags": []
   },
   "outputs": [],
   "source": [
    "fxs = pd.read_csv(\"../input/feature_x_sample.tsv\", sep=\"\\t\", index_col=0)\n",
    "\n",
    "cxs = pd.read_csv(\"../output/comparison_x_sample.tsv\", sep=\"\\t\", index_col=0)\n",
    "\n",
    "stf_ = kraft.gmt.read(kraft.path.list_absolute(\"../input/set/\"))\n",
    "\n",
    "sxs = pd.read_csv(\"../output/set_x_sample.tsv\", sep=\"\\t\", index_col=0)"
   ]
  },
  {
   "cell_type": "code",
   "execution_count": null,
   "metadata": {},
   "outputs": [],
   "source": [
    "for c, is_ in cxs.iterrows():\n",
    "\n",
    "    is_.dropna(inplace=True)\n",
    "\n",
    "    m = np.unique(is_, return_counts=True)[1].min()\n",
    "\n",
    "    f, s = kraft.information.get_ic, 2\n",
    "\n",
    "    if m < s:\n",
    "\n",
    "        continue\n",
    "\n",
    "    t = \"../output/compare_{{}}/{}/{}/statistic.tsv\".format(c, f.__name__)\n",
    "\n",
    "    s_ = pd.concat(\n",
    "        (\n",
    "            pd.read_csv(\n",
    "                t.format(\"feature\"),\n",
    "                sep=\"\\t\",\n",
    "                index_col=0,\n",
    "            ),\n",
    "            pd.read_csv(\n",
    "                t.format(\"set\"),\n",
    "                sep=\"\\t\",\n",
    "                index_col=0,\n",
    "            ),\n",
    "        )\n",
    "    )\n",
    "\n",
    "    d = \"../output/expand_set/{}/\".format(c)\n",
    "\n",
    "    kraft.path.make(d)\n",
    "\n",
    "    for s in S[\"peek_set_\"]:\n",
    "\n",
    "        kraft.function_heat_map.make(\n",
    "            is_,\n",
    "            pd.concat(\n",
    "                [\n",
    "                    fxs.loc[fxs.index.intersection(stf_[s])],\n",
    "                    sxs.loc[[s]],\n",
    "                ]\n",
    "            ),\n",
    "            s_,\n",
    "            n_plot=None,\n",
    "            v_data_type=\"binary\",\n",
    "            plot_std=S[\"plot_std\"],\n",
    "            title=s,\n",
    "            directory_path=d,\n",
    "        )"
   ]
  }
 ],
 "metadata": {
  "kernelspec": {
   "display_name": "Python 3",
   "language": "python",
   "name": "python3"
  },
  "language_info": {
   "codemirror_mode": {
    "name": "ipython",
    "version": 3
   },
   "file_extension": ".py",
   "mimetype": "text/x-python",
   "name": "python",
   "nbconvert_exporter": "python",
   "pygments_lexer": "ipython3",
   "version": "3.8.9"
  }
 },
 "nbformat": 4,
 "nbformat_minor": 4
}
