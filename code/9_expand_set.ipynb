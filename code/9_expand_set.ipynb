{
 "cells": [
  {
   "cell_type": "code",
   "execution_count": null,
   "metadata": {},
   "outputs": [],
   "source": [
    "%load_ext autoreload\n",
    "%autoreload 2"
   ]
  },
  {
   "cell_type": "code",
   "execution_count": null,
   "metadata": {},
   "outputs": [],
   "source": [
    "from __init__ import *"
   ]
  },
  {
   "cell_type": "code",
   "execution_count": null,
   "metadata": {},
   "outputs": [],
   "source": [
    "feature_x_sample = pd.read_csv(\"../input/feature_x_sample.tsv\", sep=\"\\t\", index_col=0)\n",
    "\n",
    "comparison_x_sample = pd.read_csv(\n",
    "    \"../output/comparison_x_sample.tsv\", sep=\"\\t\", index_col=0\n",
    ")\n",
    "\n",
    "sets = kraft.gmt.read(kraft.path.list_absolute(\"../input/set/\"))\n",
    "\n",
    "set_x_sample = pd.read_csv(\"../output/set_x_sample.tsv\", sep=\"\\t\", index_col=0)"
   ]
  },
  {
   "cell_type": "code",
   "execution_count": null,
   "metadata": {},
   "outputs": [],
   "source": [
    "for comparison, groups in comparison_x_sample.iterrows():\n",
    "\n",
    "    groups.dropna(inplace=True)\n",
    "\n",
    "    min_group_size = np.unique(groups.to_numpy(), return_counts=True)[1].min()\n",
    "\n",
    "    function, group_size = \"get_ic\", 2\n",
    "\n",
    "    if min_group_size < group_size:\n",
    "\n",
    "        continue\n",
    "\n",
    "    path_template = \"../output/compare_{{}}/{}/{}/statistic.tsv\".format(\n",
    "        comparison, function\n",
    "    )\n",
    "\n",
    "    scores = pd.concat(\n",
    "        (\n",
    "            pd.read_csv(\n",
    "                path_template.format(\"feature\"),\n",
    "                sep=\"\\t\",\n",
    "                index_col=0,\n",
    "            ),\n",
    "            pd.read_csv(\n",
    "                path_template.format(\"set\"),\n",
    "                sep=\"\\t\",\n",
    "                index_col=0,\n",
    "            ),\n",
    "        )\n",
    "    )\n",
    "\n",
    "    directory_path = \"../output/expand_set/{}/\".format(comparison)\n",
    "\n",
    "    kraft.path.make(directory_path)\n",
    "\n",
    "    for set_ in SETTING[\"peek_set_\"]:\n",
    "\n",
    "        kraft.function_heat_map.make(\n",
    "            groups,\n",
    "            pd.concat(\n",
    "                (\n",
    "                    feature_x_sample.loc[\n",
    "                        feature_x_sample.index.intersection(sets[set_])\n",
    "                    ],\n",
    "                    set_x_sample.loc[[set_]],\n",
    "                )\n",
    "            ),\n",
    "            scores,\n",
    "            n_plot=None,\n",
    "            vector_data_type=\"binary\",\n",
    "            plot_std=SETTING[\"plot_std\"],\n",
    "            title=set_,\n",
    "            directory_path=directory_path,\n",
    "        )"
   ]
  }
 ],
 "metadata": {
  "kernelspec": {
   "display_name": "Python 3",
   "language": "python",
   "name": "python3"
  },
  "language_info": {
   "codemirror_mode": {
    "name": "ipython",
    "version": 3
   },
   "file_extension": ".py",
   "mimetype": "text/x-python",
   "name": "python",
   "nbconvert_exporter": "python",
   "pygments_lexer": "ipython3",
   "version": "3.8.9"
  }
 },
 "nbformat": 4,
 "nbformat_minor": 4
}
