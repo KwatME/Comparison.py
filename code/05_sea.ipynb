{
 "cells": [
  {
   "cell_type": "code",
   "execution_count": null,
   "metadata": {},
   "outputs": [],
   "source": [
    "from __init__ import *"
   ]
  },
  {
   "cell_type": "code",
   "execution_count": null,
   "metadata": {},
   "outputs": [],
   "source": [
    "comparison_x_sample = pd.read_csv(\n",
    "    \"../output/comparison_x_sample.tsv\", sep=\"\\t\", index_col=0\n",
    ")\n",
    "\n",
    "set_to_features = kraft.gmt.read_many(kraft.path.list_(\"../input/set/\"))\n",
    "\n",
    "set_x_information = pd.read_csv(\n",
    "    \"../output/set_x_information.tsv\", sep=\"\\t\", index_col=0\n",
    ")"
   ]
  },
  {
   "cell_type": "code",
   "execution_count": null,
   "metadata": {},
   "outputs": [],
   "source": [
    "for comparison in comparison_x_sample.index.to_numpy():\n",
    "\n",
    "    feature_scores = pd.read_csv(\n",
    "        \"../output/compare_feature/{}/{}/scores.tsv\".format(\n",
    "            comparison, SETTING[\"sea_feature_score\"]\n",
    "        ),\n",
    "        sep=\"\\t\",\n",
    "        index_col=0,\n",
    "    ).loc[:, \"Score\"]\n",
    "\n",
    "    directory_path = \"../output/sea/{}/\".format(comparison)\n",
    "\n",
    "    kraft.path.path(directory_path)\n",
    "\n",
    "    set_scores = kraft.sea.score_samples_and_sets(\n",
    "        feature_scores.to_frame(),\n",
    "        {\n",
    "            set_: set_to_features[set_]\n",
    "            for set_ in set_x_information.index.to_numpy()[\n",
    "                set_x_information.loc[:, \"Selected\"].to_numpy()\n",
    "            ]\n",
    "        },\n",
    "    ).squeeze()\n",
    "\n",
    "    set_scores.to_csv(\"{}/set_scores.tsv\".format(directory_path))\n",
    "\n",
    "    for set_ in SETTING[\"sets_to_peek\"]:\n",
    "\n",
    "        kraft.sea.score_sample_and_set(\n",
    "            feature_scores,\n",
    "            set_to_features[set_],\n",
    "            title=\"{}<br>{}\".format(comparison, set_),\n",
    "            html_file_path=\"{}/{}.html\".format(directory_path, set_),\n",
    "        )"
   ]
  }
 ],
 "metadata": {
  "kernelspec": {
   "display_name": "Python 3",
   "language": "python",
   "name": "python3"
  },
  "language_info": {
   "codemirror_mode": {
    "name": "ipython",
    "version": 3
   },
   "file_extension": ".py",
   "mimetype": "text/x-python",
   "name": "python",
   "nbconvert_exporter": "python",
   "pygments_lexer": "ipython3",
   "version": "3.7.8"
  }
 },
 "nbformat": 4,
 "nbformat_minor": 4
}
