{
 "cells": [
  {
   "cell_type": "code",
   "execution_count": null,
   "metadata": {
    "execution": {
     "iopub.execute_input": "2021-06-01T07:00:06.099817Z",
     "iopub.status.busy": "2021-06-01T07:00:06.099092Z",
     "iopub.status.idle": "2021-06-01T07:00:06.111719Z",
     "shell.execute_reply": "2021-06-01T07:00:06.112225Z"
    },
    "tags": []
   },
   "outputs": [],
   "source": [
    "%load_ext autoreload\n",
    "%autoreload 2"
   ]
  },
  {
   "cell_type": "code",
   "execution_count": null,
   "metadata": {
    "execution": {
     "iopub.execute_input": "2021-06-01T07:00:06.115537Z",
     "iopub.status.busy": "2021-06-01T07:00:06.114950Z",
     "iopub.status.idle": "2021-06-01T07:00:06.680284Z",
     "shell.execute_reply": "2021-06-01T07:00:06.680697Z"
    },
    "tags": []
   },
   "outputs": [],
   "source": [
    "from __init__ import *"
   ]
  },
  {
   "cell_type": "code",
   "execution_count": null,
   "metadata": {
    "execution": {
     "iopub.execute_input": "2021-06-01T07:00:06.684314Z",
     "iopub.status.busy": "2021-06-01T07:00:06.683725Z",
     "iopub.status.idle": "2021-06-01T07:00:07.490787Z",
     "shell.execute_reply": "2021-06-01T07:00:07.490312Z"
    },
    "tags": []
   },
   "outputs": [],
   "source": [
    "nu_fe_sa = pd.read_csv(\"../output/number_feature_sample.tsv\", \"\\t\", index_col=0)\n",
    "\n",
    "se_fe_ = kraft.gmt.read(kraft.path.list(\"../input/set/\"))\n",
    "\n",
    "nu_se_in = pd.read_csv(\"../output/number_set_information.tsv\", \"\\t\", index_col=0)"
   ]
  },
  {
   "cell_type": "code",
   "execution_count": null,
   "metadata": {
    "execution": {
     "iopub.execute_input": "2021-06-01T07:00:07.494648Z",
     "iopub.status.busy": "2021-06-01T07:00:07.494058Z",
     "iopub.status.idle": "2021-06-01T07:00:20.095964Z",
     "shell.execute_reply": "2021-06-01T07:00:20.096318Z"
    },
    "tags": []
   },
   "outputs": [],
   "source": [
    "nu_se_sa = kraft.score_set.score_samples_and_sets(\n",
    "    nu_fe_sa,\n",
    "    {se: se_fe_[se] for se in nu_se_in.index[nu_se_in.loc[:, \"Selected\"]]},\n",
    "    n_jo=SETTING[\"n_jo\"],\n",
    ")\n",
    "\n",
    "nu_se_sa.to_csv(\"../output/number_set_sample.tsv\", \"\\t\")\n",
    "\n",
    "nu_se_sa"
   ]
  },
  {
   "cell_type": "code",
   "execution_count": null,
   "metadata": {
    "execution": {
     "iopub.execute_input": "2021-06-01T07:00:20.099370Z",
     "iopub.status.busy": "2021-06-01T07:00:20.098874Z",
     "iopub.status.idle": "2021-06-01T07:00:20.125653Z",
     "shell.execute_reply": "2021-06-01T07:00:20.126024Z"
    },
    "tags": []
   },
   "outputs": [],
   "source": [
    "nu_se_sa.reindex(SETTING[\"se_\"])"
   ]
  }
 ],
 "metadata": {
  "kernelspec": {
   "display_name": "Python 3",
   "language": "python",
   "name": "python3"
  },
  "language_info": {
   "codemirror_mode": {
    "name": "ipython",
    "version": 3
   },
   "file_extension": ".py",
   "mimetype": "text/x-python",
   "name": "python",
   "nbconvert_exporter": "python",
   "pygments_lexer": "ipython3",
   "version": "3.8.9"
  }
 },
 "nbformat": 4,
 "nbformat_minor": 4
}
