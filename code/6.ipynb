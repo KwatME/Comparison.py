{
 "cells": [
  {
   "cell_type": "code",
   "execution_count": null,
   "metadata": {
    "execution": {
     "iopub.execute_input": "2021-06-03T06:31:49.828161Z",
     "iopub.status.busy": "2021-06-03T06:31:49.827461Z",
     "iopub.status.idle": "2021-06-03T06:31:49.839937Z",
     "shell.execute_reply": "2021-06-03T06:31:49.840389Z"
    },
    "tags": []
   },
   "outputs": [],
   "source": [
    "%load_ext autoreload\n",
    "%autoreload 2"
   ]
  },
  {
   "cell_type": "code",
   "execution_count": null,
   "metadata": {
    "execution": {
     "iopub.execute_input": "2021-06-03T06:31:49.843974Z",
     "iopub.status.busy": "2021-06-03T06:31:49.843344Z",
     "iopub.status.idle": "2021-06-03T06:31:50.419900Z",
     "shell.execute_reply": "2021-06-03T06:31:50.420304Z"
    },
    "tags": []
   },
   "outputs": [],
   "source": [
    "from __init__ import *"
   ]
  },
  {
   "cell_type": "code",
   "execution_count": null,
   "metadata": {
    "execution": {
     "iopub.execute_input": "2021-06-03T06:31:50.423967Z",
     "iopub.status.busy": "2021-06-03T06:31:50.423362Z",
     "iopub.status.idle": "2021-06-03T06:31:51.261318Z",
     "shell.execute_reply": "2021-06-03T06:31:51.261768Z"
    },
    "tags": []
   },
   "outputs": [],
   "source": [
    "nu_fe_sa = pd.read_csv(\"../output/number_feature_sample.tsv\", \"\\t\", index_col=0)\n",
    "\n",
    "se_fe_ = kraft.gmt.read(kraft.path.list(\"../input/set/\"))\n",
    "\n",
    "st_se_in = pd.read_csv(\"../output/statistic_set_information.tsv\", \"\\t\", index_col=0)"
   ]
  },
  {
   "cell_type": "code",
   "execution_count": null,
   "metadata": {
    "execution": {
     "iopub.execute_input": "2021-06-03T06:31:51.265697Z",
     "iopub.status.busy": "2021-06-03T06:31:51.265089Z",
     "iopub.status.idle": "2021-06-03T06:32:46.015684Z",
     "shell.execute_reply": "2021-06-03T06:32:46.016044Z"
    },
    "tags": []
   },
   "outputs": [],
   "source": [
    "sc_se_sa = kraft.score_set.score_samples_and_sets(\n",
    "    nu_fe_sa,\n",
    "    {se: se_fe_[se] for se in st_se_in.index[st_se_in.loc[:, \"Selected\"]]},\n",
    "    n_jo=SETTING[\"n_jo\"],\n",
    ")\n",
    "\n",
    "sc_se_sa.to_csv(\"../output/score_set_sample.tsv\", \"\\t\")\n",
    "\n",
    "sc_se_sa"
   ]
  },
  {
   "cell_type": "code",
   "execution_count": null,
   "metadata": {
    "execution": {
     "iopub.execute_input": "2021-06-03T06:32:46.019120Z",
     "iopub.status.busy": "2021-06-03T06:32:46.018584Z",
     "iopub.status.idle": "2021-06-03T06:32:46.044921Z",
     "shell.execute_reply": "2021-06-03T06:32:46.045394Z"
    },
    "tags": []
   },
   "outputs": [],
   "source": [
    "sc_se_sa.reindex(SETTING[\"se_\"])"
   ]
  }
 ],
 "metadata": {
  "kernelspec": {
   "display_name": "Python 3",
   "language": "python",
   "name": "python3"
  },
  "language_info": {
   "codemirror_mode": {
    "name": "ipython",
    "version": 3
   },
   "file_extension": ".py",
   "mimetype": "text/x-python",
   "name": "python",
   "nbconvert_exporter": "python",
   "pygments_lexer": "ipython3",
   "version": "3.8.9"
  }
 },
 "nbformat": 4,
 "nbformat_minor": 4
}
