{
 "cells": [
  {
   "cell_type": "code",
   "execution_count": null,
   "metadata": {
    "execution": {
     "iopub.execute_input": "2021-06-05T22:56:45.709877Z",
     "iopub.status.busy": "2021-06-05T22:56:45.709100Z",
     "iopub.status.idle": "2021-06-05T22:56:45.723546Z",
     "shell.execute_reply": "2021-06-05T22:56:45.723983Z"
    },
    "tags": []
   },
   "outputs": [],
   "source": [
    "%load_ext autoreload\n",
    "%autoreload 2"
   ]
  },
  {
   "cell_type": "code",
   "execution_count": null,
   "metadata": {
    "execution": {
     "iopub.execute_input": "2021-06-05T22:56:45.727546Z",
     "iopub.status.busy": "2021-06-05T22:56:45.726944Z",
     "iopub.status.idle": "2021-06-05T22:56:46.251584Z",
     "shell.execute_reply": "2021-06-05T22:56:46.251966Z"
    },
    "tags": []
   },
   "outputs": [],
   "source": [
    "from __init__ import *"
   ]
  },
  {
   "cell_type": "code",
   "execution_count": null,
   "metadata": {
    "execution": {
     "iopub.execute_input": "2021-06-05T22:56:46.255736Z",
     "iopub.status.busy": "2021-06-05T22:56:46.255156Z",
     "iopub.status.idle": "2021-06-05T22:56:46.980147Z",
     "shell.execute_reply": "2021-06-05T22:56:46.980593Z"
    },
    "tags": []
   },
   "outputs": [],
   "source": [
    "nu_fe_sa = pd.read_csv(\"../output/number_feature_sample.tsv\", \"\\t\", index_col=0)\n",
    "\n",
    "se_fe_ = kraft.gmt.read(kraft.path.list(\"../input/set/\"))\n",
    "\n",
    "st_se_in = pd.read_csv(\"../output/statistic_set_information.tsv\", \"\\t\", index_col=0)"
   ]
  },
  {
   "cell_type": "code",
   "execution_count": null,
   "metadata": {
    "execution": {
     "iopub.execute_input": "2021-06-05T22:56:46.984460Z",
     "iopub.status.busy": "2021-06-05T22:56:46.983854Z",
     "iopub.status.idle": "2021-06-05T22:57:10.885238Z",
     "shell.execute_reply": "2021-06-05T22:57:10.885930Z"
    },
    "tags": []
   },
   "outputs": [],
   "source": [
    "sc_se_sa = kraft.score_set.score_samples_and_sets(\n",
    "    nu_fe_sa,\n",
    "    {se: se_fe_[se] for se in st_se_in.index[st_se_in.loc[:, \"Selected\"]]},\n",
    "    n_jo=SETTING[\"n_jo\"],\n",
    ")\n",
    "\n",
    "sc_se_sa.to_csv(\"../output/score_set_sample.tsv\", \"\\t\")\n",
    "\n",
    "sc_se_sa"
   ]
  },
  {
   "cell_type": "code",
   "execution_count": null,
   "metadata": {
    "execution": {
     "iopub.execute_input": "2021-06-05T22:57:10.890065Z",
     "iopub.status.busy": "2021-06-05T22:57:10.889271Z",
     "iopub.status.idle": "2021-06-05T22:57:10.922612Z",
     "shell.execute_reply": "2021-06-05T22:57:10.923113Z"
    },
    "tags": []
   },
   "outputs": [],
   "source": [
    "sc_se_sa.reindex(SETTING[\"se_\"])"
   ]
  }
 ],
 "metadata": {
  "kernelspec": {
   "display_name": "Python 3",
   "language": "python",
   "name": "python3"
  },
  "language_info": {
   "codemirror_mode": {
    "name": "ipython",
    "version": 3
   },
   "file_extension": ".py",
   "mimetype": "text/x-python",
   "name": "python",
   "nbconvert_exporter": "python",
   "pygments_lexer": "ipython3",
   "version": "3.8.9"
  }
 },
 "nbformat": 4,
 "nbformat_minor": 4
}
