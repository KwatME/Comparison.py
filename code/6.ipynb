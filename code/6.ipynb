{
 "cells": [
  {
   "cell_type": "code",
   "execution_count": null,
   "metadata": {
    "execution": {
     "iopub.execute_input": "2021-06-02T00:45:55.563760Z",
     "iopub.status.busy": "2021-06-02T00:45:55.562989Z",
     "iopub.status.idle": "2021-06-02T00:45:55.575977Z",
     "shell.execute_reply": "2021-06-02T00:45:55.576422Z"
    },
    "tags": []
   },
   "outputs": [],
   "source": [
    "%load_ext autoreload\n",
    "%autoreload 2"
   ]
  },
  {
   "cell_type": "code",
   "execution_count": null,
   "metadata": {
    "execution": {
     "iopub.execute_input": "2021-06-02T00:45:55.579903Z",
     "iopub.status.busy": "2021-06-02T00:45:55.579310Z",
     "iopub.status.idle": "2021-06-02T00:45:56.113027Z",
     "shell.execute_reply": "2021-06-02T00:45:56.113422Z"
    },
    "tags": []
   },
   "outputs": [],
   "source": [
    "from __init__ import *"
   ]
  },
  {
   "cell_type": "code",
   "execution_count": null,
   "metadata": {
    "execution": {
     "iopub.execute_input": "2021-06-02T00:45:56.117034Z",
     "iopub.status.busy": "2021-06-02T00:45:56.116497Z",
     "iopub.status.idle": "2021-06-02T00:45:56.879483Z",
     "shell.execute_reply": "2021-06-02T00:45:56.879921Z"
    },
    "tags": []
   },
   "outputs": [],
   "source": [
    "nu_fe_sa = pd.read_csv(\"../output/number_feature_sample.tsv\", \"\\t\", index_col=0)\n",
    "\n",
    "se_fe_ = kraft.gmt.read(kraft.path.list(\"../input/set/\"))\n",
    "\n",
    "nu_se_in = pd.read_csv(\"../output/number_set_information.tsv\", \"\\t\", index_col=0)"
   ]
  },
  {
   "cell_type": "code",
   "execution_count": null,
   "metadata": {
    "execution": {
     "iopub.execute_input": "2021-06-02T00:45:56.883905Z",
     "iopub.status.busy": "2021-06-02T00:45:56.883282Z",
     "iopub.status.idle": "2021-06-02T00:46:09.241318Z",
     "shell.execute_reply": "2021-06-02T00:46:09.241745Z"
    },
    "tags": []
   },
   "outputs": [],
   "source": [
    "sc_se_sa = kraft.score_set.score_samples_and_sets(\n",
    "    nu_fe_sa,\n",
    "    {se: se_fe_[se] for se in nu_se_in.index[nu_se_in.loc[:, \"Selected\"]]},\n",
    "    n_jo=SETTING[\"n_jo\"],\n",
    ")\n",
    "\n",
    "sc_se_sa.to_csv(\"../output/score_set_sample.tsv\", \"\\t\")\n",
    "\n",
    "sc_se_sa"
   ]
  },
  {
   "cell_type": "code",
   "execution_count": null,
   "metadata": {
    "execution": {
     "iopub.execute_input": "2021-06-02T00:46:09.245253Z",
     "iopub.status.busy": "2021-06-02T00:46:09.244656Z",
     "iopub.status.idle": "2021-06-02T00:46:09.275336Z",
     "shell.execute_reply": "2021-06-02T00:46:09.274681Z"
    },
    "tags": []
   },
   "outputs": [],
   "source": [
    "sc_se_sa.reindex(SETTING[\"se_\"])"
   ]
  }
 ],
 "metadata": {
  "kernelspec": {
   "display_name": "Python 3",
   "language": "python",
   "name": "python3"
  },
  "language_info": {
   "codemirror_mode": {
    "name": "ipython",
    "version": 3
   },
   "file_extension": ".py",
   "mimetype": "text/x-python",
   "name": "python",
   "nbconvert_exporter": "python",
   "pygments_lexer": "ipython3",
   "version": "3.8.9"
  }
 },
 "nbformat": 4,
 "nbformat_minor": 4
}
