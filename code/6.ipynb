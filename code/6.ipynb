{
 "cells": [
  {
   "cell_type": "code",
   "execution_count": null,
   "metadata": {
    "execution": {
     "iopub.execute_input": "2021-06-02T07:29:37.472486Z",
     "iopub.status.busy": "2021-06-02T07:29:37.471835Z",
     "iopub.status.idle": "2021-06-02T07:29:37.484538Z",
     "shell.execute_reply": "2021-06-02T07:29:37.485376Z"
    },
    "tags": []
   },
   "outputs": [],
   "source": [
    "%load_ext autoreload\n",
    "%autoreload 2"
   ]
  },
  {
   "cell_type": "code",
   "execution_count": null,
   "metadata": {
    "execution": {
     "iopub.execute_input": "2021-06-02T07:29:37.489155Z",
     "iopub.status.busy": "2021-06-02T07:29:37.488559Z",
     "iopub.status.idle": "2021-06-02T07:29:38.018292Z",
     "shell.execute_reply": "2021-06-02T07:29:38.018674Z"
    },
    "tags": []
   },
   "outputs": [],
   "source": [
    "from __init__ import *"
   ]
  },
  {
   "cell_type": "code",
   "execution_count": null,
   "metadata": {
    "execution": {
     "iopub.execute_input": "2021-06-02T07:29:38.022288Z",
     "iopub.status.busy": "2021-06-02T07:29:38.021712Z",
     "iopub.status.idle": "2021-06-02T07:29:38.783095Z",
     "shell.execute_reply": "2021-06-02T07:29:38.783522Z"
    },
    "tags": []
   },
   "outputs": [],
   "source": [
    "nu_fe_sa = pd.read_csv(\"../output/number_feature_sample.tsv\", \"\\t\", index_col=0)\n",
    "\n",
    "se_fe_ = kraft.gmt.read(kraft.path.list(\"../input/set/\"))\n",
    "\n",
    "nu_se_in = pd.read_csv(\"../output/number_set_information.tsv\", \"\\t\", index_col=0)"
   ]
  },
  {
   "cell_type": "code",
   "execution_count": null,
   "metadata": {
    "execution": {
     "iopub.execute_input": "2021-06-02T07:29:38.787379Z",
     "iopub.status.busy": "2021-06-02T07:29:38.786786Z",
     "iopub.status.idle": "2021-06-02T07:29:51.126208Z",
     "shell.execute_reply": "2021-06-02T07:29:51.126725Z"
    },
    "tags": []
   },
   "outputs": [],
   "source": [
    "sc_se_sa = kraft.score_set.score_samples_and_sets(\n",
    "    nu_fe_sa,\n",
    "    {se: se_fe_[se] for se in nu_se_in.index[nu_se_in.loc[:, \"Selected\"]]},\n",
    "    n_jo=SETTING[\"n_jo\"],\n",
    ")\n",
    "\n",
    "sc_se_sa.to_csv(\"../output/score_set_sample.tsv\", \"\\t\")\n",
    "\n",
    "sc_se_sa"
   ]
  },
  {
   "cell_type": "code",
   "execution_count": null,
   "metadata": {
    "execution": {
     "iopub.execute_input": "2021-06-02T07:29:51.130422Z",
     "iopub.status.busy": "2021-06-02T07:29:51.129805Z",
     "iopub.status.idle": "2021-06-02T07:29:51.162396Z",
     "shell.execute_reply": "2021-06-02T07:29:51.162852Z"
    },
    "tags": []
   },
   "outputs": [],
   "source": [
    "sc_se_sa.reindex(SETTING[\"se_\"])"
   ]
  }
 ],
 "metadata": {
  "kernelspec": {
   "display_name": "Python 3",
   "language": "python",
   "name": "python3"
  },
  "language_info": {
   "codemirror_mode": {
    "name": "ipython",
    "version": 3
   },
   "file_extension": ".py",
   "mimetype": "text/x-python",
   "name": "python",
   "nbconvert_exporter": "python",
   "pygments_lexer": "ipython3",
   "version": "3.8.9"
  }
 },
 "nbformat": 4,
 "nbformat_minor": 4
}
