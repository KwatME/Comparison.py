{
 "cells": [
  {
   "cell_type": "code",
   "execution_count": null,
   "metadata": {
    "execution": {
     "iopub.execute_input": "2021-06-05T21:14:00.068043Z",
     "iopub.status.busy": "2021-06-05T21:14:00.067379Z",
     "iopub.status.idle": "2021-06-05T21:14:00.080560Z",
     "shell.execute_reply": "2021-06-05T21:14:00.081000Z"
    },
    "tags": []
   },
   "outputs": [],
   "source": [
    "%load_ext autoreload\n",
    "%autoreload 2"
   ]
  },
  {
   "cell_type": "code",
   "execution_count": null,
   "metadata": {
    "execution": {
     "iopub.execute_input": "2021-06-05T21:14:00.084589Z",
     "iopub.status.busy": "2021-06-05T21:14:00.084002Z",
     "iopub.status.idle": "2021-06-05T21:14:00.634759Z",
     "shell.execute_reply": "2021-06-05T21:14:00.635149Z"
    },
    "tags": []
   },
   "outputs": [],
   "source": [
    "from __init__ import *"
   ]
  },
  {
   "cell_type": "code",
   "execution_count": null,
   "metadata": {
    "execution": {
     "iopub.execute_input": "2021-06-05T21:14:00.638750Z",
     "iopub.status.busy": "2021-06-05T21:14:00.638181Z",
     "iopub.status.idle": "2021-06-05T21:14:01.383606Z",
     "shell.execute_reply": "2021-06-05T21:14:01.384039Z"
    },
    "tags": []
   },
   "outputs": [],
   "source": [
    "nu_fe_sa = pd.read_csv(\"../output/number_feature_sample.tsv\", \"\\t\", index_col=0)\n",
    "\n",
    "se_fe_ = kraft.gmt.read(kraft.path.list(\"../input/set/\"))\n",
    "\n",
    "st_se_in = pd.read_csv(\"../output/statistic_set_information.tsv\", \"\\t\", index_col=0)"
   ]
  },
  {
   "cell_type": "code",
   "execution_count": null,
   "metadata": {
    "execution": {
     "iopub.execute_input": "2021-06-05T21:14:01.388006Z",
     "iopub.status.busy": "2021-06-05T21:14:01.387406Z",
     "iopub.status.idle": "2021-06-05T21:14:26.029212Z",
     "shell.execute_reply": "2021-06-05T21:14:26.029669Z"
    },
    "tags": []
   },
   "outputs": [],
   "source": [
    "sc_se_sa = kraft.score_set.score_samples_and_sets(\n",
    "    nu_fe_sa,\n",
    "    {se: se_fe_[se] for se in st_se_in.index[st_se_in.loc[:, \"Selected\"]]},\n",
    "    n_jo=SETTING[\"n_jo\"],\n",
    ")\n",
    "\n",
    "sc_se_sa.to_csv(\"../output/score_set_sample.tsv\", \"\\t\")\n",
    "\n",
    "sc_se_sa"
   ]
  },
  {
   "cell_type": "code",
   "execution_count": null,
   "metadata": {
    "execution": {
     "iopub.execute_input": "2021-06-05T21:14:26.033482Z",
     "iopub.status.busy": "2021-06-05T21:14:26.032833Z",
     "iopub.status.idle": "2021-06-05T21:14:26.066221Z",
     "shell.execute_reply": "2021-06-05T21:14:26.066693Z"
    },
    "tags": []
   },
   "outputs": [],
   "source": [
    "sc_se_sa.reindex(SETTING[\"se_\"])"
   ]
  }
 ],
 "metadata": {
  "kernelspec": {
   "display_name": "Python 3",
   "language": "python",
   "name": "python3"
  },
  "language_info": {
   "codemirror_mode": {
    "name": "ipython",
    "version": 3
   },
   "file_extension": ".py",
   "mimetype": "text/x-python",
   "name": "python",
   "nbconvert_exporter": "python",
   "pygments_lexer": "ipython3",
   "version": "3.8.9"
  }
 },
 "nbformat": 4,
 "nbformat_minor": 4
}
