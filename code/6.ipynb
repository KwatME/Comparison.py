{
 "cells": [
  {
   "cell_type": "code",
   "execution_count": null,
   "metadata": {
    "execution": {
     "iopub.execute_input": "2021-05-28T04:23:12.043303Z",
     "iopub.status.busy": "2021-05-28T04:23:12.042588Z",
     "iopub.status.idle": "2021-05-28T04:23:12.055509Z",
     "shell.execute_reply": "2021-05-28T04:23:12.055956Z"
    },
    "tags": []
   },
   "outputs": [],
   "source": [
    "%load_ext autoreload\n",
    "%autoreload 2"
   ]
  },
  {
   "cell_type": "code",
   "execution_count": null,
   "metadata": {
    "execution": {
     "iopub.execute_input": "2021-05-28T04:23:12.059520Z",
     "iopub.status.busy": "2021-05-28T04:23:12.058926Z",
     "iopub.status.idle": "2021-05-28T04:23:12.759182Z",
     "shell.execute_reply": "2021-05-28T04:23:12.759560Z"
    },
    "tags": []
   },
   "outputs": [],
   "source": [
    "from __init__ import *"
   ]
  },
  {
   "cell_type": "code",
   "execution_count": null,
   "metadata": {
    "execution": {
     "iopub.execute_input": "2021-05-28T04:23:12.763008Z",
     "iopub.status.busy": "2021-05-28T04:23:12.762422Z",
     "iopub.status.idle": "2021-05-28T04:23:13.454071Z",
     "shell.execute_reply": "2021-05-28T04:23:13.454464Z"
    },
    "tags": []
   },
   "outputs": [],
   "source": [
    "fxs = pd.read_csv(\"../input/feature_x_sample.tsv\", sep=\"\\t\", index_col=0)\n",
    "\n",
    "stf_ = kraft.gmt.read(kraft.path.list_directory(\"../input/set/\"))\n",
    "\n",
    "sxi = pd.read_csv(\"../output/set_x_information.tsv\", sep=\"\\t\", index_col=0)"
   ]
  },
  {
   "cell_type": "code",
   "execution_count": null,
   "metadata": {
    "execution": {
     "iopub.execute_input": "2021-05-28T04:23:13.458200Z",
     "iopub.status.busy": "2021-05-28T04:23:13.457627Z",
     "iopub.status.idle": "2021-05-28T04:26:15.198476Z",
     "shell.execute_reply": "2021-05-28T04:26:15.198088Z"
    },
    "tags": []
   },
   "outputs": [],
   "source": [
    "sxs = kraft.score_set.score_samples_and_sets(\n",
    "    fxs,\n",
    "    {s: stf_[s] for s in sxi.index[sxi.loc[:, \"Selected\"]]},\n",
    "    n_job=S[\"n_job\"],\n",
    ")\n",
    "\n",
    "sxs.to_csv(\"../output/set_x_sample.tsv\", sep=\"\\t\")\n",
    "\n",
    "sxs"
   ]
  },
  {
   "cell_type": "code",
   "execution_count": null,
   "metadata": {
    "execution": {
     "iopub.execute_input": "2021-05-28T04:26:15.201409Z",
     "iopub.status.busy": "2021-05-28T04:26:15.200905Z",
     "iopub.status.idle": "2021-05-28T04:26:15.230608Z",
     "shell.execute_reply": "2021-05-28T04:26:15.231150Z"
    },
    "tags": []
   },
   "outputs": [],
   "source": [
    "sxs.reindex(S[\"peek_set_\"])"
   ]
  }
 ],
 "metadata": {
  "kernelspec": {
   "display_name": "Python 3",
   "language": "python",
   "name": "python3"
  },
  "language_info": {
   "codemirror_mode": {
    "name": "ipython",
    "version": 3
   },
   "file_extension": ".py",
   "mimetype": "text/x-python",
   "name": "python",
   "nbconvert_exporter": "python",
   "pygments_lexer": "ipython3",
   "version": "3.8.9"
  }
 },
 "nbformat": 4,
 "nbformat_minor": 4
}
