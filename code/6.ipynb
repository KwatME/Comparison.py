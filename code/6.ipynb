{
 "cells": [
  {
   "cell_type": "code",
   "execution_count": null,
   "metadata": {
    "execution": {
     "iopub.execute_input": "2021-05-28T06:05:12.026702Z",
     "iopub.status.busy": "2021-05-28T06:05:12.025957Z",
     "iopub.status.idle": "2021-05-28T06:05:12.039066Z",
     "shell.execute_reply": "2021-05-28T06:05:12.039513Z"
    },
    "tags": []
   },
   "outputs": [],
   "source": [
    "%load_ext autoreload\n",
    "%autoreload 2"
   ]
  },
  {
   "cell_type": "code",
   "execution_count": null,
   "metadata": {
    "execution": {
     "iopub.execute_input": "2021-05-28T06:05:12.043009Z",
     "iopub.status.busy": "2021-05-28T06:05:12.042399Z",
     "iopub.status.idle": "2021-05-28T06:05:12.742780Z",
     "shell.execute_reply": "2021-05-28T06:05:12.743185Z"
    },
    "tags": []
   },
   "outputs": [],
   "source": [
    "from __init__ import *"
   ]
  },
  {
   "cell_type": "code",
   "execution_count": null,
   "metadata": {
    "execution": {
     "iopub.execute_input": "2021-05-28T06:05:12.746693Z",
     "iopub.status.busy": "2021-05-28T06:05:12.746170Z",
     "iopub.status.idle": "2021-05-28T06:05:13.441473Z",
     "shell.execute_reply": "2021-05-28T06:05:13.441858Z"
    },
    "tags": []
   },
   "outputs": [],
   "source": [
    "fxs = pd.read_csv(\"../input/feature_x_sample.tsv\", sep=\"\\t\", index_col=0)\n",
    "\n",
    "stf_ = kraft.gmt.read(kraft.path.list_directory(\"../input/set/\"))\n",
    "\n",
    "sxi = pd.read_csv(\"../output/set_x_information.tsv\", sep=\"\\t\", index_col=0)"
   ]
  },
  {
   "cell_type": "code",
   "execution_count": null,
   "metadata": {
    "execution": {
     "iopub.execute_input": "2021-05-28T06:05:13.445439Z",
     "iopub.status.busy": "2021-05-28T06:05:13.444846Z",
     "iopub.status.idle": "2021-05-28T06:11:02.908812Z",
     "shell.execute_reply": "2021-05-28T06:11:02.908455Z"
    },
    "tags": []
   },
   "outputs": [],
   "source": [
    "sxs = kraft.score_set.score_samples_and_sets(\n",
    "    fxs,\n",
    "    {s: stf_[s] for s in sxi.index[sxi.loc[:, \"Selected\"]]},\n",
    "    n_job=S[\"n_job\"],\n",
    ")\n",
    "\n",
    "sxs.to_csv(\"../output/set_x_sample.tsv\", sep=\"\\t\")\n",
    "\n",
    "sxs"
   ]
  },
  {
   "cell_type": "code",
   "execution_count": null,
   "metadata": {
    "execution": {
     "iopub.execute_input": "2021-05-28T06:11:02.912212Z",
     "iopub.status.busy": "2021-05-28T06:11:02.911652Z",
     "iopub.status.idle": "2021-05-28T06:11:02.942951Z",
     "shell.execute_reply": "2021-05-28T06:11:02.943304Z"
    },
    "tags": []
   },
   "outputs": [],
   "source": [
    "sxs.reindex(S[\"peek_set_\"])"
   ]
  }
 ],
 "metadata": {
  "kernelspec": {
   "display_name": "Python 3",
   "language": "python",
   "name": "python3"
  },
  "language_info": {
   "codemirror_mode": {
    "name": "ipython",
    "version": 3
   },
   "file_extension": ".py",
   "mimetype": "text/x-python",
   "name": "python",
   "nbconvert_exporter": "python",
   "pygments_lexer": "ipython3",
   "version": "3.8.9"
  }
 },
 "nbformat": 4,
 "nbformat_minor": 4
}
