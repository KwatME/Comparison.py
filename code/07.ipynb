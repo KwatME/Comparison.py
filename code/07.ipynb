{
 "cells": [
  {
   "cell_type": "code",
   "execution_count": null,
   "metadata": {
    "ExecuteTime": {
     "end_time": "2018-07-10T08:51:32.206804Z",
     "start_time": "2018-07-10T08:51:32.189423Z"
    }
   },
   "outputs": [],
   "source": [
    "%load_ext autoreload\n",
    "%autoreload 2"
   ]
  },
  {
   "cell_type": "code",
   "execution_count": null,
   "metadata": {
    "ExecuteTime": {
     "end_time": "2018-07-10T08:51:35.021387Z",
     "start_time": "2018-07-10T08:51:32.209467Z"
    }
   },
   "outputs": [],
   "source": [
    "from __init__ import *"
   ]
  },
  {
   "cell_type": "code",
   "execution_count": null,
   "metadata": {},
   "outputs": [],
   "source": [
    "comparison_x_sample = pd.read_csv(\n",
    "    \"../output/comparison_x_sample.tsv\", sep=\"\\t\", index_col=0\n",
    ")\n",
    "\n",
    "set_x_sample = pd.read_csv(\"../output/set_x_sample.tsv\", sep=\"\\t\", index_col=0)"
   ]
  },
  {
   "cell_type": "code",
   "execution_count": null,
   "metadata": {},
   "outputs": [],
   "source": [
    "name_to_sets = {}\n",
    "\n",
    "for name in os.listdir(\"../input/feature_set/\"):\n",
    "\n",
    "    name_to_sets[name] = kraft.gmt.read(\"../input/feature_set/{}\".format(name))"
   ]
  },
  {
   "cell_type": "code",
   "execution_count": null,
   "metadata": {},
   "outputs": [],
   "source": [
    "# TODO: plot: x = \"Score\", y = \"1 - P-Value\"\n",
    "\n",
    "keyword_arguments = {\n",
    "    \"n_job\": SETTING[\"n_job\"],\n",
    "    \"n_sampling\": SETTING[\"n_sampling\"],\n",
    "    \"n_permutation\": SETTING[\"n_permutation\"],\n",
    "    \"se_data_type\": \"binary\",\n",
    "    \"plot_std\": SETTING[\"plot_std\"],\n",
    "}\n",
    "\n",
    "for comparison, groups in comparison_x_sample.iterrows():\n",
    "\n",
    "    groups.dropna(inplace=True)\n",
    "\n",
    "    min_group_size = np.unique(groups.to_numpy(), return_counts=True)[1].min()\n",
    "\n",
    "    directory_path = os.path.join(\n",
    "        \"../output/find_differentially_expressed_set/\", kraft.path.clean(comparison)\n",
    "    )\n",
    "\n",
    "    kraft.path.path(directory_path)\n",
    "\n",
    "    for function, group_size in ((kraft.information.get_ic, 2),):\n",
    "\n",
    "        if min_group_size < group_size:\n",
    "\n",
    "            continue\n",
    "\n",
    "        directory_path_ = os.path.join(\n",
    "            directory_path, \"all_{}/\".format(function.__name__)\n",
    "        )\n",
    "\n",
    "        kraft.path.path(directory_path_)\n",
    "\n",
    "        scores = kraft.function_heat_map.make(\n",
    "            groups,\n",
    "            set_x_sample,\n",
    "            function,\n",
    "            n_extreme=SETTING[\"n_extreme\"],\n",
    "            title=\"All ({})\".format(function.__name__),\n",
    "            directory_path=directory_path_,\n",
    "            **keyword_arguments,\n",
    "        )\n",
    "\n",
    "        kraft.function_heat_map.make(\n",
    "            groups,\n",
    "            set_x_sample.reindex(index=SETTING[\"sets_to_peek\"]),\n",
    "            function,\n",
    "            scores=scores,\n",
    "            n_extreme=None,\n",
    "            title=\"Peek ({})\".format(function.__name__),\n",
    "            **keyword_arguments,\n",
    "        )\n",
    "\n",
    "        for name, sets in name_to_sets.items():\n",
    "\n",
    "            directory_path_ = os.path.join(directory_path, name, \"\")\n",
    "\n",
    "            kraft.path.path(directory_path_)\n",
    "\n",
    "            common_sets = set_x_sample.index & sets\n",
    "\n",
    "            if 0 < len(common_sets):\n",
    "\n",
    "                kraft.function_heat_map.make(\n",
    "                    groups,\n",
    "                    set_x_sample.loc[common_sets, :],\n",
    "                    function,\n",
    "                    scores=scores,\n",
    "                    n_extreme=SETTING[\"n_extreme\"],\n",
    "                    title=name,\n",
    "                    directory_path=directory_path_,\n",
    "                    **keyword_arguments,\n",
    "                )"
   ]
  }
 ],
 "metadata": {
  "kernelspec": {
   "display_name": "Python 3",
   "language": "python",
   "name": "python3"
  },
  "language_info": {
   "codemirror_mode": {
    "name": "ipython",
    "version": 3
   },
   "file_extension": ".py",
   "mimetype": "text/x-python",
   "name": "python",
   "nbconvert_exporter": "python",
   "pygments_lexer": "ipython3",
   "version": "3.7.8"
  }
 },
 "nbformat": 4,
 "nbformat_minor": 4
}
