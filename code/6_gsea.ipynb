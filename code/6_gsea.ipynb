{
 "cells": [
  {
   "cell_type": "code",
   "execution_count": null,
   "metadata": {},
   "outputs": [],
   "source": [
    "%load_ext autoreload\n",
    "%autoreload 2"
   ]
  },
  {
   "cell_type": "code",
   "execution_count": null,
   "metadata": {},
   "outputs": [],
   "source": [
    "from environment import *\n",
    "\n",
    "with open(\"setting.yaml\") as yaml_file:\n",
    "\n",
    "    SETTING = yaml.load(yaml_file)\n",
    "\n",
    "PATH = make_path_dict(SETTING)"
   ]
  },
  {
   "cell_type": "code",
   "execution_count": null,
   "metadata": {},
   "outputs": [],
   "source": [
    "gene_x_sample = pd.read_csv(PATH[\"gene_x_sample.processed.tsv\"], sep=\"\\t\", index_col=0)\n",
    "\n",
    "target_x_sample = pd.read_csv(PATH[\"target_x_sample.tsv\"], sep=\"\\t\", index_col=0)\n",
    "\n",
    "gene_sets = ccal.read_gmts(SETTING[\"gene_set_file_paths\"])\n",
    "\n",
    "gene_set_x_information = pd.read_csv(\n",
    "    PATH[\"gene_set_x_information.tsv\"], sep=\"\\t\", index_col=0\n",
    ")"
   ]
  },
  {
   "cell_type": "code",
   "execution_count": null,
   "metadata": {},
   "outputs": [],
   "source": [
    "for target_name, target_values in target_x_sample.iterrows():\n",
    "\n",
    "    output_directory_path = \"{}/{}\".format(PATH[\"gsea/\"], target_name)\n",
    "\n",
    "    ccal.establish_path(output_directory_path, \"directory\")\n",
    "\n",
    "    match_function_name = \"compute_log_ratio\"\n",
    "\n",
    "    score_moe_p_value_fdr = pd.read_csv(\n",
    "        \"{}/{}/all.{}.tsv\".format(\n",
    "            PATH[\"find_differentially_expressed_gene/\"],\n",
    "            target_name,\n",
    "            match_function_name,\n",
    "        ),\n",
    "        sep=\"\\t\",\n",
    "        index_col=0,\n",
    "    )\n",
    "\n",
    "    gene_score = score_moe_p_value_fdr[\"Score\"]\n",
    "\n",
    "    gene_score.name = \"Gene Score\"\n",
    "\n",
    "    gene_set_score = (\n",
    "        ccal.single_sample_gseas(\n",
    "            gene_score.to_frame(),\n",
    "            gene_sets.loc[\n",
    "                gene_set_x_information.index[\n",
    "                    gene_set_x_information[\"Good\"].astype(bool)\n",
    "                ]\n",
    "            ],\n",
    "            statistic=SETTING[\"gsea_statistic\"],\n",
    "            n_job=SETTING[\"n_job\"],\n",
    "        )\n",
    "        .squeeze()\n",
    "        .sort_values()\n",
    "    )\n",
    "\n",
    "    gene_set_score.name = \"GSEA Score ({})\".format(SETTING[\"gsea_statistic\"])\n",
    "\n",
    "    gene_set_score.to_csv(\n",
    "        \"{}/{}.tsv\".format(output_directory_path, match_function_name),\n",
    "        sep=\"\\t\",\n",
    "        header=True,\n",
    "    )\n",
    "\n",
    "    print(gene_set_x_information.loc[gene_set_score.index])\n",
    "\n",
    "    ccal.plot_point_and_annotate(\n",
    "        None,\n",
    "        gene_set_score,\n",
    "        \"y\",\n",
    "        annotation=((\"Peek\", SETTING[\"gene_sets_to_peek\"], 8, \"#20d9ba\"),),\n",
    "        title=dict(text=target_name),\n",
    "        html_file_path=\"{}/{}.plot_point_and_annotate.html\".format(\n",
    "            output_directory_path, match_function_name\n",
    "        ),\n",
    "    )\n",
    "\n",
    "    output_directory_path = \"{}/mountain\".format(output_directory_path)\n",
    "\n",
    "    ccal.establish_path(output_directory_path, \"directory\")\n",
    "\n",
    "    for gene_set_name in SETTING[\"gene_sets_to_peek\"]:\n",
    "\n",
    "        ccal.single_sample_gsea(\n",
    "            gene_score,\n",
    "            gene_sets.loc[gene_set_name],\n",
    "            statistic=SETTING[\"gsea_statistic\"],\n",
    "            title=\"{}<br>{}\".format(target_name, gene_set_name),\n",
    "            html_file_path=\"{}/{}.html\".format(output_directory_path, gene_set_name),\n",
    "        )"
   ]
  }
 ],
 "metadata": {
  "kernelspec": {
   "display_name": "Python 3",
   "language": "python",
   "name": "python3"
  },
  "language_info": {
   "codemirror_mode": {
    "name": "ipython",
    "version": 3
   },
   "file_extension": ".py",
   "mimetype": "text/x-python",
   "name": "python",
   "nbconvert_exporter": "python",
   "pygments_lexer": "ipython3",
   "version": "3.6.7"
  }
 },
 "nbformat": 4,
 "nbformat_minor": 2
}
