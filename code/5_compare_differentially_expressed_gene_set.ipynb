{
 "cells": [
  {
   "cell_type": "code",
   "execution_count": null,
   "metadata": {},
   "outputs": [],
   "source": [
    "%load_ext autoreload\n",
    "%autoreload 2"
   ]
  },
  {
   "cell_type": "code",
   "execution_count": null,
   "metadata": {},
   "outputs": [],
   "source": [
    "from environment import *\n",
    "from setting import *"
   ]
  },
  {
   "cell_type": "code",
   "execution_count": null,
   "metadata": {},
   "outputs": [],
   "source": [
    "target_x_sample = pd.read_table(\n",
    "    PATH_DICT['target_x_sample_file_path'],\n",
    "    index_col=0,\n",
    ")"
   ]
  },
  {
   "cell_type": "code",
   "execution_count": null,
   "metadata": {},
   "outputs": [],
   "source": [
    "groups = {\n",
    "    'Group 0': {\n",
    "        'gene_sets': GENE_SET_TO_PEEK,\n",
    "        'size': 16,\n",
    "        'color': '#20d9ba',\n",
    "    },\n",
    "}"
   ]
  },
  {
   "cell_type": "code",
   "execution_count": null,
   "metadata": {},
   "outputs": [],
   "source": [
    "for target_name in target_x_sample.index:\n",
    "    \n",
    "    output_directory_path = '../output/hill_plot/{}'.format(target_name)\n",
    "    \n",
    "    ccal.establish_path(\n",
    "        output_directory_path,\n",
    "        'directory',\n",
    "    )\n",
    "    \n",
    "    score_moe_p_value_fdr = pd.read_table(\n",
    "        '{}/{}/all.tsv'.format(\n",
    "            PATH_DICT['differentially_expressed_gene_set_directory_path'],\n",
    "            target_name,\n",
    "        ),\n",
    "        index_col=0,\n",
    "    )\n",
    "    \n",
    "    for gene_set_file_path in PATH_DICT['gene_set_file_paths']:\n",
    "        \n",
    "        gene_set_file_name = gene_set_file_path.split('/')[-1]\n",
    "        \n",
    "        gmt = ccal.read_gmt(gene_set_file_path)\n",
    "        \n",
    "        score_moe_p_value_fdr__gmt = score_moe_p_value_fdr.loc[gmt.index].sort_values('Score')\n",
    "         \n",
    "        xs = [1 - score_moe_p_value_fdr__gmt['P-Value']]\n",
    "\n",
    "        ys = [score_moe_p_value_fdr__gmt['Score']]\n",
    "\n",
    "        names = [gene_set_file_name]\n",
    "\n",
    "        markers =[dict(\n",
    "            color='#d0d0d0',\n",
    "            size=3.2,\n",
    "        )]\n",
    "\n",
    "        texts = [gmt.index]\n",
    "\n",
    "        for group_name, group in groups.items():\n",
    "\n",
    "            group_gene_sets = group['gene_sets']\n",
    "\n",
    "            score_moe_p_value_fdr__gmt__peek = score_moe_p_value_fdr__gmt.loc[[gene_set in group_gene_sets for gene_set in score_moe_p_value_fdr__gmt.index]]\n",
    "\n",
    "            xs.append(1 - score_moe_p_value_fdr__gmt__peek['P-Value'])\n",
    "\n",
    "            ys.append(score_moe_p_value_fdr__gmt__peek['Score'])\n",
    "\n",
    "            names.append(group_name)\n",
    "\n",
    "            texts.append(score_moe_p_value_fdr__gmt__peek.index)\n",
    "\n",
    "            markers.append(dict(\n",
    "                size=group['size'],\n",
    "                color=group['color'],\n",
    "            ))\n",
    "\n",
    "        ccal.plot_points(\n",
    "            xs,\n",
    "            ys,\n",
    "            names=names,\n",
    "            modes=(\n",
    "                'lines',\n",
    "                'markers',\n",
    "            ),\n",
    "            texts=texts,\n",
    "            markers=markers,\n",
    "            title='{}<br>{}'.format(\n",
    "                target_name,\n",
    "                gene_set_file_name,\n",
    "            ),\n",
    "            xaxis_title='1 - P-Value',\n",
    "            yaxis_title='Gene Set Score',\n",
    "            html_file_path='{}/{}'.format(\n",
    "                output_directory_path,\n",
    "                gene_set_file_name,\n",
    "            ),\n",
    "        )"
   ]
  }
 ],
 "metadata": {
  "kernelspec": {
   "display_name": "Python 3",
   "language": "python",
   "name": "python3"
  },
  "language_info": {
   "codemirror_mode": {
    "name": "ipython",
    "version": 3
   },
   "file_extension": ".py",
   "mimetype": "text/x-python",
   "name": "python",
   "nbconvert_exporter": "python",
   "pygments_lexer": "ipython3",
   "version": "3.6.6"
  }
 },
 "nbformat": 4,
 "nbformat_minor": 2
}
