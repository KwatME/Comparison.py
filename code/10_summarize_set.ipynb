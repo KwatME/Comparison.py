{
 "cells": [
  {
   "cell_type": "code",
   "execution_count": null,
   "metadata": {},
   "outputs": [],
   "source": [
    "%load_ext autoreload\n",
    "%autoreload 2"
   ]
  },
  {
   "cell_type": "code",
   "execution_count": null,
   "metadata": {},
   "outputs": [],
   "source": [
    "from __init__ import *"
   ]
  },
  {
   "cell_type": "code",
   "execution_count": null,
   "metadata": {},
   "outputs": [],
   "source": [
    "comparison_x_sample = pd.read_csv(\n",
    "    \"../output/comparison_x_sample.tsv\", sep=\"\\t\", index_col=0\n",
    ")\n",
    "\n",
    "set_x_sample = pd.read_csv(\"../output/set_x_sample.tsv\", sep=\"\\t\", index_col=0)"
   ]
  },
  {
   "cell_type": "code",
   "execution_count": null,
   "metadata": {},
   "outputs": [],
   "source": [
    "title = \"Summary\"\n",
    "\n",
    "name_to_sets = {\n",
    "    \"Peek\": SETTING[\"peek_set_\"],\n",
    "}"
   ]
  },
  {
   "cell_type": "code",
   "execution_count": null,
   "metadata": {},
   "outputs": [],
   "source": [
    "for comparison, groups in comparison_x_sample.iterrows():\n",
    "\n",
    "    groups.dropna(inplace=True)\n",
    "\n",
    "    min_group_size = np.unique(groups.to_numpy(), return_counts=True)[1].min()\n",
    "\n",
    "    function, group_size = \"get_ic\", 2\n",
    "\n",
    "    if min_group_size < group_size:\n",
    "\n",
    "        continue\n",
    "\n",
    "    directory_path = \"../output/summarize_set/{}/\".format(comparison)\n",
    "\n",
    "    kraft.path.make(directory_path)\n",
    "\n",
    "    df_ = []\n",
    "\n",
    "    for name, sets in name_to_sets.items():\n",
    "\n",
    "        df_.append(\n",
    "            {\n",
    "                \"name\": name,\n",
    "                \"df\": set_x_sample.reindex(index=sets),\n",
    "                \"statistic_df\": pd.read_csv(\n",
    "                    \"../output/compare_set/{}/{}/statistic.tsv\".format(\n",
    "                        comparison, function\n",
    "                    ),\n",
    "                    sep=\"\\t\",\n",
    "                    index_col=0,\n",
    "                ),\n",
    "                \"data_type\": \"continuous\",\n",
    "            }\n",
    "        )\n",
    "\n",
    "    kraft.function_heat_map.summarize(\n",
    "        groups,\n",
    "        df_,\n",
    "        vector_data_type=\"binary\",\n",
    "        plot_std=SETTING[\"plot_std\"],\n",
    "        title=title,\n",
    "        file_path=\"{}/{}.html\".format(directory_path, title),\n",
    "    )"
   ]
  }
 ],
 "metadata": {
  "kernelspec": {
   "display_name": "Python 3",
   "language": "python",
   "name": "python3"
  },
  "language_info": {
   "codemirror_mode": {
    "name": "ipython",
    "version": 3
   },
   "file_extension": ".py",
   "mimetype": "text/x-python",
   "name": "python",
   "nbconvert_exporter": "python",
   "pygments_lexer": "ipython3",
   "version": "3.8.9"
  }
 },
 "nbformat": 4,
 "nbformat_minor": 4
}
