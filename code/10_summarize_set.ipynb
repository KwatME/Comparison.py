{
 "cells": [
  {
   "cell_type": "code",
   "execution_count": null,
   "metadata": {
    "tags": []
   },
   "outputs": [],
   "source": [
    "%load_ext autoreload\n",
    "%autoreload 2"
   ]
  },
  {
   "cell_type": "code",
   "execution_count": null,
   "metadata": {
    "tags": []
   },
   "outputs": [],
   "source": [
    "from __init__ import *"
   ]
  },
  {
   "cell_type": "code",
   "execution_count": null,
   "metadata": {
    "tags": []
   },
   "outputs": [],
   "source": [
    "cxs = pd.read_csv(\"../output/comparison_x_sample.tsv\", sep=\"\\t\", index_col=0)\n",
    "\n",
    "sxs = pd.read_csv(\"../output/set_x_sample.tsv\", sep=\"\\t\", index_col=0)"
   ]
  },
  {
   "cell_type": "code",
   "execution_count": null,
   "metadata": {
    "tags": []
   },
   "outputs": [],
   "source": [
    "t = \"Summary\"\n",
    "\n",
    "nts_ = {\n",
    "    \"Peek\": S[\"peek_set_\"],\n",
    "}"
   ]
  },
  {
   "cell_type": "code",
   "execution_count": null,
   "metadata": {
    "tags": []
   },
   "outputs": [],
   "source": [
    "for c, is_ in cxs.iterrows():\n",
    "\n",
    "    is_.dropna(inplace=True)\n",
    "\n",
    "    m = np.unique(is_, return_counts=True)[1].min()\n",
    "\n",
    "    f, s = kraft.information.get_ic, 2\n",
    "\n",
    "    if m < s:\n",
    "\n",
    "        continue\n",
    "\n",
    "    d = \"../output/summarize_set/{}/\".format(c)\n",
    "\n",
    "    kraft.path.make(d)\n",
    "\n",
    "    t_ = []\n",
    "\n",
    "    for n, s_ in nts_.items():\n",
    "\n",
    "        t_.append(\n",
    "            {\n",
    "                \"name\": n,\n",
    "                \"df\": sxs.reindex(s_),\n",
    "                \"statistic_df\": pd.read_csv(\n",
    "                    \"../output/compare_set/{}/{}/statistic.tsv\".format(c, f.__name__),\n",
    "                    sep=\"\\t\",\n",
    "                    index_col=0,\n",
    "                ),\n",
    "                \"data_type\": \"continuous\",\n",
    "            }\n",
    "        )\n",
    "\n",
    "    kraft.function_heat_map.summarize(\n",
    "        is_,\n",
    "        t_,\n",
    "        v_data_type=\"binary\",\n",
    "        plot_std=S[\"plot_std\"],\n",
    "        title=t,\n",
    "        file_path=\"{}/{}.html\".format(d, t),\n",
    "    )"
   ]
  }
 ],
 "metadata": {
  "kernelspec": {
   "display_name": "Python 3",
   "language": "python",
   "name": "python3"
  },
  "language_info": {
   "codemirror_mode": {
    "name": "ipython",
    "version": 3
   },
   "file_extension": ".py",
   "mimetype": "text/x-python",
   "name": "python",
   "nbconvert_exporter": "python",
   "pygments_lexer": "ipython3",
   "version": "3.8.9"
  }
 },
 "nbformat": 4,
 "nbformat_minor": 4
}
