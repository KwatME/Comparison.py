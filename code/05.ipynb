{
 "cells": [
  {
   "cell_type": "code",
   "execution_count": null,
   "metadata": {},
   "outputs": [],
   "source": [
    "%load_ext autoreload\n",
    "%autoreload 2"
   ]
  },
  {
   "cell_type": "code",
   "execution_count": null,
   "metadata": {},
   "outputs": [],
   "source": [
    "from __init__ import *"
   ]
  },
  {
   "cell_type": "code",
   "execution_count": null,
   "metadata": {},
   "outputs": [],
   "source": [
    "comparison_x_sample = pd.read_csv(\n",
    "    \"../output/comparison_x_sample.tsv\", sep=\"\\t\", index_col=0\n",
    ")\n",
    "\n",
    "sets = kraft.gmt.read_many(kraft.path.list_(\"../input/set/\"))\n",
    "\n",
    "set_x_information = pd.read_csv(\n",
    "    \"../output/set_x_information.tsv\", sep=\"\\t\", index_col=0\n",
    ")"
   ]
  },
  {
   "cell_type": "code",
   "execution_count": null,
   "metadata": {},
   "outputs": [],
   "source": [
    "for comparison in comparison_x_sample.index.to_numpy():\n",
    "\n",
    "    directory_path = os.path.join(\"../output/sea\", kraft.path.clean(comparison), \"\")\n",
    "\n",
    "    kraft.path.path(directory_path)\n",
    "\n",
    "    scores = pd.read_csv(\n",
    "        os.path.join(\n",
    "            \"../output/compare_feature\"\",\n",
    "            kraft.path.clean(comparison),\n",
    "            \"all_{}\".format(SETTING[\"sea_function\"]),\n",
    "            \"scores.tsv\",\n",
    "        ),\n",
    "        sep=\"\\t\",\n",
    "        index_col=0,\n",
    "    )\n",
    "\n",
    "    score_ = scores.loc[:, \"Score\"]\n",
    "\n",
    "    score_.name = SETTING[\"sea_function\"]\n",
    "\n",
    "    set_scores = kraft.sea.score_samples_and_sets(\n",
    "        score_.to_frame(),\n",
    "        {\n",
    "            set_: sets[set_]\n",
    "            for set_ in set_x_information.index.to_numpy()[\n",
    "                set_x_information.loc[:, \"Selected\"].to_numpy()\n",
    "            ]\n",
    "        },\n",
    "        n_job=SETTING[\"n_job\"],\n",
    "    ).squeeze()\n",
    "\n",
    "    set_scores.to_csv(\n",
    "        os.path.join(directory_path, \"{}.tsv\".format(SETTING[\"sea_function\"])),\n",
    "        sep=\"\\t\",\n",
    "    )\n",
    "\n",
    "    set_scores.name = \"Set Score\"\n",
    "\n",
    "    directory_path = os.path.join(\n",
    "        directory_path, \"{}_mountain/\".format(SETTING[\"sea_function\"])\n",
    "    )\n",
    "\n",
    "    kraft.path.path(directory_path)\n",
    "\n",
    "    for set_ in SETTING[\"sets_to_peek\"]:\n",
    "\n",
    "        kraft.sea.score_sample_and_set(\n",
    "            set_scores,\n",
    "            sets[set_],\n",
    "            title=\"{}<br>{}\".format(comparison, set_),\n",
    "            html_file_path=os.path.join(directory_path, \"{}.html\".format(set_)),\n",
    "        )"
   ]
  }
 ],
 "metadata": {
  "kernelspec": {
   "display_name": "Python 3",
   "language": "python",
   "name": "python3"
  },
  "language_info": {
   "codemirror_mode": {
    "name": "ipython",
    "version": 3
   },
   "file_extension": ".py",
   "mimetype": "text/x-python",
   "name": "python",
   "nbconvert_exporter": "python",
   "pygments_lexer": "ipython3",
   "version": "3.7.8"
  }
 },
 "nbformat": 4,
 "nbformat_minor": 4
}
