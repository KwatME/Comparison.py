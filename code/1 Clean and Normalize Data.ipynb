{
 "cells": [
  {
   "cell_type": "markdown",
   "metadata": {},
   "source": [
    "### Setup notebook"
   ]
  },
  {
   "cell_type": "code",
   "execution_count": 1,
   "metadata": {
    "ExecuteTime": {
     "end_time": "2018-05-01T08:47:15.263265Z",
     "start_time": "2018-05-01T08:47:15.232494Z"
    }
   },
   "outputs": [
    {
     "name": "stdout",
     "output_type": "stream",
     "text": [
      "CCAL version 0.6.7 @ /Users/kazyra/Jumis/conda/lib/python3.6/site-packages/ccal/__init__.py\n"
     ]
    }
   ],
   "source": [
    "import os\n",
    "import numpy as np\n",
    "import pandas as pd\n",
    "import ccal\n",
    "\n",
    "%load_ext autoreload\n",
    "%autoreload 2"
   ]
  },
  {
   "cell_type": "markdown",
   "metadata": {},
   "source": [
    "### Read gene by sample matrix"
   ]
  },
  {
   "cell_type": "code",
   "execution_count": null,
   "metadata": {
    "ExecuteTime": {
     "end_time": "2018-05-01T08:47:17.920646Z",
     "start_time": "2018-05-01T08:47:17.816263Z"
    }
   },
   "outputs": [],
   "source": [
    "gene_x_sample_file_path = 'XXX'\n",
    "\n",
    "gene_x_sample = pd.read_table(gene_x_sample_file_path, index_col=0) \n",
    "\n",
    "gene_x_sample"
   ]
  },
  {
   "cell_type": "markdown",
   "metadata": {},
   "source": [
    "### Check for nans"
   ]
  },
  {
   "cell_type": "code",
   "execution_count": null,
   "metadata": {},
   "outputs": [],
   "source": [
    "pd.isna(gene_x_sample.values).any()"
   ]
  },
  {
   "cell_type": "markdown",
   "metadata": {},
   "source": [
    "### Check for duplicate genes in index"
   ]
  },
  {
   "cell_type": "code",
   "execution_count": null,
   "metadata": {},
   "outputs": [],
   "source": [
    "gene_x_sample.index.duplicated().any()"
   ]
  },
  {
   "cell_type": "markdown",
   "metadata": {},
   "source": [
    "### Plot raw gene expression"
   ]
  },
  {
   "cell_type": "code",
   "execution_count": null,
   "metadata": {},
   "outputs": [],
   "source": [
    "gene_x_sample__every_10 = []\n",
    "\n",
    "n = 1\n",
    "\n",
    "for value in gene_x_sample.values.flatten():\n",
    "\n",
    "    if n % 10 == 0:\n",
    "\n",
    "        gene_x_sample__every_10.append(value)\n",
    "\n",
    "    n += 1\n",
    "    \n",
    "    \n",
    "text = [\n",
    "    'Text {}'.format(i)\n",
    "    for i in range(len(gene_x_sample__every_10))\n",
    "]\n",
    "\n",
    "ccal.plot_distributions(\n",
    "    ('Raw Gene Expression', ),\n",
    "    (gene_x_sample__every_10, ),\n",
    "    texts=(text, ),\n",
    "    plot_rug=False,\n",
    "    title='Raw Gene Expression',\n",
    "    xaxis_title='Raw Gene Expression',\n",
    ")"
   ]
  },
  {
   "cell_type": "markdown",
   "metadata": {},
   "source": [
    "### Take log of expression"
   ]
  },
  {
   "cell_type": "code",
   "execution_count": null,
   "metadata": {},
   "outputs": [],
   "source": [
    "gene_x_sample__log = ccal.shift_and_log_nd_array(\n",
    "    gene_x_sample.values)"
   ]
  },
  {
   "cell_type": "markdown",
   "metadata": {},
   "source": [
    "### Plot log of expression"
   ]
  },
  {
   "cell_type": "code",
   "execution_count": null,
   "metadata": {},
   "outputs": [],
   "source": [
    "gene_x_sample__log_every_10 = []\n",
    "\n",
    "n = 1\n",
    "\n",
    "for value in gene_x_sample.values.flatten():\n",
    "\n",
    "    if n % 10 == 0:\n",
    "\n",
    "        gene_x_sample__log_every_10.append(value)\n",
    "\n",
    "    n += 1\n",
    "    \n",
    "    \n",
    "text = [\n",
    "    'Text {}'.format(i)\n",
    "    for i in range(len(gene_x_sample__log_every_10))\n",
    "]\n",
    "\n",
    "ccal.plot_distributions(\n",
    "    ('Raw Gene Expression', ),\n",
    "    (gene_x_sample__log_every_10, ),\n",
    "    texts=(text, ),\n",
    "    plot_rug=False,\n",
    "    title='Raw Gene Expression',\n",
    "    xaxis_title='Raw Gene Expression',\n",
    ")"
   ]
  },
  {
   "cell_type": "markdown",
   "metadata": {},
   "source": [
    "### Save log of expression matrix"
   ]
  },
  {
   "cell_type": "code",
   "execution_count": null,
   "metadata": {},
   "outputs": [],
   "source": [
    "gene_x_sample__log = pd.DataFrame(\n",
    "    data=gene_x_sample__log,\n",
    "    index=gene_x_sample.index,\n",
    "    columns=gene_x_sample.columns)\n",
    "\n",
    "gene_x_sample__log.to_csv(\n",
    "    '../output/gene_x_sample__log.tsv', sep='\\t')"
   ]
  }
 ],
 "metadata": {
  "anaconda-cloud": {},
  "kernelspec": {
   "display_name": "Python [default]",
   "language": "python",
   "name": "python3"
  },
  "language_info": {
   "codemirror_mode": {
    "name": "ipython",
    "version": 3
   },
   "file_extension": ".py",
   "mimetype": "text/x-python",
   "name": "python",
   "nbconvert_exporter": "python",
   "pygments_lexer": "ipython3",
   "version": "3.6.4"
  }
 },
 "nbformat": 4,
 "nbformat_minor": 1
}
