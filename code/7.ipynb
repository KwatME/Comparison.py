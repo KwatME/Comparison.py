{
 "cells": [
  {
   "cell_type": "code",
   "execution_count": null,
   "metadata": {
    "execution": {
     "iopub.execute_input": "2021-06-01T07:00:22.211836Z",
     "iopub.status.busy": "2021-06-01T07:00:22.211053Z",
     "iopub.status.idle": "2021-06-01T07:00:22.225513Z",
     "shell.execute_reply": "2021-06-01T07:00:22.225960Z"
    },
    "tags": []
   },
   "outputs": [],
   "source": [
    "%load_ext autoreload\n",
    "%autoreload 2"
   ]
  },
  {
   "cell_type": "code",
   "execution_count": null,
   "metadata": {
    "ExecuteTime": {
     "end_time": "2018-07-10T08:51:35.021387Z",
     "start_time": "2018-07-10T08:51:32.209467Z"
    },
    "execution": {
     "iopub.execute_input": "2021-06-01T07:00:22.229463Z",
     "iopub.status.busy": "2021-06-01T07:00:22.228862Z",
     "iopub.status.idle": "2021-06-01T07:00:22.753673Z",
     "shell.execute_reply": "2021-06-01T07:00:22.754052Z"
    },
    "tags": []
   },
   "outputs": [],
   "source": [
    "from __init__ import *"
   ]
  },
  {
   "cell_type": "code",
   "execution_count": null,
   "metadata": {
    "execution": {
     "iopub.execute_input": "2021-06-01T07:00:22.757362Z",
     "iopub.status.busy": "2021-06-01T07:00:22.756830Z",
     "iopub.status.idle": "2021-06-01T07:00:22.782472Z",
     "shell.execute_reply": "2021-06-01T07:00:22.782833Z"
    },
    "tags": []
   },
   "outputs": [],
   "source": [
    "bi_co_sa = pd.read_csv(\"../output/01_comparison_sample.tsv\", \"\\t\", index_col=0)\n",
    "\n",
    "nu_se_sa = pd.read_csv(\"../output/number_set_sample.tsv\", \"\\t\", index_col=0)"
   ]
  },
  {
   "cell_type": "code",
   "execution_count": null,
   "metadata": {
    "execution": {
     "iopub.execute_input": "2021-06-01T07:00:22.786125Z",
     "iopub.status.busy": "2021-06-01T07:00:22.785624Z",
     "iopub.status.idle": "2021-06-01T07:00:23.473723Z",
     "shell.execute_reply": "2021-06-01T07:00:23.474229Z"
    },
    "tags": []
   },
   "outputs": [],
   "source": [
    "co_se_fe_ = {}\n",
    "\n",
    "pa = \"../input/set/\"\n",
    "\n",
    "for co in os.listdir(pa):\n",
    "\n",
    "    co_se_fe_[co] = kraft.gmt.read([\"{}{}\".format(pa, co)])"
   ]
  },
  {
   "cell_type": "code",
   "execution_count": null,
   "metadata": {
    "execution": {
     "iopub.execute_input": "2021-06-01T07:00:23.483309Z",
     "iopub.status.busy": "2021-06-01T07:00:23.482572Z",
     "iopub.status.idle": "2021-06-01T07:00:34.768028Z",
     "shell.execute_reply": "2021-06-01T07:00:34.768458Z"
    },
    "tags": []
   },
   "outputs": [],
   "source": [
    "ke = {\n",
    "    \"tyta\": \"binary\",\n",
    "    \"st\": SETTING[\"st\"],\n",
    "}\n",
    "\n",
    "for co, ta in bi_co_sa.iterrows():\n",
    "\n",
    "    ta.dropna(inplace=True)\n",
    "\n",
    "    simi = np.unique(ta, return_counts=True)[1].min()\n",
    "\n",
    "    fu, sire = kraft.information.get_ic, 2\n",
    "\n",
    "    if simi < sire:\n",
    "\n",
    "        continue\n",
    "\n",
    "    funa = fu.__name__\n",
    "\n",
    "    pa = \"../output/compare_set/{}/{}/\".format(kraft.path.clean(co), funa)\n",
    "\n",
    "    kraft.path.make(pa)\n",
    "\n",
    "    st = kraft.function_heat_map.make(\n",
    "        ta,\n",
    "        nu_se_sa,\n",
    "        fu,\n",
    "        n_jo=SETTING[\"n_jo\"],\n",
    "        n_sa=SETTING[\"n_sa\"],\n",
    "        n_sh=SETTING[\"n_sh\"],\n",
    "        n_pl=SETTING[\"n_ex\"],\n",
    "        title=\"All ({})\".format(funa),\n",
    "        pa=pa,\n",
    "        **ke,\n",
    "    )\n",
    "\n",
    "    if 0 < len(SETTING[\"se_\"]):\n",
    "\n",
    "        kraft.function_heat_map.make(\n",
    "            ta,\n",
    "            nu_se_sa.reindex(SETTING[\"se_\"]),\n",
    "            st,\n",
    "            n_pl=None,\n",
    "            title=\"Peek ({})\".format(funa),\n",
    "            **ke,\n",
    "        )\n",
    "\n",
    "        plot_peek(st[\"Score\"], SETTING[\"se_\"], pa)\n",
    "\n",
    "    for co, se_fe_ in co_se_fe_.items():\n",
    "\n",
    "        pa2 = \"{}{}/\".format(pa, co)\n",
    "\n",
    "        kraft.path.make(pa2)\n",
    "\n",
    "        se_ = nu_se_sa.index.intersection(se_fe_)\n",
    "\n",
    "        if 0 < len(se_):\n",
    "\n",
    "            kraft.function_heat_map.make(\n",
    "                ta,\n",
    "                nu_se_sa.loc[se_, :],\n",
    "                st,\n",
    "                n_pl=SETTING[\"n_ex\"],\n",
    "                title=\"{} ({})\".format(co, funa),\n",
    "                pa=pa2,\n",
    "                **ke,\n",
    "            )"
   ]
  }
 ],
 "metadata": {
  "kernelspec": {
   "display_name": "Python 3",
   "language": "python",
   "name": "python3"
  },
  "language_info": {
   "codemirror_mode": {
    "name": "ipython",
    "version": 3
   },
   "file_extension": ".py",
   "mimetype": "text/x-python",
   "name": "python",
   "nbconvert_exporter": "python",
   "pygments_lexer": "ipython3",
   "version": "3.8.9"
  }
 },
 "nbformat": 4,
 "nbformat_minor": 4
}
