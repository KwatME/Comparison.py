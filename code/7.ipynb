{
 "cells": [
  {
   "cell_type": "code",
   "execution_count": null,
   "metadata": {
    "tags": []
   },
   "outputs": [],
   "source": [
    "%load_ext autoreload\n",
    "%autoreload 2"
   ]
  },
  {
   "cell_type": "code",
   "execution_count": null,
   "metadata": {
    "ExecuteTime": {
     "end_time": "2018-07-10T08:51:35.021387Z",
     "start_time": "2018-07-10T08:51:32.209467Z"
    },
    "tags": []
   },
   "outputs": [],
   "source": [
    "from __init__ import *"
   ]
  },
  {
   "cell_type": "code",
   "execution_count": null,
   "metadata": {
    "tags": []
   },
   "outputs": [],
   "source": [
    "bi_co_sa = pd.read_csv(\"../output/01_comparison_sample.tsv\", \"\\t\", index_col=0)\n",
    "\n",
    "nu_se_sa = pd.read_csv(\"../output/number_set_sample.tsv\", \"\\t\", index_col=0)"
   ]
  },
  {
   "cell_type": "code",
   "execution_count": null,
   "metadata": {
    "tags": []
   },
   "outputs": [],
   "source": [
    "co_se_fe_ = {}\n",
    "\n",
    "pa = \"../input/set/\"\n",
    "\n",
    "for co in os.listdir(pa):\n",
    "\n",
    "    co_se_fe_[na] = kraft.gmt.read([\"{}{}\".format(pa, co)])"
   ]
  },
  {
   "cell_type": "code",
   "execution_count": null,
   "metadata": {
    "tags": []
   },
   "outputs": [],
   "source": [
    "ke = {\n",
    "    \"tyta\": \"binary\",\n",
    "    \"st\": SETTING[\"st\"],\n",
    "}\n",
    "\n",
    "for co, se in bi_co_sa.iterrows():\n",
    "\n",
    "    se.dropna(inplace=True)\n",
    "\n",
    "    misi = np.unique(se, return_counts=True)[1].min()\n",
    "\n",
    "    fu, mire = kraft.information.get_ic, 2\n",
    "\n",
    "    if misi < mire:\n",
    "\n",
    "        continue\n",
    "\n",
    "    na = fu.__name__\n",
    "\n",
    "    pa = \"../output/compare_set/{}/{}/\".format(kraft.path.clean(co), na)\n",
    "\n",
    "    kraft.path.make(pa)\n",
    "\n",
    "    fu = kraft.function_heat_map.make(\n",
    "        se,\n",
    "        nu_se_sa,\n",
    "        fu,\n",
    "        n_jo=SETTING[\"n_jo\"],\n",
    "        n_sa=SETTING[\"n_sa\"],\n",
    "        n_sh=SETTING[\"n_sh\"],\n",
    "        n_pl=SETTING[\"n_ex\"],\n",
    "        title=\"All ({})\".format(na),\n",
    "        pa=pa,\n",
    "        **ke,\n",
    "    )\n",
    "\n",
    "    if 0 < len(SETTING[\"se_\"]):\n",
    "\n",
    "        kraft.function_heat_map.make(\n",
    "            se,\n",
    "            nu_se_sa.reindex(SETTING[\"se_\"]),\n",
    "            fu,\n",
    "            n_pl=None,\n",
    "            title=\"Peek ({})\".format(na),\n",
    "            **ke,\n",
    "        )\n",
    "\n",
    "        plot_peek(fu[\"Score\"], SETTING[\"se_\"], pa)\n",
    "\n",
    "    for co, se_fe_ in co_se_fe_.items():\n",
    "\n",
    "        pa2 = \"{}{}/\".format(pa, co)\n",
    "\n",
    "        kraft.path.make(pa2)\n",
    "\n",
    "        se_ = nu_se_sa.index.intersection(se_fe_)\n",
    "\n",
    "        if 0 < len(se_):\n",
    "\n",
    "            kraft.function_heat_map.make(\n",
    "                se,\n",
    "                nu_se_sa.loc[se_, :],\n",
    "                fu,\n",
    "                n_pl=SETTING[\"n_ex\"],\n",
    "                title=\"{} ({})\".format(co, na),\n",
    "                pa=pa2,\n",
    "                **ke,\n",
    "            )"
   ]
  }
 ],
 "metadata": {
  "kernelspec": {
   "display_name": "Python 3",
   "language": "python",
   "name": "python3"
  },
  "language_info": {
   "codemirror_mode": {
    "name": "ipython",
    "version": 3
   },
   "file_extension": ".py",
   "mimetype": "text/x-python",
   "name": "python",
   "nbconvert_exporter": "python",
   "pygments_lexer": "ipython3",
   "version": "3.8.9"
  }
 },
 "nbformat": 4,
 "nbformat_minor": 4
}
