{
 "cells": [
  {
   "cell_type": "code",
   "execution_count": null,
   "metadata": {
    "execution": {
     "iopub.execute_input": "2021-05-28T04:26:17.367099Z",
     "iopub.status.busy": "2021-05-28T04:26:17.366412Z",
     "iopub.status.idle": "2021-05-28T04:26:17.379214Z",
     "shell.execute_reply": "2021-05-28T04:26:17.379650Z"
    },
    "tags": []
   },
   "outputs": [],
   "source": [
    "%load_ext autoreload\n",
    "%autoreload 2"
   ]
  },
  {
   "cell_type": "code",
   "execution_count": null,
   "metadata": {
    "ExecuteTime": {
     "end_time": "2018-07-10T08:51:35.021387Z",
     "start_time": "2018-07-10T08:51:32.209467Z"
    },
    "execution": {
     "iopub.execute_input": "2021-05-28T04:26:17.383112Z",
     "iopub.status.busy": "2021-05-28T04:26:17.382520Z",
     "iopub.status.idle": "2021-05-28T04:26:18.082571Z",
     "shell.execute_reply": "2021-05-28T04:26:18.082945Z"
    },
    "tags": []
   },
   "outputs": [],
   "source": [
    "from __init__ import *"
   ]
  },
  {
   "cell_type": "code",
   "execution_count": null,
   "metadata": {
    "execution": {
     "iopub.execute_input": "2021-05-28T04:26:18.086220Z",
     "iopub.status.busy": "2021-05-28T04:26:18.085667Z",
     "iopub.status.idle": "2021-05-28T04:26:18.188799Z",
     "shell.execute_reply": "2021-05-28T04:26:18.189235Z"
    }
   },
   "outputs": [],
   "source": [
    "cxs = pd.read_csv(\"../output/comparison_x_sample.tsv\", sep=\"\\t\", index_col=0)\n",
    "\n",
    "sxs = pd.read_csv(\"../output/set_x_sample.tsv\", sep=\"\\t\", index_col=0)"
   ]
  },
  {
   "cell_type": "code",
   "execution_count": null,
   "metadata": {
    "execution": {
     "iopub.execute_input": "2021-05-28T04:26:18.192998Z",
     "iopub.status.busy": "2021-05-28T04:26:18.192403Z",
     "iopub.status.idle": "2021-05-28T04:26:18.782683Z",
     "shell.execute_reply": "2021-05-28T04:26:18.783045Z"
    }
   },
   "outputs": [],
   "source": [
    "ntstf_ = {}\n",
    "\n",
    "d = \"../input/set/\"\n",
    "\n",
    "for n in os.listdir(d):\n",
    "\n",
    "    ntstf_[n] = kraft.gmt.read(\"{}/{}\".format(d, n))"
   ]
  },
  {
   "cell_type": "code",
   "execution_count": null,
   "metadata": {
    "execution": {
     "iopub.execute_input": "2021-05-28T04:26:18.789646Z",
     "iopub.status.busy": "2021-05-28T04:26:18.789128Z",
     "iopub.status.idle": "2021-05-28T04:46:23.932496Z",
     "shell.execute_reply": "2021-05-28T04:46:23.932994Z"
    }
   },
   "outputs": [],
   "source": [
    "k_ = {\n",
    "    \"v_data_type\": \"binary\",\n",
    "    \"plot_std\": S[\"plot_std\"],\n",
    "}\n",
    "\n",
    "for c, is_ in cxs.iterrows():\n",
    "\n",
    "    is_.dropna(inplace=True)\n",
    "\n",
    "    m = np.unique(is_, return_counts=True)[1].min()\n",
    "\n",
    "    f, s = kraft.information.get_ic, 2\n",
    "\n",
    "    if m < s:\n",
    "\n",
    "        continue\n",
    "\n",
    "    d = \"../output/compare_set/{}/{}/\".format(kraft.path.clean(c), f.__name__)\n",
    "\n",
    "    kraft.path.make(d)\n",
    "\n",
    "    ft = kraft.function_heat_map.make(\n",
    "        is_,\n",
    "        sxs,\n",
    "        f,\n",
    "        n_job=S[\"n_job\"],\n",
    "        n_sample=S[\"n_sample\"],\n",
    "        n_shuffle=S[\"n_shuffle\"],\n",
    "        n_plot=S[\"n_extreme\"],\n",
    "        title=\"All ({})\".format(f.__name__),\n",
    "        directory_path=d,\n",
    "        **k_,\n",
    "    )\n",
    "\n",
    "    if 0 < len(S[\"peek_set_\"]):\n",
    "\n",
    "        kraft.function_heat_map.make(\n",
    "            is_,\n",
    "            sxs.reindex(S[\"peek_set_\"]),\n",
    "            ft,\n",
    "            n_plot=None,\n",
    "            title=\"Peek ({})\".format(f.__name__),\n",
    "            **k_,\n",
    "        )\n",
    "\n",
    "        plot_peek(ft, S[\"peek_set_\"], d)\n",
    "\n",
    "    for n, stf_ in ntstf_.items():\n",
    "\n",
    "        d2 = \"{}/{}/\".format(d, n)\n",
    "\n",
    "        kraft.path.make(d2)\n",
    "\n",
    "        cs_ = sxs.index.intersection(stf_)\n",
    "\n",
    "        if 0 < len(cs_):\n",
    "\n",
    "            kraft.function_heat_map.make(\n",
    "                is_,\n",
    "                sxs.loc[cs_, :],\n",
    "                ft,\n",
    "                n_plot=S[\"n_extreme\"],\n",
    "                title=\"{} ({})\".format(n, f.__name__),\n",
    "                directory_path=d2,\n",
    "                **k_,\n",
    "            )"
   ]
  }
 ],
 "metadata": {
  "kernelspec": {
   "display_name": "Python 3",
   "language": "python",
   "name": "python3"
  },
  "language_info": {
   "codemirror_mode": {
    "name": "ipython",
    "version": 3
   },
   "file_extension": ".py",
   "mimetype": "text/x-python",
   "name": "python",
   "nbconvert_exporter": "python",
   "pygments_lexer": "ipython3",
   "version": "3.8.9"
  }
 },
 "nbformat": 4,
 "nbformat_minor": 4
}
