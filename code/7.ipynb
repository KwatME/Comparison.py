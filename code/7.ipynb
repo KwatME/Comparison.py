{
 "cells": [
  {
   "cell_type": "code",
   "execution_count": null,
   "metadata": {
    "execution": {
     "iopub.execute_input": "2021-06-01T07:37:12.664868Z",
     "iopub.status.busy": "2021-06-01T07:37:12.664100Z",
     "iopub.status.idle": "2021-06-01T07:37:12.678520Z",
     "shell.execute_reply": "2021-06-01T07:37:12.678964Z"
    },
    "tags": []
   },
   "outputs": [],
   "source": [
    "%load_ext autoreload\n",
    "%autoreload 2"
   ]
  },
  {
   "cell_type": "code",
   "execution_count": null,
   "metadata": {
    "ExecuteTime": {
     "end_time": "2018-07-10T08:51:35.021387Z",
     "start_time": "2018-07-10T08:51:32.209467Z"
    },
    "execution": {
     "iopub.execute_input": "2021-06-01T07:37:12.682533Z",
     "iopub.status.busy": "2021-06-01T07:37:12.681929Z",
     "iopub.status.idle": "2021-06-01T07:37:13.209754Z",
     "shell.execute_reply": "2021-06-01T07:37:13.210107Z"
    },
    "tags": []
   },
   "outputs": [],
   "source": [
    "from __init__ import *"
   ]
  },
  {
   "cell_type": "code",
   "execution_count": null,
   "metadata": {
    "execution": {
     "iopub.execute_input": "2021-06-01T07:37:13.213423Z",
     "iopub.status.busy": "2021-06-01T07:37:13.212883Z",
     "iopub.status.idle": "2021-06-01T07:37:13.238790Z",
     "shell.execute_reply": "2021-06-01T07:37:13.239185Z"
    },
    "tags": []
   },
   "outputs": [],
   "source": [
    "bi_co_sa = pd.read_csv(\"../output/01_comparison_sample.tsv\", \"\\t\", index_col=0)\n",
    "\n",
    "nu_se_sa = pd.read_csv(\"../output/number_set_sample.tsv\", \"\\t\", index_col=0)"
   ]
  },
  {
   "cell_type": "code",
   "execution_count": null,
   "metadata": {
    "execution": {
     "iopub.execute_input": "2021-06-01T07:37:13.242700Z",
     "iopub.status.busy": "2021-06-01T07:37:13.242179Z",
     "iopub.status.idle": "2021-06-01T07:37:13.921094Z",
     "shell.execute_reply": "2021-06-01T07:37:13.921599Z"
    },
    "tags": []
   },
   "outputs": [],
   "source": [
    "co_se_fe_ = {}\n",
    "\n",
    "pa = \"../input/set/\"\n",
    "\n",
    "for co in os.listdir(pa):\n",
    "\n",
    "    co_se_fe_[co] = kraft.gmt.read([\"{}{}\".format(pa, co)])"
   ]
  },
  {
   "cell_type": "code",
   "execution_count": null,
   "metadata": {
    "execution": {
     "iopub.execute_input": "2021-06-01T07:37:13.930583Z",
     "iopub.status.busy": "2021-06-01T07:37:13.929942Z",
     "iopub.status.idle": "2021-06-01T07:38:40.592459Z",
     "shell.execute_reply": "2021-06-01T07:38:40.592995Z"
    },
    "tags": []
   },
   "outputs": [],
   "source": [
    "ke = {\n",
    "    \"tyta\": \"binary\",\n",
    "    \"st\": SETTING[\"st\"],\n",
    "}\n",
    "\n",
    "for co, ta in bi_co_sa.iterrows():\n",
    "\n",
    "    ta.dropna(inplace=True)\n",
    "\n",
    "    simi = np.unique(ta, return_counts=True)[1].min()\n",
    "\n",
    "    fu, sire = kraft.information.get_ic, 2\n",
    "\n",
    "    if simi < sire:\n",
    "\n",
    "        continue\n",
    "\n",
    "    funa = fu.__name__\n",
    "\n",
    "    pa = \"../output/compare_set/{}/{}/\".format(kraft.path.clean(co), funa)\n",
    "\n",
    "    kraft.path.make(pa)\n",
    "\n",
    "    st = kraft.function_heat_map.make(\n",
    "        ta,\n",
    "        nu_se_sa,\n",
    "        fu,\n",
    "        n_jo=SETTING[\"n_jo\"],\n",
    "        n_sa=SETTING[\"n_sa\"],\n",
    "        n_sh=SETTING[\"n_sh\"],\n",
    "        n_pl=SETTING[\"n_ex\"],\n",
    "        title=\"All ({})\".format(funa),\n",
    "        pa=pa,\n",
    "        **ke,\n",
    "    )\n",
    "\n",
    "    if 0 < len(SETTING[\"se_\"]):\n",
    "\n",
    "        kraft.function_heat_map.make(\n",
    "            ta,\n",
    "            nu_se_sa.reindex(SETTING[\"se_\"]),\n",
    "            st,\n",
    "            n_pl=None,\n",
    "            title=\"Peek ({})\".format(funa),\n",
    "            **ke,\n",
    "        )\n",
    "\n",
    "        plot_peek(st[\"Score\"], SETTING[\"se_\"], pa)\n",
    "\n",
    "    for co, se_fe_ in co_se_fe_.items():\n",
    "\n",
    "        pa2 = \"{}{}/\".format(pa, co)\n",
    "\n",
    "        kraft.path.make(pa2)\n",
    "\n",
    "        se_ = nu_se_sa.index.intersection(se_fe_)\n",
    "\n",
    "        if 0 < len(se_):\n",
    "\n",
    "            kraft.function_heat_map.make(\n",
    "                ta,\n",
    "                nu_se_sa.loc[se_, :],\n",
    "                st,\n",
    "                n_pl=SETTING[\"n_ex\"],\n",
    "                title=\"{} ({})\".format(co, funa),\n",
    "                pa=pa2,\n",
    "                **ke,\n",
    "            )"
   ]
  }
 ],
 "metadata": {
  "kernelspec": {
   "display_name": "Python 3",
   "language": "python",
   "name": "python3"
  },
  "language_info": {
   "codemirror_mode": {
    "name": "ipython",
    "version": 3
   },
   "file_extension": ".py",
   "mimetype": "text/x-python",
   "name": "python",
   "nbconvert_exporter": "python",
   "pygments_lexer": "ipython3",
   "version": "3.8.9"
  }
 },
 "nbformat": 4,
 "nbformat_minor": 4
}
