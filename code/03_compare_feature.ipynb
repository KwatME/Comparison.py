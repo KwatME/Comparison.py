{
 "cells": [
  {
   "cell_type": "code",
   "execution_count": null,
   "metadata": {
    "ExecuteTime": {
     "end_time": "2018-07-10T08:40:02.540703Z",
     "start_time": "2018-07-10T08:40:00.652198Z"
    }
   },
   "outputs": [],
   "source": [
    "from __init__ import *"
   ]
  },
  {
   "cell_type": "code",
   "execution_count": null,
   "metadata": {},
   "outputs": [],
   "source": [
    "feature_x_sample = pd.read_csv(\"../input/feature_x_sample.tsv\", sep=\"\\t\", index_col=0)\n",
    "\n",
    "comparison_x_sample = pd.read_csv(\n",
    "    \"../output/comparison_x_sample.tsv\", sep=\"\\t\", index_col=0\n",
    ")"
   ]
  },
  {
   "cell_type": "code",
   "execution_count": null,
   "metadata": {},
   "outputs": [],
   "source": [
    "def get_log_ratio(groups, vector):\n",
    "\n",
    "    assert 0 <= vector.min()\n",
    "\n",
    "    vector = np.log2(1 + vector)\n",
    "\n",
    "    return vector[groups == 1].mean() - vector[groups == 0].mean()"
   ]
  },
  {
   "cell_type": "code",
   "execution_count": null,
   "metadata": {},
   "outputs": [],
   "source": [
    "keyword_arguments = {\n",
    "    \"se_data_type\": \"binary\",\n",
    "    \"plot_std\": SETTING[\"plot_std\"],\n",
    "}\n",
    "\n",
    "for comparison, groups in comparison_x_sample.iterrows():\n",
    "\n",
    "    groups.dropna(inplace=True)\n",
    "\n",
    "    min_group_size = np.unique(groups.to_numpy(), return_counts=True)[1].min()\n",
    "\n",
    "    for function, group_size in (\n",
    "        (get_log_ratio, 1),\n",
    "        (kraft.information.get_ic, 2),\n",
    "    ):\n",
    "\n",
    "        if min_group_size < group_size:\n",
    "\n",
    "            continue\n",
    "\n",
    "        directory_path = \"../output/compare_feature/{}/{}/\".format(\n",
    "            comparison, function.__name__\n",
    "        )\n",
    "\n",
    "        kraft.path.path(directory_path)\n",
    "\n",
    "        scores = kraft.function_heat_map.make(\n",
    "            groups,\n",
    "            feature_x_sample,\n",
    "            function,\n",
    "            n_job=SETTING[\"n_job\"],\n",
    "            n_sampling=SETTING[\"n_sampling\"],\n",
    "            n_permutation=SETTING[\"n_permutation\"],\n",
    "            n_extreme=SETTING[\"n_extreme\"],\n",
    "            title=\"All ({})\".format(function.__name__),\n",
    "            directory_path=directory_path,\n",
    "            **keyword_arguments,\n",
    "        )\n",
    "\n",
    "        if 0 < len(SETTING[\"features_to_peek\"]):\n",
    "\n",
    "            kraft.function_heat_map.make(\n",
    "                groups,\n",
    "                feature_x_sample.reindex(labels=SETTING[\"features_to_peek\"]),\n",
    "                scores,\n",
    "                n_extreme=None,\n",
    "                title=\"Peek ({})\".format(function.__name__),\n",
    "                **keyword_arguments,\n",
    "            )"
   ]
  }
 ],
 "metadata": {
  "kernelspec": {
   "display_name": "Python 3",
   "language": "python",
   "name": "python3"
  },
  "language_info": {
   "codemirror_mode": {
    "name": "ipython",
    "version": 3
   },
   "file_extension": ".py",
   "mimetype": "text/x-python",
   "name": "python",
   "nbconvert_exporter": "python",
   "pygments_lexer": "ipython3",
   "version": "3.7.8"
  }
 },
 "nbformat": 4,
 "nbformat_minor": 4
}
