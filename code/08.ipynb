{
 "cells": [
  {
   "cell_type": "code",
   "execution_count": null,
   "metadata": {},
   "outputs": [],
   "source": [
    "%load_ext autoreload\n",
    "%autoreload 2"
   ]
  },
  {
   "cell_type": "code",
   "execution_count": null,
   "metadata": {},
   "outputs": [],
   "source": [
    "from __init__ import *"
   ]
  },
  {
   "cell_type": "code",
   "execution_count": null,
   "metadata": {},
   "outputs": [],
   "source": [
    "feature_x_sample = pd.read_csv(\"../input/feature_x_sample.tsv\", sep=\"\\t\", index_col=0)\n",
    "\n",
    "comparison_x_sample = pd.read_csv(\n",
    "    \"../output/comparison_x_sample.tsv\", sep=\"\\t\", index_col=0\n",
    ")\n",
    "\n",
    "sets = kraft.gmt.read_many(kraft.path.list_(\"../input/feature_set/\"))\n",
    "\n",
    "set_x_sample = pd.read_csv(\"../output/set_x_sample.tsv\", sep=\"\\t\", index_col=0)"
   ]
  },
  {
   "cell_type": "code",
   "execution_count": null,
   "metadata": {},
   "outputs": [],
   "source": [
    "for comparison, groups in comparison_x_sample.iterrows():\n",
    "\n",
    "    groups.dropna(inplace=True)\n",
    "\n",
    "    min_group_size = np.unique(groups.to_numpy(), return_counts=True)[1].min()\n",
    "\n",
    "    function, group_size = \"get_ic\", 2\n",
    "\n",
    "    if min_group_size < group_size:\n",
    "\n",
    "        continue\n",
    "\n",
    "    directory_path = os.path.join(\"../output/expand_set\", comparison, \"\")\n",
    "\n",
    "    kraft.path.path(directory_path)\n",
    "\n",
    "    scores = pd.concat(\n",
    "        (\n",
    "            pd.read_csv(\n",
    "                os.path.join(\n",
    "                    \"../output/find_differentially_expressed_feature\",\n",
    "                    kraft.path.clean(comparison),\n",
    "                    \"all_{}\".format(function),\n",
    "                    \"scores.tsv\",\n",
    "                ),\n",
    "                sep=\"\\t\",\n",
    "                index_col=0,\n",
    "            ),\n",
    "            pd.read_csv(\n",
    "                os.path.join(\n",
    "                    \"../output/find_differentially_expressed_set\",\n",
    "                    kraft.path.clean(comparison),\n",
    "                    \"all_{}\".format(function),\n",
    "                    \"scores.tsv\",\n",
    "                ),\n",
    "                sep=\"\\t\",\n",
    "                index_col=0,\n",
    "            ),\n",
    "        )\n",
    "    ).drop_duplicates()\n",
    "\n",
    "    for set_name in SETTING[\"sets_to_peek\"]:\n",
    "\n",
    "        _x_sample = pd.concat(\n",
    "            (\n",
    "                feature_x_sample.reindex(labels=sets[set_name]),\n",
    "                set_x_sample.reindex(labels=(set_name,)),\n",
    "            )\n",
    "        )\n",
    "\n",
    "        kraft.function_heat_map.make(\n",
    "            groups,\n",
    "            _x_sample,\n",
    "            function=None,\n",
    "            scores=scores,\n",
    "            n_extreme=None,\n",
    "            se_data_type=\"binary\",\n",
    "            plot_std=SETTING[\"plot_std\"],\n",
    "            title=set_name,\n",
    "            directory_path=directory_path,\n",
    "        )"
   ]
  }
 ],
 "metadata": {
  "kernelspec": {
   "display_name": "Python 3",
   "language": "python",
   "name": "python3"
  },
  "language_info": {
   "codemirror_mode": {
    "name": "ipython",
    "version": 3
   },
   "file_extension": ".py",
   "mimetype": "text/x-python",
   "name": "python",
   "nbconvert_exporter": "python",
   "pygments_lexer": "ipython3",
   "version": "3.7.8"
  }
 },
 "nbformat": 4,
 "nbformat_minor": 4
}
