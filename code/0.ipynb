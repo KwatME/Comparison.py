{
 "cells": [
  {
   "cell_type": "code",
   "execution_count": 1,
   "metadata": {},
   "outputs": [],
   "source": [
    "%load_ext autoreload\n",
    "%autoreload 2"
   ]
  },
  {
   "cell_type": "code",
   "execution_count": 2,
   "metadata": {},
   "outputs": [],
   "source": [
    "from __init__ import *"
   ]
  },
  {
   "cell_type": "code",
   "execution_count": 3,
   "metadata": {},
   "outputs": [],
   "source": [
    "no_ = sorted(\n",
    "    (na for na in os.listdir() if re.match(r\"^[^._].*\\.ipynb$\", na)),\n",
    "    key=lambda na: int(na.split(\".\")[0]),\n",
    ")\n",
    "\n",
    "no_.remove(\"0.ipynb\")"
   ]
  },
  {
   "cell_type": "code",
   "execution_count": 4,
   "metadata": {},
   "outputs": [
    {
     "name": "stdout",
     "output_type": "stream",
     "text": [
      "jupyter nbconvert --execute --ExecutePreprocessor.timeout=-1 --inplace 1.ipynb\n",
      "jupyter nbconvert --execute --ExecutePreprocessor.timeout=-1 --inplace 2.ipynb\n",
      "jupyter nbconvert --execute --ExecutePreprocessor.timeout=-1 --inplace 3.ipynb\n",
      "jupyter nbconvert --execute --ExecutePreprocessor.timeout=-1 --inplace 4.ipynb\n",
      "jupyter nbconvert --execute --ExecutePreprocessor.timeout=-1 --inplace 5.ipynb\n",
      "jupyter nbconvert --execute --ExecutePreprocessor.timeout=-1 --inplace 6.ipynb\n",
      "jupyter nbconvert --execute --ExecutePreprocessor.timeout=-1 --inplace 7.ipynb\n",
      "jupyter nbconvert --execute --ExecutePreprocessor.timeout=-1 --inplace 8.ipynb\n",
      "jupyter nbconvert --execute --ExecutePreprocessor.timeout=-1 --inplace 9.ipynb\n"
     ]
    }
   ],
   "source": [
    "for no in no_:\n",
    "\n",
    "    kraft.shell.run(\n",
    "        \"jupyter nbconvert --execute --ExecutePreprocessor.timeout=-1 --inplace {}\".format(\n",
    "            no\n",
    "        )\n",
    "    )"
   ]
  }
 ],
 "metadata": {
  "@webio": {
   "lastCommId": null,
   "lastKernelId": null
  },
  "kernelspec": {
   "display_name": "Python 3",
   "language": "python",
   "name": "python3"
  },
  "language_info": {
   "codemirror_mode": {
    "name": "ipython",
    "version": 3
   },
   "file_extension": ".py",
   "mimetype": "text/x-python",
   "name": "python",
   "nbconvert_exporter": "python",
   "pygments_lexer": "ipython3",
   "version": "3.8.9"
  }
 },
 "nbformat": 4,
 "nbformat_minor": 4
}
