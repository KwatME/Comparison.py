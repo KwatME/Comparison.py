{
 "cells": [
  {
   "cell_type": "code",
   "execution_count": 1,
   "metadata": {},
   "outputs": [],
   "source": [
    "%load_ext autoreload\n",
    "%autoreload 2"
   ]
  },
  {
   "cell_type": "code",
   "execution_count": 2,
   "metadata": {},
   "outputs": [
    {
     "name": "stdout",
     "output_type": "stream",
     "text": [
      "CCAL version 0.9.1 @ /home/kwatme/github/ccal/ccal/__init__.py\n"
     ]
    },
    {
     "data": {
      "text/html": [
       "<script type=\"text/javascript\">window.PlotlyConfig = {MathJaxConfig: 'local'};</script><script type=\"text/javascript\">if (window.MathJax) {MathJax.Hub.Config({SVG: {font: \"STIX-Web\"}});}</script><script>requirejs.config({paths: { 'plotly': ['https://cdn.plot.ly/plotly-latest.min']},});if(!window._Plotly) {require(['plotly'],function(plotly) {window._Plotly=plotly;});}</script>"
      ],
      "text/vnd.plotly.v1+html": [
       "<script type=\"text/javascript\">window.PlotlyConfig = {MathJaxConfig: 'local'};</script><script type=\"text/javascript\">if (window.MathJax) {MathJax.Hub.Config({SVG: {font: \"STIX-Web\"}});}</script><script>requirejs.config({paths: { 'plotly': ['https://cdn.plot.ly/plotly-latest.min']},});if(!window._Plotly) {require(['plotly'],function(plotly) {window._Plotly=plotly;});}</script>"
      ]
     },
     "metadata": {},
     "output_type": "display_data"
    }
   ],
   "source": [
    "from environment import *\n",
    "\n",
    "with open(\"setting.yaml\") as yaml_file:\n",
    "\n",
    "    SETTING = yaml.load(yaml_file)\n",
    "\n",
    "PATH = make_path_dict(SETTING)"
   ]
  },
  {
   "cell_type": "code",
   "execution_count": 3,
   "metadata": {},
   "outputs": [],
   "source": [
    "gene_x_sample = pd.read_csv(PATH[\"gene_x_sample_file_path\"], sep=\"\\t\", index_col=0)"
   ]
  },
  {
   "cell_type": "code",
   "execution_count": 4,
   "metadata": {},
   "outputs": [
    {
     "name": "stdout",
     "output_type": "stream",
     "text": [
      "Shape: (4, 12) =(drop axis 0)=> (4, 12)\n",
      "Shape: (4, 12) =(drop axis 1)=> (4, 12)\n"
     ]
    },
    {
     "data": {
      "text/html": [
       "<div>\n",
       "<style scoped>\n",
       "    .dataframe tbody tr th:only-of-type {\n",
       "        vertical-align: middle;\n",
       "    }\n",
       "\n",
       "    .dataframe tbody tr th {\n",
       "        vertical-align: top;\n",
       "    }\n",
       "\n",
       "    .dataframe thead th {\n",
       "        text-align: right;\n",
       "    }\n",
       "</style>\n",
       "<table border=\"1\" class=\"dataframe\">\n",
       "  <thead>\n",
       "    <tr style=\"text-align: right;\">\n",
       "      <th></th>\n",
       "      <th>4MOSC1BloodCD8-1_S16</th>\n",
       "      <th>4MOSC1BloodCD8-2_S17</th>\n",
       "      <th>4MOSC1BloodCD8-3_S18</th>\n",
       "      <th>4MOSC1TumorCD8-1_S4</th>\n",
       "      <th>4MOSC1TumorCD8-2_S5</th>\n",
       "      <th>4MOSC1TumorCD8-3_S6</th>\n",
       "      <th>4MOSC3BloodCD8-1_S13</th>\n",
       "      <th>4MOSC3BloodCD8-2_S1</th>\n",
       "      <th>4MOSC3BloodCD8-3_S15</th>\n",
       "      <th>4MOSC3TumorCD8-1_S1</th>\n",
       "      <th>4MOSC3TumorCD8-2_S2</th>\n",
       "      <th>4MOSC3TumorCD8-3_S3</th>\n",
       "    </tr>\n",
       "    <tr>\n",
       "      <th>Target</th>\n",
       "      <th></th>\n",
       "      <th></th>\n",
       "      <th></th>\n",
       "      <th></th>\n",
       "      <th></th>\n",
       "      <th></th>\n",
       "      <th></th>\n",
       "      <th></th>\n",
       "      <th></th>\n",
       "      <th></th>\n",
       "      <th></th>\n",
       "      <th></th>\n",
       "    </tr>\n",
       "  </thead>\n",
       "  <tbody>\n",
       "    <tr>\n",
       "      <th>4M1B_vs_4M1T</th>\n",
       "      <td>0</td>\n",
       "      <td>0</td>\n",
       "      <td>0</td>\n",
       "      <td>1</td>\n",
       "      <td>1</td>\n",
       "      <td>1</td>\n",
       "      <td>-1</td>\n",
       "      <td>-1</td>\n",
       "      <td>-1</td>\n",
       "      <td>-1</td>\n",
       "      <td>-1</td>\n",
       "      <td>-1</td>\n",
       "    </tr>\n",
       "    <tr>\n",
       "      <th>4M1B_vs_4M3B</th>\n",
       "      <td>0</td>\n",
       "      <td>0</td>\n",
       "      <td>0</td>\n",
       "      <td>-1</td>\n",
       "      <td>-1</td>\n",
       "      <td>-1</td>\n",
       "      <td>1</td>\n",
       "      <td>1</td>\n",
       "      <td>1</td>\n",
       "      <td>-1</td>\n",
       "      <td>-1</td>\n",
       "      <td>-1</td>\n",
       "    </tr>\n",
       "    <tr>\n",
       "      <th>4M1T_vs_4M3T</th>\n",
       "      <td>-1</td>\n",
       "      <td>-1</td>\n",
       "      <td>-1</td>\n",
       "      <td>0</td>\n",
       "      <td>0</td>\n",
       "      <td>0</td>\n",
       "      <td>-1</td>\n",
       "      <td>-1</td>\n",
       "      <td>-1</td>\n",
       "      <td>1</td>\n",
       "      <td>1</td>\n",
       "      <td>1</td>\n",
       "    </tr>\n",
       "    <tr>\n",
       "      <th>4M3B_vs_4M3T</th>\n",
       "      <td>-1</td>\n",
       "      <td>-1</td>\n",
       "      <td>-1</td>\n",
       "      <td>-1</td>\n",
       "      <td>-1</td>\n",
       "      <td>-1</td>\n",
       "      <td>0</td>\n",
       "      <td>0</td>\n",
       "      <td>0</td>\n",
       "      <td>1</td>\n",
       "      <td>1</td>\n",
       "      <td>1</td>\n",
       "    </tr>\n",
       "  </tbody>\n",
       "</table>\n",
       "</div>"
      ],
      "text/plain": [
       "              4MOSC1BloodCD8-1_S16  4MOSC1BloodCD8-2_S17  \\\n",
       "Target                                                     \n",
       "4M1B_vs_4M1T                     0                     0   \n",
       "4M1B_vs_4M3B                     0                     0   \n",
       "4M1T_vs_4M3T                    -1                    -1   \n",
       "4M3B_vs_4M3T                    -1                    -1   \n",
       "\n",
       "              4MOSC1BloodCD8-3_S18  4MOSC1TumorCD8-1_S4  4MOSC1TumorCD8-2_S5  \\\n",
       "Target                                                                         \n",
       "4M1B_vs_4M1T                     0                    1                    1   \n",
       "4M1B_vs_4M3B                     0                   -1                   -1   \n",
       "4M1T_vs_4M3T                    -1                    0                    0   \n",
       "4M3B_vs_4M3T                    -1                   -1                   -1   \n",
       "\n",
       "              4MOSC1TumorCD8-3_S6  4MOSC3BloodCD8-1_S13  4MOSC3BloodCD8-2_S1  \\\n",
       "Target                                                                         \n",
       "4M1B_vs_4M1T                    1                    -1                   -1   \n",
       "4M1B_vs_4M3B                   -1                     1                    1   \n",
       "4M1T_vs_4M3T                    0                    -1                   -1   \n",
       "4M3B_vs_4M3T                   -1                     0                    0   \n",
       "\n",
       "              4MOSC3BloodCD8-3_S15  4MOSC3TumorCD8-1_S1  4MOSC3TumorCD8-2_S2  \\\n",
       "Target                                                                         \n",
       "4M1B_vs_4M1T                    -1                   -1                   -1   \n",
       "4M1B_vs_4M3B                     1                   -1                   -1   \n",
       "4M1T_vs_4M3T                    -1                    1                    1   \n",
       "4M3B_vs_4M3T                     0                    1                    1   \n",
       "\n",
       "              4MOSC3TumorCD8-3_S3  \n",
       "Target                             \n",
       "4M1B_vs_4M1T                   -1  \n",
       "4M1B_vs_4M3B                   -1  \n",
       "4M1T_vs_4M3T                    1  \n",
       "4M3B_vs_4M3T                    1  "
      ]
     },
     "execution_count": 4,
     "metadata": {},
     "output_type": "execute_result"
    }
   ],
   "source": [
    "target_x_sample = pd.DataFrame(columns=gene_x_sample.columns)\n",
    "\n",
    "target_x_sample.loc[\"4M1B_vs_4M1T\"] = (0,) * 3 + (1,) * 3 + (-1,) * 6\n",
    "\n",
    "target_x_sample.loc[\"4M3B_vs_4M3T\"] = (-1,) * 6 + (0,) * 3 + (1,) * 3\n",
    "\n",
    "target_x_sample.loc[\"4M1B_vs_4M3B\"] = (0,) * 3 + (-1,) * 3 + (1,) * 3 + (-1,) * 3\n",
    "\n",
    "target_x_sample.loc[\"4M1T_vs_4M3T\"] = (-1,) * 3 + (0,) * 3 + (-1,) * 3 + (1,) * 3\n",
    "\n",
    "target_x_sample = ccal.clean_and_write_df_to_tsv(\n",
    "    target_x_sample, \"Target\", PATH[\"target_x_sample_file_path\"]\n",
    ")\n",
    "\n",
    "target_x_sample"
   ]
  }
 ],
 "metadata": {
  "kernelspec": {
   "display_name": "Python 3",
   "language": "python",
   "name": "python3"
  },
  "language_info": {
   "codemirror_mode": {
    "name": "ipython",
    "version": 3
   },
   "file_extension": ".py",
   "mimetype": "text/x-python",
   "name": "python",
   "nbconvert_exporter": "python",
   "pygments_lexer": "ipython3",
   "version": "3.6.7"
  }
 },
 "nbformat": 4,
 "nbformat_minor": 2
}
