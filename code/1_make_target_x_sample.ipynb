{
 "cells": [
  {
   "cell_type": "code",
   "execution_count": null,
   "metadata": {},
   "outputs": [],
   "source": [
    "%load_ext autoreload\n",
    "%autoreload 2"
   ]
  },
  {
   "cell_type": "code",
   "execution_count": null,
   "metadata": {},
   "outputs": [],
   "source": [
    "from environment import *\n",
    "\n",
    "with open(\"setting.yaml\") as yaml_file:\n",
    "\n",
    "    SETTING = yaml.load(yaml_file)\n",
    "\n",
    "PATH = make_path_dict(SETTING)"
   ]
  },
  {
   "cell_type": "code",
   "execution_count": null,
   "metadata": {},
   "outputs": [],
   "source": [
    "gene_x_sample = pd.read_csv(PATH[\"gene_x_sample_file_path\"], sep=\"\\t\", index_col=0)"
   ]
  },
  {
   "cell_type": "code",
   "execution_count": null,
   "metadata": {},
   "outputs": [],
   "source": [
    "target_x_sample = pd.DataFrame(columns=gene_x_sample.columns)\n",
    "\n",
    "target_x_sample.loc[\"4M1B_vs_4M1T\"] = (0,) * 3 + (1,) * 3 + (-1,) * 6\n",
    "\n",
    "target_x_sample.loc[\"4M3B_vs_4M3T\"] = (-1,) * 6 + (0,) * 3 + (1,) * 3\n",
    "\n",
    "target_x_sample.loc[\"4M1B_vs_4M3B\"] = (0,) * 3 + (-1,) * 3 + (1,) * 3 + (-1,) * 3\n",
    "\n",
    "target_x_sample.loc[\"4M1T_vs_4M3T\"] = (-1,) * 3 + (0,) * 3 + (-1,) * 3 + (1,) * 3\n",
    "\n",
    "target_x_sample = ccal.clean_and_write_df_to_tsv(\n",
    "    target_x_sample, \"Target\", PATH[\"target_x_sample_file_path\"]\n",
    ")\n",
    "\n",
    "target_x_sample"
   ]
  }
 ],
 "metadata": {
  "kernelspec": {
   "display_name": "Python 3",
   "language": "python",
   "name": "python3"
  },
  "language_info": {
   "codemirror_mode": {
    "name": "ipython",
    "version": 3
   },
   "file_extension": ".py",
   "mimetype": "text/x-python",
   "name": "python",
   "nbconvert_exporter": "python",
   "pygments_lexer": "ipython3",
   "version": "3.6.7"
  }
 },
 "nbformat": 4,
 "nbformat_minor": 2
}
