{
 "cells": [
  {
   "cell_type": "code",
   "execution_count": null,
   "metadata": {
    "ExecuteTime": {
     "end_time": "2018-05-10T04:01:12.114019Z",
     "start_time": "2018-05-10T04:01:12.103114Z"
    }
   },
   "outputs": [],
   "source": [
    "%load_ext autoreload\n",
    "%autoreload 2"
   ]
  },
  {
   "cell_type": "code",
   "execution_count": null,
   "metadata": {
    "ExecuteTime": {
     "end_time": "2018-05-10T04:01:13.777249Z",
     "start_time": "2018-05-10T04:01:12.115773Z"
    }
   },
   "outputs": [],
   "source": [
    "from environment import *\n",
    "\n",
    "from parameters import *"
   ]
  },
  {
   "cell_type": "code",
   "execution_count": null,
   "metadata": {
    "ExecuteTime": {
     "end_time": "2018-05-10T04:01:13.960875Z",
     "start_time": "2018-05-10T04:01:13.779477Z"
    },
    "scrolled": false
   },
   "outputs": [],
   "source": [
    "gene_x_sample = pd.read_table(\n",
    "    '../output/max_tpm_log__gene_x_sample.tsv', index_col=0)\n",
    "\n",
    "gene_x_sample"
   ]
  },
  {
   "cell_type": "code",
   "execution_count": null,
   "metadata": {
    "ExecuteTime": {
     "end_time": "2018-05-10T04:01:13.992529Z",
     "start_time": "2018-05-10T04:01:13.962838Z"
    }
   },
   "outputs": [],
   "source": [
    "target_x_sample = pd.read_table('../data/target_x_sample.tsv', index_col=0)\n",
    "\n",
    "target_x_sample"
   ]
  },
  {
   "cell_type": "code",
   "execution_count": null,
   "metadata": {
    "ExecuteTime": {
     "end_time": "2018-05-10T04:01:39.305324Z",
     "start_time": "2018-05-10T04:01:13.994058Z"
    },
    "scrolled": false
   },
   "outputs": [],
   "source": [
    "make_match_panels(target_x_sample, gene_x_sample, N_JOB, 100, 10, 10,\n",
    "                  GENES_TO_PEEK, '', '../output/gene')"
   ]
  }
 ],
 "metadata": {
  "kernelspec": {
   "display_name": "Python [default]",
   "language": "python",
   "name": "python3"
  },
  "language_info": {
   "codemirror_mode": {
    "name": "ipython",
    "version": 3
   },
   "file_extension": ".py",
   "mimetype": "text/x-python",
   "name": "python",
   "nbconvert_exporter": "python",
   "pygments_lexer": "ipython3",
   "version": "3.6.3"
  }
 },
 "nbformat": 4,
 "nbformat_minor": 2
}
