{
 "cells": [
  {
   "cell_type": "code",
   "execution_count": null,
   "metadata": {
    "ExecuteTime": {
     "end_time": "2018-05-09T21:23:30.831523Z",
     "start_time": "2018-05-09T21:23:30.803332Z"
    }
   },
   "outputs": [],
   "source": [
    "%load_ext autoreload\n",
    "%autoreload 2"
   ]
  },
  {
   "cell_type": "code",
   "execution_count": null,
   "metadata": {
    "ExecuteTime": {
     "end_time": "2018-05-09T21:23:33.167459Z",
     "start_time": "2018-05-09T21:23:30.834330Z"
    }
   },
   "outputs": [],
   "source": [
    "from environment import *\n",
    "\n",
    "from parameters import *"
   ]
  },
  {
   "cell_type": "code",
   "execution_count": null,
   "metadata": {
    "ExecuteTime": {
     "end_time": "2018-05-09T21:23:33.485186Z",
     "start_time": "2018-05-09T21:23:33.171233Z"
    },
    "scrolled": true
   },
   "outputs": [],
   "source": [
    "gene_x_sample = pd.read_table('../data/m/gene_x_sample.tsv', index_col=0)\n",
    "\n",
    "gene_x_sample"
   ]
  },
  {
   "cell_type": "code",
   "execution_count": null,
   "metadata": {
    "ExecuteTime": {
     "end_time": "2018-05-09T21:23:33.565016Z",
     "start_time": "2018-05-09T21:23:33.487867Z"
    }
   },
   "outputs": [],
   "source": [
    "target_x_sample = pd.read_table('../data/m/target_x_sample.tsv', index_col=0)\n",
    "\n",
    "target_x_sample"
   ]
  },
  {
   "cell_type": "code",
   "execution_count": null,
   "metadata": {
    "ExecuteTime": {
     "end_time": "2018-05-09T21:28:33.263194Z",
     "start_time": "2018-05-09T21:27:28.492175Z"
    },
    "scrolled": true
   },
   "outputs": [],
   "source": [
    "make_match_panels(target_x_sample, gene_x_sample, N_JOB, 100, GENES_TO_PEEK,\n",
    "                  '', '../output/gene')"
   ]
  }
 ],
 "metadata": {
  "kernelspec": {
   "display_name": "Python 3",
   "language": "python",
   "name": "python3"
  },
  "language_info": {
   "codemirror_mode": {
    "name": "ipython",
    "version": 3
   },
   "file_extension": ".py",
   "mimetype": "text/x-python",
   "name": "python",
   "nbconvert_exporter": "python",
   "pygments_lexer": "ipython3",
   "version": "3.6.5"
  }
 },
 "nbformat": 4,
 "nbformat_minor": 2
}
