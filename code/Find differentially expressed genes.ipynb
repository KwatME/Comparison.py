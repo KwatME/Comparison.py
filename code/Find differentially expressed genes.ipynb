{
 "cells": [
  {
   "cell_type": "code",
   "execution_count": null,
   "metadata": {
    "ExecuteTime": {
     "end_time": "2018-05-20T01:24:36.062938Z",
     "start_time": "2018-05-20T01:24:36.049760Z"
    }
   },
   "outputs": [],
   "source": [
    "%load_ext autoreload\n",
    "\n",
    "%autoreload 2"
   ]
  },
  {
   "cell_type": "code",
   "execution_count": null,
   "metadata": {
    "ExecuteTime": {
     "end_time": "2018-05-20T01:24:37.747298Z",
     "start_time": "2018-05-20T01:24:36.064625Z"
    }
   },
   "outputs": [],
   "source": [
    "from environment import *\n",
    "\n",
    "from parameters import *"
   ]
  },
  {
   "cell_type": "code",
   "execution_count": null,
   "metadata": {
    "ExecuteTime": {
     "end_time": "2018-05-20T01:24:37.938710Z",
     "start_time": "2018-05-20T01:24:37.749321Z"
    },
    "scrolled": true
   },
   "outputs": [],
   "source": [
    "gene_x_sample = pd.read_table(\n",
    "    '../output/max_tpm_log__gene_x_sample.tsv', index_col=0)\n",
    "\n",
    "gene_x_sample"
   ]
  },
  {
   "cell_type": "code",
   "execution_count": null,
   "metadata": {
    "ExecuteTime": {
     "end_time": "2018-05-20T01:24:37.967136Z",
     "start_time": "2018-05-20T01:24:37.940463Z"
    }
   },
   "outputs": [],
   "source": [
    "target_x_sample = pd.read_table('../data/target_x_sample.tsv', index_col=0)\n",
    "\n",
    "target_x_sample"
   ]
  },
  {
   "cell_type": "code",
   "execution_count": null,
   "metadata": {
    "ExecuteTime": {
     "end_time": "2018-05-20T01:26:50.782022Z",
     "start_time": "2018-05-20T01:24:37.968750Z"
    },
    "scrolled": true
   },
   "outputs": [],
   "source": [
    "make_match_panels(target_x_sample, gene_x_sample, 1, 16, 0, 0, '(all genes) ',\n",
    "                  '../output/gene')"
   ]
  },
  {
   "cell_type": "code",
   "execution_count": null,
   "metadata": {
    "ExecuteTime": {
     "end_time": "2018-05-20T01:26:51.332191Z",
     "start_time": "2018-05-20T01:26:50.784481Z"
    },
    "scrolled": true
   },
   "outputs": [],
   "source": [
    "genes_to_peek = gene_x_sample.index & set(GENES_TO_PEEK)\n",
    "\n",
    "if len(genes_to_peek):\n",
    "\n",
    "    make_match_panels(target_x_sample, gene_x_sample.loc[genes_to_peek], 1,\n",
    "                      None, 0, 0, '(genes to peek) ', '../output/gene/peek')"
   ]
  }
 ],
 "metadata": {
  "kernelspec": {
   "display_name": "Python [default]",
   "language": "python",
   "name": "python3"
  },
  "language_info": {
   "codemirror_mode": {
    "name": "ipython",
    "version": 3
   },
   "file_extension": ".py",
   "mimetype": "text/x-python",
   "name": "python",
   "nbconvert_exporter": "python",
   "pygments_lexer": "ipython3",
   "version": "3.6.3"
  }
 },
 "nbformat": 4,
 "nbformat_minor": 2
}
