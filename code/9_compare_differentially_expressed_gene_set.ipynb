{
 "cells": [
  {
   "cell_type": "code",
   "execution_count": null,
   "metadata": {},
   "outputs": [],
   "source": [
    "%load_ext autoreload\n",
    "%autoreload 2"
   ]
  },
  {
   "cell_type": "code",
   "execution_count": null,
   "metadata": {},
   "outputs": [],
   "source": [
    "from environment import *\n",
    "\n",
    "with open(\"setting.yaml\") as yaml_file:\n",
    "\n",
    "    SETTING = yaml.load(yaml_file)\n",
    "\n",
    "PATH = make_path_dict(SETTING)"
   ]
  },
  {
   "cell_type": "code",
   "execution_count": null,
   "metadata": {},
   "outputs": [],
   "source": [
    "target_x_sample = pd.read_csv(PATH[\"target_x_sample.tsv\"], sep=\"\\t\", index_col=0)"
   ]
  },
  {
   "cell_type": "code",
   "execution_count": null,
   "metadata": {},
   "outputs": [],
   "source": [
    "annotation = ((\"Peek\", SETTING[\"gene_sets_to_peek\"], 12, \"#20d9ba\"),)"
   ]
  },
  {
   "cell_type": "code",
   "execution_count": null,
   "metadata": {},
   "outputs": [],
   "source": [
    "for target_name in target_x_sample.index:\n",
    "\n",
    "    output_directory_path = \"{}/{}\".format(\n",
    "        PATH[\"compare_differentially_expressed_gene_set/\"], target_name\n",
    "    )\n",
    "\n",
    "    ccal.establish_path(output_directory_path, \"directory\")\n",
    "\n",
    "    score_moe_p_value_fdr = pd.read_csv(\n",
    "        \"{}/{}/all.tsv\".format(\n",
    "            PATH[\"find_differentially_expressed_gene_set/\"], target_name\n",
    "        ),\n",
    "        sep=\"\\t\",\n",
    "        index_col=0,\n",
    "    )\n",
    "\n",
    "    if not score_moe_p_value_fdr[\"P-Value\"].isna().any():\n",
    "\n",
    "        x = score_moe_p_value_fdr[\"Score\"]\n",
    "\n",
    "        ccal.plot_point_and_annotate(\n",
    "            x,\n",
    "            pd.Series(1 - score_moe_p_value_fdr[\"P-Value\"], name=\"Significance\"),\n",
    "            \"x\",\n",
    "            annotation=annotation,\n",
    "            title=dict(text=\"All\"),\n",
    "            html_file_path=\"{}/all.html\".format(output_directory_path),\n",
    "        )\n",
    "\n",
    "        for gene_set_file_path in SETTING[\"gene_set_file_paths\"]:\n",
    "\n",
    "            gene_sets_name = gene_set_file_path.split(\"/\")[-1]\n",
    "\n",
    "            gene_sets = (\n",
    "                score_moe_p_value_fdr.index & ccal.read_gmt(gene_set_file_path).index\n",
    "            )\n",
    "\n",
    "            x = x[gene_sets]\n",
    "\n",
    "            if not x.isna().all():\n",
    "\n",
    "                ccal.plot_point_and_annotate(\n",
    "                    x,\n",
    "                    pd.Series(\n",
    "                        1 - score_moe_p_value_fdr[\"P-Value\"], name=\"Significance\"\n",
    "                    )[gene_sets],\n",
    "                    \"x\",\n",
    "                    annotation=annotation,\n",
    "                    title=dict(text=gene_sets_name),\n",
    "                    html_file_path=\"{}/{}.html\".format(\n",
    "                        output_directory_path, gene_sets_name\n",
    "                    ),\n",
    "                )"
   ]
  }
 ],
 "metadata": {
  "kernelspec": {
   "display_name": "Python 3",
   "language": "python",
   "name": "python3"
  },
  "language_info": {
   "codemirror_mode": {
    "name": "ipython",
    "version": 3
   },
   "file_extension": ".py",
   "mimetype": "text/x-python",
   "name": "python",
   "nbconvert_exporter": "python",
   "pygments_lexer": "ipython3",
   "version": "3.6.7"
  }
 },
 "nbformat": 4,
 "nbformat_minor": 2
}
