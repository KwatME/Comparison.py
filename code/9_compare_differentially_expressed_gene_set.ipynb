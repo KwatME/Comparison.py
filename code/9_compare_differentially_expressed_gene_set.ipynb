{
 "cells": [
  {
   "cell_type": "code",
   "execution_count": null,
   "metadata": {},
   "outputs": [],
   "source": [
    "%load_ext autoreload\n",
    "%autoreload 2"
   ]
  },
  {
   "cell_type": "code",
   "execution_count": null,
   "metadata": {},
   "outputs": [],
   "source": [
    "from environment import *\n",
    "\n",
    "with open(\"setting.yaml\") as yaml_file:\n",
    "\n",
    "    SETTING = yaml.load(yaml_file)\n",
    "\n",
    "PATH = make_path_dict(SETTING)"
   ]
  },
  {
   "cell_type": "code",
   "execution_count": null,
   "metadata": {},
   "outputs": [],
   "source": [
    "target_x_sample = pd.read_csv(PATH[\"target_x_sample.tsv\"], sep=\"\\t\", index_col=0)"
   ]
  },
  {
   "cell_type": "code",
   "execution_count": null,
   "metadata": {},
   "outputs": [],
   "source": [
    "annotation = ((\"Peek\", SETTING[\"gene_sets_to_peek\"], 12, \"#20d9ba\"),)"
   ]
  },
  {
   "cell_type": "code",
   "execution_count": null,
   "metadata": {},
   "outputs": [],
   "source": [
    "for target_name, target_values in target_x_sample.iterrows():\n",
    "\n",
    "    target_values = target_values[target_values != -1]\n",
    "\n",
    "    if target_values.value_counts().min() < 2:\n",
    "\n",
    "        continue\n",
    "\n",
    "    score_moe_p_value_fdr = pd.read_csv(\n",
    "        os.path.join(\n",
    "            PATH[\"find_differentially_expressed_gene_set/\"], target_name, \"all.tsv\"\n",
    "        ),\n",
    "        sep=\"\\t\",\n",
    "        index_col=0,\n",
    "    )\n",
    "\n",
    "    if score_moe_p_value_fdr[\"P-Value\"].isna().all():\n",
    "\n",
    "        continue\n",
    "\n",
    "    output_directory_path = os.path.join(\n",
    "        PATH[\"compare_differentially_expressed_gene_set/\"], target_name\n",
    "    )\n",
    "\n",
    "    kraft.establish_path(output_directory_path, \"directory\")\n",
    "\n",
    "    x = score_moe_p_value_fdr[\"Score\"]\n",
    "\n",
    "    if x.isna().all():\n",
    "\n",
    "        continue\n",
    "\n",
    "    y_name = \"1 - P-Value\"\n",
    "\n",
    "    kraft.plot_point_and_annotate(\n",
    "        x,\n",
    "        pd.Series(1 - score_moe_p_value_fdr[\"P-Value\"], name=y_name),\n",
    "        \"x\",\n",
    "        annotation=annotation,\n",
    "        title={\"text\": \"All\"},\n",
    "        html_file_path=os.path.join(output_directory_path, \"all.html\"),\n",
    "    )\n",
    "\n",
    "    for gene_set_file_path in SETTING[\"gene_set_file_paths\"]:\n",
    "\n",
    "        gene_sets_name = os.path.split(gene_set_file_path)[1]\n",
    "\n",
    "        gene_sets = (\n",
    "            score_moe_p_value_fdr.index & kraft.read_gmt(gene_set_file_path).index\n",
    "        )\n",
    "\n",
    "        x = x[gene_sets]\n",
    "\n",
    "        if x.isna().all():\n",
    "\n",
    "            continue\n",
    "\n",
    "        kraft.plot_point_and_annotate(\n",
    "            x,\n",
    "            pd.Series(1 - score_moe_p_value_fdr[\"P-Value\"], name=y_name)[gene_sets],\n",
    "            \"x\",\n",
    "            annotation=annotation,\n",
    "            title={\"text\": gene_sets_name},\n",
    "            html_file_path=os.path.join(\n",
    "                output_directory_path, \"{}.html\".format(gene_sets_name)\n",
    "            ),\n",
    "        )"
   ]
  }
 ],
 "metadata": {
  "kernelspec": {
   "display_name": "Python 3",
   "language": "python",
   "name": "python3"
  },
  "language_info": {
   "codemirror_mode": {
    "name": "ipython",
    "version": 3
   },
   "file_extension": ".py",
   "mimetype": "text/x-python",
   "name": "python",
   "nbconvert_exporter": "python",
   "pygments_lexer": "ipython3",
   "version": "3.6.7"
  }
 },
 "nbformat": 4,
 "nbformat_minor": 2
}
