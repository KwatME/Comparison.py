{
 "cells": [
  {
   "cell_type": "markdown",
   "metadata": {},
   "source": [
    "### Setup notebook"
   ]
  },
  {
   "cell_type": "code",
   "execution_count": null,
   "metadata": {},
   "outputs": [],
   "source": [
    "import os\n",
    "import numpy as np\n",
    "import pandas as pd\n",
    "import ccal\n",
    "\n",
    "%load_ext autoreload\n",
    "%autoreload 2"
   ]
  },
  {
   "cell_type": "markdown",
   "metadata": {},
   "source": [
    "### Read gene by sample matrix"
   ]
  },
  {
   "cell_type": "code",
   "execution_count": null,
   "metadata": {},
   "outputs": [],
   "source": [
    "gene_x_sample_file_path = 'XXX'\n",
    "\n",
    "gene_x_sample = pd.read_table(gene_x_sample_file_path, index_col=0) \n",
    "\n",
    "gene_x_sample"
   ]
  },
  {
   "cell_type": "markdown",
   "metadata": {},
   "source": [
    "### Read gene sets"
   ]
  },
  {
   "cell_type": "code",
   "execution_count": null,
   "metadata": {},
   "outputs": [],
   "source": [
    "msigdb_version = '6.1'\n",
    "\n",
    "gmt_file_paths = []\n",
    "\n",
    "gmt_file_paths += [\n",
    "    '../../../data/gene_set/msigdb/{}.all.v{}.symbols.gmt'.format(collection, msigdb_version)\n",
    "    for collection in (\n",
    "        'h',\n",
    "        'c1',\n",
    "        'c2',\n",
    "        'c3',\n",
    "        'c4',\n",
    "        'c5',\n",
    "        'c6',\n",
    "        'c7',\n",
    "    )\n",
    "]\n",
    "\n",
    "gmt_file_paths.append('../../../data/gene_set/ipa_regulator.gmt')\n",
    "\n",
    "gmt_file_paths.append('../../../data/gene_set/isogenic_signature.gmt')\n",
    "\n",
    "gmts = ccal.read_gmts(gmt_file_paths)\n",
    "\n",
    "gmts = gmts.loc[~gmts.index.duplicated()]\n",
    "\n",
    "gmts = gmts.loc[5 <= gmt.apply(lambda genes: genes.dropna().size, axis=1)]\n",
    "\n",
    "gmts"
   ]
  },
  {
   "cell_type": "markdown",
   "metadata": {},
   "source": [
    "### Run single sample GSEA"
   ]
  },
  {
   "cell_type": "code",
   "execution_count": null,
   "metadata": {},
   "outputs": [],
   "source": [
    "gene_set_x_sample_file_path = '../output/gene_set_x_sample.tsv'\n",
    "\n",
    "if os.path.isfile(gene_set_x_sample_file_path):\n",
    "    \n",
    "    gene_set_x_sample = pd.read_table(gene_set_x_sample_file_path, index_col=0)\n",
    "    \n",
    "else:\n",
    "    \n",
    "    gene_set_x_sample = ccal.single_sample_gseas(\n",
    "        gene_x_sample,\n",
    "        gmts,\n",
    "        normalization_method='0-1',\n",
    "        statistic='auc',\n",
    "        file_path=gene_set_x_sample_file_path)\n",
    "\n",
    "gene_set_x_sample"
   ]
  }
 ],
 "metadata": {
  "kernelspec": {
   "display_name": "Python [conda root]",
   "language": "python",
   "name": "conda-root-py"
  },
  "language_info": {
   "codemirror_mode": {
    "name": "ipython",
    "version": 3
   },
   "file_extension": ".py",
   "mimetype": "text/x-python",
   "name": "python",
   "nbconvert_exporter": "python",
   "pygments_lexer": "ipython3",
   "version": "3.6.4"
  }
 },
 "nbformat": 4,
 "nbformat_minor": 2
}
