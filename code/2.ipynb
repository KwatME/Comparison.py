{
 "cells": [
  {
   "cell_type": "code",
   "execution_count": null,
   "metadata": {
    "execution": {
     "iopub.execute_input": "2021-05-28T04:13:27.900530Z",
     "iopub.status.busy": "2021-05-28T04:13:27.899891Z",
     "iopub.status.idle": "2021-05-28T04:13:27.911882Z",
     "shell.execute_reply": "2021-05-28T04:13:27.912377Z"
    },
    "tags": []
   },
   "outputs": [],
   "source": [
    "%load_ext autoreload\n",
    "%autoreload 2"
   ]
  },
  {
   "cell_type": "code",
   "execution_count": null,
   "metadata": {
    "execution": {
     "iopub.execute_input": "2021-05-28T04:13:27.915843Z",
     "iopub.status.busy": "2021-05-28T04:13:27.915263Z",
     "iopub.status.idle": "2021-05-28T04:13:28.636495Z",
     "shell.execute_reply": "2021-05-28T04:13:28.636837Z"
    },
    "tags": []
   },
   "outputs": [],
   "source": [
    "from __init__ import *"
   ]
  },
  {
   "cell_type": "code",
   "execution_count": null,
   "metadata": {
    "execution": {
     "iopub.execute_input": "2021-05-28T04:13:28.640165Z",
     "iopub.status.busy": "2021-05-28T04:13:28.639591Z",
     "iopub.status.idle": "2021-05-28T04:13:28.729014Z",
     "shell.execute_reply": "2021-05-28T04:13:28.729771Z"
    },
    "tags": []
   },
   "outputs": [],
   "source": [
    "fxs = pd.read_csv(\"../input/feature_x_sample.tsv\", sep=\"\\t\", index_col=0)\n",
    "\n",
    "bfxs = pd.read_csv(\"../input/binary_feature_x_sample.tsv\", sep=\"\\t\", index_col=0)"
   ]
  },
  {
   "cell_type": "code",
   "execution_count": null,
   "metadata": {
    "execution": {
     "iopub.execute_input": "2021-05-28T04:13:28.736500Z",
     "iopub.status.busy": "2021-05-28T04:13:28.735604Z",
     "iopub.status.idle": "2021-05-28T04:13:28.779614Z",
     "shell.execute_reply": "2021-05-28T04:13:28.780035Z"
    },
    "tags": []
   },
   "outputs": [],
   "source": [
    "cxs = pd.DataFrame(columns=fxs.columns)\n",
    "\n",
    "for c in S[\"comparison_\"]:\n",
    "\n",
    "    if isinstance(c, str):\n",
    "\n",
    "        cxs.loc[c, :] = bfxs.loc[c, :]\n",
    "\n",
    "    else:\n",
    "\n",
    "        g0, g1 = c\n",
    "\n",
    "        c = \"{} vs {}\".format(\",\".join(g0), \",\".join(g1))\n",
    "\n",
    "        for f_, i in [[g0, 0], [g1, 1]]:\n",
    "\n",
    "            cxs.loc[c, bfxs.loc[f_].all()] = i\n",
    "\n",
    "cxs.index.name = \"Comparison\"\n",
    "\n",
    "cxs.to_csv(\"../output/comparison_x_sample.tsv\", sep=\"\\t\")\n",
    "\n",
    "cxs"
   ]
  }
 ],
 "metadata": {
  "kernelspec": {
   "display_name": "Python 3",
   "language": "python",
   "name": "python3"
  },
  "language_info": {
   "codemirror_mode": {
    "name": "ipython",
    "version": 3
   },
   "file_extension": ".py",
   "mimetype": "text/x-python",
   "name": "python",
   "nbconvert_exporter": "python",
   "pygments_lexer": "ipython3",
   "version": "3.8.9"
  }
 },
 "nbformat": 4,
 "nbformat_minor": 4
}
