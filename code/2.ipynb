{
 "cells": [
  {
   "cell_type": "code",
   "execution_count": 1,
   "metadata": {
    "execution": {
     "iopub.execute_input": "2021-06-03T06:43:21.853940Z",
     "iopub.status.busy": "2021-06-03T06:43:21.853111Z",
     "iopub.status.idle": "2021-06-03T06:43:21.865720Z",
     "shell.execute_reply": "2021-06-03T06:43:21.866230Z"
    },
    "tags": []
   },
   "outputs": [],
   "source": [
    "%load_ext autoreload\n",
    "%autoreload 2"
   ]
  },
  {
   "cell_type": "code",
   "execution_count": 2,
   "metadata": {
    "execution": {
     "iopub.execute_input": "2021-06-03T06:43:21.869767Z",
     "iopub.status.busy": "2021-06-03T06:43:21.869163Z",
     "iopub.status.idle": "2021-06-03T06:43:22.410622Z",
     "shell.execute_reply": "2021-06-03T06:43:22.411017Z"
    },
    "tags": []
   },
   "outputs": [],
   "source": [
    "from __init__ import *"
   ]
  },
  {
   "cell_type": "code",
   "execution_count": 3,
   "metadata": {
    "execution": {
     "iopub.execute_input": "2021-06-03T06:43:22.414300Z",
     "iopub.status.busy": "2021-06-03T06:43:22.413714Z",
     "iopub.status.idle": "2021-06-03T06:43:22.469251Z",
     "shell.execute_reply": "2021-06-03T06:43:22.469717Z"
    },
    "tags": []
   },
   "outputs": [],
   "source": [
    "nu_fe_sa = pd.read_csv(\"../output/number_feature_sample.tsv\", \"\\t\", index_col=0)\n",
    "\n",
    "bi_fe_sa = pd.read_csv(\"../input/01_feature_sample.tsv\", \"\\t\", index_col=0)"
   ]
  },
  {
   "cell_type": "code",
   "execution_count": 4,
   "metadata": {
    "execution": {
     "iopub.execute_input": "2021-06-03T06:43:22.474603Z",
     "iopub.status.busy": "2021-06-03T06:43:22.473933Z",
     "iopub.status.idle": "2021-06-03T06:43:22.510360Z",
     "shell.execute_reply": "2021-06-03T06:43:22.510855Z"
    },
    "tags": []
   },
   "outputs": [
    {
     "data": {
      "text/html": [
       "<div>\n",
       "<style scoped>\n",
       "    .dataframe tbody tr th:only-of-type {\n",
       "        vertical-align: middle;\n",
       "    }\n",
       "\n",
       "    .dataframe tbody tr th {\n",
       "        vertical-align: top;\n",
       "    }\n",
       "\n",
       "    .dataframe thead th {\n",
       "        text-align: right;\n",
       "    }\n",
       "</style>\n",
       "<table border=\"1\" class=\"dataframe\">\n",
       "  <thead>\n",
       "    <tr style=\"text-align: right;\">\n",
       "      <th></th>\n",
       "      <th>S1</th>\n",
       "      <th>S2</th>\n",
       "      <th>S3</th>\n",
       "      <th>S4</th>\n",
       "      <th>S5</th>\n",
       "      <th>S6</th>\n",
       "      <th>S7</th>\n",
       "      <th>S8</th>\n",
       "    </tr>\n",
       "    <tr>\n",
       "      <th>Comparison</th>\n",
       "      <th></th>\n",
       "      <th></th>\n",
       "      <th></th>\n",
       "      <th></th>\n",
       "      <th></th>\n",
       "      <th></th>\n",
       "      <th></th>\n",
       "      <th></th>\n",
       "    </tr>\n",
       "  </thead>\n",
       "  <tbody>\n",
       "    <tr>\n",
       "      <th>CFS</th>\n",
       "      <td>1</td>\n",
       "      <td>1</td>\n",
       "      <td>1</td>\n",
       "      <td>1</td>\n",
       "      <td>1</td>\n",
       "      <td>1</td>\n",
       "      <td>0</td>\n",
       "      <td>0</td>\n",
       "    </tr>\n",
       "    <tr>\n",
       "      <th>CFS,TA vs CFS,CD4</th>\n",
       "      <td>0</td>\n",
       "      <td>1</td>\n",
       "      <td>0</td>\n",
       "      <td>1</td>\n",
       "      <td>0</td>\n",
       "      <td>1</td>\n",
       "      <td>NaN</td>\n",
       "      <td>NaN</td>\n",
       "    </tr>\n",
       "  </tbody>\n",
       "</table>\n",
       "</div>"
      ],
      "text/plain": [
       "                  S1 S2 S3 S4 S5 S6   S7   S8\n",
       "Comparison                                   \n",
       "CFS                1  1  1  1  1  1    0    0\n",
       "CFS,TA vs CFS,CD4  0  1  0  1  0  1  NaN  NaN"
      ]
     },
     "execution_count": 1,
     "metadata": {},
     "output_type": "execute_result"
    }
   ],
   "source": [
    "bi_co_sa = pd.DataFrame(columns=nu_fe_sa.columns)\n",
    "\n",
    "for co in SETTING[\"co_\"]:\n",
    "\n",
    "    if isinstance(co, str):\n",
    "\n",
    "        bi_co_sa.loc[co, :] = bi_fe_sa.loc[co, :]\n",
    "\n",
    "    else:\n",
    "\n",
    "        fe0_, fe1_ = co\n",
    "\n",
    "        co = \"{} vs {}\".format(\",\".join(fe0_), \",\".join(fe1_))\n",
    "\n",
    "        for fe_, it in [[fe0_, 0], [fe1_, 1]]:\n",
    "\n",
    "            bi_co_sa.loc[co, bi_fe_sa.loc[fe_].all()] = it\n",
    "\n",
    "bi_co_sa.index.name = \"Comparison\"\n",
    "\n",
    "bi_co_sa.to_csv(\"../output/01_comparison_sample.tsv\", \"\\t\")\n",
    "\n",
    "bi_co_sa"
   ]
  }
 ],
 "metadata": {
  "kernelspec": {
   "display_name": "Python 3",
   "language": "python",
   "name": "python3"
  },
  "language_info": {
   "codemirror_mode": {
    "name": "ipython",
    "version": 3
   },
   "file_extension": ".py",
   "mimetype": "text/x-python",
   "name": "python",
   "nbconvert_exporter": "python",
   "pygments_lexer": "ipython3",
   "version": "3.8.9"
  }
 },
 "nbformat": 4,
 "nbformat_minor": 4
}
