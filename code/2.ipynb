{
 "cells": [
  {
   "cell_type": "code",
   "execution_count": null,
   "metadata": {
    "execution": {
     "iopub.execute_input": "2021-06-05T22:30:18.520186Z",
     "iopub.status.busy": "2021-06-05T22:30:18.519425Z",
     "iopub.status.idle": "2021-06-05T22:30:18.532898Z",
     "shell.execute_reply": "2021-06-05T22:30:18.533367Z"
    },
    "tags": []
   },
   "outputs": [],
   "source": [
    "%load_ext autoreload\n",
    "%autoreload 2"
   ]
  },
  {
   "cell_type": "code",
   "execution_count": null,
   "metadata": {
    "execution": {
     "iopub.execute_input": "2021-06-05T22:30:18.536833Z",
     "iopub.status.busy": "2021-06-05T22:30:18.536240Z",
     "iopub.status.idle": "2021-06-05T22:30:19.080764Z",
     "shell.execute_reply": "2021-06-05T22:30:19.081300Z"
    },
    "tags": []
   },
   "outputs": [],
   "source": [
    "from __init__ import *"
   ]
  },
  {
   "cell_type": "code",
   "execution_count": null,
   "metadata": {
    "execution": {
     "iopub.execute_input": "2021-06-05T22:30:19.085295Z",
     "iopub.status.busy": "2021-06-05T22:30:19.084718Z",
     "iopub.status.idle": "2021-06-05T22:30:19.125883Z",
     "shell.execute_reply": "2021-06-05T22:30:19.126293Z"
    },
    "tags": []
   },
   "outputs": [],
   "source": [
    "nu_fe_sa = pd.read_csv(\"../output/number_feature_sample.tsv\", \"\\t\", index_col=0)\n",
    "\n",
    "bi_fe_sa = pd.read_csv(\"../input/01_feature_sample.tsv\", \"\\t\", index_col=0)"
   ]
  },
  {
   "cell_type": "code",
   "execution_count": null,
   "metadata": {
    "execution": {
     "iopub.execute_input": "2021-06-05T22:30:19.131101Z",
     "iopub.status.busy": "2021-06-05T22:30:19.130487Z",
     "iopub.status.idle": "2021-06-05T22:30:19.164549Z",
     "shell.execute_reply": "2021-06-05T22:30:19.164968Z"
    },
    "tags": []
   },
   "outputs": [],
   "source": [
    "bi_co_sa = pd.DataFrame(columns=nu_fe_sa.columns)\n",
    "\n",
    "for co in SETTING[\"co_\"]:\n",
    "\n",
    "    if isinstance(co, str):\n",
    "\n",
    "        bi_co_sa.loc[co, :] = bi_fe_sa.loc[co, :]\n",
    "\n",
    "    else:\n",
    "\n",
    "        fe0_, fe1_ = co\n",
    "\n",
    "        co = \"{} vs {}\".format(\",\".join(fe0_), \",\".join(fe1_))\n",
    "\n",
    "        for fe_, it in [[fe0_, 0], [fe1_, 1]]:\n",
    "\n",
    "            bi_co_sa.loc[co, bi_fe_sa.loc[fe_].all()] = it\n",
    "\n",
    "bi_co_sa.index.name = \"Comparison\"\n",
    "\n",
    "bi_co_sa.to_csv(\"../output/01_comparison_sample.tsv\", \"\\t\")\n",
    "\n",
    "bi_co_sa"
   ]
  }
 ],
 "metadata": {
  "kernelspec": {
   "display_name": "Python 3",
   "language": "python",
   "name": "python3"
  },
  "language_info": {
   "codemirror_mode": {
    "name": "ipython",
    "version": 3
   },
   "file_extension": ".py",
   "mimetype": "text/x-python",
   "name": "python",
   "nbconvert_exporter": "python",
   "pygments_lexer": "ipython3",
   "version": "3.8.9"
  }
 },
 "nbformat": 4,
 "nbformat_minor": 4
}
