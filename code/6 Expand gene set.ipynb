{
 "cells": [
  {
   "cell_type": "code",
   "execution_count": null,
   "metadata": {},
   "outputs": [],
   "source": [
    "%load_ext autoreload\n",
    "\n",
    "%autoreload 2"
   ]
  },
  {
   "cell_type": "code",
   "execution_count": null,
   "metadata": {},
   "outputs": [],
   "source": [
    "from environment import *\n",
    "\n",
    "from setting import *"
   ]
  },
  {
   "cell_type": "code",
   "execution_count": null,
   "metadata": {},
   "outputs": [],
   "source": [
    "target_x_sample = pd.read_table(\n",
    "    '../output/target_x_sample.tsv',\n",
    "    index_col=0,\n",
    ")"
   ]
  },
  {
   "cell_type": "code",
   "execution_count": null,
   "metadata": {},
   "outputs": [],
   "source": [
    "gene_x_sample = pd.read_table(\n",
    "    '../output/gene_x_sample__processed.tsv',\n",
    "    index_col=0,\n",
    ")"
   ]
  },
  {
   "cell_type": "code",
   "execution_count": null,
   "metadata": {},
   "outputs": [],
   "source": [
    "gene_set_file_paths = tuple('../data/gene_set/{}'.format(file_name) for file_name in os.listdir('../data/gene_set'))\n",
    "\n",
    "gene_set_file_paths"
   ]
  },
  {
   "cell_type": "code",
   "execution_count": null,
   "metadata": {},
   "outputs": [],
   "source": [
    "gene_sets = ccal.read_gmts(gene_set_file_paths)"
   ]
  },
  {
   "cell_type": "code",
   "execution_count": null,
   "metadata": {},
   "outputs": [],
   "source": [
    "gene_set_x_sample__all = pd.read_table(\n",
    "    '../output/gene_set_x_sample/All Gene Sets.gene_set_x_sample.tsv',\n",
    "    index_col=0,\n",
    ")"
   ]
  },
  {
   "cell_type": "code",
   "execution_count": null,
   "metadata": {},
   "outputs": [],
   "source": [
    "feature_dicts = {}\n",
    "\n",
    "for gene_set in GENE_SET_TO_PEEK:\n",
    "    \n",
    "    genes = gene_sets.loc[gene_set].dropna()\n",
    "    \n",
    "    feature_dicts[gene_set] = {\n",
    "        'df': pd.concat((\n",
    "            gene_x_sample.loc[genes],\n",
    "            gene_set_x_sample__all.loc[[gene_set]],\n",
    "        )),\n",
    "        'data_type': 'continuous',\n",
    "        'emphasis': 'high',\n",
    "    }"
   ]
  },
  {
   "cell_type": "code",
   "execution_count": null,
   "metadata": {},
   "outputs": [],
   "source": [
    "ccal.make_match_panels(\n",
    "    target_x_sample,\n",
    "    feature_dicts,\n",
    "    drop_negative_target=DROP_NEGATIVE_TARGET,\n",
    "    target_ascending=TARGET_ASCENDING,\n",
    "    n_job=N_JOB,\n",
    "    extreme_feature_threshold=None,\n",
    "    n_sampling=N_SAMPLING,\n",
    "    n_permutation=N_PERMUTATION,\n",
    "    target_type=TARGET_TYPE,\n",
    "    plot_features_std_max=PLOT_FEATURES_STD_MAX,\n",
    "    directory_path='../output/expand_gene_set',\n",
    "    overwrite=OVERWRITE,\n",
    ")"
   ]
  }
 ],
 "metadata": {
  "kernelspec": {
   "display_name": "Python 3",
   "language": "python",
   "name": "python3"
  },
  "language_info": {
   "codemirror_mode": {
    "name": "ipython",
    "version": 3
   },
   "file_extension": ".py",
   "mimetype": "text/x-python",
   "name": "python",
   "nbconvert_exporter": "python",
   "pygments_lexer": "ipython3",
   "version": "3.6.6"
  }
 },
 "nbformat": 4,
 "nbformat_minor": 2
}
