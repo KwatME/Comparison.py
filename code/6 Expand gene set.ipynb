{
 "cells": [
  {
   "cell_type": "code",
   "execution_count": null,
   "metadata": {},
   "outputs": [],
   "source": [
    "%load_ext autoreload\n",
    "\n",
    "%autoreload 2"
   ]
  },
  {
   "cell_type": "code",
   "execution_count": null,
   "metadata": {},
   "outputs": [],
   "source": [
    "from environment import *\n",
    "\n",
    "from setting import *"
   ]
  },
  {
   "cell_type": "code",
   "execution_count": null,
   "metadata": {},
   "outputs": [],
   "source": [
    "target_x_sample = pd.read_table(\n",
    "    '../output/target_x_sample.tsv',\n",
    "    index_col=0,\n",
    ")"
   ]
  },
  {
   "cell_type": "code",
   "execution_count": null,
   "metadata": {},
   "outputs": [],
   "source": [
    "gene_x_sample = pd.read_table(\n",
    "    '../output/gene_x_sample__processed.tsv',\n",
    "    index_col=0,\n",
    ")"
   ]
  },
  {
   "cell_type": "code",
   "execution_count": null,
   "metadata": {},
   "outputs": [],
   "source": [
    "gene_set_file_name = 'stem_cell.gmt'\n",
    "\n",
    "gene_set_name = 'Cancer Stem Cell'"
   ]
  },
  {
   "cell_type": "code",
   "execution_count": null,
   "metadata": {},
   "outputs": [],
   "source": [
    "feature_x_sample = gene_x_sample.loc[ccal.read_gmt('../data/gene_set/{}'.format(gene_set_file_name)).loc[gene_set_name].dropna()]\n",
    "\n",
    "feature_x_sample"
   ]
  },
  {
   "cell_type": "code",
   "execution_count": null,
   "metadata": {},
   "outputs": [],
   "source": [
    "feature_x_sample = feature_x_sample.append(pd.read_table(\n",
    "    '../output/gene_set_x_sample/{}.gene_set_x_sample.tsv'.format(gene_set_file_name),\n",
    "    index_col=0,\n",
    ").loc[gene_set_name])\n",
    "\n",
    "feature_x_sample"
   ]
  },
  {
   "cell_type": "code",
   "execution_count": null,
   "metadata": {},
   "outputs": [],
   "source": [
    "ccal.make_match_panels(\n",
    "    target_x_sample,\n",
    "    {\n",
    "        gene_set_name: {\n",
    "            'df': feature_x_sample,\n",
    "            'data_type': 'continuous',\n",
    "            'emphasis': 'high',\n",
    "        },\n",
    "    },\n",
    "    drop_negative_target=True,\n",
    "    target_ascending=True,\n",
    "    extreme_feature_threshold=None,\n",
    "    n_sampling=N_SAMPLING,\n",
    "    n_permutation=N_PERMUTATION,\n",
    "    target_type='binary',\n",
    "    plot_features_std_max=PLOT_FEATURES_STD_MAX,\n",
    "    directory_path='../output/expand_gene_set',\n",
    "    overwrite=OVERWRITE,\n",
    ")"
   ]
  }
 ],
 "metadata": {
  "kernelspec": {
   "display_name": "Python 3",
   "language": "python",
   "name": "python3"
  },
  "language_info": {
   "codemirror_mode": {
    "name": "ipython",
    "version": 3
   },
   "file_extension": ".py",
   "mimetype": "text/x-python",
   "name": "python",
   "nbconvert_exporter": "python",
   "pygments_lexer": "ipython3",
   "version": "3.6.6"
  }
 },
 "nbformat": 4,
 "nbformat_minor": 2
}
