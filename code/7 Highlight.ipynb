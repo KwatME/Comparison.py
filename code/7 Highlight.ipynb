{
 "cells": [
  {
   "cell_type": "code",
   "execution_count": null,
   "metadata": {},
   "outputs": [],
   "source": [
    "%load_ext autoreload\n",
    "\n",
    "%autoreload 2"
   ]
  },
  {
   "cell_type": "code",
   "execution_count": null,
   "metadata": {},
   "outputs": [],
   "source": [
    "from environment import *\n",
    "\n",
    "from setting import *"
   ]
  },
  {
   "cell_type": "code",
   "execution_count": null,
   "metadata": {},
   "outputs": [],
   "source": [
    "target_x_sample = pd.read_table(\n",
    "    '../output/target_x_sample.tsv',\n",
    "    index_col=0,\n",
    ")"
   ]
  },
  {
   "cell_type": "code",
   "execution_count": null,
   "metadata": {},
   "outputs": [],
   "source": [
    "gene_set_x_sample__all = pd.read_table(\n",
    "    '../output/gene_set_x_sample/All Gene Sets.gene_set_x_sample.tsv',\n",
    "    index_col=0,\n",
    ")"
   ]
  },
  {
   "cell_type": "code",
   "execution_count": null,
   "metadata": {},
   "outputs": [],
   "source": [
    "title_feature_dicts = {\n",
    "    'Highlight': {\n",
    "        'Stemness and EMT Signatures': {\n",
    "            'df': gene_set_x_sample__all,\n",
    "            'data_type': 'continuous',\n",
    "            'emphasis': 'low',\n",
    "            'indices': (\n",
    "                'Cancer Stem Cell',\n",
    "                'BENPORATH_ES_CORE_NINE',\n",
    "                'BENPORATH_ES_WITH_H3K27ME3',\n",
    "                'HOEBEKE_LYMPHOID_STEM_CELL_UP',\n",
    "                'IVANOVA_HEMATOPOIESIS_STEM_CELL_AND_PROGENITOR',\n",
    "                'MIKKELSEN_IPS_LCP_WITH_H3K4ME3',\n",
    "                'MIKKELSEN_IPS_WITH_HCP_H3K27ME3',\n",
    "                'GOTZMANN_EPITHELIAL_TO_MESENCHYMAL_TRANSITION_UP',\n",
    "            ),\n",
    "        },\n",
    "        'Oncogenic Signatures': {\n",
    "            'df': gene_set_x_sample__all,\n",
    "            'data_type': 'continuous',\n",
    "            'emphasis': 'low',\n",
    "            'indices': (\n",
    "                'HALLMARK_NOTCH_SIGNALING',\n",
    "                'HALLMARK_TGF_BETA_SIGNALING',\n",
    "                'HALLMARK_E2F_TARGETS',\n",
    "                'HALLMARK_WNT_BETA_CATENIN_SIGNALING',\n",
    "                'BIOCARTA_WNT_PATHWAY',\n",
    "                'PRC2_EZH2_UP.V1_UP',\n",
    "                'E2F3_UP.V1_UP',\n",
    "            ),\n",
    "        },\n",
    "        'NFkB Signatures': {\n",
    "            'df': gene_set_x_sample__all,\n",
    "            'data_type': 'continuous',\n",
    "            'emphasis': 'high',\n",
    "            'indices': (\n",
    "                'HINATA_NFKB_TARGETS_KERATINOCYTE_UP',\n",
    "                'TIAN_TNF_SIGNALING_VIA_NFKB',\n",
    "            ),\n",
    "        },\n",
    "        'Differentiation Signatures': {\n",
    "            'df': gene_set_x_sample__all,\n",
    "            'data_type': 'continuous',\n",
    "            'emphasis': 'high',\n",
    "            'indices': (\n",
    "                'RODRIGUES_THYROID_CARCINOMA_POORLY_DIFFERENTIATED_UP',\n",
    "                'MA_MYELOID_DIFFERENTIATION_UP',\n",
    "                'ADDYA_ERYTHROID_DIFFERENTIATION_BY_HEMIN',\n",
    "            ),\n",
    "        },\n",
    "    },\n",
    "}"
   ]
  },
  {
   "cell_type": "code",
   "execution_count": null,
   "metadata": {},
   "outputs": [],
   "source": [
    "for target, target_values in target_x_sample.iterrows():\n",
    "\n",
    "    target_values = target_values[target_values != -1]\n",
    "    \n",
    "    output_directory_path = '../output/highlight/{}'.format(target)\n",
    "\n",
    "    ccal.establish_path(\n",
    "        output_directory_path,\n",
    "        'directory',\n",
    "    )\n",
    "    \n",
    "    score = pd.read_table(\n",
    "        '../output/find_differentially_expressed_gene_set/{}/All Gene Sets.tsv'.format(target),\n",
    "        index_col=0,\n",
    "    )\n",
    "    \n",
    "    for title, feature_dicts in title_feature_dicts.items():\n",
    "        \n",
    "        for dict_ in feature_dicts.values():\n",
    "            \n",
    "            dict_['score'] = score\n",
    "        \n",
    "        ccal.make_summary_match_panel(\n",
    "            target_values,\n",
    "            feature_dicts,\n",
    "            target_ascending=None,\n",
    "            target_type='binary',\n",
    "            title='{}<br>{}'.format(\n",
    "                target,\n",
    "                title,\n",
    "            ),\n",
    "            plot_features_std_max=PLOT_FEATURES_STD_MAX,\n",
    "            html_file_path='{}/{}.html'.format(\n",
    "                output_directory_path,\n",
    "                title,\n",
    "            ),\n",
    "        )"
   ]
  },
  {
   "cell_type": "code",
   "execution_count": null,
   "metadata": {},
   "outputs": [],
   "source": []
  }
 ],
 "metadata": {
  "kernelspec": {
   "display_name": "Python 3",
   "language": "python",
   "name": "python3"
  },
  "language_info": {
   "codemirror_mode": {
    "name": "ipython",
    "version": 3
   },
   "file_extension": ".py",
   "mimetype": "text/x-python",
   "name": "python",
   "nbconvert_exporter": "python",
   "pygments_lexer": "ipython3",
   "version": "3.6.6"
  }
 },
 "nbformat": 4,
 "nbformat_minor": 2
}
