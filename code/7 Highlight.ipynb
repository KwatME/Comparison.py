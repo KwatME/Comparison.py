{
 "cells": [
  {
   "cell_type": "code",
   "execution_count": null,
   "metadata": {},
   "outputs": [],
   "source": [
    "%load_ext autoreload\n",
    "\n",
    "%autoreload 2"
   ]
  },
  {
   "cell_type": "code",
   "execution_count": null,
   "metadata": {},
   "outputs": [],
   "source": [
    "from environment import *\n",
    "\n",
    "from setting import *"
   ]
  },
  {
   "cell_type": "code",
   "execution_count": null,
   "metadata": {},
   "outputs": [],
   "source": [
    "target_x_sample = pd.read_table(\n",
    "    '../output/target_x_sample.tsv',\n",
    "    index_col=0,\n",
    ")"
   ]
  },
  {
   "cell_type": "code",
   "execution_count": null,
   "metadata": {},
   "outputs": [],
   "source": [
    "gene_set_x_sample__all = pd.read_table(\n",
    "    '../output/gene_set_x_sample/All Gene Sets.gene_set_x_sample.tsv',\n",
    "    index_col=0,\n",
    ")"
   ]
  },
  {
   "cell_type": "code",
   "execution_count": null,
   "metadata": {},
   "outputs": [],
   "source": [
    "title_feature_dicts = {\n",
    "    'Highlight 0': {\n",
    "        'YAP Signatures': {\n",
    "            'df': gene_set_x_sample__all,\n",
    "            'data_type': 'continuous',\n",
    "            'emphasis': 'high',\n",
    "            'indices': GENE_SET_TO_PEEK,\n",
    "        },\n",
    "    },\n",
    "}"
   ]
  },
  {
   "cell_type": "code",
   "execution_count": null,
   "metadata": {},
   "outputs": [],
   "source": [
    "for target, target_values in target_x_sample.iterrows():\n",
    "\n",
    "    target_values = target_values[target_values != -1]\n",
    "    \n",
    "    output_directory_path = '../output/highlight/{}'.format(target)\n",
    "\n",
    "    ccal.establish_path(\n",
    "        output_directory_path,\n",
    "        'directory',\n",
    "    )\n",
    "    \n",
    "    score = pd.read_table(\n",
    "        '../output/find_differentially_expressed_gene_set/{}/All Gene Sets.tsv'.format(target),\n",
    "        index_col=0,\n",
    "    )\n",
    "    \n",
    "    for title, feature_dicts in title_feature_dicts.items():\n",
    "        \n",
    "        for dict_ in feature_dicts.values():\n",
    "            \n",
    "            dict_['score'] = score\n",
    "        \n",
    "        ccal.make_summary_match_panel(\n",
    "            target_values,\n",
    "            feature_dicts,\n",
    "            target_ascending=TARGET_ASCENDING,\n",
    "            target_type=TARGET_TYPE,\n",
    "            title='{}<br>{}'.format(\n",
    "                target,\n",
    "                title,\n",
    "            ),\n",
    "            plot_features_std_max=PLOT_FEATURES_STD_MAX,\n",
    "            html_file_path='{}/{}.html'.format(\n",
    "                output_directory_path,\n",
    "                title,\n",
    "            ),\n",
    "        )"
   ]
  }
 ],
 "metadata": {
  "kernelspec": {
   "display_name": "Python 3",
   "language": "python",
   "name": "python3"
  },
  "language_info": {
   "codemirror_mode": {
    "name": "ipython",
    "version": 3
   },
   "file_extension": ".py",
   "mimetype": "text/x-python",
   "name": "python",
   "nbconvert_exporter": "python",
   "pygments_lexer": "ipython3",
   "version": "3.6.6"
  }
 },
 "nbformat": 4,
 "nbformat_minor": 2
}
