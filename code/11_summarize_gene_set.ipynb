{
 "cells": [
  {
   "cell_type": "code",
   "execution_count": null,
   "metadata": {},
   "outputs": [],
   "source": [
    "%load_ext autoreload\n",
    "%autoreload 2"
   ]
  },
  {
   "cell_type": "code",
   "execution_count": null,
   "metadata": {},
   "outputs": [],
   "source": [
    "from environment import *\n",
    "\n",
    "with open(\"setting.yaml\") as yaml_file:\n",
    "\n",
    "    SETTING = yaml.load(yaml_file)\n",
    "\n",
    "PATH = make_path_dict(SETTING)"
   ]
  },
  {
   "cell_type": "code",
   "execution_count": null,
   "metadata": {},
   "outputs": [],
   "source": [
    "target_x_sample = pd.read_csv(PATH[\"target_x_sample.tsv\"], sep=\"\\t\", index_col=0)\n",
    "\n",
    "gene_set_x_sample = pd.read_csv(PATH[\"gene_set_x_sample.tsv\"], sep=\"\\t\", index_col=0)"
   ]
  },
  {
   "cell_type": "code",
   "execution_count": null,
   "metadata": {},
   "outputs": [],
   "source": [
    "figure_name_data_name_indices = {\"Summary\": {\"Peek\": SETTING[\"gene_sets_to_peek\"]}}"
   ]
  },
  {
   "cell_type": "code",
   "execution_count": null,
   "metadata": {},
   "outputs": [],
   "source": [
    "for target_name, target_values in target_x_sample.iterrows():\n",
    "\n",
    "    target_values = target_values[target_values != -1]\n",
    "\n",
    "    if target_values.value_counts().min() < 2:\n",
    "\n",
    "        continue\n",
    "\n",
    "    output_directory_path = os.path.join(PATH[\"summarize_gene_set/\"], target_name)\n",
    "\n",
    "    ccal.establish_path(output_directory_path, \"directory\")\n",
    "\n",
    "    for figure_name, data_name_indices in figure_name_data_name_indices.items():\n",
    "\n",
    "        data_dicts = {}\n",
    "\n",
    "        score_moe_p_value_fdr_dicts = {}\n",
    "\n",
    "        for data_name, indices in data_name_indices.items():\n",
    "\n",
    "            data_dicts[data_name] = {\n",
    "                \"dataframe\": gene_set_x_sample.loc[indices],\n",
    "                \"type\": \"continuous\",\n",
    "            }\n",
    "\n",
    "            score_moe_p_value_fdr_dicts[data_name] = pd.read_csv(\n",
    "                os.path.join(\n",
    "                    PATH[\"find_differentially_expressed_gene_set/\"],\n",
    "                    target_name,\n",
    "                    \"all.tsv\",\n",
    "                ),\n",
    "                sep=\"\\t\",\n",
    "                index_col=0,\n",
    "            )\n",
    "\n",
    "        ccal.make_summary_match_panel(\n",
    "            target_values,\n",
    "            data_dicts,\n",
    "            score_moe_p_value_fdr_dicts,\n",
    "            target_type=\"binary\",\n",
    "            plot_std=SETTING[\"plot_std\"],\n",
    "            title={\"text\": figure_name},\n",
    "            html_file_path=os.path.join(\n",
    "                output_directory_path, \"{}.html\".format(figure_name)\n",
    "            ),\n",
    "        )"
   ]
  }
 ],
 "metadata": {
  "kernelspec": {
   "display_name": "Python 3",
   "language": "python",
   "name": "python3"
  },
  "language_info": {
   "codemirror_mode": {
    "name": "ipython",
    "version": 3
   },
   "file_extension": ".py",
   "mimetype": "text/x-python",
   "name": "python",
   "nbconvert_exporter": "python",
   "pygments_lexer": "ipython3",
   "version": "3.6.7"
  }
 },
 "nbformat": 4,
 "nbformat_minor": 2
}
