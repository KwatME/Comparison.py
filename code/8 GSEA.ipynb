{
 "cells": [
  {
   "cell_type": "code",
   "execution_count": null,
   "metadata": {},
   "outputs": [],
   "source": [
    "%load_ext autoreload\n",
    "\n",
    "%autoreload 2"
   ]
  },
  {
   "cell_type": "code",
   "execution_count": null,
   "metadata": {},
   "outputs": [],
   "source": [
    "from environment import *\n",
    "\n",
    "from setting import *"
   ]
  },
  {
   "cell_type": "code",
   "execution_count": null,
   "metadata": {},
   "outputs": [],
   "source": [
    "target_x_sample = pd.read_table(\n",
    "    '../output/target_x_sample.tsv',\n",
    "    index_col=0,\n",
    ")"
   ]
  },
  {
   "cell_type": "code",
   "execution_count": null,
   "metadata": {},
   "outputs": [],
   "source": [
    "gene_x_sample = pd.read_table(\n",
    "    '../output/gene_x_sample__processed.tsv',\n",
    "    index_col=0,\n",
    ")"
   ]
  },
  {
   "cell_type": "code",
   "execution_count": null,
   "metadata": {},
   "outputs": [],
   "source": [
    "gene_set_file_paths = tuple('../data/gene_set/{}'.format(file_name) for file_name in os.listdir('../data/gene_set'))\n",
    "\n",
    "gene_set_file_paths"
   ]
  },
  {
   "cell_type": "code",
   "execution_count": null,
   "metadata": {},
   "outputs": [],
   "source": [
    "gene_sets = ccal.read_gmts(gene_set_file_paths)"
   ]
  },
  {
   "cell_type": "code",
   "execution_count": null,
   "metadata": {},
   "outputs": [],
   "source": [
    "from scipy.stats import pearsonr\n",
    "\n",
    "\n",
    "def function(\n",
    "    gene_x_sample_row,\n",
    "    target,\n",
    "):\n",
    "   \n",
    "    return pearsonr(\n",
    "        gene_x_sample_row,\n",
    "        target,\n",
    "    )[0]"
   ]
  },
  {
   "cell_type": "code",
   "execution_count": null,
   "metadata": {},
   "outputs": [],
   "source": [
    "for target, target_values in target_x_sample.iterrows():\n",
    "\n",
    "    target_values = target_values[target_values != -1]\n",
    "    \n",
    "    output_directory_path = '../output/gsea/{}'.format(target)\n",
    "\n",
    "    ccal.establish_path(\n",
    "        output_directory_path,\n",
    "        'directory',\n",
    "    )\n",
    "    \n",
    "    gene_x_target_sample = gene_x_sample[target_values.index]\n",
    "    \n",
    "    gene_x_target_sample = pd.DataFrame(\n",
    "        ccal.normalize_nd_array(\n",
    "            gene_x_target_sample.values,\n",
    "            0,\n",
    "            '-0-',\n",
    "            raise_for_bad_value=False,\n",
    "        ),\n",
    "        index=gene_x_target_sample.index,\n",
    "        columns=gene_x_target_sample.columns,\n",
    "    )\n",
    "    \n",
    "    for gene_set in (\n",
    "        'Normal Stem Cell',\n",
    "        'Cancer Stem Cell',\n",
    "        'HALLMARK_WNT_BETA_CATENIN_SIGNALING',\n",
    "    ):\n",
    "        \n",
    "        score, p_value = ccal.gsea(\n",
    "            gene_x_target_sample,\n",
    "            target_values,\n",
    "            gene_sets.loc[gene_set],\n",
    "            function,\n",
    "            title='{}: {}'.format(\n",
    "                target,\n",
    "                gene_set,\n",
    "            ),\n",
    "            gene_score_name='Correlation',\n",
    "            html_file_path='{}/{}.html'.format(\n",
    "                output_directory_path,\n",
    "                gene_set,\n",
    "            ),\n",
    "        )"
   ]
  }
 ],
 "metadata": {
  "kernelspec": {
   "display_name": "Python 3",
   "language": "python",
   "name": "python3"
  },
  "language_info": {
   "codemirror_mode": {
    "name": "ipython",
    "version": 3
   },
   "file_extension": ".py",
   "mimetype": "text/x-python",
   "name": "python",
   "nbconvert_exporter": "python",
   "pygments_lexer": "ipython3",
   "version": "3.6.6"
  }
 },
 "nbformat": 4,
 "nbformat_minor": 2
}
