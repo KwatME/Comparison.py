{
 "cells": [
  {
   "cell_type": "code",
   "execution_count": null,
   "metadata": {},
   "outputs": [],
   "source": [
    "%load_ext autoreload\n",
    "%autoreload 2"
   ]
  },
  {
   "cell_type": "code",
   "execution_count": null,
   "metadata": {},
   "outputs": [],
   "source": [
    "from environment import *\n",
    "\n",
    "with open(\"setting.yaml\") as yaml_file:\n",
    "\n",
    "    SETTING = yaml.load(yaml_file)\n",
    "\n",
    "PATH = make_path_dict(SETTING)"
   ]
  },
  {
   "cell_type": "code",
   "execution_count": null,
   "metadata": {},
   "outputs": [],
   "source": [
    "target_x_sample = pd.read_csv(PATH[\"target_x_sample.tsv\"], sep=\"\\t\", index_col=0)"
   ]
  },
  {
   "cell_type": "code",
   "execution_count": null,
   "metadata": {},
   "outputs": [],
   "source": [
    "groups = {\n",
    "    \"Peek\": {\"gene_sets\": SETTING[\"gene_sets_to_peek\"], \"size\": 12, \"color\": \"#20d9ba\"}\n",
    "}"
   ]
  },
  {
   "cell_type": "code",
   "execution_count": null,
   "metadata": {},
   "outputs": [],
   "source": [
    "def plot_hill(score_p_value, groups, name):\n",
    "\n",
    "    score_p_value.sort_values(\"Score\", inplace=True)\n",
    "\n",
    "    xs = [1 - score_p_value[\"P-Value\"]]\n",
    "\n",
    "    ys = [score_p_value[\"Score\"]]\n",
    "\n",
    "    names = [name]\n",
    "\n",
    "    markers = [dict(color=\"#d0d0d0\", size=3.2)]\n",
    "\n",
    "    texts = [score_p_value.index]\n",
    "\n",
    "    for group_name, group in groups.items():\n",
    "\n",
    "        group_gene_sets = group[\"gene_sets\"]\n",
    "\n",
    "        score_p_value__peek = score_p_value.loc[\n",
    "            [gene_set in group_gene_sets for gene_set in score_p_value.index]\n",
    "        ]\n",
    "\n",
    "        xs.append(1 - score_p_value__peek[\"P-Value\"])\n",
    "\n",
    "        ys.append(score_p_value__peek[\"Score\"])\n",
    "\n",
    "        names.append(group_name)\n",
    "\n",
    "        texts.append(score_p_value__peek.index)\n",
    "\n",
    "        markers.append(dict(size=group[\"size\"], color=group[\"color\"]))\n",
    "\n",
    "    ccal.plot_points(\n",
    "        xs,\n",
    "        ys,\n",
    "        names=names,\n",
    "        modes=(\"lines\",) + (\"markers\",) * len(names),\n",
    "        texts=texts,\n",
    "        markers=markers,\n",
    "        title=\"{}<br>{}\".format(target_name, name),\n",
    "        xaxis_title=\"1 - P-Value\",\n",
    "        yaxis_title=\"Gene Set Score\",\n",
    "        html_file_path=\"{}/{}\".format(output_directory_path, name),\n",
    "    )"
   ]
  },
  {
   "cell_type": "code",
   "execution_count": null,
   "metadata": {},
   "outputs": [],
   "source": [
    "for target_name in target_x_sample.index:\n",
    "\n",
    "    output_directory_path = \"{}/{}\".format(\n",
    "        PATH[\"compare_differentially_expressed_gene_set/\"], target_name\n",
    "    )\n",
    "\n",
    "    ccal.establish_path(output_directory_path, \"directory\")\n",
    "\n",
    "    score_moe_p_value_fdr = pd.read_csv(\n",
    "        \"{}/{}/all.tsv\".format(\n",
    "            PATH[\"find_differentially_expressed_gene_set/\"], target_name\n",
    "        ),\n",
    "        sep=\"\\t\",\n",
    "        index_col=0,\n",
    "    )\n",
    "\n",
    "    plot_hill(score_moe_p_value_fdr, groups, \"All\")\n",
    "\n",
    "    for gene_set_file_path in SETTING[\"gene_set_file_paths\"]:\n",
    "\n",
    "        plot_hill(\n",
    "            score_moe_p_value_fdr.reindex(ccal.read_gmt(gene_set_file_path).index),\n",
    "            groups,\n",
    "            gene_set_file_path.split(\"/\")[-1],\n",
    "        )"
   ]
  }
 ],
 "metadata": {
  "kernelspec": {
   "display_name": "Python 3",
   "language": "python",
   "name": "python3"
  },
  "language_info": {
   "codemirror_mode": {
    "name": "ipython",
    "version": 3
   },
   "file_extension": ".py",
   "mimetype": "text/x-python",
   "name": "python",
   "nbconvert_exporter": "python",
   "pygments_lexer": "ipython3",
   "version": "3.6.7"
  }
 },
 "nbformat": 4,
 "nbformat_minor": 2
}
