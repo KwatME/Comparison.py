{
 "cells": [
  {
   "cell_type": "code",
   "execution_count": 1,
   "metadata": {
    "ExecuteTime": {
     "end_time": "2018-07-10T08:40:00.650547Z",
     "start_time": "2018-07-10T08:40:00.635853Z"
    }
   },
   "outputs": [],
   "source": [
    "%load_ext autoreload\n",
    "%autoreload 2"
   ]
  },
  {
   "cell_type": "code",
   "execution_count": 2,
   "metadata": {
    "ExecuteTime": {
     "end_time": "2018-07-10T08:40:02.540703Z",
     "start_time": "2018-07-10T08:40:00.652198Z"
    }
   },
   "outputs": [
    {
     "name": "stdout",
     "output_type": "stream",
     "text": [
      "CCAL version 0.9.1 @ /home/kwatme/github/ccal/ccal/__init__.py\n"
     ]
    },
    {
     "data": {
      "text/html": [
       "<script type=\"text/javascript\">window.PlotlyConfig = {MathJaxConfig: 'local'};</script><script type=\"text/javascript\">if (window.MathJax) {MathJax.Hub.Config({SVG: {font: \"STIX-Web\"}});}</script><script>requirejs.config({paths: { 'plotly': ['https://cdn.plot.ly/plotly-latest.min']},});if(!window._Plotly) {require(['plotly'],function(plotly) {window._Plotly=plotly;});}</script>"
      ],
      "text/vnd.plotly.v1+html": [
       "<script type=\"text/javascript\">window.PlotlyConfig = {MathJaxConfig: 'local'};</script><script type=\"text/javascript\">if (window.MathJax) {MathJax.Hub.Config({SVG: {font: \"STIX-Web\"}});}</script><script>requirejs.config({paths: { 'plotly': ['https://cdn.plot.ly/plotly-latest.min']},});if(!window._Plotly) {require(['plotly'],function(plotly) {window._Plotly=plotly;});}</script>"
      ]
     },
     "metadata": {},
     "output_type": "display_data"
    }
   ],
   "source": [
    "from environment import *\n",
    "\n",
    "with open(\"setting.yaml\") as yaml_file:\n",
    "\n",
    "    SETTING = yaml.load(yaml_file)\n",
    "\n",
    "PATH = make_path_dict(SETTING)"
   ]
  },
  {
   "cell_type": "code",
   "execution_count": 3,
   "metadata": {},
   "outputs": [],
   "source": [
    "gene_x_sample = pd.read_csv(PATH[\"gene_x_sample_file_path\"], sep=\"\\t\", index_col=0)\n",
    "\n",
    "target_x_sample = pd.read_csv(PATH[\"target_x_sample_file_path\"], sep=\"\\t\", index_col=0)"
   ]
  },
  {
   "cell_type": "code",
   "execution_count": 4,
   "metadata": {},
   "outputs": [],
   "source": [
    "def compute_log_ratio(logged_values, target):\n",
    "\n",
    "    return logged_values[target == 1].mean() - logged_values[target == 0].mean()"
   ]
  },
  {
   "cell_type": "code",
   "execution_count": 5,
   "metadata": {
    "scrolled": false
   },
   "outputs": [
    {
     "name": "stdout",
     "output_type": "stream",
     "text": [
      "target.index (6) & data.columns (12) have 6 in common.\n",
      "Computing score using compute_information_coefficient with 32 process ...\n",
      "Computing MoE with 10 sampling ...\n",
      "Computing p-value and FDR with 10 permutation ...\n",
      "Computing p-value and FDR with 10 permutation ...\n",
      "Computing p-value and FDR with 10 permutation ...\n",
      "Computing p-value and FDR with 10 permutation ...\n",
      "Computing p-value and FDR with 10 permutation ...\n",
      "Computing p-value and FDR with 10 permutation ...\n",
      "Computing p-value and FDR with 10 permutation ...\n",
      "Computing p-value and FDR with 10 permutation ...\n",
      "Computing p-value and FDR with 10 permutation ...\n",
      "Computing p-value and FDR with 10 permutation ...\n",
      "Computing p-value and FDR with 10 permutation ...\n",
      "Computing p-value and FDR with 10 permutation ...\n",
      "Computing p-value and FDR with 10 permutation ...\n",
      "Computing p-value and FDR with 10 permutation ...\n",
      "Computing p-value and FDR with 10 permutation ...\n",
      "Computing p-value and FDR with 10 permutation ...\n",
      "Computing p-value and FDR with 10 permutation ...\n",
      "Computing p-value and FDR with 10 permutation ...\n",
      "Computing p-value and FDR with 10 permutation ...\n",
      "Computing p-value and FDR with 10 permutation ...\n",
      "Computing p-value and FDR with 10 permutation ...\n",
      "Computing p-value and FDR with 10 permutation ...\n",
      "Computing p-value and FDR with 10 permutation ...\n",
      "Computing p-value and FDR with 10 permutation ...\n",
      "Computing p-value and FDR with 10 permutation ...\n",
      "Computing p-value and FDR with 10 permutation ...\n",
      "Computing p-value and FDR with 10 permutation ...\n",
      "Computing p-value and FDR with 10 permutation ...\n",
      "Computing p-value and FDR with 10 permutation ...\n",
      "Computing p-value and FDR with 10 permutation ...\n",
      "Computing p-value and FDR with 10 permutation ...\n",
      "Computing p-value and FDR with 10 permutation ...\n",
      "(array([0.31500118, 0.07482587, 0.02063492, ..., 0.38388534, 0.27729448,\n",
      "       0.23685856]), array([0.6998    , 0.55139665, 0.25071963, ..., 0.95953365, 0.9417243 ,\n",
      "       0.61874768]))\n"
     ]
    },
    {
     "ename": "AttributeError",
     "evalue": "'tuple' object has no attribute 'shape'",
     "output_type": "error",
     "traceback": [
      "\u001b[0;31m---------------------------------------------------------------------------\u001b[0m",
      "\u001b[0;31mAttributeError\u001b[0m                            Traceback (most recent call last)",
      "\u001b[0;32m<ipython-input-5-5891d8019356>\u001b[0m in \u001b[0;36m<module>\u001b[0;34m\u001b[0m\n\u001b[1;32m     24\u001b[0m         \u001b[0mtitle\u001b[0m\u001b[0;34m=\u001b[0m\u001b[0;34m\"All\"\u001b[0m\u001b[0;34m,\u001b[0m\u001b[0;34m\u001b[0m\u001b[0;34m\u001b[0m\u001b[0m\n\u001b[1;32m     25\u001b[0m         \u001b[0mfile_path_prefix\u001b[0m\u001b[0;34m=\u001b[0m\u001b[0;34m\"{}/all\"\u001b[0m\u001b[0;34m.\u001b[0m\u001b[0mformat\u001b[0m\u001b[0;34m(\u001b[0m\u001b[0moutput_directory_path\u001b[0m\u001b[0;34m)\u001b[0m\u001b[0;34m,\u001b[0m\u001b[0;34m\u001b[0m\u001b[0;34m\u001b[0m\u001b[0m\n\u001b[0;32m---> 26\u001b[0;31m         \u001b[0;34m**\u001b[0m\u001b[0mmake_match_panel_keyword_arguments\u001b[0m\u001b[0;34m,\u001b[0m\u001b[0;34m\u001b[0m\u001b[0;34m\u001b[0m\u001b[0m\n\u001b[0m\u001b[1;32m     27\u001b[0m     )\n\u001b[1;32m     28\u001b[0m \u001b[0;34m\u001b[0m\u001b[0m\n",
      "\u001b[0;32m~/github/ccal/ccal/make_match_panel.py\u001b[0m in \u001b[0;36mmake_match_panel\u001b[0;34m(target, data, target_ascending, score_moe_p_value_fdr, n_job, match_function, n_required_for_match_function, raise_for_n_less_than_required, n_extreme, fraction_extreme, random_seed, n_sampling, n_permutation, score_ascending, plot_only_sign, target_type, cluster_within_category, data_type, plot_std, title, layout_width, row_height, layout_side_margin, annotation_font_size, file_path_prefix, plotly_html_file_path_prefix)\u001b[0m\n\u001b[1;32m     80\u001b[0m             \u001b[0mrandom_seed\u001b[0m\u001b[0;34m,\u001b[0m\u001b[0;34m\u001b[0m\u001b[0;34m\u001b[0m\u001b[0m\n\u001b[1;32m     81\u001b[0m             \u001b[0mn_sampling\u001b[0m\u001b[0;34m,\u001b[0m\u001b[0;34m\u001b[0m\u001b[0;34m\u001b[0m\u001b[0m\n\u001b[0;32m---> 82\u001b[0;31m             \u001b[0mn_permutation\u001b[0m\u001b[0;34m,\u001b[0m\u001b[0;34m\u001b[0m\u001b[0;34m\u001b[0m\u001b[0m\n\u001b[0m\u001b[1;32m     83\u001b[0m         )\n\u001b[1;32m     84\u001b[0m \u001b[0;34m\u001b[0m\u001b[0m\n",
      "\u001b[0;32m~/github/ccal/ccal/_match.py\u001b[0m in \u001b[0;36m_match\u001b[0;34m(target, data, n_job, match_function, n_required_for_match_function, raise_for_n_less_than_required, n_extreme, fraction_extreme, random_seed, n_sampling, n_permutation)\u001b[0m\n\u001b[1;32m    103\u001b[0m     \u001b[0mprint\u001b[0m\u001b[0;34m(\u001b[0m\u001b[0ma\u001b[0m\u001b[0;34m)\u001b[0m\u001b[0;34m\u001b[0m\u001b[0;34m\u001b[0m\u001b[0m\n\u001b[1;32m    104\u001b[0m \u001b[0;34m\u001b[0m\u001b[0m\n\u001b[0;32m--> 105\u001b[0;31m     \u001b[0mprint\u001b[0m\u001b[0;34m(\u001b[0m\u001b[0ma\u001b[0m\u001b[0;34m.\u001b[0m\u001b[0mshape\u001b[0m\u001b[0;34m)\u001b[0m\u001b[0;34m\u001b[0m\u001b[0;34m\u001b[0m\u001b[0m\n\u001b[0m\u001b[1;32m    106\u001b[0m \u001b[0;34m\u001b[0m\u001b[0m\n\u001b[1;32m    107\u001b[0m     \u001b[0mscore_moe_p_value_fdr\u001b[0m\u001b[0;34m[\u001b[0m\u001b[0;34m[\u001b[0m\u001b[0;34m\"P-Value\"\u001b[0m\u001b[0;34m,\u001b[0m \u001b[0;34m\"FDR\"\u001b[0m\u001b[0;34m]\u001b[0m\u001b[0;34m]\u001b[0m \u001b[0;34m=\u001b[0m \u001b[0ma\u001b[0m\u001b[0;34m\u001b[0m\u001b[0;34m\u001b[0m\u001b[0m\n",
      "\u001b[0;31mAttributeError\u001b[0m: 'tuple' object has no attribute 'shape'"
     ]
    }
   ],
   "source": [
    "make_match_panel_keyword_arguments = dict(\n",
    "    target_ascending=SETTING[\"target_ascending\"],\n",
    "    n_job=SETTING[\"n_job\"],\n",
    "    n_sampling=SETTING[\"n_sampling\"],\n",
    "    n_permutation=SETTING[\"n_permutation\"],\n",
    "    target_type=SETTING[\"target_type\"],\n",
    "    plot_std=SETTING[\"plot_std\"],\n",
    ")\n",
    "\n",
    "for target_name, target_values in target_x_sample.iterrows():\n",
    "\n",
    "    output_directory_path = \"{}/{}\".format(\n",
    "        PATH[\"differentially_expressed_gene_directory_path\"], target_name\n",
    "    )\n",
    "\n",
    "    ccal.establish_path(output_directory_path, \"directory\")\n",
    "\n",
    "    target_values = target_values[target_values != -1]\n",
    "\n",
    "    score_moe_p_value_fdr = ccal.make_match_panel(\n",
    "        target_values,\n",
    "        gene_x_sample,\n",
    "        n_extreme=SETTING[\"n_extreme\"],\n",
    "        title=\"All\",\n",
    "        file_path_prefix=\"{}/all\".format(output_directory_path),\n",
    "        **make_match_panel_keyword_arguments,\n",
    "    )\n",
    "    \n",
    "    raise\n",
    "\n",
    "    score_moe_p_value_fdr_ = ccal.make_match_panel(\n",
    "        target_values,\n",
    "        gene_x_sample.reindex(SETTING[\"genes_to_peek\"]),\n",
    "        score_moe_p_value_fdr=score_moe_p_value_fdr,\n",
    "        n_extreme=None,\n",
    "        title=\"Peek\",\n",
    "        file_path_prefix=\"{}/peek\".format(output_directory_path),\n",
    "        **make_match_panel_keyword_arguments,\n",
    "    )\n",
    "\n",
    "    score_moe_p_value_fdr__log_ratio = ccal.make_match_panel(\n",
    "        target_values,\n",
    "        gene_x_sample,\n",
    "        match_function=compute_log_ratio,\n",
    "        n_extreme=SETTING[\"n_extreme\"],\n",
    "        title=\"All (Log Ratio)\",\n",
    "        file_path_prefix=\"{}/all__log_ratio\".format(output_directory_path),\n",
    "        **make_match_panel_keyword_arguments,\n",
    "    )\n",
    "\n",
    "    score_moe_p_value_fdr__log_ratio_ = ccal.make_match_panel(\n",
    "        target_values,\n",
    "        gene_x_sample.reindex(SETTING[\"genes_to_peek\"]),\n",
    "        score_moe_p_value_fdr=score_moe_p_value_fdr__log_ratio,\n",
    "        n_extreme=None,\n",
    "        title=\"Peek (Log Ratio)\",\n",
    "        file_path_prefix=\"{}/peek__log_ratio\".format(output_directory_path),\n",
    "        **make_match_panel_keyword_arguments,\n",
    "    )"
   ]
  }
 ],
 "metadata": {
  "kernelspec": {
   "display_name": "Python 3",
   "language": "python",
   "name": "python3"
  },
  "language_info": {
   "codemirror_mode": {
    "name": "ipython",
    "version": 3
   },
   "file_extension": ".py",
   "mimetype": "text/x-python",
   "name": "python",
   "nbconvert_exporter": "python",
   "pygments_lexer": "ipython3",
   "version": "3.6.7"
  }
 },
 "nbformat": 4,
 "nbformat_minor": 2
}
