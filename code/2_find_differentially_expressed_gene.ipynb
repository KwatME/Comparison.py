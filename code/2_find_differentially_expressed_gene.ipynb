{
 "cells": [
  {
   "cell_type": "code",
   "execution_count": null,
   "metadata": {
    "ExecuteTime": {
     "end_time": "2018-07-10T08:40:00.650547Z",
     "start_time": "2018-07-10T08:40:00.635853Z"
    }
   },
   "outputs": [],
   "source": [
    "%load_ext autoreload\n",
    "\n",
    "%autoreload 2"
   ]
  },
  {
   "cell_type": "code",
   "execution_count": null,
   "metadata": {
    "ExecuteTime": {
     "end_time": "2018-07-10T08:40:02.540703Z",
     "start_time": "2018-07-10T08:40:00.652198Z"
    }
   },
   "outputs": [],
   "source": [
    "from environment import *\n",
    "\n",
    "from setting import *"
   ]
  },
  {
   "cell_type": "code",
   "execution_count": null,
   "metadata": {},
   "outputs": [],
   "source": [
    "target_x_sample = pd.read_table(\n",
    "    '../output/target_x_sample.tsv',\n",
    "    index_col=0,\n",
    ")"
   ]
  },
  {
   "cell_type": "code",
   "execution_count": null,
   "metadata": {
    "ExecuteTime": {
     "end_time": "2018-07-10T08:40:02.659677Z",
     "start_time": "2018-07-10T08:40:02.543406Z"
    }
   },
   "outputs": [],
   "source": [
    "gene_x_sample = pd.read_table(\n",
    "    '../output/gene_x_sample__processed.tsv',\n",
    "    index_col=0,\n",
    ")"
   ]
  },
  {
   "cell_type": "code",
   "execution_count": null,
   "metadata": {},
   "outputs": [],
   "source": [
    "feature_dicts = {\n",
    "    'All Genes': {\n",
    "        'df': gene_x_sample,\n",
    "        'data_type': 'continuous',\n",
    "        'emphasis': 'high',\n",
    "    },\n",
    "    'Gene to Peek': {\n",
    "        'df': gene_x_sample.loc[gene_x_sample.index & set(GENE_TO_PEEK)],\n",
    "        'data_type': 'continuous',\n",
    "        'emphasis': 'high',\n",
    "    },\n",
    "}"
   ]
  },
  {
   "cell_type": "code",
   "execution_count": null,
   "metadata": {},
   "outputs": [],
   "source": [
    "ccal.make_match_panels(\n",
    "    target_x_sample, \n",
    "    feature_dicts,\n",
    "    drop_negative_target=DROP_NEGATIVE_TARGET,\n",
    "    target_ascending=TARGET_ASCENDING,\n",
    "    n_job=N_JOB,\n",
    "    extreme_feature_threshold=EXTREME_FEATURE_THRESHOLD,\n",
    "    n_sampling=N_SAMPLING,\n",
    "    n_permutation=N_PERMUTATION,\n",
    "    target_type=TARGET_TYPE,\n",
    "    plot_features_std_max=PLOT_FEATURES_STD_MAX,\n",
    "    directory_path='../output/find_differentially_expressed_gene',\n",
    "    overwrite=OVERWRITE,\n",
    ")"
   ]
  },
  {
   "cell_type": "code",
   "execution_count": null,
   "metadata": {},
   "outputs": [],
   "source": [
    "def match_function(\n",
    "    values,\n",
    "    target,\n",
    "):\n",
    "\n",
    "    before = values[target == 0].mean()\n",
    "    \n",
    "    after = values[target == 1].mean()\n",
    "    \n",
    "    return after - before"
   ]
  },
  {
   "cell_type": "code",
   "execution_count": null,
   "metadata": {},
   "outputs": [],
   "source": [
    "ccal.make_match_panels(\n",
    "    target_x_sample,\n",
    "    feature_dicts,\n",
    "    drop_negative_target=DROP_NEGATIVE_TARGET,\n",
    "    target_ascending=TARGET_ASCENDING,\n",
    "    n_job=N_JOB,\n",
    "    match_function=match_function,\n",
    "    n_required_for_match_function=1,\n",
    "    extreme_feature_threshold=EXTREME_FEATURE_THRESHOLD,\n",
    "    n_sampling=N_SAMPLING,\n",
    "    n_permutation=N_PERMUTATION,\n",
    "    target_type=TARGET_TYPE,\n",
    "    plot_features_std_max=PLOT_FEATURES_STD_MAX,\n",
    "    directory_path='../output/find_differentially_expressed_gene_by_ratio',\n",
    "    overwrite=OVERWRITE,\n",
    ")"
   ]
  }
 ],
 "metadata": {
  "kernelspec": {
   "display_name": "Python 3",
   "language": "python",
   "name": "python3"
  },
  "language_info": {
   "codemirror_mode": {
    "name": "ipython",
    "version": 3
   },
   "file_extension": ".py",
   "mimetype": "text/x-python",
   "name": "python",
   "nbconvert_exporter": "python",
   "pygments_lexer": "ipython3",
   "version": "3.6.6"
  }
 },
 "nbformat": 4,
 "nbformat_minor": 2
}
