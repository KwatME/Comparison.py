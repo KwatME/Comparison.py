{
 "cells": [
  {
   "cell_type": "code",
   "execution_count": null,
   "metadata": {
    "ExecuteTime": {
     "end_time": "2018-07-10T08:40:00.650547Z",
     "start_time": "2018-07-10T08:40:00.635853Z"
    }
   },
   "outputs": [],
   "source": [
    "%load_ext autoreload\n",
    "%autoreload 2"
   ]
  },
  {
   "cell_type": "code",
   "execution_count": null,
   "metadata": {
    "ExecuteTime": {
     "end_time": "2018-07-10T08:40:02.540703Z",
     "start_time": "2018-07-10T08:40:00.652198Z"
    }
   },
   "outputs": [],
   "source": [
    "from environment import *\n",
    "\n",
    "with open(\"setting.yaml\") as yaml_file:\n",
    "\n",
    "    SETTING = yaml.load(yaml_file)\n",
    "\n",
    "PATH = make_path_dict(SETTING)"
   ]
  },
  {
   "cell_type": "code",
   "execution_count": null,
   "metadata": {},
   "outputs": [],
   "source": [
    "gene_x_sample = pd.read_csv(PATH[\"gene_x_sample.processed.tsv\"], sep=\"\\t\", index_col=0)\n",
    "\n",
    "target_x_sample = pd.read_csv(PATH[\"target_x_sample.tsv\"], sep=\"\\t\", index_col=0)"
   ]
  },
  {
   "cell_type": "code",
   "execution_count": null,
   "metadata": {},
   "outputs": [],
   "source": [
    "def compute_log_ratio(logged_values, target):\n",
    "\n",
    "    return logged_values[target == 1].mean() - logged_values[target == 0].mean()"
   ]
  },
  {
   "cell_type": "code",
   "execution_count": null,
   "metadata": {},
   "outputs": [],
   "source": [
    "make_match_panel_keyword_arguments = dict(\n",
    "    n_job=SETTING[\"n_job\"],\n",
    "    n_sampling=SETTING[\"n_sampling\"],\n",
    "    n_permutation=SETTING[\"n_permutation\"],\n",
    "    target_type=\"binary\",\n",
    "    plot_std=SETTING[\"plot_std\"],\n",
    ")\n",
    "\n",
    "for target_name, target_values in target_x_sample.iterrows():\n",
    "\n",
    "    output_directory_path = \"{}/{}\".format(\n",
    "        PATH[\"differentially_expressed_gene/\"], target_name\n",
    "    )\n",
    "\n",
    "    ccal.establish_path(output_directory_path, \"directory\")\n",
    "\n",
    "    target_values = target_values[target_values != -1]\n",
    "\n",
    "    file_path_prefix = \"{}/all\".format(output_directory_path)\n",
    "\n",
    "    ccal.make_match_panel(\n",
    "        target_values,\n",
    "        gene_x_sample,\n",
    "        n_extreme=SETTING[\"n_extreme\"],\n",
    "        title=\"All\",\n",
    "        file_path_prefix=file_path_prefix,\n",
    "        **make_match_panel_keyword_arguments,\n",
    "    )\n",
    "\n",
    "    ccal.make_match_panel(\n",
    "        target_values,\n",
    "        gene_x_sample.reindex(SETTING[\"genes_to_peek\"]),\n",
    "        score_moe_p_value_fdr=pd.read_csv(\n",
    "            \"{}.tsv\".format(file_path_prefix), sep=\"\\t\", index_col=0\n",
    "        ),\n",
    "        n_extreme=None,\n",
    "        title=\"Peek\",\n",
    "        file_path_prefix=\"{}/peek\".format(output_directory_path),\n",
    "        **make_match_panel_keyword_arguments,\n",
    "    )\n",
    "\n",
    "    file_path_prefix = \"{}/all.log_ratio\".format(output_directory_path)\n",
    "\n",
    "    ccal.make_match_panel(\n",
    "        target_values,\n",
    "        gene_x_sample,\n",
    "        match_function=compute_log_ratio,\n",
    "        n_extreme=SETTING[\"n_extreme\"],\n",
    "        title=\"All (Log Ratio)\",\n",
    "        file_path_prefix=file_path_prefix,\n",
    "        **make_match_panel_keyword_arguments,\n",
    "    )\n",
    "\n",
    "    ccal.make_match_panel(\n",
    "        target_values,\n",
    "        gene_x_sample.reindex(SETTING[\"genes_to_peek\"]),\n",
    "        score_moe_p_value_fdr=pd.read_csv(\n",
    "            \"{}.tsv\".format(file_path_prefix), sep=\"\\t\", index_col=0\n",
    "        ),\n",
    "        n_extreme=None,\n",
    "        title=\"Peek (Log Ratio)\",\n",
    "        file_path_prefix=\"{}/peek.log_ratio\".format(output_directory_path),\n",
    "        **make_match_panel_keyword_arguments,\n",
    "    )"
   ]
  }
 ],
 "metadata": {
  "kernelspec": {
   "display_name": "Python 3",
   "language": "python",
   "name": "python3"
  },
  "language_info": {
   "codemirror_mode": {
    "name": "ipython",
    "version": 3
   },
   "file_extension": ".py",
   "mimetype": "text/x-python",
   "name": "python",
   "nbconvert_exporter": "python",
   "pygments_lexer": "ipython3",
   "version": "3.6.7"
  }
 },
 "nbformat": 4,
 "nbformat_minor": 2
}
