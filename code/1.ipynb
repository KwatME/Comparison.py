{
 "cells": [
  {
   "cell_type": "code",
   "execution_count": null,
   "metadata": {
    "execution": {
     "iopub.execute_input": "2021-06-01T06:58:43.887958Z",
     "iopub.status.busy": "2021-06-01T06:58:43.887213Z",
     "iopub.status.idle": "2021-06-01T06:58:43.900014Z",
     "shell.execute_reply": "2021-06-01T06:58:43.900524Z"
    },
    "tags": []
   },
   "outputs": [],
   "source": [
    "%load_ext autoreload\n",
    "%autoreload 2"
   ]
  },
  {
   "cell_type": "code",
   "execution_count": null,
   "metadata": {
    "execution": {
     "iopub.execute_input": "2021-06-01T06:58:43.903868Z",
     "iopub.status.busy": "2021-06-01T06:58:43.903277Z",
     "iopub.status.idle": "2021-06-01T06:58:44.427509Z",
     "shell.execute_reply": "2021-06-01T06:58:44.427818Z"
    },
    "tags": []
   },
   "outputs": [],
   "source": [
    "from __init__ import *"
   ]
  },
  {
   "cell_type": "code",
   "execution_count": null,
   "metadata": {
    "execution": {
     "iopub.execute_input": "2021-06-01T06:58:44.431309Z",
     "iopub.status.busy": "2021-06-01T06:58:44.430833Z",
     "iopub.status.idle": "2021-06-01T06:58:44.489342Z",
     "shell.execute_reply": "2021-06-01T06:58:44.489679Z"
    },
    "tags": []
   },
   "outputs": [],
   "source": [
    "nu_fe_sa = pd.read_csv(\"../input/number_feature_sample.tsv\", \"\\t\", index_col=0)\n",
    "\n",
    "nu_fe_sa"
   ]
  },
  {
   "cell_type": "code",
   "execution_count": null,
   "metadata": {
    "execution": {
     "iopub.execute_input": "2021-06-01T06:58:44.500680Z",
     "iopub.status.busy": "2021-06-01T06:58:44.500206Z",
     "iopub.status.idle": "2021-06-01T06:58:48.048099Z",
     "shell.execute_reply": "2021-06-01T06:58:48.048460Z"
    },
    "tags": []
   },
   "outputs": [],
   "source": [
    "if 0 < len(SETTING[\"pr\"]):\n",
    "\n",
    "    nu_fe_sa = kraft.feature_by_sample.process(nu_fe_sa, **SETTING[\"pr\"])\n",
    "\n",
    "nu_fe_sa.to_csv(\"../output/number_feature_sample.tsv\", \"\\t\")"
   ]
  },
  {
   "cell_type": "code",
   "execution_count": null,
   "metadata": {
    "execution": {
     "iopub.execute_input": "2021-06-01T06:58:48.051937Z",
     "iopub.status.busy": "2021-06-01T06:58:48.051294Z",
     "iopub.status.idle": "2021-06-01T06:58:48.674350Z",
     "shell.execute_reply": "2021-06-01T06:58:48.672651Z"
    },
    "tags": []
   },
   "outputs": [],
   "source": [
    "kraft.plot.plot_histogram(\n",
    "    [se for la, se in nu_fe_sa.iteritems()],\n",
    ")"
   ]
  },
  {
   "cell_type": "code",
   "execution_count": null,
   "metadata": {
    "execution": {
     "iopub.execute_input": "2021-06-01T06:58:48.678775Z",
     "iopub.status.busy": "2021-06-01T06:58:48.678014Z",
     "iopub.status.idle": "2021-06-01T06:58:48.709728Z",
     "shell.execute_reply": "2021-06-01T06:58:48.710180Z"
    },
    "tags": []
   },
   "outputs": [],
   "source": [
    "nu_fe_sa.loc[SETTING[\"fe_\"], :]"
   ]
  }
 ],
 "metadata": {
  "kernelspec": {
   "display_name": "Python 3",
   "language": "python",
   "name": "python3"
  },
  "language_info": {
   "codemirror_mode": {
    "name": "ipython",
    "version": 3
   },
   "file_extension": ".py",
   "mimetype": "text/x-python",
   "name": "python",
   "nbconvert_exporter": "python",
   "pygments_lexer": "ipython3",
   "version": "3.8.9"
  }
 },
 "nbformat": 4,
 "nbformat_minor": 4
}
