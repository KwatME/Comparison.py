{
 "cells": [
  {
   "cell_type": "code",
   "execution_count": null,
   "metadata": {
    "execution": {
     "iopub.execute_input": "2021-05-28T04:13:18.618548Z",
     "iopub.status.busy": "2021-05-28T04:13:18.617909Z",
     "iopub.status.idle": "2021-05-28T04:13:18.630643Z",
     "shell.execute_reply": "2021-05-28T04:13:18.631088Z"
    },
    "tags": []
   },
   "outputs": [],
   "source": [
    "%load_ext autoreload\n",
    "%autoreload 2"
   ]
  },
  {
   "cell_type": "code",
   "execution_count": null,
   "metadata": {
    "execution": {
     "iopub.execute_input": "2021-05-28T04:13:18.634714Z",
     "iopub.status.busy": "2021-05-28T04:13:18.634115Z",
     "iopub.status.idle": "2021-05-28T04:13:19.353981Z",
     "shell.execute_reply": "2021-05-28T04:13:19.354402Z"
    },
    "tags": []
   },
   "outputs": [],
   "source": [
    "from __init__ import *"
   ]
  },
  {
   "cell_type": "code",
   "execution_count": null,
   "metadata": {
    "execution": {
     "iopub.execute_input": "2021-05-28T04:13:19.357625Z",
     "iopub.status.busy": "2021-05-28T04:13:19.357065Z",
     "iopub.status.idle": "2021-05-28T04:13:19.459826Z",
     "shell.execute_reply": "2021-05-28T04:13:19.460319Z"
    },
    "tags": []
   },
   "outputs": [],
   "source": [
    "fxs = pd.read_csv(\"../input/feature_x_sample.tsv\", sep=\"\\t\", index_col=0)\n",
    "\n",
    "fxs"
   ]
  },
  {
   "cell_type": "code",
   "execution_count": null,
   "metadata": {
    "execution": {
     "iopub.execute_input": "2021-05-28T04:13:19.464019Z",
     "iopub.status.busy": "2021-05-28T04:13:19.463123Z",
     "iopub.status.idle": "2021-05-28T04:13:23.071551Z",
     "shell.execute_reply": "2021-05-28T04:13:23.071924Z"
    }
   },
   "outputs": [],
   "source": [
    "if 0 < len(S[\"process\"]):\n",
    "\n",
    "    fxs = kraft.pd.process(fxs, **S[\"process\"])"
   ]
  },
  {
   "cell_type": "code",
   "execution_count": null,
   "metadata": {
    "execution": {
     "iopub.execute_input": "2021-05-28T04:13:23.075901Z",
     "iopub.status.busy": "2021-05-28T04:13:23.074916Z",
     "iopub.status.idle": "2021-05-28T04:13:23.782233Z",
     "shell.execute_reply": "2021-05-28T04:13:23.782613Z"
    }
   },
   "outputs": [],
   "source": [
    "kraft.plot.plot_histogram(\n",
    "    [v for s, v in fxs.iteritems()],\n",
    "    [fxs.index] * fxs.shape[1],\n",
    "    fxs.columns,\n",
    ")"
   ]
  },
  {
   "cell_type": "code",
   "execution_count": null,
   "metadata": {
    "execution": {
     "iopub.execute_input": "2021-05-28T04:13:23.787045Z",
     "iopub.status.busy": "2021-05-28T04:13:23.785715Z",
     "iopub.status.idle": "2021-05-28T04:13:23.822233Z",
     "shell.execute_reply": "2021-05-28T04:13:23.822682Z"
    },
    "tags": []
   },
   "outputs": [],
   "source": [
    "fxs.loc[S[\"peek_feature_\"], :]"
   ]
  }
 ],
 "metadata": {
  "kernelspec": {
   "display_name": "Python 3",
   "language": "python",
   "name": "python3"
  },
  "language_info": {
   "codemirror_mode": {
    "name": "ipython",
    "version": 3
   },
   "file_extension": ".py",
   "mimetype": "text/x-python",
   "name": "python",
   "nbconvert_exporter": "python",
   "pygments_lexer": "ipython3",
   "version": "3.8.9"
  }
 },
 "nbformat": 4,
 "nbformat_minor": 4
}
