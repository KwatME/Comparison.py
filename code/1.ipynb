{
 "cells": [
  {
   "cell_type": "code",
   "execution_count": null,
   "metadata": {
    "execution": {
     "iopub.execute_input": "2021-06-01T07:27:17.507568Z",
     "iopub.status.busy": "2021-06-01T07:27:17.506915Z",
     "iopub.status.idle": "2021-06-01T07:27:17.519512Z",
     "shell.execute_reply": "2021-06-01T07:27:17.519936Z"
    },
    "tags": []
   },
   "outputs": [],
   "source": [
    "%load_ext autoreload\n",
    "%autoreload 2"
   ]
  },
  {
   "cell_type": "code",
   "execution_count": null,
   "metadata": {
    "execution": {
     "iopub.execute_input": "2021-06-01T07:27:17.523207Z",
     "iopub.status.busy": "2021-06-01T07:27:17.522634Z",
     "iopub.status.idle": "2021-06-01T07:27:18.078669Z",
     "shell.execute_reply": "2021-06-01T07:27:18.079053Z"
    },
    "tags": []
   },
   "outputs": [],
   "source": [
    "from __init__ import *"
   ]
  },
  {
   "cell_type": "code",
   "execution_count": null,
   "metadata": {
    "execution": {
     "iopub.execute_input": "2021-06-01T07:27:18.082233Z",
     "iopub.status.busy": "2021-06-01T07:27:18.081666Z",
     "iopub.status.idle": "2021-06-01T07:27:18.151160Z",
     "shell.execute_reply": "2021-06-01T07:27:18.151580Z"
    },
    "tags": []
   },
   "outputs": [],
   "source": [
    "nu_fe_sa = pd.read_csv(\"../input/number_feature_sample.tsv\", \"\\t\", index_col=0)\n",
    "\n",
    "nu_fe_sa"
   ]
  },
  {
   "cell_type": "code",
   "execution_count": null,
   "metadata": {
    "execution": {
     "iopub.execute_input": "2021-06-01T07:27:18.154969Z",
     "iopub.status.busy": "2021-06-01T07:27:18.154387Z",
     "iopub.status.idle": "2021-06-01T07:27:21.873701Z",
     "shell.execute_reply": "2021-06-01T07:27:21.874056Z"
    },
    "tags": []
   },
   "outputs": [],
   "source": [
    "if 0 < len(SETTING[\"pr\"]):\n",
    "\n",
    "    nu_fe_sa = kraft.feature_by_sample.process(nu_fe_sa, **SETTING[\"pr\"])\n",
    "\n",
    "nu_fe_sa.to_csv(\"../output/number_feature_sample.tsv\", \"\\t\")"
   ]
  },
  {
   "cell_type": "code",
   "execution_count": null,
   "metadata": {
    "execution": {
     "iopub.execute_input": "2021-06-01T07:27:21.878107Z",
     "iopub.status.busy": "2021-06-01T07:27:21.877438Z",
     "iopub.status.idle": "2021-06-01T07:27:22.528599Z",
     "shell.execute_reply": "2021-06-01T07:27:22.527373Z"
    },
    "tags": []
   },
   "outputs": [],
   "source": [
    "kraft.plot.plot_histogram(\n",
    "    [se for la, se in nu_fe_sa.iteritems()],\n",
    ")"
   ]
  },
  {
   "cell_type": "code",
   "execution_count": null,
   "metadata": {
    "execution": {
     "iopub.execute_input": "2021-06-01T07:27:22.532717Z",
     "iopub.status.busy": "2021-06-01T07:27:22.532237Z",
     "iopub.status.idle": "2021-06-01T07:27:22.560757Z",
     "shell.execute_reply": "2021-06-01T07:27:22.561274Z"
    },
    "tags": []
   },
   "outputs": [],
   "source": [
    "nu_fe_sa.loc[SETTING[\"fe_\"], :]"
   ]
  }
 ],
 "metadata": {
  "kernelspec": {
   "display_name": "Python 3",
   "language": "python",
   "name": "python3"
  },
  "language_info": {
   "codemirror_mode": {
    "name": "ipython",
    "version": 3
   },
   "file_extension": ".py",
   "mimetype": "text/x-python",
   "name": "python",
   "nbconvert_exporter": "python",
   "pygments_lexer": "ipython3",
   "version": "3.8.9"
  }
 },
 "nbformat": 4,
 "nbformat_minor": 4
}
