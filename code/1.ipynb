{
 "cells": [
  {
   "cell_type": "code",
   "execution_count": null,
   "metadata": {
    "execution": {
     "iopub.execute_input": "2021-06-01T07:21:57.883176Z",
     "iopub.status.busy": "2021-06-01T07:21:57.882356Z",
     "iopub.status.idle": "2021-06-01T07:21:57.897754Z",
     "shell.execute_reply": "2021-06-01T07:21:57.898224Z"
    },
    "tags": []
   },
   "outputs": [],
   "source": [
    "%load_ext autoreload\n",
    "%autoreload 2"
   ]
  },
  {
   "cell_type": "code",
   "execution_count": null,
   "metadata": {
    "execution": {
     "iopub.execute_input": "2021-06-01T07:21:57.901940Z",
     "iopub.status.busy": "2021-06-01T07:21:57.901331Z",
     "iopub.status.idle": "2021-06-01T07:21:58.417651Z",
     "shell.execute_reply": "2021-06-01T07:21:58.418014Z"
    },
    "tags": []
   },
   "outputs": [],
   "source": [
    "from __init__ import *"
   ]
  },
  {
   "cell_type": "code",
   "execution_count": null,
   "metadata": {
    "execution": {
     "iopub.execute_input": "2021-06-01T07:21:58.421332Z",
     "iopub.status.busy": "2021-06-01T07:21:58.420830Z",
     "iopub.status.idle": "2021-06-01T07:21:58.477767Z",
     "shell.execute_reply": "2021-06-01T07:21:58.478097Z"
    },
    "tags": []
   },
   "outputs": [],
   "source": [
    "nu_fe_sa = pd.read_csv(\"../input/number_feature_sample.tsv\", \"\\t\", index_col=0)\n",
    "\n",
    "nu_fe_sa"
   ]
  },
  {
   "cell_type": "code",
   "execution_count": null,
   "metadata": {
    "execution": {
     "iopub.execute_input": "2021-06-01T07:21:58.481624Z",
     "iopub.status.busy": "2021-06-01T07:21:58.481143Z",
     "iopub.status.idle": "2021-06-01T07:22:01.949317Z",
     "shell.execute_reply": "2021-06-01T07:22:01.949683Z"
    },
    "tags": []
   },
   "outputs": [],
   "source": [
    "if 0 < len(SETTING[\"pr\"]):\n",
    "\n",
    "    nu_fe_sa = kraft.feature_by_sample.process(nu_fe_sa, **SETTING[\"pr\"])\n",
    "\n",
    "nu_fe_sa.to_csv(\"../output/number_feature_sample.tsv\", \"\\t\")"
   ]
  },
  {
   "cell_type": "code",
   "execution_count": null,
   "metadata": {
    "execution": {
     "iopub.execute_input": "2021-06-01T07:22:01.952762Z",
     "iopub.status.busy": "2021-06-01T07:22:01.952256Z",
     "iopub.status.idle": "2021-06-01T07:22:02.547615Z",
     "shell.execute_reply": "2021-06-01T07:22:02.546769Z"
    },
    "tags": []
   },
   "outputs": [],
   "source": [
    "kraft.plot.plot_histogram(\n",
    "    [se for la, se in nu_fe_sa.iteritems()],\n",
    ")"
   ]
  },
  {
   "cell_type": "code",
   "execution_count": null,
   "metadata": {
    "execution": {
     "iopub.execute_input": "2021-06-01T07:22:02.551037Z",
     "iopub.status.busy": "2021-06-01T07:22:02.550503Z",
     "iopub.status.idle": "2021-06-01T07:22:02.577482Z",
     "shell.execute_reply": "2021-06-01T07:22:02.577868Z"
    },
    "tags": []
   },
   "outputs": [],
   "source": [
    "nu_fe_sa.loc[SETTING[\"fe_\"], :]"
   ]
  }
 ],
 "metadata": {
  "kernelspec": {
   "display_name": "Python 3",
   "language": "python",
   "name": "python3"
  },
  "language_info": {
   "codemirror_mode": {
    "name": "ipython",
    "version": 3
   },
   "file_extension": ".py",
   "mimetype": "text/x-python",
   "name": "python",
   "nbconvert_exporter": "python",
   "pygments_lexer": "ipython3",
   "version": "3.8.9"
  }
 },
 "nbformat": 4,
 "nbformat_minor": 4
}
