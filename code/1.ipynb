{
 "cells": [
  {
   "cell_type": "code",
   "execution_count": null,
   "metadata": {
    "execution": {
     "iopub.execute_input": "2021-06-03T06:30:24.090048Z",
     "iopub.status.busy": "2021-06-03T06:30:24.089381Z",
     "iopub.status.idle": "2021-06-03T06:30:24.101440Z",
     "shell.execute_reply": "2021-06-03T06:30:24.101878Z"
    },
    "tags": []
   },
   "outputs": [],
   "source": [
    "%load_ext autoreload\n",
    "%autoreload 2"
   ]
  },
  {
   "cell_type": "code",
   "execution_count": null,
   "metadata": {
    "execution": {
     "iopub.execute_input": "2021-06-03T06:30:24.105475Z",
     "iopub.status.busy": "2021-06-03T06:30:24.104881Z",
     "iopub.status.idle": "2021-06-03T06:30:24.653905Z",
     "shell.execute_reply": "2021-06-03T06:30:24.654231Z"
    },
    "tags": []
   },
   "outputs": [],
   "source": [
    "from __init__ import *"
   ]
  },
  {
   "cell_type": "code",
   "execution_count": null,
   "metadata": {
    "execution": {
     "iopub.execute_input": "2021-06-03T06:30:24.657469Z",
     "iopub.status.busy": "2021-06-03T06:30:24.656975Z",
     "iopub.status.idle": "2021-06-03T06:30:24.709785Z",
     "shell.execute_reply": "2021-06-03T06:30:24.710181Z"
    },
    "tags": []
   },
   "outputs": [],
   "source": [
    "nu_fe_sa = pd.read_csv(\"../input/number_feature_sample.tsv\", \"\\t\", index_col=0)\n",
    "\n",
    "nu_fe_sa.columns.name = \"Sample\""
   ]
  },
  {
   "cell_type": "code",
   "execution_count": null,
   "metadata": {
    "execution": {
     "iopub.execute_input": "2021-06-03T06:30:24.719657Z",
     "iopub.status.busy": "2021-06-03T06:30:24.719092Z",
     "iopub.status.idle": "2021-06-03T06:30:27.526317Z",
     "shell.execute_reply": "2021-06-03T06:30:27.526679Z"
    },
    "tags": []
   },
   "outputs": [],
   "source": [
    "if 0 < len(SETTING[\"pr\"]):\n",
    "\n",
    "    nu_fe_sa = kraft.feature_by_sample.process(nu_fe_sa, **SETTING[\"pr\"])\n",
    "\n",
    "nu_fe_sa.to_csv(\"../output/number_feature_sample.tsv\", \"\\t\")"
   ]
  },
  {
   "cell_type": "code",
   "execution_count": null,
   "metadata": {
    "execution": {
     "iopub.execute_input": "2021-06-03T06:30:27.530744Z",
     "iopub.status.busy": "2021-06-03T06:30:27.530206Z",
     "iopub.status.idle": "2021-06-03T06:30:28.247685Z",
     "shell.execute_reply": "2021-06-03T06:30:28.248055Z"
    },
    "tags": []
   },
   "outputs": [],
   "source": [
    "kraft.plot.plot_histogram(\n",
    "    [se for la, se in nu_fe_sa.iteritems()],\n",
    ")"
   ]
  },
  {
   "cell_type": "code",
   "execution_count": null,
   "metadata": {
    "execution": {
     "iopub.execute_input": "2021-06-03T06:30:28.251563Z",
     "iopub.status.busy": "2021-06-03T06:30:28.250960Z",
     "iopub.status.idle": "2021-06-03T06:30:28.285678Z",
     "shell.execute_reply": "2021-06-03T06:30:28.286104Z"
    },
    "tags": []
   },
   "outputs": [],
   "source": [
    "nu_fe_sa.loc[SETTING[\"fe_\"], :]"
   ]
  }
 ],
 "metadata": {
  "kernelspec": {
   "display_name": "Python 3",
   "language": "python",
   "name": "python3"
  },
  "language_info": {
   "codemirror_mode": {
    "name": "ipython",
    "version": 3
   },
   "file_extension": ".py",
   "mimetype": "text/x-python",
   "name": "python",
   "nbconvert_exporter": "python",
   "pygments_lexer": "ipython3",
   "version": "3.8.9"
  }
 },
 "nbformat": 4,
 "nbformat_minor": 4
}
