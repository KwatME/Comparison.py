{
 "cells": [
  {
   "cell_type": "code",
   "execution_count": null,
   "metadata": {
    "execution": {
     "iopub.execute_input": "2021-06-02T00:35:19.560083Z",
     "iopub.status.busy": "2021-06-02T00:35:19.559367Z",
     "iopub.status.idle": "2021-06-02T00:35:19.572511Z",
     "shell.execute_reply": "2021-06-02T00:35:19.572956Z"
    },
    "tags": []
   },
   "outputs": [],
   "source": [
    "%load_ext autoreload\n",
    "%autoreload 2"
   ]
  },
  {
   "cell_type": "code",
   "execution_count": null,
   "metadata": {
    "execution": {
     "iopub.execute_input": "2021-06-02T00:35:19.576545Z",
     "iopub.status.busy": "2021-06-02T00:35:19.575950Z",
     "iopub.status.idle": "2021-06-02T00:35:20.147315Z",
     "shell.execute_reply": "2021-06-02T00:35:20.147683Z"
    },
    "tags": []
   },
   "outputs": [],
   "source": [
    "from __init__ import *"
   ]
  },
  {
   "cell_type": "code",
   "execution_count": null,
   "metadata": {
    "execution": {
     "iopub.execute_input": "2021-06-02T00:35:20.150623Z",
     "iopub.status.busy": "2021-06-02T00:35:20.150121Z",
     "iopub.status.idle": "2021-06-02T00:35:20.210088Z",
     "shell.execute_reply": "2021-06-02T00:35:20.210446Z"
    },
    "tags": []
   },
   "outputs": [],
   "source": [
    "nu_fe_sa = pd.read_csv(\"../input/number_feature_sample.tsv\", \"\\t\", index_col=0)\n",
    "\n",
    "nu_fe_sa"
   ]
  },
  {
   "cell_type": "code",
   "execution_count": null,
   "metadata": {
    "execution": {
     "iopub.execute_input": "2021-06-02T00:35:20.213601Z",
     "iopub.status.busy": "2021-06-02T00:35:20.213010Z",
     "iopub.status.idle": "2021-06-02T00:35:23.879055Z",
     "shell.execute_reply": "2021-06-02T00:35:23.879447Z"
    },
    "tags": []
   },
   "outputs": [],
   "source": [
    "if 0 < len(SETTING[\"pr\"]):\n",
    "\n",
    "    nu_fe_sa = kraft.feature_by_sample.process(nu_fe_sa, **SETTING[\"pr\"])\n",
    "\n",
    "nu_fe_sa.to_csv(\"../output/number_feature_sample.tsv\", \"\\t\")"
   ]
  },
  {
   "cell_type": "code",
   "execution_count": null,
   "metadata": {
    "execution": {
     "iopub.execute_input": "2021-06-02T00:35:23.883077Z",
     "iopub.status.busy": "2021-06-02T00:35:23.882546Z",
     "iopub.status.idle": "2021-06-02T00:35:24.506866Z",
     "shell.execute_reply": "2021-06-02T00:35:24.507237Z"
    },
    "tags": []
   },
   "outputs": [],
   "source": [
    "kraft.plot.plot_histogram(\n",
    "    [se for la, se in nu_fe_sa.iteritems()],\n",
    ")"
   ]
  },
  {
   "cell_type": "code",
   "execution_count": null,
   "metadata": {
    "execution": {
     "iopub.execute_input": "2021-06-02T00:35:24.510379Z",
     "iopub.status.busy": "2021-06-02T00:35:24.509892Z",
     "iopub.status.idle": "2021-06-02T00:35:24.541144Z",
     "shell.execute_reply": "2021-06-02T00:35:24.541560Z"
    },
    "tags": []
   },
   "outputs": [],
   "source": [
    "nu_fe_sa.loc[SETTING[\"fe_\"], :]"
   ]
  }
 ],
 "metadata": {
  "kernelspec": {
   "display_name": "Python 3",
   "language": "python",
   "name": "python3"
  },
  "language_info": {
   "codemirror_mode": {
    "name": "ipython",
    "version": 3
   },
   "file_extension": ".py",
   "mimetype": "text/x-python",
   "name": "python",
   "nbconvert_exporter": "python",
   "pygments_lexer": "ipython3",
   "version": "3.8.9"
  }
 },
 "nbformat": 4,
 "nbformat_minor": 4
}
