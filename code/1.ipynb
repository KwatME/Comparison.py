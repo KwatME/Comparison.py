{
 "cells": [
  {
   "cell_type": "code",
   "execution_count": null,
   "metadata": {
    "execution": {
     "iopub.execute_input": "2021-06-02T07:18:14.649836Z",
     "iopub.status.busy": "2021-06-02T07:18:14.649085Z",
     "iopub.status.idle": "2021-06-02T07:18:14.661624Z",
     "shell.execute_reply": "2021-06-02T07:18:14.662074Z"
    },
    "tags": []
   },
   "outputs": [],
   "source": [
    "%load_ext autoreload\n",
    "%autoreload 2"
   ]
  },
  {
   "cell_type": "code",
   "execution_count": null,
   "metadata": {
    "execution": {
     "iopub.execute_input": "2021-06-02T07:18:14.665350Z",
     "iopub.status.busy": "2021-06-02T07:18:14.664745Z",
     "iopub.status.idle": "2021-06-02T07:18:15.257295Z",
     "shell.execute_reply": "2021-06-02T07:18:15.257665Z"
    },
    "tags": []
   },
   "outputs": [],
   "source": [
    "from __init__ import *"
   ]
  },
  {
   "cell_type": "code",
   "execution_count": null,
   "metadata": {
    "execution": {
     "iopub.execute_input": "2021-06-02T07:18:15.260722Z",
     "iopub.status.busy": "2021-06-02T07:18:15.260217Z",
     "iopub.status.idle": "2021-06-02T07:18:15.324940Z",
     "shell.execute_reply": "2021-06-02T07:18:15.325297Z"
    },
    "tags": []
   },
   "outputs": [],
   "source": [
    "nu_fe_sa = pd.read_csv(\"../input/number_feature_sample.tsv\", \"\\t\", index_col=0)\n",
    "\n",
    "nu_fe_sa"
   ]
  },
  {
   "cell_type": "code",
   "execution_count": null,
   "metadata": {
    "execution": {
     "iopub.execute_input": "2021-06-02T07:18:15.338291Z",
     "iopub.status.busy": "2021-06-02T07:18:15.337711Z",
     "iopub.status.idle": "2021-06-02T07:18:19.225147Z",
     "shell.execute_reply": "2021-06-02T07:18:19.225515Z"
    },
    "tags": []
   },
   "outputs": [],
   "source": [
    "if 0 < len(SETTING[\"pr\"]):\n",
    "\n",
    "    nu_fe_sa = kraft.feature_by_sample.process(nu_fe_sa, **SETTING[\"pr\"])\n",
    "\n",
    "nu_fe_sa.to_csv(\"../output/number_feature_sample.tsv\", \"\\t\")"
   ]
  },
  {
   "cell_type": "code",
   "execution_count": null,
   "metadata": {
    "execution": {
     "iopub.execute_input": "2021-06-02T07:18:19.228701Z",
     "iopub.status.busy": "2021-06-02T07:18:19.228193Z",
     "iopub.status.idle": "2021-06-02T07:18:19.912586Z",
     "shell.execute_reply": "2021-06-02T07:18:19.913418Z"
    },
    "tags": []
   },
   "outputs": [],
   "source": [
    "kraft.plot.plot_histogram(\n",
    "    [se for la, se in nu_fe_sa.iteritems()],\n",
    ")"
   ]
  },
  {
   "cell_type": "code",
   "execution_count": null,
   "metadata": {
    "execution": {
     "iopub.execute_input": "2021-06-02T07:18:19.917602Z",
     "iopub.status.busy": "2021-06-02T07:18:19.917072Z",
     "iopub.status.idle": "2021-06-02T07:18:19.948072Z",
     "shell.execute_reply": "2021-06-02T07:18:19.948495Z"
    },
    "tags": []
   },
   "outputs": [],
   "source": [
    "nu_fe_sa.loc[SETTING[\"fe_\"], :]"
   ]
  }
 ],
 "metadata": {
  "kernelspec": {
   "display_name": "Python 3",
   "language": "python",
   "name": "python3"
  },
  "language_info": {
   "codemirror_mode": {
    "name": "ipython",
    "version": 3
   },
   "file_extension": ".py",
   "mimetype": "text/x-python",
   "name": "python",
   "nbconvert_exporter": "python",
   "pygments_lexer": "ipython3",
   "version": "3.8.9"
  }
 },
 "nbformat": 4,
 "nbformat_minor": 4
}
