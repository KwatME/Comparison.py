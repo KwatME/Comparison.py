{
 "cells": [
  {
   "cell_type": "code",
   "execution_count": null,
   "metadata": {
    "execution": {
     "iopub.execute_input": "2021-06-05T22:30:12.327774Z",
     "iopub.status.busy": "2021-06-05T22:30:12.327035Z",
     "iopub.status.idle": "2021-06-05T22:30:12.339812Z",
     "shell.execute_reply": "2021-06-05T22:30:12.340277Z"
    },
    "tags": []
   },
   "outputs": [],
   "source": [
    "%load_ext autoreload\n",
    "%autoreload 2"
   ]
  },
  {
   "cell_type": "code",
   "execution_count": null,
   "metadata": {
    "execution": {
     "iopub.execute_input": "2021-06-05T22:30:12.343870Z",
     "iopub.status.busy": "2021-06-05T22:30:12.343274Z",
     "iopub.status.idle": "2021-06-05T22:30:12.889815Z",
     "shell.execute_reply": "2021-06-05T22:30:12.890171Z"
    },
    "tags": []
   },
   "outputs": [],
   "source": [
    "from __init__ import *"
   ]
  },
  {
   "cell_type": "code",
   "execution_count": null,
   "metadata": {
    "execution": {
     "iopub.execute_input": "2021-06-05T22:30:12.893280Z",
     "iopub.status.busy": "2021-06-05T22:30:12.892753Z",
     "iopub.status.idle": "2021-06-05T22:30:12.927338Z",
     "shell.execute_reply": "2021-06-05T22:30:12.927727Z"
    },
    "tags": []
   },
   "outputs": [],
   "source": [
    "nu_fe_sa = pd.read_csv(\"../input/number_feature_sample.tsv\", \"\\t\", index_col=0)\n",
    "\n",
    "nu_fe_sa.columns.name = \"Sample\""
   ]
  },
  {
   "cell_type": "code",
   "execution_count": null,
   "metadata": {
    "execution": {
     "iopub.execute_input": "2021-06-05T22:30:12.931143Z",
     "iopub.status.busy": "2021-06-05T22:30:12.930613Z",
     "iopub.status.idle": "2021-06-05T22:30:14.995766Z",
     "shell.execute_reply": "2021-06-05T22:30:14.996133Z"
    },
    "tags": []
   },
   "outputs": [],
   "source": [
    "if 0 < len(SETTING[\"pr\"]):\n",
    "\n",
    "    nu_fe_sa = kraft.feature_by_sample.process(nu_fe_sa, **SETTING[\"pr\"])\n",
    "\n",
    "nu_fe_sa.to_csv(\"../output/number_feature_sample.tsv\", \"\\t\")"
   ]
  },
  {
   "cell_type": "code",
   "execution_count": null,
   "metadata": {
    "execution": {
     "iopub.execute_input": "2021-06-05T22:30:14.999958Z",
     "iopub.status.busy": "2021-06-05T22:30:14.999432Z",
     "iopub.status.idle": "2021-06-05T22:30:15.415898Z",
     "shell.execute_reply": "2021-06-05T22:30:15.416273Z"
    },
    "tags": []
   },
   "outputs": [],
   "source": [
    "kraft.plot.plot_histogram(\n",
    "    [se for la, se in nu_fe_sa.iteritems()],\n",
    ")"
   ]
  },
  {
   "cell_type": "code",
   "execution_count": null,
   "metadata": {
    "execution": {
     "iopub.execute_input": "2021-06-05T22:30:15.419721Z",
     "iopub.status.busy": "2021-06-05T22:30:15.419217Z",
     "iopub.status.idle": "2021-06-05T22:30:15.456579Z",
     "shell.execute_reply": "2021-06-05T22:30:15.457001Z"
    },
    "tags": []
   },
   "outputs": [],
   "source": [
    "nu_fe_sa.loc[SETTING[\"fe_\"], :]"
   ]
  }
 ],
 "metadata": {
  "kernelspec": {
   "display_name": "Python 3",
   "language": "python",
   "name": "python3"
  },
  "language_info": {
   "codemirror_mode": {
    "name": "ipython",
    "version": 3
   },
   "file_extension": ".py",
   "mimetype": "text/x-python",
   "name": "python",
   "nbconvert_exporter": "python",
   "pygments_lexer": "ipython3",
   "version": "3.8.9"
  }
 },
 "nbformat": 4,
 "nbformat_minor": 4
}
