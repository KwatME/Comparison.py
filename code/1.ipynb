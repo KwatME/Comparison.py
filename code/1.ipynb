{
 "cells": [
  {
   "cell_type": "code",
   "execution_count": null,
   "metadata": {
    "execution": {
     "iopub.execute_input": "2021-05-28T05:55:20.882222Z",
     "iopub.status.busy": "2021-05-28T05:55:20.881483Z",
     "iopub.status.idle": "2021-05-28T05:55:20.894263Z",
     "shell.execute_reply": "2021-05-28T05:55:20.894668Z"
    },
    "tags": []
   },
   "outputs": [],
   "source": [
    "%load_ext autoreload\n",
    "%autoreload 2"
   ]
  },
  {
   "cell_type": "code",
   "execution_count": null,
   "metadata": {
    "execution": {
     "iopub.execute_input": "2021-05-28T05:55:20.898181Z",
     "iopub.status.busy": "2021-05-28T05:55:20.897535Z",
     "iopub.status.idle": "2021-05-28T05:55:21.646939Z",
     "shell.execute_reply": "2021-05-28T05:55:21.647308Z"
    },
    "tags": []
   },
   "outputs": [],
   "source": [
    "from __init__ import *"
   ]
  },
  {
   "cell_type": "code",
   "execution_count": null,
   "metadata": {
    "execution": {
     "iopub.execute_input": "2021-05-28T05:55:21.650352Z",
     "iopub.status.busy": "2021-05-28T05:55:21.649721Z",
     "iopub.status.idle": "2021-05-28T05:55:21.752361Z",
     "shell.execute_reply": "2021-05-28T05:55:21.752788Z"
    },
    "tags": []
   },
   "outputs": [],
   "source": [
    "fxs = pd.read_csv(\"../input/feature_x_sample.tsv\", sep=\"\\t\", index_col=0)\n",
    "\n",
    "fxs"
   ]
  },
  {
   "cell_type": "code",
   "execution_count": null,
   "metadata": {
    "execution": {
     "iopub.execute_input": "2021-05-28T05:55:21.756360Z",
     "iopub.status.busy": "2021-05-28T05:55:21.755566Z",
     "iopub.status.idle": "2021-05-28T05:55:25.482918Z",
     "shell.execute_reply": "2021-05-28T05:55:25.483377Z"
    }
   },
   "outputs": [],
   "source": [
    "if 0 < len(S[\"process\"]):\n",
    "\n",
    "    fxs = kraft.pd.process(fxs, **S[\"process\"])"
   ]
  },
  {
   "cell_type": "code",
   "execution_count": null,
   "metadata": {
    "execution": {
     "iopub.execute_input": "2021-05-28T05:55:25.486751Z",
     "iopub.status.busy": "2021-05-28T05:55:25.486270Z",
     "iopub.status.idle": "2021-05-28T05:55:26.136244Z",
     "shell.execute_reply": "2021-05-28T05:55:26.136630Z"
    }
   },
   "outputs": [],
   "source": [
    "kraft.plot.plot_histogram(\n",
    "    [v for s, v in fxs.iteritems()],\n",
    "    [fxs.index] * fxs.shape[1],\n",
    "    fxs.columns,\n",
    ")"
   ]
  },
  {
   "cell_type": "code",
   "execution_count": null,
   "metadata": {
    "execution": {
     "iopub.execute_input": "2021-05-28T05:55:26.140532Z",
     "iopub.status.busy": "2021-05-28T05:55:26.140042Z",
     "iopub.status.idle": "2021-05-28T05:55:26.171395Z",
     "shell.execute_reply": "2021-05-28T05:55:26.171843Z"
    },
    "tags": []
   },
   "outputs": [],
   "source": [
    "fxs.loc[S[\"peek_feature_\"], :]"
   ]
  }
 ],
 "metadata": {
  "kernelspec": {
   "display_name": "Python 3",
   "language": "python",
   "name": "python3"
  },
  "language_info": {
   "codemirror_mode": {
    "name": "ipython",
    "version": 3
   },
   "file_extension": ".py",
   "mimetype": "text/x-python",
   "name": "python",
   "nbconvert_exporter": "python",
   "pygments_lexer": "ipython3",
   "version": "3.8.9"
  }
 },
 "nbformat": 4,
 "nbformat_minor": 4
}
