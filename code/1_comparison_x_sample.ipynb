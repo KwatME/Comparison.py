{
 "cells": [
  {
   "cell_type": "code",
   "execution_count": null,
   "metadata": {},
   "outputs": [],
   "source": [
    "from __init__ import *"
   ]
  },
  {
   "cell_type": "code",
   "execution_count": null,
   "metadata": {},
   "outputs": [],
   "source": [
    "feature_x_sample = pd.read_csv(\"../input/feature_x_sample.tsv\", sep=\"\\t\", index_col=0)\n",
    "\n",
    "binary_feature_x_sample = pd.read_csv(\n",
    "    \"../input/binary_feature_x_sample.tsv\", sep=\"\\t\", index_col=0\n",
    ")"
   ]
  },
  {
   "cell_type": "code",
   "execution_count": null,
   "metadata": {},
   "outputs": [],
   "source": [
    "comparison_x_sample = pd.DataFrame(columns=feature_x_sample.columns)\n",
    "\n",
    "for comparison in SETTING[\"comparisons\"]:\n",
    "\n",
    "    if isinstance(comparison, str):\n",
    "\n",
    "        comparison_x_sample.loc[comparison, :] = binary_feature_x_sample.loc[\n",
    "            comparison, :\n",
    "        ]\n",
    "\n",
    "    else:\n",
    "\n",
    "        group_0, group_1 = comparison\n",
    "\n",
    "        comparison = \"{} vs {}\".format(group_0, group_1)\n",
    "\n",
    "        comparison_x_sample.loc[\n",
    "            comparison, binary_feature_x_sample.loc[group_0, :].to_numpy(dtype=bool)\n",
    "        ] = 0\n",
    "\n",
    "        comparison_x_sample.loc[\n",
    "            comparison, binary_feature_x_sample.loc[group_1, :].to_numpy(dtype=bool)\n",
    "        ] = 1\n",
    "\n",
    "comparison_x_sample.index.name = \"Comparison\"\n",
    "\n",
    "comparison_x_sample.to_csv(\"../output/comparison_x_sample.tsv\", sep=\"\\t\")\n",
    "\n",
    "comparison_x_sample"
   ]
  }
 ],
 "metadata": {
  "kernelspec": {
   "display_name": "Python 3",
   "language": "python",
   "name": "python3"
  },
  "language_info": {
   "codemirror_mode": {
    "name": "ipython",
    "version": 3
   },
   "file_extension": ".py",
   "mimetype": "text/x-python",
   "name": "python",
   "nbconvert_exporter": "python",
   "pygments_lexer": "ipython3",
   "version": "3.7.8"
  }
 },
 "nbformat": 4,
 "nbformat_minor": 4
}
