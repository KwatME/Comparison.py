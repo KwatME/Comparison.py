{
 "cells": [
  {
   "cell_type": "code",
   "execution_count": null,
   "metadata": {},
   "outputs": [],
   "source": [
    "%load_ext autoreload\n",
    "%autoreload 2"
   ]
  },
  {
   "cell_type": "code",
   "execution_count": null,
   "metadata": {},
   "outputs": [],
   "source": [
    "from __init__ import *"
   ]
  },
  {
   "cell_type": "code",
   "execution_count": null,
   "metadata": {},
   "outputs": [],
   "source": [
    "feature_x_sample = pd.read_csv(\"../input/feature_x_sample.tsv\", sep=\"\\t\", index_col=0)\n",
    "\n",
    "binary_feature_x_sample = pd.read_csv(\n",
    "    \"../input/binary_feature_x_sample.tsv\", sep=\"\\t\", index_col=0\n",
    ")\n",
    "\n",
    "binary_feature_x_sample"
   ]
  },
  {
   "cell_type": "code",
   "execution_count": null,
   "metadata": {},
   "outputs": [],
   "source": [
    "comparison_x_sample = pd.DataFrame(columns=feature_x_sample.columns)\n",
    "\n",
    "for group_0, group_1 in SETTING[\"comparisons\"]:\n",
    "\n",
    "    samples_0 = binary_feature_x_sample.columns.to_numpy()[\n",
    "        binary_feature_x_sample.loc[group_0, :].to_numpy(dtype=bool)\n",
    "    ]\n",
    "\n",
    "    samples_1 = binary_feature_x_sample.columns.to_numpy()[\n",
    "        binary_feature_x_sample.loc[group_1, :].to_numpy(dtype=bool)\n",
    "    ]\n",
    "\n",
    "    comparison = \"{} vs {}\".format(group_0, group_1)\n",
    "\n",
    "    comparison_x_sample.loc[comparison, set(samples_0) - set(samples_1)] = 0\n",
    "\n",
    "    comparison_x_sample.loc[comparison, set(samples_1) - set(samples_0)] = 1\n",
    "\n",
    "comparison_x_sample.to_csv(\"../output/comparison_x_sample.tsv\", sep=\"\\t\")\n",
    "\n",
    "comparison_x_sample"
   ]
  }
 ],
 "metadata": {
  "kernelspec": {
   "display_name": "Python 3",
   "language": "python",
   "name": "python3"
  },
  "language_info": {
   "codemirror_mode": {
    "name": "ipython",
    "version": 3
   },
   "file_extension": ".py",
   "mimetype": "text/x-python",
   "name": "python",
   "nbconvert_exporter": "python",
   "pygments_lexer": "ipython3",
   "version": "3.7.8"
  }
 },
 "nbformat": 4,
 "nbformat_minor": 4
}
