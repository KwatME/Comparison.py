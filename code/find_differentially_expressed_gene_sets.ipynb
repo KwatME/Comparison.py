{
 "cells": [
  {
   "cell_type": "code",
   "execution_count": null,
   "metadata": {
    "ExecuteTime": {
     "end_time": "2018-01-23T06:33:44.782196Z",
     "start_time": "2018-01-23T06:33:44.443256Z"
    },
    "scrolled": false
   },
   "outputs": [],
   "source": [
    "x = feature_score_moe_p_value_fdr['Score'].sort_values()\n",
    "y = gene_set_score_p_value_fdr['Score'].loc[x.index]\n",
    "\n",
    "print(compute_information_coefficient(x, y))\n",
    "\n",
    "print(compute_information_coefficient(np.sign(x), np.sign(y)))\n",
    "\n",
    "correlate(x, y, xlabel='Match IC', ylabel='GSEA Score', n_permutation=10)"
   ]
  },
  {
   "cell_type": "code",
   "execution_count": null,
   "metadata": {
    "ExecuteTime": {
     "end_time": "2018-01-23T06:43:43.834637Z",
     "start_time": "2018-01-23T06:38:26.597135Z"
    },
    "scrolled": false
   },
   "outputs": [],
   "source": [
    "for gene_set in selected_gene_sets:\n",
    "\n",
    "    gene_set_clean = clean_name(gene_set)\n",
    "\n",
    "    sample_gene_set_expression = gene_set_x_sample.loc[gene_set]\n",
    "\n",
    "    make_match_panel(\n",
    "        target,\n",
    "        max_tpm_log__gene_x_sample.loc[gmt.loc[\n",
    "            gene_set].dropna()].dropna().append(sample_gene_set_expression),\n",
    "        target_ascending=True,\n",
    "        n_job=n_job,\n",
    "        n_top_feature=0.5,\n",
    "        max_n_feature=None,\n",
    "        title='Expression of Gene Set and its Genes',\n",
    "        target_type='binary',\n",
    "        target_int_to_str=target_int_to_str,\n",
    "        plot_column_names=True,\n",
    "        file_path_prefix=\n",
    "        '../output/gene_set/selected_gene_sets/gene_set_and_its_genes/{}'.\n",
    "        format(gene_set_clean))\n",
    "\n",
    "    plot_violin_box_or_bar(\n",
    "        target,\n",
    "        sample_gene_set_expression,\n",
    "        violin_box_bar_or_swarm_kwargs={\n",
    "            'palette': (\n",
    "                '#20D9BA',\n",
    "                '#9017E6', ),\n",
    "        },\n",
    "        decorate_ax_kwargs={\n",
    "            'title': gene_set,\n",
    "        },\n",
    "        file_path='../output/gene_set/selected_gene_sets/violin_plot/{}.png'.\n",
    "        format(gene_set_clean))\n",
    "\n",
    "    mpl.pyplot.show()"
   ]
  }
 ],
 "metadata": {
  "kernelspec": {
   "display_name": "Python 3",
   "language": "python",
   "name": "python3"
  },
  "language_info": {
   "codemirror_mode": {
    "name": "ipython",
    "version": 3
   },
   "file_extension": ".py",
   "mimetype": "text/x-python",
   "name": "python",
   "nbconvert_exporter": "python",
   "pygments_lexer": "ipython3",
   "version": "3.6.5"
  }
 },
 "nbformat": 4,
 "nbformat_minor": 2
}
