{
 "cells": [
  {
   "cell_type": "code",
   "execution_count": null,
   "metadata": {
    "execution": {
     "iopub.execute_input": "2021-06-01T07:36:23.193309Z",
     "iopub.status.busy": "2021-06-01T07:36:23.192545Z",
     "iopub.status.idle": "2021-06-01T07:36:23.206056Z",
     "shell.execute_reply": "2021-06-01T07:36:23.206508Z"
    },
    "tags": []
   },
   "outputs": [],
   "source": [
    "%load_ext autoreload\n",
    "%autoreload 2"
   ]
  },
  {
   "cell_type": "code",
   "execution_count": null,
   "metadata": {
    "execution": {
     "iopub.execute_input": "2021-06-01T07:36:23.210027Z",
     "iopub.status.busy": "2021-06-01T07:36:23.209428Z",
     "iopub.status.idle": "2021-06-01T07:36:23.732310Z",
     "shell.execute_reply": "2021-06-01T07:36:23.732754Z"
    },
    "tags": []
   },
   "outputs": [],
   "source": [
    "from __init__ import *"
   ]
  },
  {
   "cell_type": "code",
   "execution_count": null,
   "metadata": {
    "execution": {
     "iopub.execute_input": "2021-06-01T07:36:23.736512Z",
     "iopub.status.busy": "2021-06-01T07:36:23.735929Z",
     "iopub.status.idle": "2021-06-01T07:36:24.476743Z",
     "shell.execute_reply": "2021-06-01T07:36:24.477180Z"
    },
    "tags": []
   },
   "outputs": [],
   "source": [
    "bi_co_sa = pd.read_csv(\"../output/01_comparison_sample.tsv\", \"\\t\", index_col=0)\n",
    "\n",
    "se_fe_ = kraft.gmt.read(kraft.path.list(\"../input/set/\"))\n",
    "\n",
    "nu_se_in = pd.read_csv(\"../output/number_set_information.tsv\", \"\\t\", index_col=0)"
   ]
  },
  {
   "cell_type": "code",
   "execution_count": null,
   "metadata": {
    "execution": {
     "iopub.execute_input": "2021-06-01T07:36:24.483227Z",
     "iopub.status.busy": "2021-06-01T07:36:24.482532Z",
     "iopub.status.idle": "2021-06-01T07:36:52.325276Z",
     "shell.execute_reply": "2021-06-01T07:36:52.325626Z"
    },
    "tags": []
   },
   "outputs": [],
   "source": [
    "for co in bi_co_sa.index:\n",
    "\n",
    "    sc_ = pd.read_csv(\n",
    "        \"../output/compare_feature/{}/{}/statistic.tsv\".format(\n",
    "            kraft.path.clean(co), SETTING[\"sc\"]\n",
    "        ),\n",
    "        \"\\t\",\n",
    "        index_col=0,\n",
    "    ).loc[:, \"Score\"]\n",
    "\n",
    "    pa = \"../output/score_set/{}/\".format(kraft.path.clean(co))\n",
    "\n",
    "    kraft.path.make(pa)\n",
    "\n",
    "    en_ = kraft.score_set.score_samples_and_sets(\n",
    "        sc_.to_frame(),\n",
    "        {se: se_fe_[se] for se in nu_se_in.index[nu_se_in.loc[:, \"Selected\"]]},\n",
    "    ).squeeze()\n",
    "\n",
    "    en_.to_csv(\"{}statistic.tsv\".format(pa), \"\\t\")\n",
    "\n",
    "    for se in SETTING[\"se_\"]:\n",
    "\n",
    "        kraft.score_set.score_sample_and_set(\n",
    "            sc_,\n",
    "            se_fe_[se],\n",
    "            title=\"{}<br>{}\".format(co, se),\n",
    "            pa=\"{}{}.html\".format(pa, kraft.path.clean(se)),\n",
    "        )"
   ]
  }
 ],
 "metadata": {
  "kernelspec": {
   "display_name": "Python 3",
   "language": "python",
   "name": "python3"
  },
  "language_info": {
   "codemirror_mode": {
    "name": "ipython",
    "version": 3
   },
   "file_extension": ".py",
   "mimetype": "text/x-python",
   "name": "python",
   "nbconvert_exporter": "python",
   "pygments_lexer": "ipython3",
   "version": "3.8.9"
  }
 },
 "nbformat": 4,
 "nbformat_minor": 4
}
