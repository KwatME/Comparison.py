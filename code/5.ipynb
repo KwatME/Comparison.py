{
 "cells": [
  {
   "cell_type": "code",
   "execution_count": null,
   "metadata": {
    "execution": {
     "iopub.execute_input": "2021-05-28T04:22:45.877313Z",
     "iopub.status.busy": "2021-05-28T04:22:45.876486Z",
     "iopub.status.idle": "2021-05-28T04:22:45.891853Z",
     "shell.execute_reply": "2021-05-28T04:22:45.892340Z"
    },
    "tags": []
   },
   "outputs": [],
   "source": [
    "%load_ext autoreload\n",
    "%autoreload 2"
   ]
  },
  {
   "cell_type": "code",
   "execution_count": null,
   "metadata": {
    "execution": {
     "iopub.execute_input": "2021-05-28T04:22:45.896123Z",
     "iopub.status.busy": "2021-05-28T04:22:45.895510Z",
     "iopub.status.idle": "2021-05-28T04:22:46.590658Z",
     "shell.execute_reply": "2021-05-28T04:22:46.591044Z"
    },
    "tags": []
   },
   "outputs": [],
   "source": [
    "from __init__ import *"
   ]
  },
  {
   "cell_type": "code",
   "execution_count": null,
   "metadata": {
    "execution": {
     "iopub.execute_input": "2021-05-28T04:22:46.594682Z",
     "iopub.status.busy": "2021-05-28T04:22:46.594146Z",
     "iopub.status.idle": "2021-05-28T04:22:47.252788Z",
     "shell.execute_reply": "2021-05-28T04:22:47.253148Z"
    }
   },
   "outputs": [],
   "source": [
    "cxs = pd.read_csv(\"../output/comparison_x_sample.tsv\", sep=\"\\t\", index_col=0)\n",
    "\n",
    "stf_ = kraft.gmt.read(kraft.path.list_directory(\"../input/set/\"))\n",
    "\n",
    "sxi = pd.read_csv(\"../output/set_x_information.tsv\", sep=\"\\t\", index_col=0)"
   ]
  },
  {
   "cell_type": "code",
   "execution_count": null,
   "metadata": {
    "execution": {
     "iopub.execute_input": "2021-05-28T04:22:47.258452Z",
     "iopub.status.busy": "2021-05-28T04:22:47.257925Z",
     "iopub.status.idle": "2021-05-28T04:23:06.916455Z",
     "shell.execute_reply": "2021-05-28T04:23:06.916815Z"
    },
    "tags": []
   },
   "outputs": [],
   "source": [
    "for c in cxs.index:\n",
    "\n",
    "    fs_ = pd.read_csv(\n",
    "        \"../output/compare_feature/{}/{}/statistic.tsv\".format(\n",
    "            kraft.path.clean(c), S[\"score_for_scoring_set\"]\n",
    "        ),\n",
    "        sep=\"\\t\",\n",
    "        index_col=0,\n",
    "    ).loc[:, \"Score\"]\n",
    "\n",
    "    d = \"../output/score_set/{}/\".format(kraft.path.clean(c))\n",
    "\n",
    "    kraft.path.make(d)\n",
    "\n",
    "    ss_ = kraft.score_set.score_samples_and_sets(\n",
    "        fs_.to_frame(),\n",
    "        {s: stf_[s] for s in sxi.index[sxi.loc[:, \"Selected\"]]},\n",
    "    ).squeeze()\n",
    "\n",
    "    ss_.to_csv(\"{}/set_score_.tsv\".format(d), sep=\"\\t\")\n",
    "\n",
    "    for s in S[\"peek_set_\"]:\n",
    "\n",
    "        kraft.score_set.score_sample_and_set(\n",
    "            fs_,\n",
    "            stf_[s],\n",
    "            title=\"{}<br>{}\".format(c, s),\n",
    "            file_path=\"{}/{}.html\".format(d, kraft.path.clean(s)),\n",
    "        )"
   ]
  }
 ],
 "metadata": {
  "kernelspec": {
   "display_name": "Python 3",
   "language": "python",
   "name": "python3"
  },
  "language_info": {
   "codemirror_mode": {
    "name": "ipython",
    "version": 3
   },
   "file_extension": ".py",
   "mimetype": "text/x-python",
   "name": "python",
   "nbconvert_exporter": "python",
   "pygments_lexer": "ipython3",
   "version": "3.8.9"
  }
 },
 "nbformat": 4,
 "nbformat_minor": 4
}
