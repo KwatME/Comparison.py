{
 "cells": [
  {
   "cell_type": "code",
   "execution_count": null,
   "metadata": {
    "execution": {
     "iopub.execute_input": "2021-05-28T06:04:45.921459Z",
     "iopub.status.busy": "2021-05-28T06:04:45.920673Z",
     "iopub.status.idle": "2021-05-28T06:04:45.935875Z",
     "shell.execute_reply": "2021-05-28T06:04:45.936308Z"
    },
    "tags": []
   },
   "outputs": [],
   "source": [
    "%load_ext autoreload\n",
    "%autoreload 2"
   ]
  },
  {
   "cell_type": "code",
   "execution_count": null,
   "metadata": {
    "execution": {
     "iopub.execute_input": "2021-05-28T06:04:45.939753Z",
     "iopub.status.busy": "2021-05-28T06:04:45.939165Z",
     "iopub.status.idle": "2021-05-28T06:04:46.629167Z",
     "shell.execute_reply": "2021-05-28T06:04:46.629514Z"
    },
    "tags": []
   },
   "outputs": [],
   "source": [
    "from __init__ import *"
   ]
  },
  {
   "cell_type": "code",
   "execution_count": null,
   "metadata": {
    "execution": {
     "iopub.execute_input": "2021-05-28T06:04:46.632934Z",
     "iopub.status.busy": "2021-05-28T06:04:46.632388Z",
     "iopub.status.idle": "2021-05-28T06:04:47.281259Z",
     "shell.execute_reply": "2021-05-28T06:04:47.281644Z"
    }
   },
   "outputs": [],
   "source": [
    "cxs = pd.read_csv(\"../output/comparison_x_sample.tsv\", sep=\"\\t\", index_col=0)\n",
    "\n",
    "stf_ = kraft.gmt.read(kraft.path.list_directory(\"../input/set/\"))\n",
    "\n",
    "sxi = pd.read_csv(\"../output/set_x_information.tsv\", sep=\"\\t\", index_col=0)"
   ]
  },
  {
   "cell_type": "code",
   "execution_count": null,
   "metadata": {
    "execution": {
     "iopub.execute_input": "2021-05-28T06:04:47.286948Z",
     "iopub.status.busy": "2021-05-28T06:04:47.286411Z",
     "iopub.status.idle": "2021-05-28T06:05:06.918756Z",
     "shell.execute_reply": "2021-05-28T06:05:06.919136Z"
    },
    "tags": []
   },
   "outputs": [],
   "source": [
    "for c in cxs.index:\n",
    "\n",
    "    fs_ = pd.read_csv(\n",
    "        \"../output/compare_feature/{}/{}/statistic.tsv\".format(\n",
    "            kraft.path.clean(c), S[\"score_for_scoring_set\"]\n",
    "        ),\n",
    "        sep=\"\\t\",\n",
    "        index_col=0,\n",
    "    ).loc[:, \"Score\"]\n",
    "\n",
    "    d = \"../output/score_set/{}/\".format(kraft.path.clean(c))\n",
    "\n",
    "    kraft.path.make(d)\n",
    "\n",
    "    ss_ = kraft.score_set.score_samples_and_sets(\n",
    "        fs_.to_frame(),\n",
    "        {s: stf_[s] for s in sxi.index[sxi.loc[:, \"Selected\"]]},\n",
    "    ).squeeze()\n",
    "\n",
    "    ss_.to_csv(\"{}/set_score_.tsv\".format(d), sep=\"\\t\")\n",
    "\n",
    "    for s in S[\"peek_set_\"]:\n",
    "\n",
    "        kraft.score_set.score_sample_and_set(\n",
    "            fs_,\n",
    "            stf_[s],\n",
    "            title=\"{}<br>{}\".format(c, s),\n",
    "            file_path=\"{}/{}.html\".format(d, kraft.path.clean(s)),\n",
    "        )"
   ]
  }
 ],
 "metadata": {
  "kernelspec": {
   "display_name": "Python 3",
   "language": "python",
   "name": "python3"
  },
  "language_info": {
   "codemirror_mode": {
    "name": "ipython",
    "version": 3
   },
   "file_extension": ".py",
   "mimetype": "text/x-python",
   "name": "python",
   "nbconvert_exporter": "python",
   "pygments_lexer": "ipython3",
   "version": "3.8.9"
  }
 },
 "nbformat": 4,
 "nbformat_minor": 4
}
