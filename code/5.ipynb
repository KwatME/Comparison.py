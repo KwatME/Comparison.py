{
 "cells": [
  {
   "cell_type": "code",
   "execution_count": null,
   "metadata": {
    "execution": {
     "iopub.execute_input": "2021-06-05T22:56:23.683946Z",
     "iopub.status.busy": "2021-06-05T22:56:23.683167Z",
     "iopub.status.idle": "2021-06-05T22:56:23.697372Z",
     "shell.execute_reply": "2021-06-05T22:56:23.697883Z"
    },
    "tags": []
   },
   "outputs": [],
   "source": [
    "%load_ext autoreload\n",
    "%autoreload 2"
   ]
  },
  {
   "cell_type": "code",
   "execution_count": null,
   "metadata": {
    "execution": {
     "iopub.execute_input": "2021-06-05T22:56:23.701527Z",
     "iopub.status.busy": "2021-06-05T22:56:23.700926Z",
     "iopub.status.idle": "2021-06-05T22:56:24.218167Z",
     "shell.execute_reply": "2021-06-05T22:56:24.218539Z"
    },
    "tags": []
   },
   "outputs": [],
   "source": [
    "from __init__ import *"
   ]
  },
  {
   "cell_type": "code",
   "execution_count": null,
   "metadata": {
    "execution": {
     "iopub.execute_input": "2021-06-05T22:56:24.222086Z",
     "iopub.status.busy": "2021-06-05T22:56:24.221525Z",
     "iopub.status.idle": "2021-06-05T22:56:24.940970Z",
     "shell.execute_reply": "2021-06-05T22:56:24.940542Z"
    },
    "tags": []
   },
   "outputs": [],
   "source": [
    "bi_co_sa = pd.read_csv(\"../output/01_comparison_sample.tsv\", \"\\t\", index_col=0)\n",
    "\n",
    "se_fe_ = kraft.gmt.read(kraft.path.list(\"../input/set/\"))\n",
    "\n",
    "st_se_in = pd.read_csv(\"../output/statistic_set_information.tsv\", \"\\t\", index_col=0)"
   ]
  },
  {
   "cell_type": "code",
   "execution_count": null,
   "metadata": {
    "execution": {
     "iopub.execute_input": "2021-06-05T22:56:24.946295Z",
     "iopub.status.busy": "2021-06-05T22:56:24.945687Z",
     "iopub.status.idle": "2021-06-05T22:56:42.942230Z",
     "shell.execute_reply": "2021-06-05T22:56:42.942777Z"
    },
    "tags": []
   },
   "outputs": [],
   "source": [
    "for co in bi_co_sa.index:\n",
    "\n",
    "    pa = \"{}/{}\".format(kraft.path.clean(co), SETTING[\"sc\"])\n",
    "\n",
    "    sc_ = pd.read_csv(\n",
    "        \"../output/compare_feature/{}/statistic.tsv\".format(pa),\n",
    "        \"\\t\",\n",
    "        index_col=0,\n",
    "    ).loc[:, \"Score\"]\n",
    "\n",
    "    pa = \"../output/score_set/{}/\".format(pa)\n",
    "\n",
    "    kraft.path.make(pa)\n",
    "\n",
    "    kraft.score_set.score_samples_and_sets(\n",
    "        sc_.to_frame(),\n",
    "        {se: se_fe_[se] for se in st_se_in.index[st_se_in.loc[:, \"Selected\"]]},\n",
    "        pa=\"{}statistic.tsv\".format(pa),\n",
    "    )\n",
    "\n",
    "    for se in SETTING[\"se_\"]:\n",
    "\n",
    "        kraft.score_set.score_sample_and_set(\n",
    "            sc_,\n",
    "            se_fe_[se],\n",
    "            title=\"{}<br>{}\".format(co, se),\n",
    "            pa=\"{}{}.html\".format(pa, kraft.path.clean(se)),\n",
    "        )"
   ]
  }
 ],
 "metadata": {
  "kernelspec": {
   "display_name": "Python 3",
   "language": "python",
   "name": "python3"
  },
  "language_info": {
   "codemirror_mode": {
    "name": "ipython",
    "version": 3
   },
   "file_extension": ".py",
   "mimetype": "text/x-python",
   "name": "python",
   "nbconvert_exporter": "python",
   "pygments_lexer": "ipython3",
   "version": "3.8.9"
  }
 },
 "nbformat": 4,
 "nbformat_minor": 4
}
