{
 "cells": [
  {
   "cell_type": "code",
   "execution_count": null,
   "metadata": {},
   "outputs": [],
   "source": [
    "%load_ext autoreload\n",
    "\n",
    "%autoreload 2"
   ]
  },
  {
   "cell_type": "code",
   "execution_count": null,
   "metadata": {},
   "outputs": [],
   "source": [
    "from environment import *\n",
    "\n",
    "from setting import *"
   ]
  },
  {
   "cell_type": "code",
   "execution_count": null,
   "metadata": {},
   "outputs": [],
   "source": [
    "gene_x_sample = pd.read_table(\n",
    "    '../output/gene_x_sample__processed.tsv',\n",
    "    index_col=0,\n",
    ")"
   ]
  },
  {
   "cell_type": "code",
   "execution_count": null,
   "metadata": {},
   "outputs": [],
   "source": [
    "gene_set_file_paths = tuple('../data/gene_set/{}'.format(file_name) for file_name in os.listdir('../data/gene_set'))\n",
    "\n",
    "gene_set_file_paths"
   ]
  },
  {
   "cell_type": "code",
   "execution_count": null,
   "metadata": {},
   "outputs": [],
   "source": [
    "output_directory_path = '../output/gene_set_x_sample'\n",
    "\n",
    "ccal.establish_path(\n",
    "    output_directory_path,\n",
    "    'directory',\n",
    ")"
   ]
  },
  {
   "cell_type": "code",
   "execution_count": null,
   "metadata": {},
   "outputs": [],
   "source": [
    "gene_set_x_sample__all = []\n",
    "\n",
    "for gene_set_file_path in gene_set_file_paths:\n",
    "    \n",
    "    print(gene_set_file_path)\n",
    "    \n",
    "    gene_set_x_sample_file_path = '{}/{}.gene_set_x_sample.tsv'.format(\n",
    "        output_directory_path,\n",
    "        gene_set_file_path.split('/')[-1],\n",
    "    )\n",
    "    \n",
    "    if OVERWRITE or not os.path.isfile(gene_set_x_sample_file_path):\n",
    "        \n",
    "        gene_set_x_sample__all.append(ccal.single_sample_gseas(\n",
    "            gene_x_sample,\n",
    "            ccal.read_gmt(gene_set_file_path),\n",
    "            file_path=gene_set_x_sample_file_path,\n",
    "        ))\n",
    "    \n",
    "    else:\n",
    "        \n",
    "        gene_set_x_sample__all.append(pd.read_table(\n",
    "            gene_set_x_sample_file_path,\n",
    "            index_col=0,\n",
    "        ))"
   ]
  },
  {
   "cell_type": "code",
   "execution_count": null,
   "metadata": {},
   "outputs": [],
   "source": [
    "gene_set_x_sample__all = pd.concat(gene_set_x_sample__all)\n",
    "\n",
    "gene_set_x_sample__all.to_csv(\n",
    "    '{}/All Gene Sets.gene_set_x_sample.tsv'.format(output_directory_path),\n",
    "    sep='\\t'\n",
    ")\n",
    "\n",
    "gene_set_x_sample__all"
   ]
  },
  {
   "cell_type": "code",
   "execution_count": null,
   "metadata": {},
   "outputs": [],
   "source": [
    "is_gene_set_to_peek = np.full(\n",
    "    gene_set_x_sample__all.shape[0],\n",
    "    False,\n",
    ")\n",
    "\n",
    "gene_set_names_lower = gene_set_x_sample__all.index.str.lower()\n",
    "\n",
    "for gene_set in GENE_SET_TO_PEEK:\n",
    "\n",
    "    is_gene_set_to_peek |= gene_set_names_lower == gene_set.lower()\n",
    "\n",
    "gene_set_x_sample__peek = gene_set_x_sample__all.loc[is_gene_set_to_peek]\n",
    "\n",
    "gene_set_x_sample__peek.to_csv(\n",
    "    '{}/Gene Set to Peek.gene_set_x_sample.tsv'.format(output_directory_path),\n",
    "    sep='\\t'\n",
    ")\n",
    "\n",
    "gene_set_x_sample__peek"
   ]
  }
 ],
 "metadata": {
  "kernelspec": {
   "display_name": "Python 3",
   "language": "python",
   "name": "python3"
  },
  "language_info": {
   "codemirror_mode": {
    "name": "ipython",
    "version": 3
   },
   "file_extension": ".py",
   "mimetype": "text/x-python",
   "name": "python",
   "nbconvert_exporter": "python",
   "pygments_lexer": "ipython3",
   "version": "3.6.6"
  }
 },
 "nbformat": 4,
 "nbformat_minor": 2
}
