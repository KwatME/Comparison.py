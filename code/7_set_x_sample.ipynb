{
 "cells": [
  {
   "cell_type": "code",
   "execution_count": null,
   "metadata": {},
   "outputs": [],
   "source": [
    "from __init__ import *"
   ]
  },
  {
   "cell_type": "code",
   "execution_count": null,
   "metadata": {},
   "outputs": [],
   "source": [
    "feature_x_sample = pd.read_csv(\"../input/feature_x_sample.tsv\", sep=\"\\t\", index_col=0)\n",
    "\n",
    "set_to_feature_ = kraft.gmt.read(kraft.path.list_absolute(\"../input/set/\"))\n",
    "\n",
    "set_x_information = pd.read_csv(\n",
    "    \"../output/set_x_information.tsv\", sep=\"\\t\", index_col=0\n",
    ")"
   ]
  },
  {
   "cell_type": "code",
   "execution_count": null,
   "metadata": {},
   "outputs": [],
   "source": [
    "set_x_sample = kraft.score_set.score_samples_and_sets(\n",
    "    feature_x_sample,\n",
    "    {\n",
    "        set_a: set_to_feature_[set_a]\n",
    "        for set_a in set_x_information.index.to_numpy()[\n",
    "            set_x_information.loc[:, \"Selected\"].to_numpy()\n",
    "        ]\n",
    "    },\n",
    "    n_job=SETTING[\"n_job\"],\n",
    ")\n",
    "\n",
    "set_x_sample.to_csv(\"../output/set_x_sample.tsv\", sep=\"\\t\")\n",
    "\n",
    "set_x_sample"
   ]
  },
  {
   "cell_type": "code",
   "execution_count": null,
   "metadata": {},
   "outputs": [],
   "source": [
    "set_x_sample.reindex(index=SETTING[\"peek_set_\"])"
   ]
  }
 ],
 "metadata": {
  "kernelspec": {
   "display_name": "Python 3",
   "language": "python",
   "name": "python3"
  },
  "language_info": {
   "codemirror_mode": {
    "name": "ipython",
    "version": 3
   },
   "file_extension": ".py",
   "mimetype": "text/x-python",
   "name": "python",
   "nbconvert_exporter": "python",
   "pygments_lexer": "ipython3",
   "version": "3.8.9"
  }
 },
 "nbformat": 4,
 "nbformat_minor": 4
}
