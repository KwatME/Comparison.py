{
 "cells": [
  {
   "cell_type": "code",
   "execution_count": null,
   "metadata": {},
   "outputs": [],
   "source": [
    "%load_ext autoreload\n",
    "%autoreload 2"
   ]
  },
  {
   "cell_type": "code",
   "execution_count": null,
   "metadata": {},
   "outputs": [],
   "source": [
    "from __init__ import *"
   ]
  },
  {
   "cell_type": "code",
   "execution_count": null,
   "metadata": {},
   "outputs": [],
   "source": [
    "comparison_x_sample = pd.read_csv(\n",
    "    \"../output/comparison_x_sample.tsv\", sep=\"\\t\", index_col=0\n",
    ")\n",
    "\n",
    "set_x_sample = pd.read_csv(\"../output/set_x_sample.tsv\", sep=\"\\t\", index_col=0)"
   ]
  },
  {
   "cell_type": "code",
   "execution_count": null,
   "metadata": {},
   "outputs": [],
   "source": [
    "figure_to_data_to_labels = {\"Summary\": {\"Peek\": SETTING[\"sets_to_peek\"]}}"
   ]
  },
  {
   "cell_type": "code",
   "execution_count": null,
   "metadata": {},
   "outputs": [],
   "source": [
    "for comparison, groups in comparison_x_sample.iterrows():\n",
    "\n",
    "    groups.dropna(inplace=True)\n",
    "\n",
    "    min_group_size = np.unique(groups.to_numpy(), return_counts=True)[1].min()\n",
    "\n",
    "    function, group_size = \"get_ic\", 2\n",
    "\n",
    "    if min_group_size < group_size:\n",
    "\n",
    "        continue\n",
    "\n",
    "    directory_path = \"../output/summarize_set/{}/\".format(comparison)\n",
    "\n",
    "    kraft.path.path(directory_path)\n",
    "\n",
    "    for figure, data_to_labels in figure_to_data_to_labels.items():\n",
    "\n",
    "        df_dicts = {}\n",
    "\n",
    "        score_dicts = {}\n",
    "\n",
    "        for data, labels in data_to_labels.items():\n",
    "\n",
    "            df_dicts[data] = {\n",
    "                \"df\": set_x_sample.reindex(labels=labels),\n",
    "                \"data_type\": \"continuous\",\n",
    "            }\n",
    "\n",
    "            score_dicts[data] = pd.read_csv(\n",
    "                os.path.join(\n",
    "                    \"../output/compare_set/{}/{}/scores.tsv\".format(\n",
    "                        comparison, function\n",
    "                    )\n",
    "                ),\n",
    "                sep=\"\\t\",\n",
    "                index_col=0,\n",
    "            )\n",
    "\n",
    "        kraft.function_heat_map.summarize(\n",
    "            groups,\n",
    "            df_dicts,\n",
    "            score_dicts,\n",
    "            se_data_type=\"binary\",\n",
    "            plot_std=SETTING[\"plot_std\"],\n",
    "            title=figure,\n",
    "            html_file_path=\"{}/{}.html\".format(directory_path, figure),\n",
    "        )"
   ]
  }
 ],
 "metadata": {
  "kernelspec": {
   "display_name": "Python 3",
   "language": "python",
   "name": "python3"
  },
  "language_info": {
   "codemirror_mode": {
    "name": "ipython",
    "version": 3
   },
   "file_extension": ".py",
   "mimetype": "text/x-python",
   "name": "python",
   "nbconvert_exporter": "python",
   "pygments_lexer": "ipython3",
   "version": "3.7.8"
  }
 },
 "nbformat": 4,
 "nbformat_minor": 4
}
