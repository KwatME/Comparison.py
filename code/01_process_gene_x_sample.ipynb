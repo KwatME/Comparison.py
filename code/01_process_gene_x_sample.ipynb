{
 "cells": [
  {
   "cell_type": "code",
   "execution_count": null,
   "metadata": {
    "ExecuteTime": {
     "end_time": "2018-07-09T07:10:38.299421Z",
     "start_time": "2018-07-09T07:10:38.287916Z"
    }
   },
   "outputs": [],
   "source": [
    "%load_ext autoreload\n",
    "%autoreload 2"
   ]
  },
  {
   "cell_type": "code",
   "execution_count": null,
   "metadata": {},
   "outputs": [],
   "source": [
    "from environment import *"
   ]
  },
  {
   "cell_type": "code",
   "execution_count": null,
   "metadata": {},
   "outputs": [],
   "source": [
    "gene_x_sample = pd.read_csv(\n",
    "    join(PROJECT[\"input/\"], \"feature_x_sample.tsv\"), sep=\"\\t\", index_col=0\n",
    ")\n",
    "\n",
    "gene_x_sample"
   ]
  },
  {
   "cell_type": "code",
   "execution_count": null,
   "metadata": {},
   "outputs": [],
   "source": [
    "gene_x_sample__processed = kraft.process_feature_x_sample(\n",
    "    gene_x_sample,\n",
    "    features_to_drop=SETTING[\"features_to_drop\"],\n",
    "    samples_to_drop=SETTING[\"samples_to_drop\"],\n",
    "    nanize=SETTING[\"nanize\"],\n",
    "    drop_axis=SETTING[\"drop_axis\"],\n",
    "    max_na=SETTING[\"max_na\"],\n",
    "    min_n_not_na_unique_value=SETTING[\"min_n_not_na_unique_value\"],\n",
    "    shift_as_necessary_to_achieve_min_before_logging=SETTING[\n",
    "        \"shift_as_necessary_to_achieve_min_before_logging\"\n",
    "    ],\n",
    "    log_base=SETTING[\"log_base\"],\n",
    "    normalization_axis=SETTING[\"normalization_axis\"],\n",
    "    normalization_method=SETTING[\"normalization_method\"],\n",
    "    clip_min=SETTING[\"clip_min\"],\n",
    "    clip_max=SETTING[\"clip_max\"],\n",
    "    plot_heat_map_max_size=SETTING[\"plot_heat_map_max_size\"],\n",
    "    plot_histogram_max_size=SETTING[\"plot_histogram_max_size\"],\n",
    "    plot_rug_max_size=SETTING[\"plot_rug_max_size\"],\n",
    ")\n",
    "\n",
    "gene_x_sample__processed.to_csv(PATH[\"gene_x_sample.processed.tsv\"], sep=\"\\t\")\n",
    "\n",
    "gene_x_sample__processed"
   ]
  },
  {
   "cell_type": "code",
   "execution_count": null,
   "metadata": {},
   "outputs": [],
   "source": [
    "pl.offline.iplot(\n",
    "    {\n",
    "        \"layout\":{\n",
    "            title={\"text\":\"Distribution of Sample Values\"}, \"xaxis\":{\"title\":\"Value\"}\n",
    "        },\n",
    "        \"data\":[\n",
    "            {\"type\":=\"histogram\", \"name\":column_name, \"x\":column_values}\n",
    "            for column_name, column_values in gene_x_sample__processed.items()\n",
    "        ],\n",
    "    }\n",
    ")"
   ]
  }
 ],
 "metadata": {
  "kernelspec": {
   "display_name": "Python 3",
   "language": "python",
   "name": "python3"
  },
  "language_info": {
   "codemirror_mode": {
    "name": "ipython",
    "version": 3
   },
   "file_extension": ".py",
   "mimetype": "text/x-python",
   "name": "python",
   "nbconvert_exporter": "python",
   "pygments_lexer": "ipython3",
   "version": "3.7.8"
  }
 },
 "nbformat": 4,
 "nbformat_minor": 4
}
