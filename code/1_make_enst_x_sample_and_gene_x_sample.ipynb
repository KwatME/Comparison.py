{
 "cells": [
  {
   "cell_type": "code",
   "execution_count": null,
   "metadata": {
    "ExecuteTime": {
     "end_time": "2018-07-09T07:10:38.299421Z",
     "start_time": "2018-07-09T07:10:38.287916Z"
    }
   },
   "outputs": [],
   "source": [
    "%load_ext autoreload\n",
    "%autoreload 2"
   ]
  },
  {
   "cell_type": "code",
   "execution_count": null,
   "metadata": {},
   "outputs": [],
   "source": [
    "from environment import *\n",
    "\n",
    "with open(\"setting.yaml\") as yaml_file:\n",
    "\n",
    "    SETTING = yaml.load(yaml_file)\n",
    "\n",
    "PATH = make_path_dict(SETTING)"
   ]
  },
  {
   "cell_type": "code",
   "execution_count": null,
   "metadata": {},
   "outputs": [],
   "source": [
    "enst_tpms = []\n",
    "\n",
    "for sample_id, fastqs in SETTING[\"fastq_id_fastq_file_paths\"].items():\n",
    "\n",
    "    enst_tpm = pd.read_csv(\n",
    "        \"{}/{}/abundance.tsv\".format(PATH[\"kallisto/\"], sample_id),\n",
    "        sep=\"\\t\",\n",
    "        index_col=0,\n",
    "    )[\"tpm\"]\n",
    "\n",
    "    enst_tpm.name = sample_id\n",
    "\n",
    "    enst_tpms.append(enst_tpm)\n",
    "\n",
    "enst_x_sample = pd.concat(enst_tpms, axis=1)\n",
    "\n",
    "enst_x_sample.index.name = \"ENST\"\n",
    "\n",
    "enst_x_sample.to_csv(PATH[\"enst_x_sample.tsv\"], sep=\"\\t\")\n",
    "\n",
    "enst_x_sample"
   ]
  },
  {
   "cell_type": "code",
   "execution_count": null,
   "metadata": {
    "ExecuteTime": {
     "end_time": "2018-07-09T07:10:43.505155Z",
     "start_time": "2018-07-09T07:10:42.986606Z"
    }
   },
   "outputs": [],
   "source": [
    "enst_gene_name = pd.read_csv(SETTING[\"enst_gene_name_file_path\"], sep=\"\\t\")\n",
    "\n",
    "gene_x_sample = pd.DataFrame(\n",
    "    enst_x_sample,\n",
    "    index=enst_x_sample.index.map(\n",
    "        dict(\n",
    "            zip(\n",
    "                enst_gene_name[\"Transcript stable ID version\"],\n",
    "                enst_gene_name[\"Gene name\"].str.upper(),\n",
    "            )\n",
    "        )\n",
    "    ),\n",
    ")\n",
    "\n",
    "gene_x_sample.index.name = \"Gene\"\n",
    "\n",
    "gene_x_sample__processed = ccal.process_feature_x_sample(\n",
    "    gene_x_sample.loc[~gene_x_sample.index.isna()].groupby(level=0).mean(),\n",
    "    features_to_drop=SETTING[\"features_to_drop\"],\n",
    "    samples_to_drop=SETTING[\"samples_to_drop\"],\n",
    "    nanize=SETTING[\"nanize\"],\n",
    "    drop_axis=SETTING[\"drop_axis\"],\n",
    "    max_na=SETTING[\"max_na\"],\n",
    "    min_n_not_na_unique_value=SETTING[\"min_n_not_na_unique_value\"],\n",
    "    shift_as_necessary_to_achieve_min_before_logging=SETTING[\n",
    "        \"shift_as_necessary_to_achieve_min_before_logging\"\n",
    "    ],\n",
    "    log_base=SETTING[\"log_base\"],\n",
    "    normalization_axis=SETTING[\"normalization_axis\"],\n",
    "    normalization_method=SETTING[\"normalization_method\"],\n",
    "    clip_min=SETTING[\"clip_min\"],\n",
    "    clip_max=SETTING[\"clip_max\"],\n",
    "    plot_heat_map_max_size=SETTING[\"plot_heat_map_max_size\"],\n",
    "    plot_distributions_max_size=SETTING[\"plot_distributions_max_size\"],\n",
    "    plot_rug_max_size=SETTING[\"plot_rug_max_size\"],\n",
    ")\n",
    "\n",
    "gene_x_sample__processed.to_csv(PATH[\"gene_x_sample.tsv\"], sep=\"\\t\")\n",
    "\n",
    "gene_x_sample__processed"
   ]
  }
 ],
 "metadata": {
  "kernelspec": {
   "display_name": "Python 3",
   "language": "python",
   "name": "python3"
  },
  "language_info": {
   "codemirror_mode": {
    "name": "ipython",
    "version": 3
   },
   "file_extension": ".py",
   "mimetype": "text/x-python",
   "name": "python",
   "nbconvert_exporter": "python",
   "pygments_lexer": "ipython3",
   "version": "3.6.7"
  }
 },
 "nbformat": 4,
 "nbformat_minor": 2
}
