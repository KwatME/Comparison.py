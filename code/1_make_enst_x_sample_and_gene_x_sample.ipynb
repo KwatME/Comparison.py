{
 "cells": [
  {
   "cell_type": "code",
   "execution_count": null,
   "metadata": {
    "ExecuteTime": {
     "end_time": "2018-07-09T07:10:38.299421Z",
     "start_time": "2018-07-09T07:10:38.287916Z"
    }
   },
   "outputs": [],
   "source": [
    "%load_ext autoreload\n",
    "%autoreload 2"
   ]
  },
  {
   "cell_type": "code",
   "execution_count": null,
   "metadata": {},
   "outputs": [],
   "source": [
    "from environment import *\n",
    "\n",
    "with open(\"setting.yaml\") as :\n",
    "\n",
    "    SETTING = yaml.load()\n",
    "\n",
    "PATH = make_path_dict(SETTING)"
   ]
  },
  {
   "cell_type": "code",
   "execution_count": null,
   "metadata": {},
   "outputs": [],
   "source": [
    "enst_tpms = []\n",
    "\n",
    "for sample_id, fastqs in SETTING[\"fastq_id_fastq_file_paths\"].items():\n",
    "\n",
    "    enst_tpm = pd.read_csv(\n",
    "        os.path.join(PATH[\"kallisto/\"], sample_id, \"abundance.tsv\"),\n",
    "        sep=\"\\t\",\n",
    "        index_col=0,\n",
    "    )[\"tpm\"]\n",
    "\n",
    "    enst_tpm.name = sample_id\n",
    "\n",
    "    enst_tpms.append(enst_tpm)\n",
    "\n",
    "enst_x_sample = pd.concat(enst_tpms, axis=1)\n",
    "\n",
    "enst_x_sample.index.name = \"ENST\"\n",
    "\n",
    "enst_x_sample.to_csv(PATH[\"enst_x_sample.tsv\"], sep=\"\\t\")\n",
    "\n",
    "enst_x_sample"
   ]
  },
  {
   "cell_type": "code",
   "execution_count": null,
   "metadata": {},
   "outputs": [],
   "source": [
    "enst_gene_name = pd.read_csv(SETTING[\"enst_gene_name_file_path\"], sep=\"\\t\")\n",
    "\n",
    "gene_x_sample = pd.DataFrame(\n",
    "    enst_x_sample,\n",
    "    index=enst_x_sample.index.map(\n",
    "        {\n",
    "            enst: gene_name.str.upper()\n",
    "            for enst, gene_name in zip(\n",
    "                enst_gene_name[\"Transcript stable ID version\"],\n",
    "                enst_gene_name[\"Gene name\"],\n",
    "            )\n",
    "        }\n",
    "    ),\n",
    ")\n",
    "\n",
    "gene_x_sample.loc[~gene_x_sample.index.isna()].groupby(level=0).median()\n",
    "\n",
    "gene_x_sample.index.name = \"Gene\"\n",
    "\n",
    "gene_x_sample.to_csv(PATH[\"gene_x_sample.tsv\"], sep=\"\\t\")\n",
    "\n",
    "gene_x_sample"
   ]
  }
 ],
 "metadata": {
  "kernelspec": {
   "display_name": "Python 3",
   "language": "python",
   "name": "python3"
  },
  "language_info": {
   "codemirror_mode": {
    "name": "ipython",
    "version": 3
   },
   "file_extension": ".py",
   "mimetype": "text/x-python",
   "name": "python",
   "nbconvert_exporter": "python",
   "pygments_lexer": "ipython3",
   "version": "3.6.7"
  }
 },
 "nbformat": 4,
 "nbformat_minor": 2
}
