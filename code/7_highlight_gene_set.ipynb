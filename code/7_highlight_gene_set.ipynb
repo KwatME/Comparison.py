{
 "cells": [
  {
   "cell_type": "code",
   "execution_count": null,
   "metadata": {},
   "outputs": [],
   "source": [
    "%load_ext autoreload\n",
    "%autoreload 2"
   ]
  },
  {
   "cell_type": "code",
   "execution_count": null,
   "metadata": {},
   "outputs": [],
   "source": [
    "from environment import *\n",
    "from setting import *"
   ]
  },
  {
   "cell_type": "code",
   "execution_count": null,
   "metadata": {},
   "outputs": [],
   "source": [
    "target_x_sample = pd.read_table(\n",
    "    PATH_DICT['target_x_sample_file_path'],\n",
    "    index_col=0,\n",
    ")\n",
    "\n",
    "gene_set_x_sample = pd.read_table(\n",
    "    PATH_DICT['gene_set_x_sample_file_path'],\n",
    "    index_col=0,\n",
    ")"
   ]
  },
  {
   "cell_type": "code",
   "execution_count": null,
   "metadata": {},
   "outputs": [],
   "source": [
    "figure_feature_dicts = {\n",
    "    'Figure 0': {\n",
    "        'Stemness and EMT Signatures': {\n",
    "            'df': gene_set_x_sample.loc[[\n",
    "                'Cancer Stem Cell',\n",
    "                'BENPORATH_ES_CORE_NINE',\n",
    "                'BENPORATH_ES_WITH_H3K27ME3',\n",
    "                'HOEBEKE_LYMPHOID_STEM_CELL_UP',\n",
    "                'IVANOVA_HEMATOPOIESIS_STEM_CELL_AND_PROGENITOR',\n",
    "                'MIKKELSEN_IPS_LCP_WITH_H3K4ME3',\n",
    "                'MIKKELSEN_IPS_WITH_HCP_H3K27ME3',\n",
    "                'GOTZMANN_EPITHELIAL_TO_MESENCHYMAL_TRANSITION_UP',\n",
    "            ]],\n",
    "            'data_type': 'continuous',\n",
    "            'emphasis': 'low',\n",
    "        },\n",
    "        'Oncogenic Signatures': {\n",
    "            'df': gene_set_x_sample.loc[[\n",
    "                'HALLMARK_NOTCH_SIGNALING',\n",
    "                'HALLMARK_TGF_BETA_SIGNALING',\n",
    "                'HALLMARK_E2F_TARGETS',\n",
    "                'HALLMARK_WNT_BETA_CATENIN_SIGNALING',\n",
    "                'BIOCARTA_WNT_PATHWAY',\n",
    "                'PRC2_EZH2_UP.V1_UP',\n",
    "                'E2F3_UP.V1_UP',\n",
    "            ]],\n",
    "            'data_type': 'continuous',\n",
    "            'emphasis': 'low',\n",
    "        },\n",
    "        'NFkB Signatures': {\n",
    "            'df': gene_set_x_sample.loc[[\n",
    "                'HINATA_NFKB_TARGETS_KERATINOCYTE_UP',\n",
    "                'TIAN_TNF_SIGNALING_VIA_NFKB',\n",
    "            ]],\n",
    "            'data_type': 'continuous',\n",
    "            'emphasis': 'high',\n",
    "        },\n",
    "        'Differentiation Signatures': {\n",
    "            'df': gene_set_x_sample.loc[[\n",
    "                'RODRIGUES_THYROID_CARCINOMA_POORLY_DIFFERENTIATED_UP',\n",
    "                'MA_MYELOID_DIFFERENTIATION_UP',\n",
    "                'ADDYA_ERYTHROID_DIFFERENTIATION_BY_HEMIN',\n",
    "            ]],\n",
    "            'data_type': 'continuous',\n",
    "            'emphasis': 'high',\n",
    "        },\n",
    "    },\n",
    "}"
   ]
  },
  {
   "cell_type": "code",
   "execution_count": null,
   "metadata": {},
   "outputs": [],
   "source": [
    "for target_name, target_values in target_x_sample.iterrows():\n",
    "    \n",
    "    output_directory_path = '{}/{}'.format(\n",
    "        PATH_DICT['highlight_directory_path'],\n",
    "        target_name,\n",
    "    )\n",
    "    \n",
    "    ccal.establish_path(\n",
    "        output_directory_path,\n",
    "        'directory',\n",
    "    )\n",
    "    \n",
    "    target_values = target_values[target_values != -1]\n",
    "    \n",
    "    score_moe_p_value_fdr = pd.read_table(\n",
    "        '{}/{}/all.tsv'.format(\n",
    "            PATH_DICT['differentially_expressed_gene_set_directory_path'],\n",
    "            target_name,\n",
    "        ),\n",
    "        index_col=0,\n",
    "    )\n",
    "    \n",
    "    for figure, feature_dicts in figure_feature_dicts.items():\n",
    "        \n",
    "        ccal.make_summary_match_panel(\n",
    "            target_values,\n",
    "            feature_dicts,\n",
    "            score_moe_p_value_fdr,\n",
    "            target_ascending=TARGET_ASCENDING,\n",
    "            target_type=TARGET_TYPE,\n",
    "            plot_std=PLOT_STD,\n",
    "            title='{}<br>{}'.format(\n",
    "                target_name,\n",
    "                figure,\n",
    "            ),\n",
    "            html_file_path='{}/{}.html'.format(\n",
    "                output_directory_path,\n",
    "                figure,\n",
    "            ),\n",
    "        )"
   ]
  }
 ],
 "metadata": {
  "kernelspec": {
   "display_name": "Python 3",
   "language": "python",
   "name": "python3"
  },
  "language_info": {
   "codemirror_mode": {
    "name": "ipython",
    "version": 3
   },
   "file_extension": ".py",
   "mimetype": "text/x-python",
   "name": "python",
   "nbconvert_exporter": "python",
   "pygments_lexer": "ipython3",
   "version": "3.6.6"
  }
 },
 "nbformat": 4,
 "nbformat_minor": 2
}
