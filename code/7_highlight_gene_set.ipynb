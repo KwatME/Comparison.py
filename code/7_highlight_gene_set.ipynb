{
 "cells": [
  {
   "cell_type": "code",
   "execution_count": null,
   "metadata": {},
   "outputs": [],
   "source": [
    "%load_ext autoreload\n",
    "%autoreload 2"
   ]
  },
  {
   "cell_type": "code",
   "execution_count": null,
   "metadata": {},
   "outputs": [],
   "source": [
    "from environment import *\n",
    "from setting import *"
   ]
  },
  {
   "cell_type": "code",
   "execution_count": null,
   "metadata": {},
   "outputs": [],
   "source": [
    "target_x_sample = pd.read_table(\n",
    "    PATH_DICT['target_x_sample_file_path'],\n",
    "    index_col=0,\n",
    ")\n",
    "\n",
    "gene_set_x_sample = pd.read_table(\n",
    "    PATH_DICT['gene_set_x_sample_file_path'],\n",
    "    index_col=0,\n",
    ")"
   ]
  },
  {
   "cell_type": "code",
   "execution_count": null,
   "metadata": {},
   "outputs": [],
   "source": [
    "figure_feature_dicts = {\n",
    "    'Figure 0': {\n",
    "        'Gene Set to Peek': {\n",
    "            'df': gene_set_x_sample.loc[list(GENE_SET_TO_PEEK)],\n",
    "            'data_type': 'continuous',\n",
    "            'emphasis': 'high',\n",
    "        },\n",
    "    },\n",
    "}"
   ]
  },
  {
   "cell_type": "code",
   "execution_count": null,
   "metadata": {},
   "outputs": [],
   "source": [
    "for target_name, target_values in target_x_sample.iterrows():\n",
    "    \n",
    "    output_directory_path = '{}/{}'.format(\n",
    "        PATH_DICT['highlight_directory_path'],\n",
    "        target_name,\n",
    "    )\n",
    "    \n",
    "    ccal.establish_path(\n",
    "        output_directory_path,\n",
    "        'directory',\n",
    "    )\n",
    "    \n",
    "    target_values = target_values[target_values != -1]\n",
    "    \n",
    "    score_moe_p_value_fdr = pd.read_table(\n",
    "        '{}/{}/all.tsv'.format(\n",
    "            PATH_DICT['differentially_expressed_gene_set_directory_path'],\n",
    "            target_name,\n",
    "        ),\n",
    "        index_col=0,\n",
    "    )\n",
    "    \n",
    "    for figure, feature_dicts in figure_feature_dicts.items():\n",
    "        \n",
    "        ccal.make_summary_match_panel(\n",
    "            target_values,\n",
    "            feature_dicts,\n",
    "            score_moe_p_value_fdr,\n",
    "            target_ascending=TARGET_ASCENDING,\n",
    "            target_type=TARGET_TYPE,\n",
    "            plot_std=PLOT_STD,\n",
    "            title='{}<br>{}'.format(\n",
    "                target_name,\n",
    "                figure,\n",
    "            ),\n",
    "            html_file_path='{}/{}.html'.format(\n",
    "                output_directory_path,\n",
    "                figure,\n",
    "            ),\n",
    "        )"
   ]
  }
 ],
 "metadata": {
  "kernelspec": {
   "display_name": "Python 3",
   "language": "python",
   "name": "python3"
  },
  "language_info": {
   "codemirror_mode": {
    "name": "ipython",
    "version": 3
   },
   "file_extension": ".py",
   "mimetype": "text/x-python",
   "name": "python",
   "nbconvert_exporter": "python",
   "pygments_lexer": "ipython3",
   "version": "3.6.6"
  }
 },
 "nbformat": 4,
 "nbformat_minor": 2
}
