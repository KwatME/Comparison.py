{
 "cells": [
  {
   "cell_type": "code",
   "execution_count": null,
   "metadata": {},
   "outputs": [],
   "source": [
    "from __init__ import *"
   ]
  },
  {
   "cell_type": "code",
   "execution_count": null,
   "metadata": {},
   "outputs": [],
   "source": [
    "feature_x_sample = pd.read_csv(\"../input/feature_x_sample.tsv\", sep=\"\\t\", index_col=0)\n",
    "\n",
    "comparison_x_sample = pd.read_csv(\n",
    "    \"../output/comparison_x_sample.tsv\", sep=\"\\t\", index_col=0\n",
    ")\n",
    "\n",
    "set_to_feature_ = kraft.gmt.read(kraft.path.list_absolute(\"../input/set/\"))"
   ]
  },
  {
   "cell_type": "code",
   "execution_count": null,
   "metadata": {},
   "outputs": [],
   "source": [
    "set_x_information = pd.DataFrame(\n",
    "    data={\n",
    "        \"Selected\": False,\n",
    "        \"N\": [len(f_) for f_ in set_to_feature_.values()],\n",
    "        \"n\": [\n",
    "            sum(f in feature_x_sample.index for f in f_)\n",
    "            for f_ in set_to_feature_.values()\n",
    "        ],\n",
    "    },\n",
    "    index=set_to_feature_,\n",
    ")\n",
    "\n",
    "set_x_information.loc[:, \".\"] = (\n",
    "    set_x_information.loc[:, \"n\"].to_numpy() / set_x_information.loc[:, \"N\"].to_numpy()\n",
    ")\n",
    "\n",
    "set_x_information"
   ]
  },
  {
   "cell_type": "code",
   "execution_count": null,
   "metadata": {},
   "outputs": [],
   "source": [
    "set_x_information.loc[\n",
    "    kraft.array.check_is_extreme(\n",
    "        set_x_information.loc[:, \"n\"].to_numpy(),\n",
    "        \">\",\n",
    "        low_and_high=(None, SETTING[\"n_set\"]),\n",
    "    )\n",
    "    & kraft.array.check_is_extreme(\n",
    "        set_x_information.loc[:, \".\"].to_numpy(),\n",
    "        \">\",\n",
    "        low_and_high=(None, SETTING[\"._set\"]),\n",
    "    ),\n",
    "    \"Selected\",\n",
    "] = True"
   ]
  },
  {
   "cell_type": "code",
   "execution_count": null,
   "metadata": {},
   "outputs": [],
   "source": [
    "set_x_information.loc[SETTING[\"peek_set_\"], \"Selected\"] = True"
   ]
  },
  {
   "cell_type": "code",
   "execution_count": null,
   "metadata": {},
   "outputs": [],
   "source": [
    "set_x_information.loc[:, \"Selected\"].sum()"
   ]
  },
  {
   "cell_type": "code",
   "execution_count": null,
   "metadata": {},
   "outputs": [],
   "source": [
    "set_x_information.to_csv(\"../output/set_x_information.tsv\", sep=\"\\t\")\n",
    "\n",
    "set_x_information"
   ]
  },
  {
   "cell_type": "code",
   "execution_count": null,
   "metadata": {},
   "outputs": [],
   "source": [
    "set_x_information.loc[SETTING[\"peek_set_\"], :]"
   ]
  },
  {
   "cell_type": "code",
   "execution_count": null,
   "metadata": {},
   "outputs": [],
   "source": [
    "for set_ in set_to_feature_:\n",
    "\n",
    "    if re.match(\n",
    "        r\"^{0}$|.*{1}{0}{1}.*|^{0}{1}.*|.*{1}{0}$\".format(\"FATIGUE[0-9]*\", \"[\\s_]\"),\n",
    "        set_,\n",
    "    ):\n",
    "\n",
    "        print(set_)"
   ]
  }
 ],
 "metadata": {
  "kernelspec": {
   "display_name": "Python 3",
   "language": "python",
   "name": "python3"
  },
  "language_info": {
   "codemirror_mode": {
    "name": "ipython",
    "version": 3
   },
   "file_extension": ".py",
   "mimetype": "text/x-python",
   "name": "python",
   "nbconvert_exporter": "python",
   "pygments_lexer": "ipython3",
   "version": "3.8.9"
  }
 },
 "nbformat": 4,
 "nbformat_minor": 4
}
