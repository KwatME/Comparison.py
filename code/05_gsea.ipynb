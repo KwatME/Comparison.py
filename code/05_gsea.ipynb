{
 "cells": [
  {
   "cell_type": "code",
   "execution_count": null,
   "metadata": {},
   "outputs": [],
   "source": [
    "%load_ext autoreload\n",
    "%autoreload 2"
   ]
  },
  {
   "cell_type": "code",
   "execution_count": null,
   "metadata": {},
   "outputs": [],
   "source": [
    "from __init__ import *"
   ]
  },
  {
   "cell_type": "code",
   "execution_count": null,
   "metadata": {},
   "outputs": [],
   "source": [
    "feature_x_sample = pd.read_csv(\"../input/feature_x_sample.tsv\", sep=\"\\t\", index_col=0)\n",
    "\n",
    "comparison_x_sample = pd.read_csv(\n",
    "    \"../output/comparison_x_sample.tsv\", sep=\"\\t\", index_col=0\n",
    ")\n",
    "\n",
    "sets = kraft.gmt.read_many(kraft.path.list_(\"../input/feature_set/\"))\n",
    "\n",
    "set_x_information = pd.read_csv(\n",
    "    \"../output/set_x_information.tsv\", sep=\"\\t\", index_col=0\n",
    ")"
   ]
  },
  {
   "cell_type": "code",
   "execution_count": null,
   "metadata": {},
   "outputs": [],
   "source": [
    "for comparison in comparison_x_sample.index.to_numpy():\n",
    "\n",
    "    directory_path = os.path.join(\"../output/sea\", kraft.path.clean(comparison), \"\")\n",
    "\n",
    "    kraft.path.path(directory_path)\n",
    "\n",
    "    scores = pd.read_csv(\n",
    "        os.path.join(\n",
    "            \"../output/find_differentially_expressed_feature\",\n",
    "            kraft.path.clean(comparison),\n",
    "            \"all_{}\".format(SETTING[\"sea_function\"]),\n",
    "            \"scores.tsv\",\n",
    "        ),\n",
    "        sep=\"\\t\",\n",
    "        index_col=0,\n",
    "    )\n",
    "\n",
    "    score_ = scores.loc[:, \"Score\"]\n",
    "\n",
    "    score_.name = SETTING[\"sea_function\"]\n",
    "\n",
    "    set_scores = kraft.sea.score_samples_and_sets(\n",
    "        score_.to_frame(),\n",
    "        {\n",
    "            set_: sets[set_]\n",
    "            for set_ in set_x_information.index.to_numpy()[\n",
    "                set_x_information.loc[:, \"Selected\"].to_numpy()\n",
    "            ]\n",
    "        },\n",
    "        n_job=SETTING[\"n_job\"],\n",
    "    ).squeeze()\n",
    "\n",
    "    set_scores.to_csv(\n",
    "        os.path.join(directory_path, \"{}.tsv\".format(SETTING[\"sea_function\"])),\n",
    "        sep=\"\\t\",\n",
    "    )"
   ]
  },
  {
   "cell_type": "code",
   "execution_count": null,
   "metadata": {},
   "outputs": [],
   "source": [
    "\"../output/sea/\""
   ]
  },
  {
   "cell_type": "code",
   "execution_count": null,
   "metadata": {},
   "outputs": [],
   "source": [
    "set_score.name = \"GSEA Score ({})\".format(SETTING[\"gsea_statistic\"])\n",
    "\n",
    "\n",
    "    print(set_x_information.loc[set_score.index])\n",
    "\n",
    "    kraft.plot_point_and_annotate(\n",
    "        None,\n",
    "        set_score,\n",
    "        \"y\",\n",
    "        annotation=((\"Peek\", SETTING[\"sets_to_peek\"], 8, \"#20d9ba\"),),\n",
    "        title={\"text\": target_name},\n",
    "        html_file_path=os.path.join(\n",
    "            directory_path,\n",
    "            \"{}.plot_point_and_annotate.html\".format(\n",
    "                SETTING[\"gsea_match_function_name\"]\n",
    "            ),\n",
    "        ),\n",
    "    )\n",
    "\n",
    "    directory_path = os.path.join(\n",
    "        directory_path, \"{}.mountain\".format(SETTING[\"gsea_match_function_name\"])\n",
    "    )\n",
    "\n",
    "    kraft.establish_path(directory_path, \"directory\")\n",
    "\n",
    "    for set_name in SETTING[\"sets_to_peek\"]:\n",
    "\n",
    "        kraft.single_sample_gsea(\n",
    "            feature_score,\n",
    "            sets.loc[set_name],\n",
    "            statistic=SETTING[\"gsea_statistic\"],\n",
    "            title=\"{}<br>{}\".format(target_name, set_name),\n",
    "            html_file_path=os.path.join(\n",
    "                directory_path, \"{}.html\".format(set_name)\n",
    "            ),\n",
    "        )"
   ]
  }
 ],
 "metadata": {
  "kernelspec": {
   "display_name": "Python 3",
   "language": "python",
   "name": "python3"
  },
  "language_info": {
   "codemirror_mode": {
    "name": "ipython",
    "version": 3
   },
   "file_extension": ".py",
   "mimetype": "text/x-python",
   "name": "python",
   "nbconvert_exporter": "python",
   "pygments_lexer": "ipython3",
   "version": "3.7.8"
  }
 },
 "nbformat": 4,
 "nbformat_minor": 4
}
