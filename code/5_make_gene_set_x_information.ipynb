{
 "cells": [
  {
   "cell_type": "code",
   "execution_count": null,
   "metadata": {},
   "outputs": [],
   "source": [
    "%load_ext autoreload\n",
    "%autoreload 2"
   ]
  },
  {
   "cell_type": "code",
   "execution_count": null,
   "metadata": {},
   "outputs": [],
   "source": [
    "from environment import *\n",
    "\n",
    "with open(\"setting.json\") as io:\n",
    "\n",
    "    SETTING = json.load(io)\n",
    "\n",
    "PATH = make_path_dict(SETTING)"
   ]
  },
  {
   "cell_type": "code",
   "execution_count": null,
   "metadata": {},
   "outputs": [],
   "source": [
    "gene_x_sample = pd.read_csv(PATH[\"gene_x_sample.processed.tsv\"], sep=\"\\t\", index_col=0)\n",
    "\n",
    "gene_sets = kraft.read_gmts(SETTING[\"gene_set_file_paths\"])"
   ]
  },
  {
   "cell_type": "code",
   "execution_count": null,
   "metadata": {},
   "outputs": [],
   "source": [
    "gene_set_x_information = pd.DataFrame(index=gene_sets.index)\n",
    "\n",
    "gene_set_x_information[\"Size\"] = gene_sets.apply(\n",
    "    lambda genes: genes.dropna().size, axis=1\n",
    ")\n",
    "\n",
    "gene_set_x_information[\"N\"] = gene_sets.apply(\n",
    "    lambda genes: sum(gene in gene_x_sample.index for gene in genes), axis=1\n",
    ")\n",
    "\n",
    "gene_set_x_information[\"Fraction\"] = (\n",
    "    gene_set_x_information[\"N\"] / gene_set_x_information[\"Size\"]\n",
    ")\n",
    "\n",
    "selected_gene_sets = kraft.select_series_indices(\n",
    "    gene_set_x_information[\"N\"],\n",
    "    \">\",\n",
    "    threshold=SETTING[\"gene_set_minimum_n\"],\n",
    "    title={\"text\": \"Good Gene Sets\"},\n",
    "    xaxis={\"title\": \"Rank\"},\n",
    "    yaxis={\"title\": \"Number of Genes in the Data\"},\n",
    ") & kraft.select_series_indices(\n",
    "    gene_set_x_information[\"Fraction\"],\n",
    "    \">\",\n",
    "    threshold=SETTING[\"gene_set_minimum_fraction\"],\n",
    "    title={\"text\": \"Good Gene Sets\"},\n",
    "    xaxis={\"title\": \"Rank\"},\n",
    "    yaxis={\"title\": \"Fraction of Genes in the Data\"},\n",
    ")\n",
    "\n",
    "gene_set_x_information.loc[selected_gene_sets, \"Good\"] = 1\n",
    "\n",
    "gene_set_x_information[\"Good\"].fillna(0, inplace=True)\n",
    "\n",
    "print(gene_set_x_information[\"Good\"].value_counts())\n",
    "\n",
    "gene_set_x_information.to_csv(PATH[\"gene_set_x_information.tsv\"], sep=\"\\t\")\n",
    "\n",
    "gene_set_x_information.sort_values(\"Good\")"
   ]
  },
  {
   "cell_type": "code",
   "execution_count": null,
   "metadata": {},
   "outputs": [],
   "source": [
    "gene_set_x_information.reindex(SETTING[\"gene_sets_to_peek\"]).sort_values(\"Good\")"
   ]
  }
 ],
 "metadata": {
  "kernelspec": {
   "display_name": "Python 3",
   "language": "python",
   "name": "python3"
  },
  "language_info": {
   "codemirror_mode": {
    "name": "ipython",
    "version": 3
   },
   "file_extension": ".py",
   "mimetype": "text/x-python",
   "name": "python",
   "nbconvert_exporter": "python",
   "pygments_lexer": "ipython3",
   "version": "3.7.3"
  }
 },
 "nbformat": 4,
 "nbformat_minor": 2
}
