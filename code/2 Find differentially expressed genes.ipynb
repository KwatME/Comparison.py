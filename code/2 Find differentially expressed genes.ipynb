{
 "cells": [
  {
   "cell_type": "code",
   "execution_count": null,
   "metadata": {
    "ExecuteTime": {
     "end_time": "2018-07-10T08:40:00.650547Z",
     "start_time": "2018-07-10T08:40:00.635853Z"
    }
   },
   "outputs": [],
   "source": [
    "%load_ext autoreload\n",
    "\n",
    "%autoreload 2"
   ]
  },
  {
   "cell_type": "code",
   "execution_count": null,
   "metadata": {
    "ExecuteTime": {
     "end_time": "2018-07-10T08:40:02.540703Z",
     "start_time": "2018-07-10T08:40:00.652198Z"
    }
   },
   "outputs": [],
   "source": [
    "from environment import *\n",
    "from setting import *"
   ]
  },
  {
   "cell_type": "code",
   "execution_count": null,
   "metadata": {},
   "outputs": [],
   "source": [
    "target_x_sample = pd.read_table(\n",
    "    '../data/target_x_sample.tsv',\n",
    "    index_col=0,\n",
    ")"
   ]
  },
  {
   "cell_type": "code",
   "execution_count": null,
   "metadata": {
    "ExecuteTime": {
     "end_time": "2018-07-10T08:40:02.659677Z",
     "start_time": "2018-07-10T08:40:02.543406Z"
    }
   },
   "outputs": [],
   "source": [
    "gene_x_sample = pd.read_table(\n",
    "    '../output/processed__gene_x_sample.tsv',\n",
    "    index_col=0,\n",
    ")"
   ]
  },
  {
   "cell_type": "code",
   "execution_count": null,
   "metadata": {
    "ExecuteTime": {
     "end_time": "2018-07-10T08:40:31.069282Z",
     "start_time": "2018-07-10T08:40:02.728783Z"
    }
   },
   "outputs": [],
   "source": [
    "ccal.make_match_panels(\n",
    "    (target_x_sample.iloc[i] for i in range(target_x_sample.shape[0])),\n",
    "    (\n",
    "        True,\n",
    "        True,\n",
    "    ),\n",
    "    (\n",
    "        True,\n",
    "        True,\n",
    "    ),\n",
    "    (\n",
    "        'binary',\n",
    "        'binary',\n",
    "    ),\n",
    "    {\n",
    "        'All Genes': {\n",
    "            'df': gene_x_sample,\n",
    "            'emphasis': 'high',\n",
    "            'data_type': 'continuous',\n",
    "        },\n",
    "        'Genes to Peek': {\n",
    "            'df': gene_x_sample.loc[gene_x_sample.index & set(GENES_TO_PEEK)],\n",
    "            'emphasis': 'high',\n",
    "            'data_type': 'continuous',\n",
    "        },\n",
    "    },\n",
    "    n_job=N_JOB,\n",
    "    extreme_feature_threshold=EXTREME_FEATURE_THRESHOLD,\n",
    "    n_sampling=N_SAMPLING,\n",
    "    n_permutation=N_PERMUTATION,\n",
    "    plot_features_std_max=3,\n",
    "    directory_path='../output/gene',\n",
    "    overwrite=OVERWRITE,\n",
    ")"
   ]
  }
 ],
 "metadata": {
  "kernelspec": {
   "display_name": "Python 3",
   "language": "python",
   "name": "python3"
  },
  "language_info": {
   "codemirror_mode": {
    "name": "ipython",
    "version": 3
   },
   "file_extension": ".py",
   "mimetype": "text/x-python",
   "name": "python",
   "nbconvert_exporter": "python",
   "pygments_lexer": "ipython3",
   "version": "3.6.6"
  }
 },
 "nbformat": 4,
 "nbformat_minor": 2
}
