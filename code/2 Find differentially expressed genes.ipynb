{
 "cells": [
  {
   "cell_type": "code",
   "execution_count": null,
   "metadata": {
    "ExecuteTime": {
     "end_time": "2018-07-10T08:40:00.650547Z",
     "start_time": "2018-07-10T08:40:00.635853Z"
    }
   },
   "outputs": [],
   "source": [
    "%load_ext autoreload\n",
    "\n",
    "%autoreload 2"
   ]
  },
  {
   "cell_type": "code",
   "execution_count": null,
   "metadata": {
    "ExecuteTime": {
     "end_time": "2018-07-10T08:40:02.540703Z",
     "start_time": "2018-07-10T08:40:00.652198Z"
    }
   },
   "outputs": [],
   "source": [
    "from environment import *\n",
    "\n",
    "from setting import *"
   ]
  },
  {
   "cell_type": "code",
   "execution_count": null,
   "metadata": {},
   "outputs": [],
   "source": [
    "target_x_sample = pd.read_table(\n",
    "    '../data/target_x_sample.tsv',\n",
    "    index_col=0,\n",
    ")"
   ]
  },
  {
   "cell_type": "code",
   "execution_count": null,
   "metadata": {
    "ExecuteTime": {
     "end_time": "2018-07-10T08:40:02.659677Z",
     "start_time": "2018-07-10T08:40:02.543406Z"
    }
   },
   "outputs": [],
   "source": [
    "gene_x_sample = pd.read_table(\n",
    "    '../output/gene_x_sample__processed.tsv',\n",
    "    index_col=0,\n",
    ")"
   ]
  },
  {
   "cell_type": "code",
   "execution_count": null,
   "metadata": {},
   "outputs": [],
   "source": [
    "output_directory_path = '../output/gene'"
   ]
  },
  {
   "cell_type": "code",
   "execution_count": null,
   "metadata": {},
   "outputs": [],
   "source": [
    "n_target = target_x_sample.shape[0]\n",
    "\n",
    "ccal.make_match_panels(\n",
    "    (target_x_sample.iloc[i] for i in range(n_target)),\n",
    "    (\n",
    "        True,\n",
    "    ) * n_target,\n",
    "    (\n",
    "        True,\n",
    "    ) * n_target,\n",
    "    (\n",
    "        'binary',\n",
    "    ) * n_target,\n",
    "    {\n",
    "        'All Genes': {\n",
    "            'df': gene_x_sample,\n",
    "            'data_type': 'continuous',\n",
    "            'emphasis': 'high',\n",
    "        },\n",
    "        'Genes to Peek': {\n",
    "            'df': gene_x_sample.loc[gene_x_sample.index & set(GENES_TO_PEEK)],\n",
    "            'data_type': 'continuous',\n",
    "            'emphasis': 'high',\n",
    "        },\n",
    "    },\n",
    "    n_job=N_JOB,\n",
    "    extreme_feature_threshold=EXTREME_FEATURE_THRESHOLD,\n",
    "    n_sampling=N_SAMPLING,\n",
    "    n_permutation=N_PERMUTATION,\n",
    "    plot_features_std_max=PLOT_FEATURES_STD_MAX,\n",
    "    directory_path=output_directory_path,\n",
    "    overwrite=OVERWRITE,\n",
    ")"
   ]
  },
  {
   "cell_type": "code",
   "execution_count": null,
   "metadata": {},
   "outputs": [],
   "source": [
    "def compute_log2_ratio(\n",
    "    values,\n",
    "    target,\n",
    "):\n",
    "\n",
    "    before = values[target == 0].mean()\n",
    "    \n",
    "    after = values[target == 1].mean()\n",
    "    \n",
    "    ratio = after / before\n",
    "    \n",
    "    return np.log2(ratio)"
   ]
  },
  {
   "cell_type": "code",
   "execution_count": null,
   "metadata": {
    "ExecuteTime": {
     "end_time": "2018-07-10T08:40:31.069282Z",
     "start_time": "2018-07-10T08:40:02.728783Z"
    }
   },
   "outputs": [],
   "source": [
    "n_target = target_x_sample.shape[0]\n",
    "\n",
    "ccal.make_match_panels(\n",
    "    (target_x_sample.iloc[i] for i in range(n_target)),\n",
    "    (\n",
    "        True,\n",
    "    ) * n_target,\n",
    "    (\n",
    "        True,\n",
    "    ) * n_target,\n",
    "    (\n",
    "        'binary',\n",
    "    ) * n_target,\n",
    "    {\n",
    "        'All Genes': {\n",
    "            'df': gene_x_sample + abs(gene_x_sample.min().min()) + 1,\n",
    "            'data_type': 'continuous',\n",
    "            'emphasis': 'high',\n",
    "        },\n",
    "        'Genes to Peek': {\n",
    "            'df': gene_x_sample.loc[gene_x_sample.index & set(GENES_TO_PEEK)],\n",
    "            'data_type': 'continuous',\n",
    "            'emphasis': 'high',\n",
    "        },\n",
    "    },\n",
    "    match_function=compute_log2_ratio,\n",
    "    n_required_for_match_function=6,\n",
    "    extreme_feature_threshold=EXTREME_FEATURE_THRESHOLD,\n",
    "    n_sampling=N_SAMPLING,\n",
    "    n_permutation=N_PERMUTATION,\n",
    "    plot_features_std_max=PLOT_FEATURES_STD_MAX,\n",
    ")"
   ]
  }
 ],
 "metadata": {
  "kernelspec": {
   "display_name": "Python 3",
   "language": "python",
   "name": "python3"
  },
  "language_info": {
   "codemirror_mode": {
    "name": "ipython",
    "version": 3
   },
   "file_extension": ".py",
   "mimetype": "text/x-python",
   "name": "python",
   "nbconvert_exporter": "python",
   "pygments_lexer": "ipython3",
   "version": "3.6.6"
  }
 },
 "nbformat": 4,
 "nbformat_minor": 2
}
