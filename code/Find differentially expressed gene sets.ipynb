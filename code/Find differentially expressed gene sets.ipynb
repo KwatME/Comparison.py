{
 "cells": [
  {
   "cell_type": "code",
   "execution_count": null,
   "metadata": {
    "ExecuteTime": {
     "end_time": "2018-05-20T06:00:49.582424Z",
     "start_time": "2018-05-20T06:00:49.557727Z"
    }
   },
   "outputs": [],
   "source": [
    "%load_ext autoreload\n",
    "\n",
    "%autoreload 2"
   ]
  },
  {
   "cell_type": "code",
   "execution_count": null,
   "metadata": {
    "ExecuteTime": {
     "end_time": "2018-05-20T06:00:51.676445Z",
     "start_time": "2018-05-20T06:00:49.842181Z"
    }
   },
   "outputs": [],
   "source": [
    "from environment import *\n",
    "\n",
    "from parameters import *"
   ]
  },
  {
   "cell_type": "code",
   "execution_count": null,
   "metadata": {
    "ExecuteTime": {
     "end_time": "2018-05-20T06:00:51.884506Z",
     "start_time": "2018-05-20T06:00:51.680383Z"
    },
    "scrolled": true
   },
   "outputs": [],
   "source": [
    "gene_x_sample = pd.read_table(\n",
    "    '../output/max_tpm_log__gene_x_sample.tsv', index_col=0)\n",
    "\n",
    "gene_x_sample"
   ]
  },
  {
   "cell_type": "code",
   "execution_count": null,
   "metadata": {
    "ExecuteTime": {
     "end_time": "2018-05-20T06:00:51.921240Z",
     "start_time": "2018-05-20T06:00:51.886426Z"
    }
   },
   "outputs": [],
   "source": [
    "target_x_sample = pd.read_table('../data/target_x_sample.tsv', index_col=0)\n",
    "\n",
    "target_x_sample"
   ]
  },
  {
   "cell_type": "code",
   "execution_count": null,
   "metadata": {
    "ExecuteTime": {
     "end_time": "2018-05-20T06:00:51.941498Z",
     "start_time": "2018-05-20T06:00:51.923208Z"
    },
    "scrolled": true
   },
   "outputs": [],
   "source": [
    "gene_set_directory_path = '../data/gene_set'\n",
    "\n",
    "gene_set_file_paths = tuple(\n",
    "    os.path.join(gene_set_directory_path, gene_set_file_name)\n",
    "    for gene_set_file_name in os.listdir(gene_set_directory_path)\n",
    "    if gene_set_file_name.endswith('.gmt'))\n",
    "\n",
    "gene_set_file_paths"
   ]
  },
  {
   "cell_type": "code",
   "execution_count": null,
   "metadata": {
    "ExecuteTime": {
     "end_time": "2018-05-20T06:01:00.534358Z",
     "start_time": "2018-05-20T06:01:00.509557Z"
    }
   },
   "outputs": [],
   "source": [
    "normalization_method = '0-1'\n",
    "\n",
    "statistic = 'auc'"
   ]
  },
  {
   "cell_type": "code",
   "execution_count": null,
   "metadata": {
    "ExecuteTime": {
     "start_time": "2018-05-20T06:01:03.984Z"
    },
    "scrolled": true
   },
   "outputs": [],
   "source": [
    "for gene_set_file_path in gene_set_file_paths:\n",
    "\n",
    "    print(gene_set_file_paths)\n",
    "\n",
    "    gene_sets = ccal.read_gmt(gene_set_file_path)\n",
    "\n",
    "    gene_set_file_name = os.path.split(gene_set_file_path)[1]\n",
    "\n",
    "    output_directory_path = '../output/gene_set/{}'.format(gene_set_file_name)\n",
    "\n",
    "    gene_set_x_sample_file_path = '{}/gene_set_x_sample.tsv'.format(\n",
    "        output_directory_path)\n",
    "\n",
    "    if os.path.isfile(gene_set_x_sample_file_path):\n",
    "\n",
    "        gene_set_x_sample = pd.read_table(\n",
    "            gene_set_x_sample_file_path, index_col=0)\n",
    "\n",
    "    else:\n",
    "\n",
    "        gene_set_x_sample = ccal.single_sample_gseas(\n",
    "            gene_x_sample,\n",
    "            gene_sets,\n",
    "            normalization_method=normalization_method,\n",
    "            statistic=statistic,\n",
    "            file_path=gene_set_x_sample_file_path)\n",
    "\n",
    "    make_match_panels(target_x_sample, gene_set_x_sample, 1, 16, 10, 10,\n",
    "                      '({}) '.format(gene_set_file_name),\n",
    "                      output_directory_path)"
   ]
  },
  {
   "cell_type": "code",
   "execution_count": null,
   "metadata": {
    "ExecuteTime": {
     "start_time": "2018-05-20T06:01:05.645Z"
    }
   },
   "outputs": [],
   "source": [
    "gene_sets_to_peek_output_directory_path = '../output/gene_set/gene_sets_to_peek'\n",
    "\n",
    "ccal.establish_path(gene_sets_to_peek_output_directory_path, 'directory')"
   ]
  },
  {
   "cell_type": "code",
   "execution_count": null,
   "metadata": {
    "ExecuteTime": {
     "start_time": "2018-05-20T06:01:07.141Z"
    }
   },
   "outputs": [],
   "source": [
    "all_gene_sets = ccal.read_gmts(gene_set_file_paths)\n",
    "\n",
    "all_gene_sets"
   ]
  },
  {
   "cell_type": "code",
   "execution_count": null,
   "metadata": {
    "ExecuteTime": {
     "start_time": "2018-05-20T06:01:07.542Z"
    },
    "scrolled": true
   },
   "outputs": [],
   "source": [
    "gene_sets_to_peek = np.full(all_gene_sets.shape[0], False)\n",
    "\n",
    "for gene_set in GENE_SETS_TO_PEEK:\n",
    "\n",
    "    gene_sets_to_peek |= all_gene_sets.index.str.lower() == gene_set\n",
    "\n",
    "for gene_set_keyword in GENE_SET_KEYWORDS_TO_PEEK:\n",
    "\n",
    "    gene_sets_to_peek |= all_gene_sets.index.str.lower().str.contains(\n",
    "        gene_set_keyword)\n",
    "\n",
    "gene_sets_to_peek = all_gene_sets.loc[gene_sets_to_peek]\n",
    "\n",
    "gene_sets_to_peek"
   ]
  },
  {
   "cell_type": "code",
   "execution_count": null,
   "metadata": {
    "ExecuteTime": {
     "start_time": "2018-05-20T06:01:07.933Z"
    },
    "scrolled": true
   },
   "outputs": [],
   "source": [
    "gene_set_x_sample_file_path = '{}/gene_set_x_sample.tsv'.format(\n",
    "    gene_sets_to_peek_output_directory_path)\n",
    "\n",
    "gene_set_x_sample = ccal.single_sample_gseas(\n",
    "    gene_x_sample,\n",
    "    gene_sets_to_peek,\n",
    "    normalization_method=normalization_method,\n",
    "    statistic=statistic,\n",
    "    file_path=gene_set_x_sample_file_path)\n",
    "\n",
    "make_match_panels(target_x_sample, gene_set_x_sample, 1, None, 10, 10,\n",
    "                  '(gene sets to peek) ',\n",
    "                  gene_sets_to_peek_output_directory_path)"
   ]
  },
  {
   "cell_type": "code",
   "execution_count": null,
   "metadata": {
    "ExecuteTime": {
     "start_time": "2018-05-20T06:01:08.732Z"
    },
    "scrolled": true
   },
   "outputs": [],
   "source": [
    "for target_name, target in target_x_sample.iterrows():\n",
    "\n",
    "    target = target[target != -1]\n",
    "\n",
    "    print(target)\n",
    "\n",
    "    gene_set_score_p_value_fdr = ccal.gsea(\n",
    "        gene_x_sample[target.index],\n",
    "        target,\n",
    "        gene_sets_to_peek,\n",
    "        method=ccal.compute_information_coefficient,\n",
    "        normalization_method=None,\n",
    "        statistic=statistic,\n",
    "        plot=True,\n",
    "        directory_path='{}/gsea/{}'.format(\n",
    "            gene_sets_to_peek_output_directory_path, target_name))\n",
    "\n",
    "    scores = gene_set_score_p_value_fdr['Score']\n",
    "\n",
    "    print('{}: N={} & mean={:.3f} & STD={:.3f}'.format(target_name,\n",
    "                                                       scores.shape[0],\n",
    "                                                       scores.mean(),\n",
    "                                                       scores.std()))"
   ]
  }
 ],
 "metadata": {
  "kernelspec": {
   "display_name": "Python [default]",
   "language": "python",
   "name": "python3"
  },
  "language_info": {
   "codemirror_mode": {
    "name": "ipython",
    "version": 3
   },
   "file_extension": ".py",
   "mimetype": "text/x-python",
   "name": "python",
   "nbconvert_exporter": "python",
   "pygments_lexer": "ipython3",
   "version": "3.6.5"
  }
 },
 "nbformat": 4,
 "nbformat_minor": 2
}
