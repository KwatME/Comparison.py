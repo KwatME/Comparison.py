{
 "cells": [
  {
   "cell_type": "code",
   "execution_count": null,
   "metadata": {
    "ExecuteTime": {
     "end_time": "2018-07-09T07:10:38.299421Z",
     "start_time": "2018-07-09T07:10:38.287916Z"
    }
   },
   "outputs": [],
   "source": [
    "%load_ext autoreload\n",
    "%autoreload 2"
   ]
  },
  {
   "cell_type": "code",
   "execution_count": null,
   "metadata": {},
   "outputs": [],
   "source": [
    "from environment import *\n",
    "\n",
    "with open(\"setting.yaml\") as yaml_file:\n",
    "\n",
    "    SETTING = yaml.load(yaml_file)\n",
    "\n",
    "PATH = make_path_dict(SETTING)"
   ]
  },
  {
   "cell_type": "code",
   "execution_count": null,
   "metadata": {},
   "outputs": [],
   "source": [
    "gene_x_sample = pd.read_csv(PATH[\"gene_x_sample.tsv\"], sep=\"\\t\", index_col=0)"
   ]
  },
  {
   "cell_type": "code",
   "execution_count": null,
   "metadata": {},
   "outputs": [],
   "source": [
    "gene_x_sample__processed = ccal.process_feature_x_sample(\n",
    "    gene_x_sample,\n",
    "    features_to_drop=SETTING[\"features_to_drop\"],\n",
    "    samples_to_drop=SETTING[\"samples_to_drop\"],\n",
    "    nanize=SETTING[\"nanize\"],\n",
    "    drop_axis=SETTING[\"drop_axis\"],\n",
    "    max_na=SETTING[\"max_na\"],\n",
    "    min_n_not_na_unique_value=SETTING[\"min_n_not_na_unique_value\"],\n",
    "    shift_as_necessary_to_achieve_min_before_logging=SETTING[\n",
    "        \"shift_as_necessary_to_achieve_min_before_logging\"\n",
    "    ],\n",
    "    log_base=SETTING[\"log_base\"],\n",
    "    normalization_axis=SETTING[\"normalization_axis\"],\n",
    "    normalization_method=SETTING[\"normalization_method\"],\n",
    "    clip_min=SETTING[\"clip_min\"],\n",
    "    clip_max=SETTING[\"clip_max\"],\n",
    "    plot_heat_map_max_size=SETTING[\"plot_heat_map_max_size\"],\n",
    "    plot_distributions_max_size=SETTING[\"plot_distributions_max_size\"],\n",
    "    plot_rug_max_size=SETTING[\"plot_rug_max_size\"],\n",
    ")\n",
    "\n",
    "gene_x_sample__processed.to_csv(PATH[\"gene_x_sample.processed.tsv\"], sep=\"\\t\")\n",
    "\n",
    "gene_x_sample__processed"
   ]
  },
  {
   "cell_type": "code",
   "execution_count": null,
   "metadata": {},
   "outputs": [],
   "source": [
    "column_values = tuple(\n",
    "    gene_x_sample__processed.iloc[:, i]\n",
    "    for i in range(gene_x_sample__processed.shape[1])\n",
    ")\n",
    "\n",
    "colors = ccal.COLOR_CATEGORICAL\n",
    "\n",
    "if len(colors) < len(column_values):\n",
    "\n",
    "    colors = tuple(ccal.make_random_color(\"hex\") for i in range(len(column_values)))\n",
    "\n",
    "ccal.plot_distributions(\n",
    "    column_values,\n",
    "    names=gene_x_sample__processed.columns,\n",
    "    colors=colors,\n",
    "    plot_rug=False,\n",
    "    title=\"Column Value Distribution\",\n",
    "    xaxis_title=\"Value\",\n",
    ")"
   ]
  }
 ],
 "metadata": {
  "kernelspec": {
   "display_name": "Python 3",
   "language": "python",
   "name": "python3"
  },
  "language_info": {
   "codemirror_mode": {
    "name": "ipython",
    "version": 3
   },
   "file_extension": ".py",
   "mimetype": "text/x-python",
   "name": "python",
   "nbconvert_exporter": "python",
   "pygments_lexer": "ipython3",
   "version": "3.6.7"
  }
 },
 "nbformat": 4,
 "nbformat_minor": 2
}
