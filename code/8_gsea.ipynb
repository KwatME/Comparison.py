{
 "cells": [
  {
   "cell_type": "code",
   "execution_count": null,
   "metadata": {},
   "outputs": [],
   "source": [
    "%load_ext autoreload\n",
    "\n",
    "%autoreload 2"
   ]
  },
  {
   "cell_type": "code",
   "execution_count": null,
   "metadata": {},
   "outputs": [],
   "source": [
    "from environment import *\n",
    "\n",
    "from setting import *"
   ]
  },
  {
   "cell_type": "code",
   "execution_count": null,
   "metadata": {},
   "outputs": [],
   "source": [
    "target_x_sample = pd.read_table(\n",
    "    '../output/target_x_sample.tsv',\n",
    "    index_col=0,\n",
    ")"
   ]
  },
  {
   "cell_type": "code",
   "execution_count": null,
   "metadata": {},
   "outputs": [],
   "source": [
    "gene_x_sample = pd.read_table(\n",
    "    '../output/gene_x_sample__processed.tsv',\n",
    "    index_col=0,\n",
    ")"
   ]
  },
  {
   "cell_type": "code",
   "execution_count": null,
   "metadata": {},
   "outputs": [],
   "source": [
    "gene_set_file_paths = tuple('../data/gene_set/{}'.format(file_name) for file_name in os.listdir('../data/gene_set'))\n",
    "\n",
    "gene_set_file_paths"
   ]
  },
  {
   "cell_type": "code",
   "execution_count": null,
   "metadata": {},
   "outputs": [],
   "source": [
    "gene_sets = ccal.read_gmts(gene_set_file_paths)"
   ]
  },
  {
   "cell_type": "code",
   "execution_count": null,
   "metadata": {},
   "outputs": [],
   "source": [
    "for target, target_values in target_x_sample.iterrows():\n",
    "    \n",
    "    output_directory_path = '../output/mountain_plot/{}'.format(target)\n",
    "    \n",
    "    ccal.establish_path(\n",
    "        output_directory_path,\n",
    "        'directory',\n",
    "    )\n",
    "    \n",
    "    gene_score = pd.read_table(\n",
    "        '../output/find_differentially_expressed_gene_by_ratio/{}/All Genes.tsv'.format(target),\n",
    "        index_col=0,\n",
    "    )['Score']\n",
    "    \n",
    "    gene_score = (gene_score - gene_score.mean()) / gene_score.std()\n",
    "    \n",
    "    for gene_set in GENE_SET_TO_PEEK:\n",
    "        \n",
    "        score = ccal.single_sample_gsea(\n",
    "            gene_score,\n",
    "            gene_sets.loc[gene_set],\n",
    "            title='{}: {}'.format(\n",
    "                target,\n",
    "                gene_set,\n",
    "            ),\n",
    "            gene_score_name='Gene Score',\n",
    "            html_file_path='{}/{}.html'.format(\n",
    "                output_directory_path,\n",
    "                gene_set,\n",
    "            ),\n",
    "        )"
   ]
  }
 ],
 "metadata": {
  "kernelspec": {
   "display_name": "Python 3",
   "language": "python",
   "name": "python3"
  },
  "language_info": {
   "codemirror_mode": {
    "name": "ipython",
    "version": 3
   },
   "file_extension": ".py",
   "mimetype": "text/x-python",
   "name": "python",
   "nbconvert_exporter": "python",
   "pygments_lexer": "ipython3",
   "version": "3.6.6"
  }
 },
 "nbformat": 4,
 "nbformat_minor": 2
}
