{
 "cells": [
  {
   "cell_type": "code",
   "execution_count": null,
   "metadata": {},
   "outputs": [],
   "source": [
    "%load_ext autoreload\n",
    "%autoreload 2"
   ]
  },
  {
   "cell_type": "code",
   "execution_count": null,
   "metadata": {},
   "outputs": [],
   "source": [
    "from __init__ import *"
   ]
  },
  {
   "cell_type": "code",
   "execution_count": null,
   "metadata": {},
   "outputs": [],
   "source": [
    "feature_x_sample = pd.read_csv(\"../input/feature_x_sample.tsv\", sep=\"\\t\", index_col=0)\n",
    "\n",
    "set_to_features = kraft.gmt.read_many(kraft.path.list_(\"../input/set/\"))\n",
    "\n",
    "set_x_information = pd.read_csv(\n",
    "    \"../output/set_x_information.tsv\", sep=\"\\t\", index_col=0\n",
    ")"
   ]
  },
  {
   "cell_type": "code",
   "execution_count": null,
   "metadata": {},
   "outputs": [],
   "source": [
    "set_x_sample = kraft.sea.score_samples_and_sets(\n",
    "    feature_x_sample,\n",
    "    {\n",
    "        set_: set_to_features[set_]\n",
    "        for set_ in set_x_information.index.to_numpy()[\n",
    "            set_x_information.loc[:, \"Selected\"].to_numpy()\n",
    "        ]\n",
    "    },\n",
    "    n_job=SETTING[\"n_job\"],\n",
    ")\n",
    "\n",
    "set_x_sample.to_csv(\"../output/set_x_sample.tsv\", sep=\"\\t\")\n",
    "\n",
    "set_x_sample"
   ]
  },
  {
   "cell_type": "code",
   "execution_count": null,
   "metadata": {},
   "outputs": [],
   "source": [
    "set_x_sample.reindex(labels=SETTING[\"sets_to_peek\"])"
   ]
  }
 ],
 "metadata": {
  "kernelspec": {
   "display_name": "Python 3",
   "language": "python",
   "name": "python3"
  },
  "language_info": {
   "codemirror_mode": {
    "name": "ipython",
    "version": 3
   },
   "file_extension": ".py",
   "mimetype": "text/x-python",
   "name": "python",
   "nbconvert_exporter": "python",
   "pygments_lexer": "ipython3",
   "version": "3.7.8"
  }
 },
 "nbformat": 4,
 "nbformat_minor": 4
}
