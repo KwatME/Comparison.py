{
 "cells": [
  {
   "cell_type": "code",
   "execution_count": null,
   "metadata": {},
   "outputs": [],
   "source": [
    "from __init__ import *"
   ]
  },
  {
   "cell_type": "code",
   "execution_count": null,
   "metadata": {},
   "outputs": [],
   "source": [
    "comparison_x_sample = pd.read_csv(\n",
    "    \"../output/comparison_x_sample.tsv\", sep=\"\\t\", index_col=0\n",
    ")\n",
    "\n",
    "set_to_feature_ = kraft.gmt.read(kraft.path.list_absolute(\"../input/set/\"))\n",
    "\n",
    "set_x_information = pd.read_csv(\n",
    "    \"../output/set_x_information.tsv\", sep=\"\\t\", index_col=0\n",
    ")"
   ]
  },
  {
   "cell_type": "code",
   "execution_count": null,
   "metadata": {},
   "outputs": [],
   "source": [
    "for comparison in comparison_x_sample.index.to_numpy():\n",
    "\n",
    "    feature_score_ = pd.read_csv(\n",
    "        \"../output/compare_feature/{}/{}/statistic.tsv\".format(\n",
    "            comparison, SETTING[\"score_for_scoring_set\"]\n",
    "        ),\n",
    "        sep=\"\\t\",\n",
    "        index_col=0,\n",
    "    ).loc[:, \"Score\"]\n",
    "\n",
    "    directory_path = \"../output/score_set/{}/\".format(comparison)\n",
    "\n",
    "    kraft.path.make(directory_path)\n",
    "\n",
    "    set_score_ = kraft.score_set.score_samples_and_sets(\n",
    "        feature_score_.to_frame(),\n",
    "        {\n",
    "            set_: set_to_feature_[set_]\n",
    "            for set_ in set_x_information.index.to_numpy()[\n",
    "                set_x_information.loc[:, \"Selected\"].to_numpy()\n",
    "            ]\n",
    "        },\n",
    "    ).squeeze()\n",
    "\n",
    "    set_score_.to_csv(\"{}/set_score_.tsv\".format(directory_path), sep=\"\\t\")\n",
    "\n",
    "    for set_a in SETTING[\"peek_set_\"]:\n",
    "\n",
    "        kraft.score_set.score_sample_and_set(\n",
    "            feature_score_,\n",
    "            set_to_feature_[set_a],\n",
    "            title=\"{}<br>{}\".format(comparison, set_a),\n",
    "            file_path=\"{}/{}.html\".format(directory_path, set_a),\n",
    "        )"
   ]
  }
 ],
 "metadata": {
  "kernelspec": {
   "display_name": "Python 3",
   "language": "python",
   "name": "python3"
  },
  "language_info": {
   "codemirror_mode": {
    "name": "ipython",
    "version": 3
   },
   "file_extension": ".py",
   "mimetype": "text/x-python",
   "name": "python",
   "nbconvert_exporter": "python",
   "pygments_lexer": "ipython3",
   "version": "3.8.9"
  }
 },
 "nbformat": 4,
 "nbformat_minor": 4
}
