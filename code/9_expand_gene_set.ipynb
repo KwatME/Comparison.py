{
 "cells": [
  {
   "cell_type": "code",
   "execution_count": null,
   "metadata": {},
   "outputs": [],
   "source": [
    "%load_ext autoreload\n",
    "%autoreload 2"
   ]
  },
  {
   "cell_type": "code",
   "execution_count": null,
   "metadata": {},
   "outputs": [],
   "source": [
    "from environment import *\n",
    "\n",
    "with open(\"setting.yaml\") as yaml_file:\n",
    "\n",
    "    SETTING = yaml.load(yaml_file)\n",
    "\n",
    "PATH = make_path_dict(SETTING)"
   ]
  },
  {
   "cell_type": "code",
   "execution_count": null,
   "metadata": {},
   "outputs": [],
   "source": [
    "gene_x_sample = pd.read_csv(PATH[\"gene_x_sample.tsv\"], sep=\"\\t\", index_col=0)\n",
    "\n",
    "target_x_sample = pd.read_csv(PATH[\"target_x_sample.tsv\"], sep=\"\\t\", index_col=0)\n",
    "\n",
    "gene_sets = ccal.read_gmts(SETTING[\"gene_set_file_paths\"])\n",
    "\n",
    "gene_set_x_sample = pd.read_csv(PATH[\"gene_set_x_sample.tsv\"], sep=\"\\t\", index_col=0)"
   ]
  },
  {
   "cell_type": "code",
   "execution_count": null,
   "metadata": {},
   "outputs": [],
   "source": [
    "for target_name, target_values in target_x_sample.iterrows():\n",
    "\n",
    "    output_directory_path = \"{}/{}\".format(PATH[\"expand_gene_set/\"], target_name)\n",
    "\n",
    "    ccal.establish_path(output_directory_path, \"directory\")\n",
    "\n",
    "    target_values = target_values[target_values != -1]\n",
    "\n",
    "    score_moe_p_value_fdr = pd.concat(\n",
    "        (\n",
    "            pd.read_csv(\n",
    "                \"{}/{}/all.tsv\".format(\n",
    "                    PATH[\"find_differentially_expressed_gene/\"], target_name\n",
    "                ),\n",
    "                sep=\"\\t\",\n",
    "                index_col=0,\n",
    "            ),\n",
    "            pd.read_csv(\n",
    "                \"{}/{}/all.tsv\".format(\n",
    "                    PATH[\"find_differentially_expressed_gene_set/\"], target_name\n",
    "                ),\n",
    "                sep=\"\\t\",\n",
    "                index_col=0,\n",
    "            ),\n",
    "        )\n",
    "    )\n",
    "\n",
    "    for gene_set_name in SETTING[\"gene_sets_to_peek\"]:\n",
    "\n",
    "        features = pd.concat(\n",
    "            (\n",
    "                gene_x_sample.reindex(gene_sets.loc[gene_set_name].dropna()),\n",
    "                gene_set_x_sample.reindex((gene_set_name,)),\n",
    "            )\n",
    "        )\n",
    "\n",
    "        ccal.make_match_panel(\n",
    "            target_values,\n",
    "            features,\n",
    "            score_moe_p_value_fdr=score_moe_p_value_fdr,\n",
    "            n_extreme=None,\n",
    "            target_type=\"binary\",\n",
    "            plot_std=SETTING[\"plot_std\"],\n",
    "            title=gene_set_name,\n",
    "            file_path_prefix=\"{}/{}\".format(output_directory_path, gene_set_name),\n",
    "        )"
   ]
  }
 ],
 "metadata": {
  "kernelspec": {
   "display_name": "Python 3",
   "language": "python",
   "name": "python3"
  },
  "language_info": {
   "codemirror_mode": {
    "name": "ipython",
    "version": 3
   },
   "file_extension": ".py",
   "mimetype": "text/x-python",
   "name": "python",
   "nbconvert_exporter": "python",
   "pygments_lexer": "ipython3",
   "version": "3.6.7"
  }
 },
 "nbformat": 4,
 "nbformat_minor": 2
}
