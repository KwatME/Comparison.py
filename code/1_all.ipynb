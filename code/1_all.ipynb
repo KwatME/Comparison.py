{
 "cells": [
  {
   "cell_type": "code",
   "execution_count": null,
   "metadata": {},
   "outputs": [],
   "source": [
    "from __init__ import *"
   ]
  },
  {
   "cell_type": "code",
   "execution_count": null,
   "metadata": {},
   "outputs": [],
   "source": [
    "nb_ = sorted(\n",
    "    (nb for nb in os.listdir() if re.match(r\"^[^._].+\\.ipynb$\", nb)),\n",
    "    key=lambda s: int(s.split(sep=\"_\")[0]),\n",
    ")\n",
    "\n",
    "nb_.remove(\"1_all.ipynb\")"
   ]
  },
  {
   "cell_type": "code",
   "execution_count": null,
   "metadata": {},
   "outputs": [],
   "source": [
    "for nb in nb_:\n",
    "\n",
    "    kraft.shell.command(\n",
    "        \"jupyter nbconvert --execute --ExecutePreprocessor.timeout=-1 --inplace {}\".format(\n",
    "            nb\n",
    "        )\n",
    "    )"
   ]
  }
 ],
 "metadata": {
  "@webio": {
   "lastCommId": null,
   "lastKernelId": null
  },
  "kernelspec": {
   "display_name": "Python 3",
   "language": "python",
   "name": "python3"
  },
  "language_info": {
   "codemirror_mode": {
    "name": "ipython",
    "version": 3
   },
   "file_extension": ".py",
   "mimetype": "text/x-python",
   "name": "python",
   "nbconvert_exporter": "python",
   "pygments_lexer": "ipython3",
   "version": "3.8.9"
  }
 },
 "nbformat": 4,
 "nbformat_minor": 4
}
